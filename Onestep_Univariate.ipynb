{
  "cells": [
    {
      "cell_type": "markdown",
      "metadata": {
        "id": "d5d5931a"
      },
      "source": [
        "# Importing libraries"
      ],
      "id": "d5d5931a"
    },
    {
      "cell_type": "code",
      "execution_count": null,
      "metadata": {
        "id": "b3f8c926"
      },
      "outputs": [],
      "source": [
        "import os\n",
        "import numpy as np\n",
        "np.set_printoptions(suppress=True)\n",
        "\n",
        "import tensorflow as tf\n",
        "from tensorflow import keras\n",
        "import pandas as pd\n",
        "pd.set_option('display.float_format', lambda x: '%.3f' % x) #avoid scientific notation\n",
        "import datetime\n",
        "import math\n",
        "from matplotlib import pyplot as plt\n",
        "from keras.models import Sequential, load_model\n",
        "from keras.layers import Dense, LSTM, Dropout\n",
        "from keras.callbacks import EarlyStopping\n",
        "from sklearn.preprocessing import MinMaxScaler\n",
        "from sklearn.metrics import mean_squared_error, mean_absolute_error, explained_variance_score ,r2_score\n",
        "import plotly.express as px\n",
        "import plotly.graph_objects as go\n",
        "from plotly.subplots import make_subplots\n",
        "from IPython.display import Image\n",
        "\n",
        "\n",
        "from sklearn.model_selection import GridSearchCV\n",
        "from keras.models import Sequential\n",
        "from keras.layers import Dense\n",
        "from sklearn.metrics import mean_absolute_error\n",
        "from tensorflow.keras.optimizers import SGD\n",
        "\n"
      ],
      "id": "b3f8c926"
    },
    {
      "cell_type": "markdown",
      "metadata": {
        "id": "2fa46cdb"
      },
      "source": [
        "\n",
        "# Importing the files"
      ],
      "id": "2fa46cdb"
    },
    {
      "cell_type": "code",
      "execution_count": null,
      "metadata": {
        "colab": {
          "base_uri": "https://localhost:8080/"
        },
        "id": "ChZ-2wuVh-lv",
        "outputId": "66d6bc2b-5b34-4a3a-b8b6-2beb7c91b5f5"
      },
      "outputs": [
        {
          "output_type": "stream",
          "name": "stdout",
          "text": [
            "Drive already mounted at /content/drive; to attempt to forcibly remount, call drive.mount(\"/content/drive\", force_remount=True).\n"
          ]
        }
      ],
      "source": [
        "from google.colab import drive\n",
        "drive.mount('/content/drive')"
      ],
      "id": "ChZ-2wuVh-lv"
    },
    {
      "cell_type": "code",
      "execution_count": null,
      "metadata": {
        "id": "4e7e40ed"
      },
      "outputs": [],
      "source": [
        "# reading csv\n",
        "dataset = pd.read_csv(r'/content/drive/MyDrive/Projet/daily/data/dataset_btc.csv',sep=',' )\n",
        "dataset=dataset[:]"
      ],
      "id": "4e7e40ed"
    },
    {
      "cell_type": "code",
      "execution_count": null,
      "metadata": {
        "colab": {
          "base_uri": "https://localhost:8080/"
        },
        "id": "UZMjOrd2jMX7",
        "outputId": "b1b2e40f-2a22-43ea-9fb4-d5cc019f7718"
      },
      "outputs": [
        {
          "output_type": "stream",
          "name": "stdout",
          "text": [
            "Index(['date', 'open', 'high', 'low', 'close', 'volubtc', 'voluusdt',\n",
            "       'tradecount', 'tenkan_sen', 'kijun_sen', 'senkou_span_a',\n",
            "       'senkou_span_b', 'chikou_span', 'MACD', 'MA_window_10', 'MA_window_20',\n",
            "       'Day_dif', 'Close_off_high', 'Volatility', 'avg-block-size',\n",
            "       'n-transactions-per-block', 'transaction-fees', 'cost-per-transaction',\n",
            "       'miners-revenue', 'TrendGoogle', 'open_microsoft', 'open_fb',\n",
            "       'open_tesla', 'open_apple', 'fng_value'],\n",
            "      dtype='object')\n"
          ]
        }
      ],
      "source": [
        "print(dataset.columns)"
      ],
      "id": "UZMjOrd2jMX7"
    },
    {
      "cell_type": "code",
      "source": [
        "dataset.info()"
      ],
      "metadata": {
        "colab": {
          "base_uri": "https://localhost:8080/"
        },
        "id": "0geoZmpiQdcl",
        "outputId": "24bba316-afe4-433c-d95b-8ba050b02c03"
      },
      "id": "0geoZmpiQdcl",
      "execution_count": null,
      "outputs": [
        {
          "output_type": "stream",
          "name": "stdout",
          "text": [
            "<class 'pandas.core.frame.DataFrame'>\n",
            "RangeIndex: 1318 entries, 0 to 1317\n",
            "Data columns (total 30 columns):\n",
            " #   Column                    Non-Null Count  Dtype  \n",
            "---  ------                    --------------  -----  \n",
            " 0   date                      1318 non-null   object \n",
            " 1   open                      1318 non-null   float64\n",
            " 2   high                      1318 non-null   float64\n",
            " 3   low                       1318 non-null   float64\n",
            " 4   close                     1318 non-null   float64\n",
            " 5   volubtc                   1318 non-null   float64\n",
            " 6   voluusdt                  1318 non-null   float64\n",
            " 7   tradecount                1318 non-null   float64\n",
            " 8   tenkan_sen                1318 non-null   float64\n",
            " 9   kijun_sen                 1318 non-null   float64\n",
            " 10  senkou_span_a             1318 non-null   float64\n",
            " 11  senkou_span_b             1318 non-null   float64\n",
            " 12  chikou_span               1318 non-null   float64\n",
            " 13  MACD                      1318 non-null   float64\n",
            " 14  MA_window_10              1318 non-null   float64\n",
            " 15  MA_window_20              1318 non-null   float64\n",
            " 16  Day_dif                   1318 non-null   float64\n",
            " 17  Close_off_high            1318 non-null   float64\n",
            " 18  Volatility                1318 non-null   float64\n",
            " 19  avg-block-size            1318 non-null   float64\n",
            " 20  n-transactions-per-block  1318 non-null   float64\n",
            " 21  transaction-fees          1318 non-null   float64\n",
            " 22  cost-per-transaction      1318 non-null   float64\n",
            " 23  miners-revenue            1318 non-null   float64\n",
            " 24  TrendGoogle               1318 non-null   float64\n",
            " 25  open_microsoft            1318 non-null   float64\n",
            " 26  open_fb                   1318 non-null   float64\n",
            " 27  open_tesla                1318 non-null   float64\n",
            " 28  open_apple                1318 non-null   float64\n",
            " 29  fng_value                 1318 non-null   float64\n",
            "dtypes: float64(29), object(1)\n",
            "memory usage: 309.0+ KB\n"
          ]
        }
      ]
    },
    {
      "cell_type": "markdown",
      "metadata": {
        "id": "8d6fbc9d"
      },
      "source": [
        "\n",
        "# Parameter settings"
      ],
      "id": "8d6fbc9d"
    },
    {
      "cell_type": "code",
      "execution_count": null,
      "metadata": {
        "id": "f085144a"
      },
      "outputs": [],
      "source": [
        "\n",
        "\n",
        "# number of total past observations from the original dataset to be considered\n",
        "n_past_total =310  \n",
        "\n",
        "# number of past observations to be considered for the LSTM training and prediction\n",
        "n_past = 7\n",
        "\n",
        "# number of future datapoints to predict (if higher than 1, the model switch to Multi-Step)\n",
        "n_future = 1\n",
        "\n",
        "# activation function used for the RNN (softsign, relu, sigmoid)\n",
        "activation = 'softsign'\n",
        "\n",
        "# dropout for the hidden layers\n",
        "dropout = 0.2\n",
        "\n",
        "# number of hidden layers\n",
        "n_layers = 2\n",
        "\n",
        "# number of neurons of the hidden layers\n",
        "n_neurons = 64\n",
        "\n",
        "# patience for the early stopping (number of epochs)\n",
        "patience = 5\n",
        "\n",
        "# optimizer (adam, RMSprop)\n",
        "\n",
        "# lr=0.02\n",
        "# momentum=0.9\n",
        "optimizer='adam'\n",
        "# optimizer=SGD(lr=lr, momentum=momentum)##\n",
        "\n",
        "# batch size\n",
        "batch_size=1\n",
        "\n",
        "# features to be considered for training (if only one is Close, then its Univariate, if more, then it's Multivariate)\n",
        "''' \n",
        "features = [   'close', 'volubtc', 'tradecount', 'senkou_span_b', 'MACD',\n",
        "       'Day_dif', 'Close_off_high', 'Volatility', 'close_t-7',\n",
        "       'miners-revenue', 'TrendGoogle', 'open_microsoft', 'open_apple',\n",
        "       'fng_value']\n",
        "  '''  \n",
        "features = ['close']\n",
        "  \n",
        "# number of inputs features (if higher than 1, )\n",
        "n_features = len(features)"
      ],
      "id": "f085144a"
    },
    {
      "cell_type": "code",
      "execution_count": null,
      "metadata": {
        "id": "mE1Wrw2W2479"
      },
      "outputs": [],
      "source": [],
      "id": "mE1Wrw2W2479"
    },
    {
      "cell_type": "markdown",
      "metadata": {
        "id": "45b6b5af"
      },
      "source": [
        "\n",
        "# EDA (brief)"
      ],
      "id": "45b6b5af"
    },
    {
      "cell_type": "code",
      "execution_count": null,
      "metadata": {
        "id": "e420d959"
      },
      "outputs": [],
      "source": [
        "dataset=dataset[1008:]\n",
        "\n",
        "\n",
        "\n",
        "\n",
        "\n",
        "dataset = dataset.drop('TrendGoogle', 1)\n",
        "dataset = dataset.drop('open_microsoft', 1)\n",
        "dataset = dataset.drop('open_apple', 1)\n",
        "dataset = dataset.drop('fng_value', 1)\n",
        "\n",
        "dataset = dataset.drop('open_tesla', 1)\n",
        "\n",
        "dataset = dataset.drop('volubtc', 1)\n",
        "dataset = dataset.drop('tradecount', 1)\n",
        "dataset = dataset.drop('senkou_span_b', 1)\n",
        "dataset = dataset.drop('Day_dif', 1)\n",
        "dataset = dataset.drop('MACD', 1)\n",
        "dataset = dataset.drop('Close_off_high', 1)\n",
        "dataset = dataset.drop('Volatility', 1)\n",
        "dataset = dataset.drop('miners-revenue', 1)\n",
        "\n",
        "dataset = dataset.drop('open', 1)\n",
        "dataset = dataset.drop('high', 1)\n",
        "dataset = dataset.drop('low', 1)\n",
        "dataset = dataset.drop('voluusdt', 1)\n",
        "dataset = dataset.drop('chikou_span', 1)\n",
        "dataset = dataset.drop('transaction-fees', 1)\n",
        "dataset = dataset.drop('MA_window_10', 1)\n",
        "dataset = dataset.drop('MA_window_20', 1)\n",
        "\n",
        "dataset = dataset.drop('avg-block-size', 1)\n",
        "dataset = dataset.drop('open_fb', 1)\n",
        "\n",
        "dataset = dataset.drop('n-transactions-per-block', 1)\n",
        "dataset = dataset.drop('cost-per-transaction', 1)\n",
        "\n",
        "dataset = dataset.drop('tenkan_sen', 1)\n",
        "dataset = dataset.drop('kijun_sen', 1)\n",
        "\n",
        "dataset = dataset.drop('senkou_span_a', 1)"
      ],
      "id": "e420d959"
    },
    {
      "cell_type": "code",
      "execution_count": null,
      "metadata": {
        "colab": {
          "base_uri": "https://localhost:8080/",
          "height": 73
        },
        "id": "rc9BWvvJI0W4",
        "outputId": "591f1b55-d9ae-451e-d582-2d6f9dcecf80"
      },
      "outputs": [
        {
          "output_type": "execute_result",
          "data": {
            "text/plain": [
              "<matplotlib.legend.Legend at 0x7fd06921a950>"
            ]
          },
          "metadata": {},
          "execution_count": 118
        },
        {
          "output_type": "display_data",
          "data": {
            "image/png": "[encoded data removed]",
            "text/plain": [
              "<Figure size 1152x576 with 1 Axes>"
            ]
          },
          "metadata": {}
        }
      ],
      "source": [
        "\n",
        "fig, ax = plt.subplots(figsize=(16,8))\n",
        "ax.set_facecolor('white')\n",
        "ax.plot(dataset[\"close\"], color='blue', label='Original price')\n",
        "\n",
        "plt.title(' eth Price ')\n",
        "plt.grid()\n",
        "plt.legend()"
      ],
      "id": "rc9BWvvJI0W4"
    },
    {
      "cell_type": "code",
      "execution_count": null,
      "metadata": {
        "colab": {
          "base_uri": "https://localhost:8080/"
        },
        "id": "0f774bea",
        "outputId": "c2dab311-403d-4164-ab82-1501b1b0cbef"
      },
      "outputs": [
        {
          "output_type": "stream",
          "name": "stdout",
          "text": [
            "<class 'pandas.core.frame.DataFrame'>\n",
            "RangeIndex: 310 entries, 1008 to 1317\n",
            "Data columns (total 2 columns):\n",
            " #   Column  Non-Null Count  Dtype  \n",
            "---  ------  --------------  -----  \n",
            " 0   date    310 non-null    object \n",
            " 1   close   310 non-null    float64\n",
            "dtypes: float64(1), object(1)\n",
            "memory usage: 5.0+ KB\n"
          ]
        }
      ],
      "source": [
        "# checking for nulls\n",
        "dataset.info()\n",
        "\n",
        "\n",
        "\n",
        "\n",
        "\n"
      ],
      "id": "0f774bea"
    },
    {
      "cell_type": "code",
      "source": [
        "dataset"
      ],
      "metadata": {
        "colab": {
          "base_uri": "https://localhost:8080/",
          "height": 488
        },
        "id": "OCT_ym4bqEnT",
        "outputId": "07c34ec9-e2f0-41d6-cb55-1986b530d816"
      },
      "id": "OCT_ym4bqEnT",
      "execution_count": null,
      "outputs": [
        {
          "output_type": "execute_result",
          "data": {
            "text/html": [
              "\n",
              "  <div id=\"df-abff50ec-3f1f-4f2d-8830-335e565e714a\">\n",
              "    <div class=\"colab-df-container\">\n",
              "      <div>\n",
              "<style scoped>\n",
              "    .dataframe tbody tr th:only-of-type {\n",
              "        vertical-align: middle;\n",
              "    }\n",
              "\n",
              "    .dataframe tbody tr th {\n",
              "        vertical-align: top;\n",
              "    }\n",
              "\n",
              "    .dataframe thead th {\n",
              "        text-align: right;\n",
              "    }\n",
              "</style>\n",
              "<table border=\"1\" class=\"dataframe\">\n",
              "  <thead>\n",
              "    <tr style=\"text-align: right;\">\n",
              "      <th></th>\n",
              "      <th>date</th>\n",
              "      <th>close</th>\n",
              "    </tr>\n",
              "  </thead>\n",
              "  <tbody>\n",
              "    <tr>\n",
              "      <th>1008</th>\n",
              "      <td>2020-12-07</td>\n",
              "      <td>19166.900</td>\n",
              "    </tr>\n",
              "    <tr>\n",
              "      <th>1009</th>\n",
              "      <td>2020-12-08</td>\n",
              "      <td>18324.110</td>\n",
              "    </tr>\n",
              "    <tr>\n",
              "      <th>1010</th>\n",
              "      <td>2020-12-09</td>\n",
              "      <td>18541.280</td>\n",
              "    </tr>\n",
              "    <tr>\n",
              "      <th>1011</th>\n",
              "      <td>2020-12-10</td>\n",
              "      <td>18254.630</td>\n",
              "    </tr>\n",
              "    <tr>\n",
              "      <th>1012</th>\n",
              "      <td>2020-12-11</td>\n",
              "      <td>18036.530</td>\n",
              "    </tr>\n",
              "    <tr>\n",
              "      <th>...</th>\n",
              "      <td>...</td>\n",
              "      <td>...</td>\n",
              "    </tr>\n",
              "    <tr>\n",
              "      <th>1313</th>\n",
              "      <td>2021-10-08</td>\n",
              "      <td>53951.430</td>\n",
              "    </tr>\n",
              "    <tr>\n",
              "      <th>1314</th>\n",
              "      <td>2021-10-09</td>\n",
              "      <td>54949.720</td>\n",
              "    </tr>\n",
              "    <tr>\n",
              "      <th>1315</th>\n",
              "      <td>2021-10-10</td>\n",
              "      <td>54659.000</td>\n",
              "    </tr>\n",
              "    <tr>\n",
              "      <th>1316</th>\n",
              "      <td>2021-10-11</td>\n",
              "      <td>57471.350</td>\n",
              "    </tr>\n",
              "    <tr>\n",
              "      <th>1317</th>\n",
              "      <td>2021-10-12</td>\n",
              "      <td>55996.930</td>\n",
              "    </tr>\n",
              "  </tbody>\n",
              "</table>\n",
              "<p>310 rows × 2 columns</p>\n",
              "</div>\n",
              "      <button class=\"colab-df-convert\" onclick=\"convertToInteractive('df-abff50ec-3f1f-4f2d-8830-335e565e714a')\"\n",
              "              title=\"Convert this dataframe to an interactive table.\"\n",
              "              style=\"display:none;\">\n",
              "        \n",
              "  <svg xmlns=\"http://www.w3.org/2000/svg\" height=\"24px\"viewBox=\"0 0 24 24\"\n",
              "       width=\"24px\">\n",
              "    <path d=\"M0 0h24v24H0V0z\" fill=\"none\"/>\n",
              "    <path d=\"M18.56 5.44l.94 2.06.94-2.06 2.06-.94-2.06-.94-.94-2.06-.94 2.06-2.06.94zm-11 1L8.5 8.5l.94-2.06 2.06-.94-2.06-.94L8.5 2.5l-.94 2.06-2.06.94zm10 10l.94 2.06.94-2.06 2.06-.94-2.06-.94-.94-2.06-.94 2.06-2.06.94z\"/><path d=\"M17.41 7.96l-1.37-1.37c-.4-.4-.92-.59-1.43-.59-.52 0-1.04.2-1.43.59L10.3 9.45l-7.72 7.72c-.78.78-.78 2.05 0 2.83L4 21.41c.39.39.9.59 1.41.59.51 0 1.02-.2 1.41-.59l7.78-7.78 2.81-2.81c.8-.78.8-2.07 0-2.86zM5.41 20L4 18.59l7.72-7.72 1.47 1.35L5.41 20z\"/>\n",
              "  </svg>\n",
              "      </button>\n",
              "      \n",
              "  <style>\n",
              "    .colab-df-container {\n",
              "      display:flex;\n",
              "      flex-wrap:wrap;\n",
              "      gap: 12px;\n",
              "    }\n",
              "\n",
              "    .colab-df-convert {\n",
              "      background-color: #E8F0FE;\n",
              "      border: none;\n",
              "      border-radius: 50%;\n",
              "      cursor: pointer;\n",
              "      display: none;\n",
              "      fill: #1967D2;\n",
              "      height: 32px;\n",
              "      padding: 0 0 0 0;\n",
              "      width: 32px;\n",
              "    }\n",
              "\n",
              "    .colab-df-convert:hover {\n",
              "      background-color: #E2EBFA;\n",
              "      box-shadow: 0px 1px 2px rgba(60, 64, 67, 0.3), 0px 1px 3px 1px rgba(60, 64, 67, 0.15);\n",
              "      fill: #174EA6;\n",
              "    }\n",
              "\n",
              "    [theme=dark] .colab-df-convert {\n",
              "      background-color: #3B4455;\n",
              "      fill: #D2E3FC;\n",
              "    }\n",
              "\n",
              "    [theme=dark] .colab-df-convert:hover {\n",
              "      background-color: #434B5C;\n",
              "      box-shadow: 0px 1px 3px 1px rgba(0, 0, 0, 0.15);\n",
              "      filter: drop-shadow(0px 1px 2px rgba(0, 0, 0, 0.3));\n",
              "      fill: #FFFFFF;\n",
              "    }\n",
              "  </style>\n",
              "\n",
              "      <script>\n",
              "        const buttonEl =\n",
              "          document.querySelector('#df-abff50ec-3f1f-4f2d-8830-335e565e714a button.colab-df-convert');\n",
              "        buttonEl.style.display =\n",
              "          google.colab.kernel.accessAllowed ? 'block' : 'none';\n",
              "\n",
              "        async function convertToInteractive(key) {\n",
              "          const element = document.querySelector('#df-abff50ec-3f1f-4f2d-8830-335e565e714a');\n",
              "          const dataTable =\n",
              "            await google.colab.kernel.invokeFunction('convertToInteractive',\n",
              "                                                     [key], {});\n",
              "          if (!dataTable) return;\n",
              "\n",
              "          const docLinkHtml = 'Like what you see? Visit the ' +\n",
              "            '<a target=\"_blank\" href=https://colab.research.google.com/notebooks/data_table.ipynb>data table notebook</a>'\n",
              "            + ' to learn more about interactive tables.';\n",
              "          element.innerHTML = '';\n",
              "          dataTable['output_type'] = 'display_data';\n",
              "          await google.colab.output.renderOutput(dataTable, element);\n",
              "          const docLink = document.createElement('div');\n",
              "          docLink.innerHTML = docLinkHtml;\n",
              "          element.appendChild(docLink);\n",
              "        }\n",
              "      </script>\n",
              "    </div>\n",
              "  </div>\n",
              "  "
            ],
            "text/plain": [
              "            date     close\n",
              "1008  2020-12-07 19166.900\n",
              "1009  2020-12-08 18324.110\n",
              "1010  2020-12-09 18541.280\n",
              "1011  2020-12-10 18254.630\n",
              "1012  2020-12-11 18036.530\n",
              "...          ...       ...\n",
              "1313  2021-10-08 53951.430\n",
              "1314  2021-10-09 54949.720\n",
              "1315  2021-10-10 54659.000\n",
              "1316  2021-10-11 57471.350\n",
              "1317  2021-10-12 55996.930\n",
              "\n",
              "[310 rows x 2 columns]"
            ]
          },
          "metadata": {},
          "execution_count": 120
        }
      ]
    },
    {
      "cell_type": "code",
      "execution_count": null,
      "metadata": {
        "colab": {
          "base_uri": "https://localhost:8080/",
          "height": 364
        },
        "id": "b9d1467d",
        "outputId": "2a7df226-cbc5-4890-8b31-5b2c63e91a06"
      },
      "outputs": [
        {
          "output_type": "execute_result",
          "data": {
            "text/html": [
              "\n",
              "  <div id=\"df-51cd41f3-ac1b-4c06-9f4a-4603e63ff4f9\">\n",
              "    <div class=\"colab-df-container\">\n",
              "      <div>\n",
              "<style scoped>\n",
              "    .dataframe tbody tr th:only-of-type {\n",
              "        vertical-align: middle;\n",
              "    }\n",
              "\n",
              "    .dataframe tbody tr th {\n",
              "        vertical-align: top;\n",
              "    }\n",
              "\n",
              "    .dataframe thead th {\n",
              "        text-align: right;\n",
              "    }\n",
              "</style>\n",
              "<table border=\"1\" class=\"dataframe\">\n",
              "  <thead>\n",
              "    <tr style=\"text-align: right;\">\n",
              "      <th></th>\n",
              "      <th>close</th>\n",
              "    </tr>\n",
              "  </thead>\n",
              "  <tbody>\n",
              "    <tr>\n",
              "      <th>count</th>\n",
              "      <td>310.000</td>\n",
              "    </tr>\n",
              "    <tr>\n",
              "      <th>mean</th>\n",
              "      <td>43084.095</td>\n",
              "    </tr>\n",
              "    <tr>\n",
              "      <th>std</th>\n",
              "      <td>10618.390</td>\n",
              "    </tr>\n",
              "    <tr>\n",
              "      <th>min</th>\n",
              "      <td>18036.530</td>\n",
              "    </tr>\n",
              "    <tr>\n",
              "      <th>25%</th>\n",
              "      <td>34786.505</td>\n",
              "    </tr>\n",
              "    <tr>\n",
              "      <th>50%</th>\n",
              "      <td>43809.235</td>\n",
              "    </tr>\n",
              "    <tr>\n",
              "      <th>75%</th>\n",
              "      <td>51251.620</td>\n",
              "    </tr>\n",
              "    <tr>\n",
              "      <th>max</th>\n",
              "      <td>63575.000</td>\n",
              "    </tr>\n",
              "  </tbody>\n",
              "</table>\n",
              "</div>\n",
              "      <button class=\"colab-df-convert\" onclick=\"convertToInteractive('df-51cd41f3-ac1b-4c06-9f4a-4603e63ff4f9')\"\n",
              "              title=\"Convert this dataframe to an interactive table.\"\n",
              "              style=\"display:none;\">\n",
              "        \n",
              "  <svg xmlns=\"http://www.w3.org/2000/svg\" height=\"24px\"viewBox=\"0 0 24 24\"\n",
              "       width=\"24px\">\n",
              "    <path d=\"M0 0h24v24H0V0z\" fill=\"none\"/>\n",
              "    <path d=\"M18.56 5.44l.94 2.06.94-2.06 2.06-.94-2.06-.94-.94-2.06-.94 2.06-2.06.94zm-11 1L8.5 8.5l.94-2.06 2.06-.94-2.06-.94L8.5 2.5l-.94 2.06-2.06.94zm10 10l.94 2.06.94-2.06 2.06-.94-2.06-.94-.94-2.06-.94 2.06-2.06.94z\"/><path d=\"M17.41 7.96l-1.37-1.37c-.4-.4-.92-.59-1.43-.59-.52 0-1.04.2-1.43.59L10.3 9.45l-7.72 7.72c-.78.78-.78 2.05 0 2.83L4 21.41c.39.39.9.59 1.41.59.51 0 1.02-.2 1.41-.59l7.78-7.78 2.81-2.81c.8-.78.8-2.07 0-2.86zM5.41 20L4 18.59l7.72-7.72 1.47 1.35L5.41 20z\"/>\n",
              "  </svg>\n",
              "      </button>\n",
              "      \n",
              "  <style>\n",
              "    .colab-df-container {\n",
              "      display:flex;\n",
              "      flex-wrap:wrap;\n",
              "      gap: 12px;\n",
              "    }\n",
              "\n",
              "    .colab-df-convert {\n",
              "      background-color: #E8F0FE;\n",
              "      border: none;\n",
              "      border-radius: 50%;\n",
              "      cursor: pointer;\n",
              "      display: none;\n",
              "      fill: #1967D2;\n",
              "      height: 32px;\n",
              "      padding: 0 0 0 0;\n",
              "      width: 32px;\n",
              "    }\n",
              "\n",
              "    .colab-df-convert:hover {\n",
              "      background-color: #E2EBFA;\n",
              "      box-shadow: 0px 1px 2px rgba(60, 64, 67, 0.3), 0px 1px 3px 1px rgba(60, 64, 67, 0.15);\n",
              "      fill: #174EA6;\n",
              "    }\n",
              "\n",
              "    [theme=dark] .colab-df-convert {\n",
              "      background-color: #3B4455;\n",
              "      fill: #D2E3FC;\n",
              "    }\n",
              "\n",
              "    [theme=dark] .colab-df-convert:hover {\n",
              "      background-color: #434B5C;\n",
              "      box-shadow: 0px 1px 3px 1px rgba(0, 0, 0, 0.15);\n",
              "      filter: drop-shadow(0px 1px 2px rgba(0, 0, 0, 0.3));\n",
              "      fill: #FFFFFF;\n",
              "    }\n",
              "  </style>\n",
              "\n",
              "      <script>\n",
              "        const buttonEl =\n",
              "          document.querySelector('#df-51cd41f3-ac1b-4c06-9f4a-4603e63ff4f9 button.colab-df-convert');\n",
              "        buttonEl.style.display =\n",
              "          google.colab.kernel.accessAllowed ? 'block' : 'none';\n",
              "\n",
              "        async function convertToInteractive(key) {\n",
              "          const element = document.querySelector('#df-51cd41f3-ac1b-4c06-9f4a-4603e63ff4f9');\n",
              "          const dataTable =\n",
              "            await google.colab.kernel.invokeFunction('convertToInteractive',\n",
              "                                                     [key], {});\n",
              "          if (!dataTable) return;\n",
              "\n",
              "          const docLinkHtml = 'Like what you see? Visit the ' +\n",
              "            '<a target=\"_blank\" href=https://colab.research.google.com/notebooks/data_table.ipynb>data table notebook</a>'\n",
              "            + ' to learn more about interactive tables.';\n",
              "          element.innerHTML = '';\n",
              "          dataTable['output_type'] = 'display_data';\n",
              "          await google.colab.output.renderOutput(dataTable, element);\n",
              "          const docLink = document.createElement('div');\n",
              "          docLink.innerHTML = docLinkHtml;\n",
              "          element.appendChild(docLink);\n",
              "        }\n",
              "      </script>\n",
              "    </div>\n",
              "  </div>\n",
              "  "
            ],
            "text/plain": [
              "          close\n",
              "count   310.000\n",
              "mean  43084.095\n",
              "std   10618.390\n",
              "min   18036.530\n",
              "25%   34786.505\n",
              "50%   43809.235\n",
              "75%   51251.620\n",
              "max   63575.000"
            ]
          },
          "metadata": {},
          "execution_count": 121
        }
      ],
      "source": [
        "# checking the main parameters\n",
        "dataset.describe()"
      ],
      "id": "b9d1467d"
    },
    {
      "cell_type": "code",
      "execution_count": null,
      "metadata": {
        "colab": {
          "base_uri": "https://localhost:8080/",
          "height": 73
        },
        "id": "382a0e50",
        "outputId": "c21a46e2-b8e8-4c6f-d831-85b25e710e1f"
      },
      "outputs": [
        {
          "output_type": "execute_result",
          "data": {
            "text/plain": [
              "<matplotlib.axes._subplots.AxesSubplot at 0x7fd069186e10>"
            ]
          },
          "metadata": {},
          "execution_count": 122
        },
        {
          "output_type": "display_data",
          "data": {
            "image/png": "[encoded data removed]",
            "text/plain": [
              "<Figure size 1800x864 with 2 Axes>"
            ]
          },
          "metadata": {}
        }
      ],
      "source": [
        "# looking at the correlation of the main possible variables\n",
        "'''dataset[[ 'close', 'volubtc', 'tradecount', 'senkou_span_b', 'MACD',\n",
        "       'Day_dif', 'Close_off_high', 'Volatility', 'close_t-7',\n",
        "       'miners-revenue', 'TrendGoogle', 'open_microsoft', 'open_apple',\n",
        "       'fng_value']].corr()'''\n",
        "\n",
        "\n",
        "\n",
        "\n",
        "import matplotlib.pyplot as plt\n",
        "import seaborn as sns\n",
        "\n",
        "\n",
        "\n",
        "sns.set_theme(style=\"white\")\n",
        "\n",
        "\n",
        "\n",
        "\n",
        "# Compute the correlation matrix\n",
        "corr = dataset.corr()\n",
        "\n",
        "# Generate a mask for the upper triangle\n",
        "mask = np.triu(np.ones_like(corr, dtype=bool))\n",
        "\n",
        "# Set up the matplotlib figure\n",
        "f, ax = plt.subplots(figsize=(25, 12))\n",
        "\n",
        "# Generate a custom diverging colormap\n",
        "cmap = sns.diverging_palette(98, 2, as_cmap=True)\n",
        "\n",
        "# Draw the heatmap with the mask and correct aspect ratio\n",
        "sns.heatmap(corr, mask=mask, cmap=cmap,vmin=-0.5, vmax=1, center=0,\n",
        "            square=True, linewidths=1, cbar_kws={\"shrink\": .7},annot=True)"
      ],
      "id": "382a0e50"
    },
    {
      "cell_type": "code",
      "execution_count": null,
      "metadata": {
        "colab": {
          "base_uri": "https://localhost:8080/"
        },
        "id": "fIffLWJqEs4v",
        "outputId": "846fa78d-c697-413b-d837-204b6f18ec09"
      },
      "outputs": [
        {
          "output_type": "stream",
          "name": "stdout",
          "text": [
            "<class 'pandas.core.frame.DataFrame'>\n",
            "RangeIndex: 310 entries, 1008 to 1317\n",
            "Data columns (total 2 columns):\n",
            " #   Column  Non-Null Count  Dtype  \n",
            "---  ------  --------------  -----  \n",
            " 0   date    310 non-null    object \n",
            " 1   close   310 non-null    float64\n",
            "dtypes: float64(1), object(1)\n",
            "memory usage: 5.0+ KB\n"
          ]
        }
      ],
      "source": [
        "dataset.info()\n",
        "\n",
        "\n",
        "df=dataset\n"
      ],
      "id": "fIffLWJqEs4v"
    },
    {
      "cell_type": "code",
      "execution_count": null,
      "metadata": {
        "id": "d0c97b46"
      },
      "outputs": [],
      "source": [
        "# use close only and fill NaN with ffil\n",
        "df = dataset.set_index('date')[features]#.tail(n_past_total)\n",
        "df = df.set_index(pd.to_datetime(df.index))\n",
        "df.fillna(method='ffill',inplace=True)\n"
      ],
      "id": "d0c97b46"
    },
    {
      "cell_type": "markdown",
      "metadata": {
        "id": "10197f0a"
      },
      "source": [
        "\n",
        "# Preprocessing the data"
      ],
      "id": "10197f0a"
    },
    {
      "cell_type": "code",
      "execution_count": null,
      "metadata": {
        "colab": {
          "base_uri": "https://localhost:8080/",
          "height": 519
        },
        "id": "63af3a63",
        "outputId": "713c7d0f-4a8d-41e6-f5c3-301b4e652364"
      },
      "outputs": [
        {
          "output_type": "execute_result",
          "data": {
            "text/plain": [
              "<matplotlib.legend.Legend at 0x7fd0691d2690>"
            ]
          },
          "metadata": {},
          "execution_count": 125
        },
        {
          "output_type": "display_data",
          "data": {
            "image/png": "[encoded data removed]",
            "text/plain": [
              "<Figure size 1152x576 with 1 Axes>"
            ]
          },
          "metadata": {}
        }
      ],
      "source": [
        "# droppping firsts observations becuase they may not be representative of BTC behaviour now due to beginnings of crypto market\n",
        "df = df.tail(n_past_total)\n",
        "fig, ax = plt.subplots(figsize=(16,8))\n",
        "ax.set_facecolor('white')\n",
        "ax.plot(df[\"close\"], color='blue', label='Original price')\n",
        "\n",
        "plt.title(' btc Price ')\n",
        "plt.grid()\n",
        "plt.legend()"
      ],
      "id": "63af3a63"
    },
    {
      "cell_type": "code",
      "execution_count": null,
      "metadata": {
        "colab": {
          "base_uri": "https://localhost:8080/"
        },
        "id": "c139f972",
        "outputId": "74692169-e31b-4bbf-d607-4457a268039a"
      },
      "outputs": [
        {
          "output_type": "stream",
          "name": "stdout",
          "text": [
            "training_set.shape: (310, 1)\n"
          ]
        }
      ],
      "source": [
        "# train test split\n",
        "training_set = df\n",
        "training_set = training_set.values\n",
        "print('training_set.shape:', training_set.shape)"
      ],
      "id": "c139f972"
    },
    {
      "cell_type": "code",
      "execution_count": null,
      "metadata": {
        "colab": {
          "base_uri": "https://localhost:8080/"
        },
        "id": "65d8c153",
        "outputId": "13c7f27a-ec85-49fa-d4cc-0e58c89791fd"
      },
      "outputs": [
        {
          "output_type": "stream",
          "name": "stdout",
          "text": [
            "training_set_scaled.shape:  (310, 1)\n"
          ]
        }
      ],
      "source": [
        "# scale\n",
        "sc = MinMaxScaler(feature_range=(0,1))\n",
        "training_set_scaled = sc.fit_transform(training_set)\n",
        "print('training_set_scaled.shape: ', training_set_scaled.shape)\n",
        "\n"
      ],
      "id": "65d8c153"
    },
    {
      "cell_type": "code",
      "execution_count": null,
      "metadata": {
        "id": "20017b3e"
      },
      "outputs": [],
      "source": [
        "# creating a data structure with timesteps and 1 output\n",
        "X_train = []\n",
        "y_train = []\n",
        "\n",
        "for i in range(n_past, len(training_set_scaled) - n_future + 1):\n",
        "    X_train.append(training_set_scaled[i-n_past:i, :])\n",
        "    y_train.append(training_set_scaled[i:i+n_future, 0])\n",
        "\n",
        "X_train, y_train = np.array(X_train), np.array(y_train)\n",
        "X_train.shape, y_train.shape\n",
        "\n",
        "\n",
        "X_testf =X_train[280:]\n",
        "y_testf=y_train[280:]"
      ],
      "id": "20017b3e"
    },
    {
      "cell_type": "code",
      "source": [
        "X_train=X_train[:280]\n",
        "y_train=y_train[:280]"
      ],
      "metadata": {
        "id": "4Qe7TQevvZfX"
      },
      "id": "4Qe7TQevvZfX",
      "execution_count": null,
      "outputs": []
    },
    {
      "cell_type": "code",
      "source": [
        "X_test = X_train[-1].reshape(1, n_past, n_features)\n",
        "y_test  = y_train[-1]\n",
        "\n",
        "X_test"
      ],
      "metadata": {
        "id": "ZCiWqEZygzDS",
        "colab": {
          "base_uri": "https://localhost:8080/"
        },
        "outputId": "6c7dce0b-dcb8-4a06-feaf-498fabf2529c"
      },
      "id": "ZCiWqEZygzDS",
      "execution_count": null,
      "outputs": [
        {
          "output_type": "execute_result",
          "data": {
            "text/plain": [
              "array([[[0.61461683],\n",
              "        [0.59080158],\n",
              "        [0.63847095],\n",
              "        [0.66064758],\n",
              "        [0.65222415],\n",
              "        [0.64260942],\n",
              "        [0.66440989]]])"
            ]
          },
          "metadata": {},
          "execution_count": 131
        }
      ]
    },
    {
      "cell_type": "code",
      "source": [
        "X_train.shape"
      ],
      "metadata": {
        "colab": {
          "base_uri": "https://localhost:8080/"
        },
        "id": "ErawtXJFcVzm",
        "outputId": "d462380b-73fe-4c9b-8520-7a491a424f1d"
      },
      "id": "ErawtXJFcVzm",
      "execution_count": null,
      "outputs": [
        {
          "output_type": "execute_result",
          "data": {
            "text/plain": [
              "(280, 7, 1)"
            ]
          },
          "metadata": {},
          "execution_count": 132
        }
      ]
    },
    {
      "cell_type": "code",
      "source": [
        "X_train"
      ],
      "metadata": {
        "id": "mzfkHeMecLUH",
        "colab": {
          "base_uri": "https://localhost:8080/"
        },
        "outputId": "6d384c0b-a64e-4a0f-c3b7-2ea225ad215e"
      },
      "id": "mzfkHeMecLUH",
      "execution_count": null,
      "outputs": [
        {
          "output_type": "execute_result",
          "data": {
            "text/plain": [
              "array([[[0.02482231],\n",
              "        [0.0063151 ],\n",
              "        [0.01108404],\n",
              "        ...,\n",
              "        [0.        ],\n",
              "        [0.01695621],\n",
              "        [0.02499996]],\n",
              "\n",
              "       [[0.0063151 ],\n",
              "        [0.01108404],\n",
              "        [0.00478936],\n",
              "        ...,\n",
              "        [0.01695621],\n",
              "        [0.02499996],\n",
              "        [0.02715528]],\n",
              "\n",
              "       [[0.01108404],\n",
              "        [0.00478936],\n",
              "        [0.        ],\n",
              "        ...,\n",
              "        [0.02499996],\n",
              "        [0.02715528],\n",
              "        [0.03052145]],\n",
              "\n",
              "       ...,\n",
              "\n",
              "       [[0.58882918],\n",
              "        [0.59591725],\n",
              "        [0.61461683],\n",
              "        ...,\n",
              "        [0.63847095],\n",
              "        [0.66064758],\n",
              "        [0.65222415]],\n",
              "\n",
              "       [[0.59591725],\n",
              "        [0.61461683],\n",
              "        [0.59080158],\n",
              "        ...,\n",
              "        [0.66064758],\n",
              "        [0.65222415],\n",
              "        [0.64260942]],\n",
              "\n",
              "       [[0.61461683],\n",
              "        [0.59080158],\n",
              "        [0.63847095],\n",
              "        ...,\n",
              "        [0.65222415],\n",
              "        [0.64260942],\n",
              "        [0.66440989]]])"
            ]
          },
          "metadata": {},
          "execution_count": 107
        }
      ]
    },
    {
      "cell_type": "code",
      "execution_count": null,
      "metadata": {
        "colab": {
          "base_uri": "https://localhost:8080/"
        },
        "id": "b57feb51",
        "outputId": "9bcf50d9-1ad3-4e11-f9fc-3b69489bebaf"
      },
      "outputs": [
        {
          "output_type": "execute_result",
          "data": {
            "text/plain": [
              "(280, 7, 1)"
            ]
          },
          "metadata": {},
          "execution_count": 133
        }
      ],
      "source": [
        "# reshaping (needed to fit RNN)\n",
        "X_train = np.reshape(X_train, (X_train.shape[0], X_train.shape[1], n_features))\n",
        "X_train.shape\n",
        "\n"
      ],
      "id": "b57feb51"
    },
    {
      "cell_type": "markdown",
      "metadata": {
        "id": "0c61dd7d"
      },
      "source": [
        "# GridSearch\n",
        "\n",
        "\n",
        "\n"
      ],
      "id": "0c61dd7d"
    },
    {
      "cell_type": "code",
      "execution_count": null,
      "metadata": {
        "id": "e179bf60"
      },
      "outputs": [],
      "source": [
        "# Building the RNN\n",
        "\n",
        "def create_model(activation='relu',learn_rate=0.01, momentum=0,n_neurons=64, optimizer='adam',dropout=0.1,n_layers=1):\n",
        "  # Initialising the RNN\n",
        "  regressor = Sequential()\n",
        "\n",
        "  # Input layer\n",
        "  regressor.add(LSTM(units=n_past, return_sequences=True, activation=activation, input_shape=(X_train.shape[1], n_features))) \n",
        "  #regressor.add(LSTM(units=neurons, return_sequences=True, activation=activation, input_shape=(X_train.shape[1], 1))) \n",
        "\n",
        "  # Hidden layers\n",
        "  for _ in range(n_layers):\n",
        "      regressor.add(Dropout(dropout))\n",
        "      regressor.add(LSTM(units=n_neurons, return_sequences=True, activation=activation))\n",
        "\n",
        "  # Last hidden layer (changing the return_sequences)\n",
        "  regressor.add(Dropout(dropout))\n",
        "  regressor.add(LSTM(units=n_neurons, return_sequences=False))\n",
        "\n",
        "  # Adding the output layer\n",
        "  regressor.add(Dense(units=n_future,))\n",
        "\n",
        "  # Compiling the RNN\n",
        "  regressor.compile(optimizer=optimizer, loss='mse',metrics=[tf.keras.metrics.MeanSquaredError()],\n",
        "  )\n",
        "\n",
        "\n",
        "  # Model summary\n",
        "  regressor.summary()\n",
        "  return regressor"
      ],
      "id": "e179bf60"
    },
    {
      "cell_type": "code",
      "source": [
        "'''pip install scikeras'''"
      ],
      "metadata": {
        "id": "dJxtAdV8a8lV"
      },
      "id": "dJxtAdV8a8lV",
      "execution_count": null,
      "outputs": []
    },
    {
      "cell_type": "code",
      "execution_count": null,
      "metadata": {
        "id": "1257897b"
      },
      "outputs": [],
      "source": [
        "'''from sklearn import svm, datasets\n",
        "from sklearn.model_selection import GridSearchCV\n",
        "from scikeras.wrappers import  KerasRegressor\n",
        "\n",
        "#tu appelles ton model :\n",
        "model =  KerasRegressor(model=create_model,  verbose=0)\n",
        "\n",
        "# define the grid search parameters\n",
        "batch_size = [1,10, 20]\n",
        "learn_rate = [0.001, 0.01, 0.1, 0.2, 0.3]\n",
        "momentum = [ 0.2, 0.4]\n",
        "optimizer = ['SGD', 'Adam',]\n",
        "activation =  [ 'softsign', 'relu', 'tanh', 'sigmoid']\n",
        "epochs = [3,7,10]\n",
        "n_neurons=[32, 64,  128]\n",
        "dropout=[0, 0.1,  0.2]\n",
        "n_layers=[1,3,6]\n",
        "\n",
        "param_grid = dict(epochs=epochs, batch_size=batch_size)\n",
        "grid = GridSearchCV(estimator=model, param_grid=param_grid, n_jobs=-1, cv=5, scoring=\"r2\", error_score=\"raise\")\n",
        "grid_result = grid.fit(X_train,y_train)\n",
        "\n",
        "# summarize results\n",
        "print(\"Best: %f using %s\" % (grid_result.best_score_, grid_result.best_params_))\n",
        "means = grid_result.cv_results_['mean_test_score']\n",
        "stds = grid_result.cv_results_['std_test_score']\n",
        "params = grid_result.cv_results_['params']\n",
        "for mean, stdev, param in zip(means, stds, params):\n",
        "    print(\"%f (%f) with: %r\" % (mean, stdev, param))'''"
      ],
      "id": "1257897b"
    },
    {
      "cell_type": "markdown",
      "metadata": {
        "id": "U_jmaIR6K6xD"
      },
      "source": [
        "# BUILD LSTM"
      ],
      "id": "U_jmaIR6K6xD"
    },
    {
      "cell_type": "code",
      "source": [
        "  # Initialising the RNN\n",
        "regressor = Sequential()\n",
        "\n",
        "  # Input layer\n",
        "regressor.add(LSTM(units=n_past, return_sequences=True, activation=activation, input_shape=(X_train.shape[1], n_features))) \n",
        "  #regressor.add(LSTM(units=neurons, return_sequences=True, activation=activation, input_shape=(X_train.shape[1], 1))) \n",
        "\n",
        "  # Hidden layers\n",
        "for _ in range(n_layers):\n",
        "   regressor.add(Dropout(dropout))\n",
        "   regressor.add(LSTM(units=n_neurons, return_sequences=True, activation=activation))\n",
        "\n",
        "  # Last hidden layer (changing the return_sequences)\n",
        "regressor.add(Dropout(dropout))\n",
        "regressor.add(LSTM(units=n_neurons, return_sequences=False))\n",
        "\n",
        "  # Adding the output layer\n",
        "regressor.add(Dense(units=n_future,))\n",
        "\n",
        "  # Compiling the RNN\n",
        "regressor.compile(optimizer=optimizer, loss='mse',metrics=[tf.keras.metrics.MeanSquaredError()],\n",
        "  )\n",
        "\n",
        "\n",
        "  # Model summary\n",
        "regressor.summary()\n"
      ],
      "metadata": {
        "colab": {
          "base_uri": "https://localhost:8080/"
        },
        "id": "ucIZQqnNZbQ0",
        "outputId": "92d9cdb8-e60f-41cb-da4c-352d288dcb0b"
      },
      "id": "ucIZQqnNZbQ0",
      "execution_count": null,
      "outputs": [
        {
          "output_type": "stream",
          "name": "stdout",
          "text": [
            "WARNING:tensorflow:Layer lstm will not use cuDNN kernels since it doesn't meet the criteria. It will use a generic GPU kernel as fallback when running on GPU.\n",
            "WARNING:tensorflow:Layer lstm_1 will not use cuDNN kernels since it doesn't meet the criteria. It will use a generic GPU kernel as fallback when running on GPU.\n",
            "WARNING:tensorflow:Layer lstm_2 will not use cuDNN kernels since it doesn't meet the criteria. It will use a generic GPU kernel as fallback when running on GPU.\n",
            "Model: \"sequential\"\n",
            "_________________________________________________________________\n",
            " Layer (type)                Output Shape              Param #   \n",
            "=================================================================\n",
            " lstm (LSTM)                 (None, 7, 7)              252       \n",
            "                                                                 \n",
            " dropout (Dropout)           (None, 7, 7)              0         \n",
            "                                                                 \n",
            " lstm_1 (LSTM)               (None, 7, 64)             18432     \n",
            "                                                                 \n",
            " dropout_1 (Dropout)         (None, 7, 64)             0         \n",
            "                                                                 \n",
            " lstm_2 (LSTM)               (None, 7, 64)             33024     \n",
            "                                                                 \n",
            " dropout_2 (Dropout)         (None, 7, 64)             0         \n",
            "                                                                 \n",
            " lstm_3 (LSTM)               (None, 64)                33024     \n",
            "                                                                 \n",
            " dense (Dense)               (None, 1)                 65        \n",
            "                                                                 \n",
            "=================================================================\n",
            "Total params: 84,797\n",
            "Trainable params: 84,797\n",
            "Non-trainable params: 0\n",
            "_________________________________________________________________\n"
          ]
        }
      ]
    },
    {
      "cell_type": "code",
      "execution_count": null,
      "metadata": {
        "id": "d6ea3ecd"
      },
      "outputs": [],
      "source": [
        "#  Adding early stopping\n",
        "early_stop = EarlyStopping(monitor='val_loss', mode='min', verbose=1, patience=patience)"
      ],
      "id": "d6ea3ecd"
    },
    {
      "cell_type": "code",
      "execution_count": null,
      "metadata": {
        "colab": {
          "base_uri": "https://localhost:8080/"
        },
        "id": "1c21a7d6",
        "outputId": "4b821bfb-8fff-4c49-fafa-177f62018b77"
      },
      "outputs": [
        {
          "output_type": "stream",
          "name": "stdout",
          "text": [
            "Epoch 1/10\n",
            "266/266 [==============================] - 17s 36ms/step - loss: 0.0426 - mean_squared_error: 0.0426 - val_loss: 0.0042 - val_mean_squared_error: 0.0042\n",
            "Epoch 2/10\n",
            "266/266 [==============================] - 10s 36ms/step - loss: 0.0155 - mean_squared_error: 0.0155 - val_loss: 0.0035 - val_mean_squared_error: 0.0035\n",
            "Epoch 3/10\n",
            "266/266 [==============================] - 9s 33ms/step - loss: 0.0126 - mean_squared_error: 0.0126 - val_loss: 0.0212 - val_mean_squared_error: 0.0212\n",
            "Epoch 4/10\n",
            "266/266 [==============================] - 9s 33ms/step - loss: 0.0118 - mean_squared_error: 0.0118 - val_loss: 0.0051 - val_mean_squared_error: 0.0051\n",
            "Epoch 5/10\n",
            "266/266 [==============================] - 9s 33ms/step - loss: 0.0114 - mean_squared_error: 0.0114 - val_loss: 0.0040 - val_mean_squared_error: 0.0040\n",
            "Epoch 6/10\n",
            "266/266 [==============================] - 13s 47ms/step - loss: 0.0111 - mean_squared_error: 0.0111 - val_loss: 0.0157 - val_mean_squared_error: 0.0157\n",
            "Epoch 7/10\n",
            "266/266 [==============================] - 10s 36ms/step - loss: 0.0093 - mean_squared_error: 0.0093 - val_loss: 0.0039 - val_mean_squared_error: 0.0039\n",
            "Epoch 00007: early stopping\n"
          ]
        }
      ],
      "source": [
        "# Fitting the RNN to the Training set\n",
        "res = regressor.fit(X_train, y_train\n",
        "                    , batch_size=batch_size\n",
        "                    , epochs=10\n",
        "                    , validation_split=0.05\n",
        "                    , callbacks=[early_stop]\n",
        "                   )\n",
        "\n"
      ],
      "id": "1c21a7d6"
    },
    {
      "cell_type": "code",
      "execution_count": null,
      "metadata": {
        "id": "296d07db"
      },
      "outputs": [],
      "source": [
        "# Exporting the regressor\n",
        "last_date = dataset.date.values[-1]\n",
        "params = ['reg', last_date, n_past_total, n_past, n_future, activation, n_layers, n_neurons,batch_size ,n_features, patience, optimizer]\n",
        "modelname = 'output/'\n",
        "for i in params:\n",
        "    modelname += str(i)\n",
        "    if i!= params[-1]:\n",
        "        modelname += '_'\n",
        "if not os.path.exists(modelname):\n",
        "    os.makedirs(modelname)\n",
        "regressor.save('{}/regressor.h5'.format(modelname))"
      ],
      "id": "296d07db"
    },
    {
      "cell_type": "code",
      "execution_count": null,
      "metadata": {
        "colab": {
          "base_uri": "https://localhost:8080/"
        },
        "id": "2640081e",
        "outputId": "8697692c-6340-4e22-93f6-5d5cf3ef5361"
      },
      "outputs": [
        {
          "output_type": "execute_result",
          "data": {
            "text/plain": [
              "['loss', 'mean_squared_error', 'val_loss', 'val_mean_squared_error']"
            ]
          },
          "metadata": {},
          "execution_count": 138
        }
      ],
      "source": [
        "list(res.history)"
      ],
      "id": "2640081e"
    },
    {
      "cell_type": "code",
      "execution_count": null,
      "metadata": {
        "id": "21279349"
      },
      "outputs": [],
      "source": [
        "# Loads the weights\n",
        "#regressor.load_weights(checkpoint_path)"
      ],
      "id": "21279349"
    },
    {
      "cell_type": "code",
      "execution_count": null,
      "metadata": {
        "id": "c8f24767"
      },
      "outputs": [],
      "source": [
        "# Recreate the exact same model, including its weights and the optimizer\n",
        "# new_model = tf.keras.models.load_model('C:\\Users\\yonas\\output\\reg_2021-10-29_700_90_7_softsign_6_64_5_19_25_adam\\regressor.h5')\n"
      ],
      "id": "c8f24767"
    },
    {
      "cell_type": "code",
      "source": [
        "\n"
      ],
      "metadata": {
        "id": "_FeOLTLUYqXI"
      },
      "id": "_FeOLTLUYqXI",
      "execution_count": null,
      "outputs": []
    },
    {
      "cell_type": "markdown",
      "metadata": {
        "id": "b8b88384"
      },
      "source": [
        "\n",
        "# Validation"
      ],
      "id": "b8b88384"
    },
    {
      "cell_type": "code",
      "execution_count": null,
      "metadata": {
        "colab": {
          "base_uri": "https://localhost:8080/",
          "height": 301
        },
        "id": "595e4855",
        "outputId": "d331b929-9c1c-46e7-b95d-3c411659482a"
      },
      "outputs": [
        {
          "output_type": "display_data",
          "data": {
            "image/png": "[encoded data removed]",
            "text/plain": [
              "<Figure size 864x288 with 1 Axes>"
            ]
          },
          "metadata": {}
        }
      ],
      "source": [
        "\n",
        "\n",
        "# Plotting Loss/MSE\n",
        "\n",
        "results = res\n",
        "\n",
        "history = results.history\n",
        "plt.figure(figsize=(12,4))\n",
        "plt.plot(history['val_loss'])\n",
        "plt.plot(history['loss'])\n",
        "plt.legend(['val_loss', 'loss'])\n",
        "plt.title('Loss')\n",
        "plt.xlabel('Epochs')\n",
        "plt.ylabel('Loss')\n",
        "plt.savefig('{}/Loss.png'.format(modelname))\n",
        "plt.show()\n",
        "\n"
      ],
      "id": "595e4855"
    },
    {
      "cell_type": "code",
      "execution_count": null,
      "metadata": {
        "id": "197a10f4"
      },
      "outputs": [],
      "source": [
        "\n",
        "\n",
        "def dummy_invscaler(y, n_features):\n",
        "    '''\n",
        "    Since the scaler was trained into 2 features, it needs two features to perform the inverse scaleer.\n",
        "    For that purpose, this function will create a dummy array and concatenate it to the y_pred/y_true.\n",
        "    That dummy of ones will be drop after performing the inverse_transform.\n",
        "    INPUTS: array 'y', shape (X,)\n",
        "    '''\n",
        "    y = np.array(y).reshape(-1,1)\n",
        "    if n_features>1:\n",
        "        dummy = np.ones((len(y), n_features-1))\n",
        "        y = np.concatenate((y, dummy), axis=1)\n",
        "        y = sc.inverse_transform(y)\n",
        "        y = y[:,0]\n",
        "    else:\n",
        "        y = sc.inverse_transform(y)\n",
        "    return y\n",
        "\n"
      ],
      "id": "197a10f4"
    },
    {
      "cell_type": "code",
      "execution_count": null,
      "metadata": {
        "colab": {
          "base_uri": "https://localhost:8080/"
        },
        "id": "UdATVXAJywzp",
        "outputId": "f2d075f9-7722-4611-a383-1b342c3578e8"
      },
      "outputs": [
        {
          "output_type": "execute_result",
          "data": {
            "text/plain": [
              "array([[[0.61461683],\n",
              "        [0.59080158],\n",
              "        [0.63847095],\n",
              "        [0.66064758],\n",
              "        [0.65222415],\n",
              "        [0.64260942],\n",
              "        [0.66440989]]])"
            ]
          },
          "metadata": {},
          "execution_count": 156
        }
      ],
      "source": [
        "X_test"
      ],
      "id": "UdATVXAJywzp"
    },
    {
      "cell_type": "code",
      "execution_count": null,
      "metadata": {
        "colab": {
          "base_uri": "https://localhost:8080/",
          "height": 411
        },
        "id": "9c21f870",
        "outputId": "6dc650c0-743f-420f-9c7e-54de43f014cc"
      },
      "outputs": [
        {
          "output_type": "stream",
          "name": "stdout",
          "text": [
            "y_pred:\n",
            " [[45297.73237565279]]\n",
            "y_true:\n",
            " [[55996.93]]\n"
          ]
        },
        {
          "output_type": "display_data",
          "data": {
            "image/png": "[encoded data removed]",
            "text/plain": [
              "<Figure size 1152x360 with 1 Axes>"
            ]
          },
          "metadata": {}
        }
      ],
      "source": [
        "\n",
        "\n",
        "# Validation\n",
        "\n",
        "# getting the predictions\n",
        "\n",
        "\n",
        "y_pred = regressor.predict(X_test).tolist()[0]\n",
        "y_pred = dummy_invscaler(y_pred, n_features)\n",
        "#X_test = \n",
        "\n",
        "# creating a DF of the predicted prices\n",
        "y_pred_df = pd.DataFrame(y_pred, \n",
        "                         index=df[['close']].tail(n_future).index, \n",
        "                         columns=df[['close']].columns)\n",
        "\n",
        "# getting the true values\n",
        "y_true_df = df[['close']]#.tail(n_future)\n",
        "y_true = y_true_df.tail(n_future).values\n",
        "\n",
        "print('y_pred:\\n', y_pred.tolist())\n",
        "print('y_true:\\n', y_true.tolist())\n",
        "\n",
        "\n",
        "# plotting the results\n",
        "plt.figure(figsize=(16,5))\n",
        "plt.plot(y_pred_df, label='Y Predicted')\n",
        "plt.plot(y_true_df, label='Y Train')\n",
        "plt.plot(y_true_df.tail(n_past), label='Y Test')\n",
        "\n",
        "plt.title('BTC price Predicted vs True')\n",
        "plt.legend()\n",
        "plt.savefig('{}/Validation.png'.format(modelname))\n",
        "plt.grid()\n",
        "plt.show()\n",
        "\n"
      ],
      "id": "9c21f870"
    },
    {
      "cell_type": "code",
      "source": [
        "listetrue =[]\n",
        "listepred=[]\n",
        "\n",
        "for i in range(30,0,-1):\n",
        "  \n",
        "  X_test = X_train[-i].reshape(1, n_past, n_features)\n",
        "  y_test  = y_train[-i]\n",
        "  y_pred = regressor.predict(X_test).tolist()[0]\n",
        "  y_pred = dummy_invscaler(y_pred, n_features)\n",
        "  # creating a DF of the predicted prices\n",
        "  y_pred_df = pd.DataFrame(y_pred, \n",
        "                         index=df[['close']].tail(n_future).index, \n",
        "                         columns=df[['close']].columns)\n",
        "  \n",
        "  # getting the true values\n",
        "  y_true_df = df[['close']]#.tail(n_future)\n",
        "  y_true = y_true_df.tail(i).head(1).values\n",
        "  '''print('-----------------------------')\n",
        "  print(i)\n",
        "  print('y_pred:\\n', y_pred.tolist())\n",
        "  print('y_true:\\n', y_true.tolist())'''\n",
        "  y_true.tolist()\n",
        "  listetrue.append(y_pred.tolist())\n",
        "  listepred.append(y_true.tolist())\n",
        "\n",
        " "
      ],
      "metadata": {
        "id": "Syyh4eSAWvme"
      },
      "id": "Syyh4eSAWvme",
      "execution_count": null,
      "outputs": []
    },
    {
      "cell_type": "code",
      "source": [
        "print('true',str(np.shape(listetrue)))\n",
        "print('pred',str(np.shape(listepred)))"
      ],
      "metadata": {
        "colab": {
          "base_uri": "https://localhost:8080/"
        },
        "id": "4fdU1Q-ZTThi",
        "outputId": "a69d9f4d-2662-4876-b100-4bb8e656f5a4"
      },
      "id": "4fdU1Q-ZTThi",
      "execution_count": null,
      "outputs": [
        {
          "output_type": "stream",
          "name": "stdout",
          "text": [
            "true (30, 1, 1)\n",
            "pred (30, 1, 1)\n"
          ]
        }
      ]
    },
    {
      "cell_type": "code",
      "source": [
        "listetrue = np.array(listetrue).reshape(30,1)\n",
        "listepred = np.array(listepred).reshape(30,1)\n",
        "print('true',str(np.shape(listetrue)))"
      ],
      "metadata": {
        "id": "_4Y_Fabhp1WB",
        "colab": {
          "base_uri": "https://localhost:8080/"
        },
        "outputId": "a747ee22-db50-42cd-a003-d1af7d9d64a2"
      },
      "id": "_4Y_Fabhp1WB",
      "execution_count": null,
      "outputs": [
        {
          "output_type": "stream",
          "name": "stdout",
          "text": [
            "true (30, 1)\n"
          ]
        }
      ]
    },
    {
      "cell_type": "code",
      "source": [
        "for i in range (len(listetrue)):\n",
        "  print(i,'  true',listetrue[i],'pred',listepred[i] )"
      ],
      "metadata": {
        "colab": {
          "base_uri": "https://localhost:8080/"
        },
        "id": "1AczTrmaUh7m",
        "outputId": "d5a866b7-266a-4a1a-eab8-a1ee89bdf37a"
      },
      "id": "1AczTrmaUh7m",
      "execution_count": null,
      "outputs": [
        {
          "output_type": "stream",
          "name": "stdout",
          "text": [
            "0   true [44839.94323631] pred [44940.73]\n",
            "1   true [44795.41778811] pred [47111.52]\n",
            "2   true [44919.4017812] pred [48121.41]\n",
            "3   true [45375.9694836] pred [47737.82]\n",
            "4   true [46099.31530118] pred [47299.98]\n",
            "5   true [46821.03253616] pred [48292.74]\n",
            "6   true [47119.57886919] pred [47241.75]\n",
            "7   true [46957.86061733] pred [43015.62]\n",
            "8   true [46878.64635982] pred [40734.38]\n",
            "9   true [46743.25143134] pred [43543.61]\n",
            "10   true [46549.1895291] pred [44865.26]\n",
            "11   true [46618.33914616] pred [42810.57]\n",
            "12   true [46456.57746543] pred [42670.64]\n",
            "13   true [46676.19725722] pred [43160.9]\n",
            "14   true [46574.05798536] pred [42147.35]\n",
            "15   true [46580.26831366] pred [41026.54]\n",
            "16   true [46728.56704492] pred [41524.28]\n",
            "17   true [47317.62537018] pred [43824.1]\n",
            "18   true [47872.25545934] pred [48141.61]\n",
            "19   true [48015.0332956] pred [47634.9]\n",
            "20   true [47917.82320039] pred [48200.01]\n",
            "21   true [47496.29173826] pred [49224.94]\n",
            "22   true [46900.38250888] pred [51471.99]\n",
            "23   true [45880.54780095] pred [55315.]\n",
            "24   true [44637.53756257] pred [53785.22]\n",
            "25   true [44413.18945265] pred [53951.43]\n",
            "26   true [44420.6212179] pred [54949.72]\n",
            "27   true [44470.65670388] pred [54659.]\n",
            "28   true [44881.21151931] pred [57471.35]\n",
            "29   true [45297.73237565] pred [55996.93]\n"
          ]
        }
      ]
    },
    {
      "cell_type": "code",
      "source": [
        "# Root Mean Square Error (RMSE)\n",
        "rmse = math.sqrt(mean_squared_error(listepred, listetrue))\n",
        "moy = y_true.mean()\n",
        "Nrmse = rmse/moy\n",
        "Nrmse"
      ],
      "metadata": {
        "colab": {
          "base_uri": "https://localhost:8080/"
        },
        "id": "KYrUms06qWZk",
        "outputId": "a0db14e7-a0b3-4bff-80aa-25de92f1d63c"
      },
      "id": "KYrUms06qWZk",
      "execution_count": null,
      "outputs": [
        {
          "output_type": "execute_result",
          "data": {
            "text/plain": [
              "0.10298081877303011"
            ]
          },
          "metadata": {},
          "execution_count": 164
        }
      ]
    },
    {
      "cell_type": "code",
      "source": [
        "\n",
        "\n",
        "def mape(actual, pred): \n",
        "    actual, pred = np.array(actual), np.array(pred)\n",
        "    return np.mean(np.abs((actual - pred) / actual)) * 100\n",
        "\n",
        "\n",
        "Mape= mape(listepred, listetrue)\n",
        "Mape"
      ],
      "metadata": {
        "colab": {
          "base_uri": "https://localhost:8080/"
        },
        "id": "AtSulKUVr0mv",
        "outputId": "547bf4b9-f7b3-4802-a73f-67c0ecdb2c31"
      },
      "id": "AtSulKUVr0mv",
      "execution_count": null,
      "outputs": [
        {
          "output_type": "execute_result",
          "data": {
            "text/plain": [
              "9.109557908871395"
            ]
          },
          "metadata": {},
          "execution_count": 165
        }
      ]
    },
    {
      "cell_type": "code",
      "source": [
        "#Explained variance regression score function.\n",
        "explained_variance_score(listepred, listetrue)\n",
        "# Best possible score is 1.0, lower values are worse."
      ],
      "metadata": {
        "colab": {
          "base_uri": "https://localhost:8080/"
        },
        "id": "0hu92GHAr5wg",
        "outputId": "cb947210-8c55-40b0-c144-d134a964046b"
      },
      "id": "0hu92GHAr5wg",
      "execution_count": null,
      "outputs": [
        {
          "output_type": "execute_result",
          "data": {
            "text/plain": [
              "-0.29454105152892085"
            ]
          },
          "metadata": {},
          "execution_count": 166
        }
      ]
    },
    {
      "cell_type": "code",
      "execution_count": null,
      "metadata": {
        "id": "b7904a0a"
      },
      "outputs": [],
      "source": [
        "\n",
        "\n",
        "# Root Mean Square Error (RMSE)\n",
        "rmse = math.sqrt(mean_squared_error(y_true, y_pred))\n",
        "rmse\n",
        "\n"
      ],
      "id": "b7904a0a"
    },
    {
      "cell_type": "code",
      "execution_count": null,
      "metadata": {
        "id": "fd9b0ed0"
      },
      "outputs": [],
      "source": [
        "\n",
        "\n",
        "# mean_absolute_error (MaE)\n",
        "mse = mean_absolute_error(y_true, y_pred)\n",
        "mse\n",
        "\n"
      ],
      "id": "fd9b0ed0"
    },
    {
      "cell_type": "code",
      "execution_count": null,
      "metadata": {
        "id": "efad1590"
      },
      "outputs": [],
      "source": [
        "\n",
        "\n",
        "#Explained variance regression score function.\n",
        "explained_variance_score(y_true, y_pred)\n",
        "# Best possible score is 1.0, lower values are worse.\n",
        "\n"
      ],
      "id": "efad1590"
    },
    {
      "cell_type": "markdown",
      "metadata": {
        "id": "289ce329"
      },
      "source": [
        "\n",
        "# Predictions"
      ],
      "id": "289ce329"
    },
    {
      "cell_type": "code",
      "execution_count": null,
      "metadata": {
        "id": "1871fcaf"
      },
      "outputs": [],
      "source": [
        "# Predicting/Forecasting\n",
        "\n",
        "# getting the predictions\n",
        "x = df[features][-n_past:].values\n",
        "x = sc.transform(x)\n",
        "y_pred = regressor.predict(x.reshape(1, n_past, n_features)).tolist()[0]\n",
        "y_pred = dummy_invscaler(y_pred, n_features)\n",
        "\n",
        "# creating a DF of the predicted prices\n",
        "y_pred_df = pd.DataFrame(y_pred, \n",
        "                         index=pd.date_range(start=df[['close']].index[-1]+datetime.timedelta(days=1),\n",
        "                                             periods=len(y_pred), \n",
        "                                             freq=\"D\"), \n",
        "                         columns=df[['close']].columns)\n",
        "\n",
        "# getting the true values\n",
        "y_true_df = df[['close']].tail(n_past)\n",
        "\n",
        "# linking them\n",
        "#y_true_df = y_true_df.append(y_pred_df.head(1))\n",
        "y_pred_df = y_pred_df.append(y_true_df.tail(1)).sort_index()\n",
        "\n",
        "print('y_pred:\\n', y_pred.tolist())\n",
        "print('y_true:\\n', y_true.tolist())\n",
        "\n",
        "# plotting the results\n",
        "plt.figure(figsize=(16,5))\n",
        "plt.plot(y_pred_df, label='Predicted')\n",
        "plt.plot(y_true_df, label='True')\n",
        "\n",
        "plt.title('BTC price Predicted vs True')\n",
        "plt.legend()\n",
        "plt.savefig('{}/Predictions.png'.format(modelname))\n",
        "plt.show()"
      ],
      "id": "1871fcaf"
    },
    {
      "cell_type": "code",
      "execution_count": null,
      "metadata": {
        "id": "51f6ca48"
      },
      "outputs": [],
      "source": [
        "# export to csv\n",
        "#y_pred_df.to_csv('{}/preds_{}.csv'.format(modelname,n_future))\n",
        "# show\n",
        "y_pred_df"
      ],
      "id": "51f6ca48"
    },
    {
      "cell_type": "markdown",
      "metadata": {
        "id": "2e7f2cb1"
      },
      "source": [
        "# cross validation"
      ],
      "id": "2e7f2cb1"
    },
    {
      "cell_type": "code",
      "execution_count": null,
      "metadata": {
        "id": "GWGi52j-zK4z"
      },
      "outputs": [],
      "source": [
        "''x=np.array(x)\n",
        "y=np.array(y)\n",
        "\n",
        "for train, test in kfold.split(x,y):\n",
        "\n",
        "    X_train, X_test, y_train, y_test = train_test_split(x, y, test_size = 0.2, random_state = 0)\n",
        "    X_train = np.reshape(X_train, (X_train.shape[0], 1, 8))\n",
        "    X_test = np.reshape(X_test, (X_test.shape[0], 1, 8))\n",
        "\n",
        "    output_size=1 \n",
        "    neurons=100 \n",
        "    activ_func=\"tanh\"\n",
        "    dropout=0.25\n",
        "    loss=\"mean_squared_error\" \n",
        "    optimizer=\"sgd\"\n",
        "    model = Sequential()\n",
        "    model.add(LSTM(neurons,return_sequences=True,input_shape=(1,8)))\n",
        "    model.add(LSTM(90))\n",
        " \n",
        "    model.add(Dropout(dropout))\n",
        "    \n",
        "    model.add(Dense(units=output_size))\n",
        "    model.add(Activation(activ_func))\n",
        "    model.compile(loss=loss, optimizer='adam',metrics =[\"mae\"])\n",
        "    model.fit(X_train, y_train, epochs=10, batch_size=10, verbose=0,shuffle=False)\n",
        "    scores = model.evaluate(X_test, y_test, verbose=0)\n",
        "    print(\"%s: %.2f%%\" % (model.metrics_names[1], scores[1]*100))\n",
        "    cvscores.append(scores[1] * 100)\n",
        "print(\"%.2f%% (+/- %.2f%%)\" % (np.mean(cvscores), np.std(cvscores)))\n",
        "\n",
        "\n",
        "\n"
      ],
      "id": "GWGi52j-zK4z"
    },
    {
      "cell_type": "code",
      "execution_count": null,
      "metadata": {
        "id": "XsBEJWPlzWXa"
      },
      "outputs": [],
      "source": [],
      "id": "XsBEJWPlzWXa"
    },
    {
      "cell_type": "markdown",
      "metadata": {
        "id": "rCgrSKz8o2MV"
      },
      "source": [
        "# SHAP\n",
        "\n",
        "https://medium.datadriveninvestor.com/time-step-wise-feature-importance-in-deep-learning-using-shap-e1c46a655455"
      ],
      "id": "rCgrSKz8o2MV"
    },
    {
      "cell_type": "code",
      "execution_count": null,
      "metadata": {
        "id": "0dGSVhtkw0sm"
      },
      "outputs": [],
      "source": [
        "pip install shap"
      ],
      "id": "0dGSVhtkw0sm"
    },
    {
      "cell_type": "code",
      "execution_count": null,
      "metadata": {
        "id": "698fdb73"
      },
      "outputs": [],
      "source": [
        "import shap"
      ],
      "id": "698fdb73"
    },
    {
      "cell_type": "code",
      "execution_count": null,
      "metadata": {
        "id": "t3wA9LdD1-Ra"
      },
      "outputs": [],
      "source": [
        "#%tensorflow_version 2.4.0"
      ],
      "id": "t3wA9LdD1-Ra"
    },
    {
      "cell_type": "code",
      "source": [
        "X100 = shap.utils.sample(X_test, 100) # 100 instances for use as the background distribution"
      ],
      "metadata": {
        "id": "6P0o-R_-E9AN"
      },
      "id": "6P0o-R_-E9AN",
      "execution_count": null,
      "outputs": []
    },
    {
      "cell_type": "code",
      "source": [
        "\n",
        "# model\n",
        "\n",
        "model = load_model('regressor.h5')\n",
        "\n",
        "model.fit(X_train, y_train)\n",
        "\n",
        "print(\"Model coefficients:\\n\")\n",
        "for i in range(dataset.shape[1]):\n",
        "    print(dataset.columns[i], \"=\", model.coef_[i].round(4))"
      ],
      "metadata": {
        "id": "X7aXGPtm8nlX"
      },
      "id": "X7aXGPtm8nlX",
      "execution_count": null,
      "outputs": []
    },
    {
      "cell_type": "code",
      "source": [
        "X_test.shape\n",
        "X_test=X_test.reshape(7,15)"
      ],
      "metadata": {
        "id": "BedSVqFe7win"
      },
      "id": "BedSVqFe7win",
      "execution_count": null,
      "outputs": []
    },
    {
      "cell_type": "code",
      "source": [
        "X_test.shape"
      ],
      "metadata": {
        "id": "RFFy_Yd-7-VL"
      },
      "id": "RFFy_Yd-7-VL",
      "execution_count": null,
      "outputs": []
    },
    {
      "cell_type": "code",
      "source": [
        "# explain all the predictions in the test set\n",
        "explainer = shap.KernelExplainer(regressor.predict, X_train)\n",
        "shap_values = explainer.shap_values(X_test)\n",
        "shap.summary_plot(shap_values, X_test)"
      ],
      "metadata": {
        "id": "JRcaOY471Rr0"
      },
      "id": "JRcaOY471Rr0",
      "execution_count": null,
      "outputs": []
    },
    {
      "cell_type": "code",
      "source": [
        "import shap\n",
        "\n",
        "model = load_model('regressor.h5')\n",
        "# Explainability module\n",
        "Helper.explainable_forecast(dataset, ff_full_features_, fc, specific_prediction_sample_to_explain=df_full_features.shape[0]+2, input_label_index_value=0, num_labels=1)"
      ],
      "metadata": {
        "id": "hcMdVoZ5BY-e"
      },
      "id": "hcMdVoZ5BY-e",
      "execution_count": null,
      "outputs": []
    },
    {
      "cell_type": "markdown",
      "source": [
        "## lime"
      ],
      "metadata": {
        "id": "eY9HkZLqBAeM"
      },
      "id": "eY9HkZLqBAeM"
    }
  ],
  "metadata": {
    "accelerator": "GPU",
    "colab": {
      "provenance": [],
      "toc_visible": true
    },
    "kernelspec": {
      "display_name": "Python 3",
      "language": "python",
      "name": "python3"
    },
    "language_info": {
      "codemirror_mode": {
        "name": "ipython",
        "version": 3
      },
      "file_extension": ".py",
      "mimetype": "text/x-python",
      "name": "python",
      "nbconvert_exporter": "python",
      "pygments_lexer": "ipython3",
      "version": "3.8.8"
    }
  },
  "nbformat": 4,
  "nbformat_minor": 5
}
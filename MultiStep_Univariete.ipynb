{
  "cells": [
    {
      "cell_type": "markdown",
      "id": "d5d5931a",
      "metadata": {
        "id": "d5d5931a"
      },
      "source": [
        "# Importing libraries"
      ]
    },
    {
      "cell_type": "code",
      "execution_count": null,
      "id": "b3f8c926",
      "metadata": {
        "id": "b3f8c926"
      },
      "outputs": [],
      "source": [
        "import os\n",
        "import numpy as np\n",
        "np.set_printoptions(suppress=True)\n",
        "\n",
        "import tensorflow as tf\n",
        "from tensorflow import keras\n",
        "import pandas as pd\n",
        "pd.set_option('display.float_format', lambda x: '%.3f' % x) #avoid scientific notation\n",
        "import datetime\n",
        "import math\n",
        "from matplotlib import pyplot as plt\n",
        "from keras.models import Sequential, load_model\n",
        "from keras.layers import Dense, LSTM, Dropout\n",
        "from keras.callbacks import EarlyStopping\n",
        "from sklearn.preprocessing import MinMaxScaler\n",
        "from sklearn.metrics import mean_squared_error, mean_absolute_error, explained_variance_score\n",
        "import plotly.express as px\n",
        "import plotly.graph_objects as go\n",
        "from plotly.subplots import make_subplots\n",
        "from IPython.display import Image\n",
        "\n",
        "\n",
        "from sklearn.model_selection import GridSearchCV\n",
        "from keras.models import Sequential\n",
        "from keras.layers import Dense\n",
        "from sklearn.metrics import mean_absolute_error\n",
        "from tensorflow.keras.optimizers import SGD\n",
        "\n"
      ]
    },
    {
      "cell_type": "markdown",
      "id": "2fa46cdb",
      "metadata": {
        "id": "2fa46cdb"
      },
      "source": [
        "\n",
        "# Importing the files"
      ]
    },
    {
      "cell_type": "code",
      "source": [
        "from google.colab import drive\n",
        "drive.mount('/content/drive')"
      ],
      "metadata": {
        "id": "ChZ-2wuVh-lv",
        "colab": {
          "base_uri": "https://localhost:8080/"
        },
        "outputId": "a4b545ab-8fb2-43a5-a326-665fc1a713ba"
      },
      "id": "ChZ-2wuVh-lv",
      "execution_count": null,
      "outputs": [
        {
          "output_type": "stream",
          "name": "stdout",
          "text": [
            "Drive already mounted at /content/drive; to attempt to forcibly remount, call drive.mount(\"/content/drive\", force_remount=True).\n"
          ]
        }
      ]
    },
    {
      "cell_type": "code",
      "execution_count": null,
      "id": "4e7e40ed",
      "metadata": {
        "id": "4e7e40ed"
      },
      "outputs": [],
      "source": [
        "# reading csv\n",
        "dataset = pd.read_csv(r'/content/drive/MyDrive/Projet/daily/data/dataset_btc.csv',sep=',' )\n",
        "dataset=dataset[:]"
      ]
    },
    {
      "cell_type": "code",
      "source": [
        "print(dataset.columns)"
      ],
      "metadata": {
        "colab": {
          "base_uri": "https://localhost:8080/"
        },
        "id": "UZMjOrd2jMX7",
        "outputId": "c7c71c85-5fdd-41bf-d290-216d4a4c320a"
      },
      "id": "UZMjOrd2jMX7",
      "execution_count": null,
      "outputs": [
        {
          "output_type": "stream",
          "name": "stdout",
          "text": [
            "Index(['date', 'open', 'high', 'low', 'close', 'volubtc', 'voluusdt',\n",
            "       'tradecount', 'tenkan_sen', 'kijun_sen', 'senkou_span_a',\n",
            "       'senkou_span_b', 'chikou_span', 'MACD', 'MA_window_10', 'MA_window_20',\n",
            "       'Day_dif', 'Close_off_high', 'Volatility', 'avg-block-size',\n",
            "       'n-transactions-per-block', 'transaction-fees', 'cost-per-transaction',\n",
            "       'miners-revenue', 'TrendGoogle', 'open_microsoft', 'open_fb',\n",
            "       'open_tesla', 'open_apple', 'fng_value'],\n",
            "      dtype='object')\n"
          ]
        }
      ]
    },
    {
      "cell_type": "markdown",
      "id": "8d6fbc9d",
      "metadata": {
        "id": "8d6fbc9d"
      },
      "source": [
        "\n",
        "# Parameter settings"
      ]
    },
    {
      "cell_type": "code",
      "execution_count": null,
      "id": "e420d959",
      "metadata": {
        "id": "e420d959",
        "colab": {
          "base_uri": "https://localhost:8080/"
        },
        "outputId": "fb5c337b-28ab-4a6d-a38e-6ddaf36b93f6"
      },
      "outputs": [
        {
          "output_type": "stream",
          "name": "stdout",
          "text": [
            "Index(['date', 'close'], dtype='object')\n"
          ]
        }
      ],
      "source": [
        "dataset=dataset[1008:]\n",
        "\n",
        "#Market\n",
        "dataset = dataset.drop('open', 1)\n",
        "dataset = dataset.drop('high', 1)\n",
        "dataset = dataset.drop('low', 1)\n",
        "dataset = dataset.drop('voluusdt', 1)\n",
        "dataset = dataset.drop('volubtc', 1)\n",
        "dataset = dataset.drop('tradecount', 1)\n",
        "#Social\n",
        "\n",
        "dataset = dataset.drop('TrendGoogle', 1)\n",
        "\n",
        "#Blochain\n",
        "\n",
        "dataset = dataset.drop('miners-revenue', 1)\n",
        "dataset = dataset.drop('transaction-fees', 1)\n",
        "dataset = dataset.drop('avg-block-size', 1)\n",
        "dataset = dataset.drop('n-transactions-per-block', 1)\n",
        "dataset = dataset.drop('cost-per-transaction', 1)\n",
        "\n",
        "#Economy\n",
        "dataset = dataset.drop('open_microsoft', 1)\n",
        "dataset = dataset.drop('open_apple', 1)\n",
        "dataset = dataset.drop('open_tesla', 1)\n",
        "\n",
        "dataset = dataset.drop('open_fb', 1)\n",
        "#Indic\n",
        "\n",
        "dataset = dataset.drop('senkou_span_b', 1)\n",
        "dataset = dataset.drop('tenkan_sen', 1)\n",
        "dataset = dataset.drop('kijun_sen', 1)\n",
        "dataset = dataset.drop('senkou_span_a', 1)\n",
        "dataset = dataset.drop('chikou_span', 1)\n",
        "\n",
        "dataset = dataset.drop('MACD', 1)\n",
        "dataset = dataset.drop('MA_window_10', 1)\n",
        "dataset = dataset.drop('MA_window_20', 1)\n",
        "\n",
        "dataset = dataset.drop('fng_value', 1)\n",
        "\n",
        "#More\n",
        "\n",
        "dataset = dataset.drop('Day_dif', 1)\n",
        "dataset = dataset.drop('Close_off_high', 1)\n",
        "dataset = dataset.drop('Volatility', 1)\n",
        "\n",
        "\n",
        "\n",
        "\n",
        "\n",
        "\n",
        "\n",
        "\n",
        "\n",
        "\n",
        "\n",
        "print(dataset.columns)"
      ]
    },
    {
      "cell_type": "code",
      "execution_count": null,
      "id": "f085144a",
      "metadata": {
        "id": "f085144a"
      },
      "outputs": [],
      "source": [
        "\n",
        "\n",
        "# number of total past observations from the original dataset to be considered\n",
        "n_past_total =310\n",
        "\n",
        "# number of past observations to be considered for the LSTM training and prediction\n",
        "n_past = 30\n",
        "\n",
        "# number of future datapoints to predict (if higher than 1, the model switch to Multi-Step)\n",
        "n_future = 30\n",
        "\n",
        "# activation function used for the RNN (softsign, relu, sigmoid)\n",
        "activation = 'softsign'\n",
        "\n",
        "# dropout for the hidden layers\n",
        "dropout = 0.2\n",
        "\n",
        "# number of hidden layers\n",
        "n_layers = 5\n",
        "\n",
        "# number of neurons of the hidden layers\n",
        "n_neurons = 64\n",
        "\n",
        "# patience for the early stopping (number of epochs)\n",
        "patience = 5\n",
        "\n",
        "# optimizer (adam, RMSprop)\n",
        "# lr=0.02\n",
        "# momentum=0.9\n",
        "optimizer='adam'##SGD(lr=lr, momentum=momentum)\n",
        "\n",
        "# batch size\n",
        "batch_size=1\n",
        "\n",
        "# features to be considered for training (if only one is Close, then its Univariate, if more, then it's Multivariate)\n",
        "'''features = [   'open', 'high', 'low', 'close', 'volubtc', 'voluusdt',\n",
        "       'tradecount']'''\n",
        "features = ['close']\n",
        "\n",
        "# number of inputs features (if higher than 1, )\n",
        "n_features = len(features)"
      ]
    },
    {
      "cell_type": "markdown",
      "id": "45b6b5af",
      "metadata": {
        "id": "45b6b5af"
      },
      "source": [
        "\n",
        "# EDA (brief)"
      ]
    },
    {
      "cell_type": "code",
      "source": [
        "\n",
        "fig, ax = plt.subplots(figsize=(16,8))\n",
        "ax.set_facecolor('white')\n",
        "ax.plot(dataset[\"close\"], color='blue', label='Original price')\n",
        "\n",
        "plt.title(' eth Price ')\n",
        "plt.grid()\n",
        "plt.legend()"
      ],
      "metadata": {
        "colab": {
          "base_uri": "https://localhost:8080/",
          "height": 519
        },
        "id": "rc9BWvvJI0W4",
        "outputId": "b8b14175-485f-442f-e324-9c25b62741a8"
      },
      "id": "rc9BWvvJI0W4",
      "execution_count": null,
      "outputs": [
        {
          "output_type": "execute_result",
          "data": {
            "text/plain": [
              "<matplotlib.legend.Legend at 0x7fd9873e5810>"
            ]
          },
          "metadata": {},
          "execution_count": 91
        },
        {
          "output_type": "display_data",
          "data": {
            "image/png": "[encoded data removed]",
            "text/plain": [
              "<Figure size 1152x576 with 1 Axes>"
            ]
          },
          "metadata": {}
        }
      ]
    },
    {
      "cell_type": "code",
      "execution_count": null,
      "id": "0f774bea",
      "metadata": {
        "id": "0f774bea",
        "colab": {
          "base_uri": "https://localhost:8080/"
        },
        "outputId": "246ec4d9-c582-4a89-ff70-50df6fab6a11"
      },
      "outputs": [
        {
          "output_type": "stream",
          "name": "stdout",
          "text": [
            "<class 'pandas.core.frame.DataFrame'>\n",
            "RangeIndex: 310 entries, 1008 to 1317\n",
            "Data columns (total 2 columns):\n",
            " #   Column  Non-Null Count  Dtype  \n",
            "---  ------  --------------  -----  \n",
            " 0   date    310 non-null    object \n",
            " 1   close   310 non-null    float64\n",
            "dtypes: float64(1), object(1)\n",
            "memory usage: 5.0+ KB\n"
          ]
        }
      ],
      "source": [
        "# checking for nulls\n",
        "dataset.info()"
      ]
    },
    {
      "cell_type": "code",
      "execution_count": null,
      "id": "b9d1467d",
      "metadata": {
        "id": "b9d1467d",
        "colab": {
          "base_uri": "https://localhost:8080/",
          "height": 300
        },
        "outputId": "bc1955c4-cb4e-43ce-f674-2caba658cbb5"
      },
      "outputs": [
        {
          "output_type": "execute_result",
          "data": {
            "text/html": [
              "\n",
              "  <div id=\"df-42c7e4fe-e96c-40b9-91da-5d50a124743c\">\n",
              "    <div class=\"colab-df-container\">\n",
              "      <div>\n",
              "<style scoped>\n",
              "    .dataframe tbody tr th:only-of-type {\n",
              "        vertical-align: middle;\n",
              "    }\n",
              "\n",
              "    .dataframe tbody tr th {\n",
              "        vertical-align: top;\n",
              "    }\n",
              "\n",
              "    .dataframe thead th {\n",
              "        text-align: right;\n",
              "    }\n",
              "</style>\n",
              "<table border=\"1\" class=\"dataframe\">\n",
              "  <thead>\n",
              "    <tr style=\"text-align: right;\">\n",
              "      <th></th>\n",
              "      <th>close</th>\n",
              "    </tr>\n",
              "  </thead>\n",
              "  <tbody>\n",
              "    <tr>\n",
              "      <th>count</th>\n",
              "      <td>310.000</td>\n",
              "    </tr>\n",
              "    <tr>\n",
              "      <th>mean</th>\n",
              "      <td>43084.095</td>\n",
              "    </tr>\n",
              "    <tr>\n",
              "      <th>std</th>\n",
              "      <td>10618.390</td>\n",
              "    </tr>\n",
              "    <tr>\n",
              "      <th>min</th>\n",
              "      <td>18036.530</td>\n",
              "    </tr>\n",
              "    <tr>\n",
              "      <th>25%</th>\n",
              "      <td>34786.505</td>\n",
              "    </tr>\n",
              "    <tr>\n",
              "      <th>50%</th>\n",
              "      <td>43809.235</td>\n",
              "    </tr>\n",
              "    <tr>\n",
              "      <th>75%</th>\n",
              "      <td>51251.620</td>\n",
              "    </tr>\n",
              "    <tr>\n",
              "      <th>max</th>\n",
              "      <td>63575.000</td>\n",
              "    </tr>\n",
              "  </tbody>\n",
              "</table>\n",
              "</div>\n",
              "      <button class=\"colab-df-convert\" onclick=\"convertToInteractive('df-42c7e4fe-e96c-40b9-91da-5d50a124743c')\"\n",
              "              title=\"Convert this dataframe to an interactive table.\"\n",
              "              style=\"display:none;\">\n",
              "        \n",
              "  <svg xmlns=\"http://www.w3.org/2000/svg\" height=\"24px\"viewBox=\"0 0 24 24\"\n",
              "       width=\"24px\">\n",
              "    <path d=\"M0 0h24v24H0V0z\" fill=\"none\"/>\n",
              "    <path d=\"M18.56 5.44l.94 2.06.94-2.06 2.06-.94-2.06-.94-.94-2.06-.94 2.06-2.06.94zm-11 1L8.5 8.5l.94-2.06 2.06-.94-2.06-.94L8.5 2.5l-.94 2.06-2.06.94zm10 10l.94 2.06.94-2.06 2.06-.94-2.06-.94-.94-2.06-.94 2.06-2.06.94z\"/><path d=\"M17.41 7.96l-1.37-1.37c-.4-.4-.92-.59-1.43-.59-.52 0-1.04.2-1.43.59L10.3 9.45l-7.72 7.72c-.78.78-.78 2.05 0 2.83L4 21.41c.39.39.9.59 1.41.59.51 0 1.02-.2 1.41-.59l7.78-7.78 2.81-2.81c.8-.78.8-2.07 0-2.86zM5.41 20L4 18.59l7.72-7.72 1.47 1.35L5.41 20z\"/>\n",
              "  </svg>\n",
              "      </button>\n",
              "      \n",
              "  <style>\n",
              "    .colab-df-container {\n",
              "      display:flex;\n",
              "      flex-wrap:wrap;\n",
              "      gap: 12px;\n",
              "    }\n",
              "\n",
              "    .colab-df-convert {\n",
              "      background-color: #E8F0FE;\n",
              "      border: none;\n",
              "      border-radius: 50%;\n",
              "      cursor: pointer;\n",
              "      display: none;\n",
              "      fill: #1967D2;\n",
              "      height: 32px;\n",
              "      padding: 0 0 0 0;\n",
              "      width: 32px;\n",
              "    }\n",
              "\n",
              "    .colab-df-convert:hover {\n",
              "      background-color: #E2EBFA;\n",
              "      box-shadow: 0px 1px 2px rgba(60, 64, 67, 0.3), 0px 1px 3px 1px rgba(60, 64, 67, 0.15);\n",
              "      fill: #174EA6;\n",
              "    }\n",
              "\n",
              "    [theme=dark] .colab-df-convert {\n",
              "      background-color: #3B4455;\n",
              "      fill: #D2E3FC;\n",
              "    }\n",
              "\n",
              "    [theme=dark] .colab-df-convert:hover {\n",
              "      background-color: #434B5C;\n",
              "      box-shadow: 0px 1px 3px 1px rgba(0, 0, 0, 0.15);\n",
              "      filter: drop-shadow(0px 1px 2px rgba(0, 0, 0, 0.3));\n",
              "      fill: #FFFFFF;\n",
              "    }\n",
              "  </style>\n",
              "\n",
              "      <script>\n",
              "        const buttonEl =\n",
              "          document.querySelector('#df-42c7e4fe-e96c-40b9-91da-5d50a124743c button.colab-df-convert');\n",
              "        buttonEl.style.display =\n",
              "          google.colab.kernel.accessAllowed ? 'block' : 'none';\n",
              "\n",
              "        async function convertToInteractive(key) {\n",
              "          const element = document.querySelector('#df-42c7e4fe-e96c-40b9-91da-5d50a124743c');\n",
              "          const dataTable =\n",
              "            await google.colab.kernel.invokeFunction('convertToInteractive',\n",
              "                                                     [key], {});\n",
              "          if (!dataTable) return;\n",
              "\n",
              "          const docLinkHtml = 'Like what you see? Visit the ' +\n",
              "            '<a target=\"_blank\" href=https://colab.research.google.com/notebooks/data_table.ipynb>data table notebook</a>'\n",
              "            + ' to learn more about interactive tables.';\n",
              "          element.innerHTML = '';\n",
              "          dataTable['output_type'] = 'display_data';\n",
              "          await google.colab.output.renderOutput(dataTable, element);\n",
              "          const docLink = document.createElement('div');\n",
              "          docLink.innerHTML = docLinkHtml;\n",
              "          element.appendChild(docLink);\n",
              "        }\n",
              "      </script>\n",
              "    </div>\n",
              "  </div>\n",
              "  "
            ],
            "text/plain": [
              "          close\n",
              "count   310.000\n",
              "mean  43084.095\n",
              "std   10618.390\n",
              "min   18036.530\n",
              "25%   34786.505\n",
              "50%   43809.235\n",
              "75%   51251.620\n",
              "max   63575.000"
            ]
          },
          "metadata": {},
          "execution_count": 93
        }
      ],
      "source": [
        "# checking the main parameters\n",
        "dataset.describe()"
      ]
    },
    {
      "cell_type": "code",
      "execution_count": null,
      "id": "d0c97b46",
      "metadata": {
        "id": "d0c97b46"
      },
      "outputs": [],
      "source": [
        "# use close only and fill NaN with ffil\n",
        "df = dataset.set_index('date')[features]#.tail(n_past_total)\n",
        "df = df.set_index(pd.to_datetime(df.index))\n",
        "df.fillna(method='ffill',inplace=True)\n"
      ]
    },
    {
      "cell_type": "code",
      "execution_count": null,
      "id": "382a0e50",
      "metadata": {
        "id": "382a0e50",
        "colab": {
          "base_uri": "https://localhost:8080/",
          "height": 721
        },
        "outputId": "af9405ef-22e2-4a40-cb1e-a94ea9688e54"
      },
      "outputs": [
        {
          "output_type": "execute_result",
          "data": {
            "text/plain": [
              "<matplotlib.axes._subplots.AxesSubplot at 0x7fd9873a3ed0>"
            ]
          },
          "metadata": {},
          "execution_count": 95
        },
        {
          "output_type": "display_data",
          "data": {
            "image/png": "[encoded data removed]",
            "text/plain": [
              "<Figure size 1800x864 with 2 Axes>"
            ]
          },
          "metadata": {}
        }
      ],
      "source": [
        "# looking at the correlation of the main possible variables\n",
        "import matplotlib.pyplot as plt\n",
        "import seaborn as sns\n",
        "\n",
        "\n",
        "\n",
        "sns.set_theme(style=\"white\")\n",
        "\n",
        "\n",
        "\n",
        "\n",
        "# Compute the correlation matrix\n",
        "corr = dataset.corr()\n",
        "\n",
        "# Generate a mask for the upper triangle\n",
        "mask = np.triu(np.ones_like(corr, dtype=bool))\n",
        "\n",
        "# Set up the matplotlib figure\n",
        "f, ax = plt.subplots(figsize=(25, 12))\n",
        "\n",
        "# Generate a custom diverging colormap\n",
        "cmap = sns.diverging_palette(98, 2, as_cmap=True)\n",
        "\n",
        "# Draw the heatmap with the mask and correct aspect ratio\n",
        "sns.heatmap(corr, mask=mask, cmap=cmap,vmin=-0.5, vmax=1, center=0,\n",
        "            square=True, linewidths=1, cbar_kws={\"shrink\": .7},annot=True)"
      ]
    },
    {
      "cell_type": "code",
      "source": [
        "dataset.info()"
      ],
      "metadata": {
        "colab": {
          "base_uri": "https://localhost:8080/"
        },
        "id": "fIffLWJqEs4v",
        "outputId": "b853e39c-4be5-400c-d2bf-ca67ee50f29e"
      },
      "id": "fIffLWJqEs4v",
      "execution_count": null,
      "outputs": [
        {
          "output_type": "stream",
          "name": "stdout",
          "text": [
            "<class 'pandas.core.frame.DataFrame'>\n",
            "RangeIndex: 310 entries, 1008 to 1317\n",
            "Data columns (total 2 columns):\n",
            " #   Column  Non-Null Count  Dtype  \n",
            "---  ------  --------------  -----  \n",
            " 0   date    310 non-null    object \n",
            " 1   close   310 non-null    float64\n",
            "dtypes: float64(1), object(1)\n",
            "memory usage: 5.0+ KB\n"
          ]
        }
      ]
    },
    {
      "cell_type": "markdown",
      "id": "10197f0a",
      "metadata": {
        "id": "10197f0a"
      },
      "source": [
        "\n",
        "# Preprocessing the data"
      ]
    },
    {
      "cell_type": "code",
      "execution_count": null,
      "id": "63af3a63",
      "metadata": {
        "id": "63af3a63",
        "colab": {
          "base_uri": "https://localhost:8080/",
          "height": 73
        },
        "outputId": "56b57393-81ba-425f-cb0c-899a8e640b97"
      },
      "outputs": [
        {
          "output_type": "execute_result",
          "data": {
            "text/plain": [
              "<matplotlib.legend.Legend at 0x7fd987302810>"
            ]
          },
          "metadata": {},
          "execution_count": 97
        },
        {
          "output_type": "display_data",
          "data": {
            "image/png": "[encoded data removed]",
            "text/plain": [
              "<Figure size 1152x576 with 1 Axes>"
            ]
          },
          "metadata": {}
        }
      ],
      "source": [
        "# droppping firsts observations becuase they may not be representative of BTC behaviour now due to beginnings of crypto market\n",
        "df = df.tail(n_past_total)\n",
        "fig, ax = plt.subplots(figsize=(16,8))\n",
        "ax.set_facecolor('white')\n",
        "ax.plot(df[\"close\"], color='blue', label='Original price')\n",
        "\n",
        "plt.title(' eth Price ')\n",
        "plt.grid()\n",
        "plt.legend()"
      ]
    },
    {
      "cell_type": "code",
      "execution_count": null,
      "id": "c139f972",
      "metadata": {
        "id": "c139f972",
        "outputId": "b2a3644f-fa8e-4282-c023-9fed33041f65",
        "colab": {
          "base_uri": "https://localhost:8080/"
        }
      },
      "outputs": [
        {
          "output_type": "stream",
          "name": "stdout",
          "text": [
            "training_set.shape:\t (310, 1)\n"
          ]
        }
      ],
      "source": [
        "# train test split\n",
        "training_set = df\n",
        "training_set = training_set.values\n",
        "print('training_set.shape:\\t', training_set.shape)"
      ]
    },
    {
      "cell_type": "code",
      "execution_count": null,
      "id": "65d8c153",
      "metadata": {
        "id": "65d8c153",
        "outputId": "fdb18313-775a-4286-d5b7-1157ea0d4920",
        "colab": {
          "base_uri": "https://localhost:8080/"
        }
      },
      "outputs": [
        {
          "output_type": "stream",
          "name": "stdout",
          "text": [
            "training_set_scaled.shape:  (310, 1)\n"
          ]
        },
        {
          "output_type": "execute_result",
          "data": {
            "text/plain": [
              "array([[0.02482231],\n",
              "       [0.0063151 ],\n",
              "       [0.01108404],\n",
              "       [0.00478936],\n",
              "       [0.        ],\n",
              "       [0.01695621],\n",
              "       [0.02499996],\n",
              "       [0.02715528],\n",
              "       [0.03052145],\n",
              "       [0.07244402],\n",
              "       [0.10454084],\n",
              "       [0.11135332],\n",
              "       [0.12703721],\n",
              "       [0.11899807],\n",
              "       [0.10284008],\n",
              "       [0.1267996 ],\n",
              "       [0.11410638],\n",
              "       [0.12500793],\n",
              "       [0.14660001],\n",
              "       [0.18570804],\n",
              "       [0.18105856],\n",
              "       [0.19857672],\n",
              "       [0.20528731],\n",
              "       [0.23801876],\n",
              "       [0.23907479],\n",
              "       [0.24803556],\n",
              "       [0.31054623],\n",
              "       [0.32859075],\n",
              "       [0.30638227],\n",
              "       [0.34944081],\n",
              "       [0.41136274],\n",
              "       [0.46983902],\n",
              "       [0.49510403],\n",
              "       [0.4842431 ],\n",
              "       [0.44168129],\n",
              "       [0.3813905 ],\n",
              "       [0.35167431],\n",
              "       [0.42458278],\n",
              "       [0.46351953],\n",
              "       [0.41076676],\n",
              "       [0.39435778],\n",
              "       [0.39070439],\n",
              "       [0.40833036],\n",
              "       [0.3920852 ],\n",
              "       [0.38279064],\n",
              "       [0.28137968],\n",
              "       [0.32738561],\n",
              "       [0.30834303],\n",
              "       [0.31233746],\n",
              "       [0.31221229],\n",
              "       [0.31690217],\n",
              "       [0.27075174],\n",
              "       [0.33660178],\n",
              "       [0.35608728],\n",
              "       [0.35632181],\n",
              "       [0.33063144],\n",
              "       [0.34014845],\n",
              "       [0.38274694],\n",
              "       [0.43001752],\n",
              "       [0.41503656],\n",
              "       [0.44476044],\n",
              "       [0.46445148],\n",
              "       [0.45585985],\n",
              "       [0.62229451],\n",
              "       [0.62329477],\n",
              "       [0.58787768],\n",
              "       [0.65731194],\n",
              "       [0.64233757],\n",
              "       [0.63939698],\n",
              "       [0.67066944],\n",
              "       [0.65602929],\n",
              "       [0.68287143],\n",
              "       [0.74844807],\n",
              "       [0.73599464],\n",
              "       [0.83159294],\n",
              "       [0.83016974],\n",
              "       [0.86458856],\n",
              "       [0.7916634 ],\n",
              "       [0.67754736],\n",
              "       [0.69478992],\n",
              "       [0.6376411 ],\n",
              "       [0.62014249],\n",
              "       [0.61639972],\n",
              "       [0.59508214],\n",
              "       [0.6928318 ],\n",
              "       [0.66765792],\n",
              "       [0.70957237],\n",
              "       [0.6661963 ],\n",
              "       [0.67448862],\n",
              "       [0.67735411],\n",
              "       [0.72323949],\n",
              "       [0.75405783],\n",
              "       [0.80916135],\n",
              "       [0.83039812],\n",
              "       [0.87259475],\n",
              "       [0.86048543],\n",
              "       [0.94759134],\n",
              "       [0.8988396 ],\n",
              "       [0.82498753],\n",
              "       [0.8534371 ],\n",
              "       [0.89762436],\n",
              "       [0.86984982],\n",
              "       [0.87823504],\n",
              "       [0.87982205],\n",
              "       [0.86333665],\n",
              "       [0.79156634],\n",
              "       [0.79722397],\n",
              "       [0.75248729],\n",
              "       [0.7303111 ],\n",
              "       [0.81225961],\n",
              "       [0.82964162],\n",
              "       [0.828774  ],\n",
              "       [0.86957116],\n",
              "       [0.89397031],\n",
              "       [0.89383811],\n",
              "       [0.89339651],\n",
              "       [0.89843774],\n",
              "       [0.85675715],\n",
              "       [0.88201207],\n",
              "       [0.90239   ],\n",
              "       [0.8773817 ],\n",
              "       [0.83263491],\n",
              "       [0.87927833],\n",
              "       [0.88070614],\n",
              "       [0.91642517],\n",
              "       [0.92154831],\n",
              "       [0.91842062],\n",
              "       [1.        ],\n",
              "       [0.98648461],\n",
              "       [0.99088639],\n",
              "       [0.95080643],\n",
              "       [0.9216412 ],\n",
              "       [0.83695126],\n",
              "       [0.82560108],\n",
              "       [0.84298989],\n",
              "       [0.78507469],\n",
              "       [0.73903295],\n",
              "       [0.72660785],\n",
              "       [0.70295093],\n",
              "       [0.68140717],\n",
              "       [0.78976874],\n",
              "       [0.81196052],\n",
              "       [0.80832075],\n",
              "       [0.77996626],\n",
              "       [0.87086237],\n",
              "       [0.87319227],\n",
              "       [0.8463543 ],\n",
              "       [0.85933629],\n",
              "       [0.77217087],\n",
              "       [0.86519332],\n",
              "       [0.84230212],\n",
              "       [0.86252832],\n",
              "       [0.89650618],\n",
              "       [0.88286475],\n",
              "       [0.82961966],\n",
              "       [0.8483704 ],\n",
              "       [0.69380438],\n",
              "       [0.69467507],\n",
              "       [0.69841872],\n",
              "       [0.63081742],\n",
              "       [0.62353808],\n",
              "       [0.55999927],\n",
              "       [0.54488546],\n",
              "       [0.40962202],\n",
              "       [0.49387057],\n",
              "       [0.42196148],\n",
              "       [0.4263033 ],\n",
              "       [0.36493804],\n",
              "       [0.45587302],\n",
              "       [0.4455176 ],\n",
              "       [0.4656586 ],\n",
              "       [0.450025  ],\n",
              "       [0.38707844],\n",
              "       [0.36383787],\n",
              "       [0.3865905 ],\n",
              "       [0.422001  ],\n",
              "       [0.4096879 ],\n",
              "       [0.42891538],\n",
              "       [0.46576576],\n",
              "       [0.41267241],\n",
              "       [0.38377816],\n",
              "       [0.3899951 ],\n",
              "       [0.34072862],\n",
              "       [0.33695203],\n",
              "       [0.42494884],\n",
              "       [0.40930646],\n",
              "       [0.42371757],\n",
              "       [0.38450084],\n",
              "       [0.46079809],\n",
              "       [0.49364329],\n",
              "       [0.48546888],\n",
              "       [0.446051  ],\n",
              "       [0.4404285 ],\n",
              "       [0.3905118 ],\n",
              "       [0.38313079],\n",
              "       [0.38568775],\n",
              "       [0.29804251],\n",
              "       [0.31781986],\n",
              "       [0.3434797 ],\n",
              "       [0.3651102 ],\n",
              "       [0.29750494],\n",
              "       [0.312859  ],\n",
              "       [0.36592819],\n",
              "       [0.36141662],\n",
              "       [0.39252966],\n",
              "       [0.37349674],\n",
              "       [0.33967237],\n",
              "       [0.34586186],\n",
              "       [0.36524284],\n",
              "       [0.37880017],\n",
              "       [0.34374475],\n",
              "       [0.35538041],\n",
              "       [0.34752134],\n",
              "       [0.32586031],\n",
              "       [0.3465044 ],\n",
              "       [0.3396324 ],\n",
              "       [0.35623639],\n",
              "       [0.330492  ],\n",
              "       [0.32265555],\n",
              "       [0.32463739],\n",
              "       [0.30399506],\n",
              "       [0.29310032],\n",
              "       [0.29609119],\n",
              "       [0.30176749],\n",
              "       [0.28114954],\n",
              "       [0.25810749],\n",
              "       [0.30980356],\n",
              "       [0.31295079],\n",
              "       [0.34251392],\n",
              "       [0.35621772],\n",
              "       [0.38087555],\n",
              "       [0.42164504],\n",
              "       [0.47040096],\n",
              "       [0.48273537],\n",
              "       [0.48266773],\n",
              "       [0.53075652],\n",
              "       [0.51440683],\n",
              "       [0.47891179],\n",
              "       [0.46359243],\n",
              "       [0.44293363],\n",
              "       [0.47622702],\n",
              "       [0.50124499],\n",
              "       [0.54460196],\n",
              "       [0.58271633],\n",
              "       [0.56562814],\n",
              "       [0.6196271 ],\n",
              "       [0.60494918],\n",
              "       [0.6033244 ],\n",
              "       [0.57890548],\n",
              "       [0.65358959],\n",
              "       [0.63752647],\n",
              "       [0.63544713],\n",
              "       [0.61189495],\n",
              "       [0.58542634],\n",
              "       [0.58563145],\n",
              "       [0.63076537],\n",
              "       [0.6870222 ],\n",
              "       [0.6760293 ],\n",
              "       [0.68519408],\n",
              "       [0.69067582],\n",
              "       [0.65082292],\n",
              "       [0.67935506],\n",
              "       [0.6325935 ],\n",
              "       [0.6814759 ],\n",
              "       [0.67764288],\n",
              "       [0.67484261],\n",
              "       [0.63564674],\n",
              "       [0.63823752],\n",
              "       [0.67578006],\n",
              "       [0.68535702],\n",
              "       [0.70188151],\n",
              "       [0.70004789],\n",
              "       [0.74048052],\n",
              "       [0.76039819],\n",
              "       [0.63302961],\n",
              "       [0.61512343],\n",
              "       [0.62273963],\n",
              "       [0.58882918],\n",
              "       [0.59591725],\n",
              "       [0.61461683],\n",
              "       [0.59080158],\n",
              "       [0.63847095],\n",
              "       [0.66064758],\n",
              "       [0.65222415],\n",
              "       [0.64260942],\n",
              "       [0.66440989],\n",
              "       [0.64133073],\n",
              "       [0.54852721],\n",
              "       [0.49843242],\n",
              "       [0.56012159],\n",
              "       [0.5891443 ],\n",
              "       [0.54402443],\n",
              "       [0.54095164],\n",
              "       [0.55171748],\n",
              "       [0.52946048],\n",
              "       [0.5048481 ],\n",
              "       [0.5157782 ],\n",
              "       [0.56628099],\n",
              "       [0.66109116],\n",
              "       [0.64996409],\n",
              "       [0.66237359],\n",
              "       [0.6848805 ],\n",
              "       [0.73422449],\n",
              "       [0.8186149 ],\n",
              "       [0.78502176],\n",
              "       [0.78867164],\n",
              "       [0.81059355],\n",
              "       [0.8042095 ],\n",
              "       [0.86596717],\n",
              "       [0.83358971]])"
            ]
          },
          "metadata": {},
          "execution_count": 99
        }
      ],
      "source": [
        "# scale\n",
        "sc = MinMaxScaler(feature_range=(0,1))\n",
        "training_set_scaled = sc.fit_transform(training_set)\n",
        "print('training_set_scaled.shape: ', training_set_scaled.shape)\n",
        "training_set_scaled"
      ]
    },
    {
      "cell_type": "code",
      "execution_count": null,
      "id": "20017b3e",
      "metadata": {
        "id": "20017b3e"
      },
      "outputs": [],
      "source": [
        "# creating a data structure with 60 timesteps and 1 output\n",
        "X_train = []\n",
        "y_train = []\n",
        "\n",
        "for i in range(n_past, len(training_set_scaled) - n_future + 1):\n",
        "    X_train.append(training_set_scaled[i-n_past:i, :])\n",
        "    y_train.append(training_set_scaled[i:i+n_future, 0])\n",
        "\n",
        "X_train, y_train = np.array(X_train), np.array(y_train)\n",
        "X_train.shape, y_train.shape\n",
        "\n",
        "X_test = X_train[-1].reshape(1, n_past, n_features)\n",
        "y_test  = y_train[-1]\n",
        "\n"
      ]
    },
    {
      "cell_type": "code",
      "execution_count": null,
      "id": "b57feb51",
      "metadata": {
        "id": "b57feb51",
        "outputId": "54cb5fa8-3e6c-4466-849b-104462cc01ea",
        "colab": {
          "base_uri": "https://localhost:8080/"
        }
      },
      "outputs": [
        {
          "output_type": "execute_result",
          "data": {
            "text/plain": [
              "(251, 30, 1)"
            ]
          },
          "metadata": {},
          "execution_count": 101
        }
      ],
      "source": [
        "# reshaping (needed to fit RNN)\n",
        "X_train = np.reshape(X_train, (X_train.shape[0], X_train.shape[1], n_features))\n",
        "X_train.shape\n",
        "\n"
      ]
    },
    {
      "cell_type": "markdown",
      "source": [
        "# BUILD LSTM"
      ],
      "metadata": {
        "id": "U_jmaIR6K6xD"
      },
      "id": "U_jmaIR6K6xD"
    },
    {
      "cell_type": "code",
      "execution_count": null,
      "id": "e179bf60",
      "metadata": {
        "id": "e179bf60",
        "outputId": "6fc4aae7-d256-4d2f-ef9a-27d1d0f9f247",
        "colab": {
          "base_uri": "https://localhost:8080/"
        }
      },
      "outputs": [
        {
          "output_type": "stream",
          "name": "stdout",
          "text": [
            "Model: \"sequential_2\"\n",
            "_________________________________________________________________\n",
            " Layer (type)                Output Shape              Param #   \n",
            "=================================================================\n",
            " lstm_18 (LSTM)              (None, 30, 30)            3840      \n",
            "                                                                 \n",
            " dropout_16 (Dropout)        (None, 30, 30)            0         \n",
            "                                                                 \n",
            " lstm_19 (LSTM)              (None, 30, 64)            24320     \n",
            "                                                                 \n",
            " dropout_17 (Dropout)        (None, 30, 64)            0         \n",
            "                                                                 \n",
            " lstm_20 (LSTM)              (None, 30, 64)            33024     \n",
            "                                                                 \n",
            " dropout_18 (Dropout)        (None, 30, 64)            0         \n",
            "                                                                 \n",
            " lstm_21 (LSTM)              (None, 30, 64)            33024     \n",
            "                                                                 \n",
            " dropout_19 (Dropout)        (None, 30, 64)            0         \n",
            "                                                                 \n",
            " lstm_22 (LSTM)              (None, 30, 64)            33024     \n",
            "                                                                 \n",
            " dropout_20 (Dropout)        (None, 30, 64)            0         \n",
            "                                                                 \n",
            " lstm_23 (LSTM)              (None, 30, 64)            33024     \n",
            "                                                                 \n",
            " dropout_21 (Dropout)        (None, 30, 64)            0         \n",
            "                                                                 \n",
            " lstm_24 (LSTM)              (None, 64)                33024     \n",
            "                                                                 \n",
            " dense_2 (Dense)             (None, 30)                1950      \n",
            "                                                                 \n",
            "=================================================================\n",
            "Total params: 195,230\n",
            "Trainable params: 195,230\n",
            "Non-trainable params: 0\n",
            "_________________________________________________________________\n"
          ]
        }
      ],
      "source": [
        "# Building the RNN\n",
        "\n",
        "# Initialising the RNN\n",
        "regressor = Sequential()\n",
        "\n",
        "# Input layer\n",
        "regressor.add(LSTM(units=n_past, return_sequences=True, activation=activation, input_shape=(X_train.shape[1], n_features))) \n",
        "#regressor.add(LSTM(units=neurons, return_sequences=True, activation=activation, input_shape=(X_train.shape[1], 1))) \n",
        "\n",
        "# Hidden layers\n",
        "for _ in range(n_layers):\n",
        "    regressor.add(Dropout(dropout))\n",
        "    regressor.add(LSTM(units=n_neurons, return_sequences=True, activation=activation))\n",
        "\n",
        "# Last hidden layer (changing the return_sequences)\n",
        "regressor.add(Dropout(dropout))\n",
        "regressor.add(LSTM(units=n_neurons, return_sequences=False))\n",
        "\n",
        "# Adding the output layer\n",
        "regressor.add(Dense(units=n_future,))\n",
        "\n",
        "# Compiling the RNN\n",
        "regressor.compile(optimizer=optimizer, loss='mse',metrics=[tf.keras.metrics.MeanSquaredError()],\n",
        ")\n",
        "\n",
        "\n",
        "# Model summary\n",
        "regressor.summary()"
      ]
    },
    {
      "cell_type": "code",
      "execution_count": null,
      "id": "d6ea3ecd",
      "metadata": {
        "id": "d6ea3ecd"
      },
      "outputs": [],
      "source": [
        "#  Adding early stopping\n",
        "early_stop = EarlyStopping(monitor='val_loss', mode='min', verbose=1, patience=patience)"
      ]
    },
    {
      "cell_type": "code",
      "execution_count": null,
      "id": "1c21a7d6",
      "metadata": {
        "id": "1c21a7d6",
        "outputId": "1a2137f5-52df-4f99-eba4-09047f22889d",
        "colab": {
          "base_uri": "https://localhost:8080/"
        }
      },
      "outputs": [
        {
          "output_type": "stream",
          "name": "stdout",
          "text": [
            "Epoch 1/10\n",
            "225/225 [==============================] - 23s 71ms/step - loss: 0.0625 - mean_squared_error: 0.0625 - val_loss: 0.0068 - val_mean_squared_error: 0.0068\n",
            "Epoch 2/10\n",
            "225/225 [==============================] - 14s 64ms/step - loss: 0.0457 - mean_squared_error: 0.0457 - val_loss: 0.0061 - val_mean_squared_error: 0.0061\n",
            "Epoch 3/10\n",
            "225/225 [==============================] - 16s 69ms/step - loss: 0.0494 - mean_squared_error: 0.0494 - val_loss: 0.0100 - val_mean_squared_error: 0.0100\n",
            "Epoch 4/10\n",
            "225/225 [==============================] - 15s 68ms/step - loss: 0.0429 - mean_squared_error: 0.0429 - val_loss: 0.0058 - val_mean_squared_error: 0.0058\n",
            "Epoch 5/10\n",
            "225/225 [==============================] - 14s 62ms/step - loss: 0.0388 - mean_squared_error: 0.0388 - val_loss: 0.0167 - val_mean_squared_error: 0.0167\n",
            "Epoch 6/10\n",
            "225/225 [==============================] - 14s 61ms/step - loss: 0.0359 - mean_squared_error: 0.0359 - val_loss: 0.0112 - val_mean_squared_error: 0.0112\n",
            "Epoch 7/10\n",
            "225/225 [==============================] - 14s 62ms/step - loss: 0.0295 - mean_squared_error: 0.0295 - val_loss: 0.0101 - val_mean_squared_error: 0.0101\n",
            "Epoch 8/10\n",
            "225/225 [==============================] - 14s 63ms/step - loss: 0.0268 - mean_squared_error: 0.0268 - val_loss: 0.0067 - val_mean_squared_error: 0.0067\n",
            "Epoch 9/10\n",
            "225/225 [==============================] - 14s 63ms/step - loss: 0.0256 - mean_squared_error: 0.0256 - val_loss: 0.0084 - val_mean_squared_error: 0.0084\n",
            "Epoch 00009: early stopping\n"
          ]
        }
      ],
      "source": [
        "# Fitting the RNN to the Training set\n",
        "res = regressor.fit(X_train, y_train\n",
        "                    , batch_size=batch_size\n",
        "                    , epochs=10\n",
        "                    , validation_split=0.1\n",
        "                    , callbacks=[early_stop]\n",
        "                   )\n",
        "\n"
      ]
    },
    {
      "cell_type": "code",
      "execution_count": null,
      "id": "296d07db",
      "metadata": {
        "id": "296d07db"
      },
      "outputs": [],
      "source": [
        "# Exporting the regressor\n",
        "last_date = dataset.date.values[-1]\n",
        "params = ['reg', last_date, n_past_total, n_past, n_future, activation, n_layers, n_neurons,batch_size ,n_features, patience, optimizer]\n",
        "modelname = 'output/'\n",
        "for i in params:\n",
        "    modelname += str(i)\n",
        "    if i!= params[-1]:\n",
        "        modelname += '_'\n",
        "if not os.path.exists(modelname):\n",
        "    os.makedirs(modelname)\n",
        "regressor.save('{}/regressor.h5'.format(modelname))"
      ]
    },
    {
      "cell_type": "code",
      "execution_count": null,
      "id": "2640081e",
      "metadata": {
        "id": "2640081e",
        "colab": {
          "base_uri": "https://localhost:8080/"
        },
        "outputId": "114b4c38-6fda-4bb9-b8a6-d0b99d4a2a44"
      },
      "outputs": [
        {
          "output_type": "execute_result",
          "data": {
            "text/plain": [
              "['loss', 'mean_squared_error', 'val_loss', 'val_mean_squared_error']"
            ]
          },
          "metadata": {},
          "execution_count": 106
        }
      ],
      "source": [
        "list(res.history)"
      ]
    },
    {
      "cell_type": "code",
      "execution_count": null,
      "id": "21279349",
      "metadata": {
        "id": "21279349"
      },
      "outputs": [],
      "source": [
        "# Loads the weights\n",
        "#regressor.load_weights(checkpoint_path)"
      ]
    },
    {
      "cell_type": "code",
      "execution_count": null,
      "id": "c8f24767",
      "metadata": {
        "id": "c8f24767"
      },
      "outputs": [],
      "source": [
        "# Recreate the exact same model, including its weights and the optimizer\n",
        "# new_model = tf.keras.models.load_model('C:\\Users\\yonas\\output\\reg_2021-10-29_700_90_7_softsign_6_64_5_19_25_adam\\regressor.h5')\n"
      ]
    },
    {
      "cell_type": "markdown",
      "id": "0c61dd7d",
      "metadata": {
        "id": "0c61dd7d"
      },
      "source": [
        "# GridSearch\n"
      ]
    },
    {
      "cell_type": "code",
      "execution_count": null,
      "id": "ff27b2d6",
      "metadata": {
        "id": "ff27b2d6"
      },
      "outputs": [],
      "source": [
        "\n",
        "\n",
        "#### Batch Size\n",
        "batch_size1 = [ 1,7,14,30]\n",
        "\n",
        "\n",
        "# Optimizer: Select!\n",
        "#### Optimizer\n",
        "optimizer1 = ['Adam', 'Adamax'] #'SGD', 'RMSprop', 'Adagrad', 'Adadelta', 'Adam', 'Adamax', 'Nadam'\n",
        "\n",
        "\n",
        "#### Neuron Activation Function\n",
        "activation1 = ['relu', 'softmax','softmax', 'softplus', 'softsign', 'relu', 'tanh', 'sigmoid', 'hard_sigmoid', 'linear'] #'softmax', 'softplus', 'softsign', 'relu', 'tanh', 'sigmoid', 'hard_sigmoid', 'linear'\n",
        "\n",
        "#### Tune Dropout Regularization\n",
        "\n",
        "dropout1 = [0.0, 0.1, 0.2, 0.3] #0.0, 0.1, 0.2, 0.3, 0.4, 0.5, 0.6, 0.7, 0.8, 0.9\n",
        "\n",
        "#### Tune the Number of Neurons in the Hidden Layer\n",
        "n_neurons1 = [100, 200] #10, 50, 100, 200\n",
        "\n",
        "n_past1=[10,20,30,40]\n",
        "# number of hidden layers\n",
        "n_layers1 = [3, 5,6]\n"
      ]
    },
    {
      "cell_type": "code",
      "execution_count": null,
      "id": "1257897b",
      "metadata": {
        "id": "1257897b",
        "outputId": "32a018c6-f235-45c7-b211-635e5709482d",
        "colab": {
          "base_uri": "https://localhost:8080/",
          "height": 1000
        }
      },
      "outputs": [
        {
          "output_type": "execute_result",
          "data": {
            "application/vnd.google.colaboratory.intrinsic+json": {
              "type": "string"
            },
            "text/plain": [
              "'\\n# define the grid search parameters\\n\\n\\nscoring=\\'mean_absolute_error\\'\\nparam_grid = dict(dropout=dropout1, n_neurons=n_neurons1, n_layers=n_layers1, batch_size=batch_size1,n_past=n_past1)\\ngrid = GridSearchCV(estimator=regressor, param_grid=param_grid, n_jobs=-1, cv=3)\\ngrid_result = grid.fit(X_train, y_train)\\n\\n# summarize results\\nprint(\"Best: %f using %s\" % (grid_result.best_score_, grid_result.best_params_))\\nmeans = grid_result.cv_results_[\\'mean_test_score\\']\\nstds = grid_result.cv_results_[\\'std_test_score\\']\\nparams = grid_result.cv_results_[\\'params\\']\\nfor mean, stdev, param in zip(means, stds, params):\\n    print(\"%f (%f) with: %r\" % (mean, stdev, param))\\n'"
            ]
          },
          "metadata": {},
          "execution_count": 110
        }
      ],
      "source": [
        "'''\n",
        "# define the grid search parameters\n",
        "\n",
        "\n",
        "scoring='mean_absolute_error'\n",
        "param_grid = dict(dropout=dropout1, n_neurons=n_neurons1, n_layers=n_layers1, batch_size=batch_size1,n_past=n_past1)\n",
        "grid = GridSearchCV(estimator=regressor, param_grid=param_grid, n_jobs=-1, cv=3)\n",
        "grid_result = grid.fit(X_train, y_train)\n",
        "\n",
        "# summarize results\n",
        "print(\"Best: %f using %s\" % (grid_result.best_score_, grid_result.best_params_))\n",
        "means = grid_result.cv_results_['mean_test_score']\n",
        "stds = grid_result.cv_results_['std_test_score']\n",
        "params = grid_result.cv_results_['params']\n",
        "for mean, stdev, param in zip(means, stds, params):\n",
        "    print(\"%f (%f) with: %r\" % (mean, stdev, param))\n",
        "'''"
      ]
    },
    {
      "cell_type": "markdown",
      "id": "b8b88384",
      "metadata": {
        "id": "b8b88384"
      },
      "source": [
        "\n",
        "# Validation"
      ]
    },
    {
      "cell_type": "code",
      "execution_count": null,
      "id": "595e4855",
      "metadata": {
        "id": "595e4855",
        "outputId": "a4ebab10-ca4e-4f11-89cf-5ec80a161197",
        "colab": {
          "base_uri": "https://localhost:8080/",
          "height": 301
        }
      },
      "outputs": [
        {
          "output_type": "display_data",
          "data": {
            "image/png": "[encoded data removed]",
            "text/plain": [
              "<Figure size 864x288 with 1 Axes>"
            ]
          },
          "metadata": {}
        }
      ],
      "source": [
        "\n",
        "\n",
        "# Plotting Loss/MSE\n",
        "\n",
        "results = res\n",
        "\n",
        "history = results.history\n",
        "plt.figure(figsize=(12,4))\n",
        "plt.plot(history['val_loss'])\n",
        "plt.plot(history['loss'])\n",
        "plt.legend(['val_loss', 'loss'])\n",
        "plt.title('Loss')\n",
        "plt.xlabel('Epochs')\n",
        "plt.ylabel('Loss')\n",
        "plt.savefig('{}/Loss.png'.format(modelname))\n",
        "plt.show()\n",
        "\n"
      ]
    },
    {
      "cell_type": "code",
      "execution_count": null,
      "id": "197a10f4",
      "metadata": {
        "id": "197a10f4"
      },
      "outputs": [],
      "source": [
        "\n",
        "\n",
        "def dummy_invscaler(y, n_features):\n",
        "    '''\n",
        "    Since the scaler was trained into 2 features, it needs two features to perform the inverse scaleer.\n",
        "    For that purpose, this function will create a dummy array and concatenate it to the y_pred/y_true.\n",
        "    That dummy of ones will be drop after performing the inverse_transform.\n",
        "    INPUTS: array 'y', shape (X,)\n",
        "    '''\n",
        "    y = np.array(y).reshape(-1,1)\n",
        "    if n_features>1:\n",
        "        dummy = np.ones((len(y), n_features-1))\n",
        "        y = np.concatenate((y, dummy), axis=1)\n",
        "        y = sc.inverse_transform(y)\n",
        "        y = y[:,0]\n",
        "    else:\n",
        "        y = sc.inverse_transform(y)\n",
        "    return y\n",
        "\n"
      ]
    },
    {
      "cell_type": "code",
      "source": [],
      "metadata": {
        "id": "UdATVXAJywzp"
      },
      "id": "UdATVXAJywzp",
      "execution_count": null,
      "outputs": []
    },
    {
      "cell_type": "code",
      "execution_count": null,
      "id": "9c21f870",
      "metadata": {
        "id": "9c21f870",
        "outputId": "b160c5ff-c62f-4c3a-e565-fbf5c42d458a",
        "colab": {
          "base_uri": "https://localhost:8080/",
          "height": 431
        }
      },
      "outputs": [
        {
          "output_type": "stream",
          "name": "stdout",
          "text": [
            "y_pred:\n",
            " [[46265.162009921674], [46791.9080507195], [46665.519183992146], [47050.29082261145], [46248.01303517759], [46235.51366374731], [45404.784538347725], [46022.894062824846], [45618.42743200183], [44968.37054558456], [45292.58605464697], [45846.90942741692], [45225.42602266014], [45378.55892993093], [45353.9320467633], [45763.47442667961], [45483.50750677168], [45773.76706869125], [45549.35924407244], [45525.11779211938], [44938.290625022055], [45388.536712640525], [44353.05404026091], [45576.11414183319], [44359.86965842843], [44137.112130841015], [43315.69578359067], [42064.811348352436], [42134.88382888317], [42127.883638021354]]\n",
            "y_true:\n",
            " [[44940.73], [47111.52], [48121.41], [47737.82], [47299.98], [48292.74], [47241.75], [43015.62], [40734.38], [43543.61], [44865.26], [42810.57], [42670.64], [43160.9], [42147.35], [41026.54], [41524.28], [43824.1], [48141.61], [47634.9], [48200.01], [49224.94], [51471.99], [55315.0], [53785.22], [53951.43], [54949.72], [54659.0], [57471.35], [55996.93]]\n"
          ]
        },
        {
          "output_type": "display_data",
          "data": {
            "image/png": "[encoded data removed]",
            "text/plain": [
              "<Figure size 1152x360 with 1 Axes>"
            ]
          },
          "metadata": {}
        }
      ],
      "source": [
        "\n",
        "\n",
        "# Validation\n",
        "\n",
        "# getting the predictions\n",
        "y_pred = regressor.predict(X_test).tolist()[0]\n",
        "y_pred = dummy_invscaler(y_pred, n_features)\n",
        "\n",
        "# creating a DF of the predicted prices\n",
        "y_pred_df = pd.DataFrame(y_pred, \n",
        "                         index=df[['close']].tail(n_future).index, \n",
        "                         columns=df[['close']].columns)\n",
        "\n",
        "# getting the true values\n",
        "y_true_df = df[['close']]#.tail(n_future)\n",
        "y_true = y_true_df.tail(n_future).values\n",
        "\n",
        "print('y_pred:\\n', y_pred.tolist())\n",
        "print('y_true:\\n', y_true.tolist())\n",
        "\n",
        "\n",
        "# plotting the results\n",
        "plt.figure(figsize=(16,5))\n",
        "plt.plot(y_pred_df, label='Y Predicted')\n",
        "plt.plot(y_true_df, label='Y Train')\n",
        "plt.plot(y_true_df.tail(n_past), label='Y Test')\n",
        "\n",
        "plt.title('BTC price Predicted vs True')\n",
        "plt.legend()\n",
        "plt.savefig('{}/Validation.png'.format(modelname))\n",
        "plt.grid()\n",
        "plt.show()\n",
        "\n"
      ]
    },
    {
      "cell_type": "code",
      "source": [
        "listetrue = y_true.tolist()\n",
        "listepred = y_pred.tolist()"
      ],
      "metadata": {
        "id": "3gEZABeiezj-"
      },
      "id": "3gEZABeiezj-",
      "execution_count": null,
      "outputs": []
    },
    {
      "cell_type": "code",
      "source": [
        "listetrue = np.array(listetrue).reshape(30,1)\n",
        "listepred = np.array(listepred).reshape(30,1)\n",
        "print('true',str(np.shape(listetrue)))\n",
        "print('pred',str(np.shape(listepred)))"
      ],
      "metadata": {
        "colab": {
          "base_uri": "https://localhost:8080/"
        },
        "id": "Irp8IBjcd2XL",
        "outputId": "68738e41-5460-45cd-a639-5010581f37d2"
      },
      "id": "Irp8IBjcd2XL",
      "execution_count": null,
      "outputs": [
        {
          "output_type": "stream",
          "name": "stdout",
          "text": [
            "true (30, 1)\n",
            "pred (30, 1)\n"
          ]
        }
      ]
    },
    {
      "cell_type": "code",
      "execution_count": null,
      "id": "b7904a0a",
      "metadata": {
        "id": "b7904a0a",
        "outputId": "a6b5321e-b074-4e2f-a215-4dec72a19dfe",
        "colab": {
          "base_uri": "https://localhost:8080/"
        }
      },
      "outputs": [
        {
          "output_type": "execute_result",
          "data": {
            "text/plain": [
              "0.13314619682493958"
            ]
          },
          "metadata": {},
          "execution_count": 116
        }
      ],
      "source": [
        "\n",
        "# Root Mean Square Error (RMSE)\n",
        "rmse = math.sqrt(mean_squared_error(listepred, listetrue))\n",
        "moy = y_true.mean()\n",
        "Nrmse = rmse/moy\n",
        "Nrmse\n"
      ]
    },
    {
      "cell_type": "code",
      "execution_count": null,
      "id": "fd9b0ed0",
      "metadata": {
        "id": "fd9b0ed0",
        "outputId": "613d9779-c6d0-4b13-c760-83177b56467e",
        "colab": {
          "base_uri": "https://localhost:8080/"
        }
      },
      "outputs": [
        {
          "output_type": "execute_result",
          "data": {
            "text/plain": [
              "10.694998568083415"
            ]
          },
          "metadata": {},
          "execution_count": 117
        }
      ],
      "source": [
        "def mape(actual, pred): \n",
        "    actual, pred = np.array(actual), np.array(pred)\n",
        "    return np.mean(np.abs((actual - pred) / actual)) * 100\n",
        "\n",
        "\n",
        "Mape= mape(listepred, listetrue)\n",
        "Mape\n"
      ]
    },
    {
      "cell_type": "code",
      "execution_count": null,
      "id": "efad1590",
      "metadata": {
        "id": "efad1590",
        "outputId": "c9eb77f3-c7c7-4199-9f37-b803534bb02b",
        "colab": {
          "base_uri": "https://localhost:8080/"
        }
      },
      "outputs": [
        {
          "output_type": "execute_result",
          "data": {
            "text/plain": [
              "-0.41411217671808553"
            ]
          },
          "metadata": {},
          "execution_count": 118
        }
      ],
      "source": [
        "\n",
        "\n",
        "#Explained variance regression score function.\n",
        "explained_variance_score(y_true, y_pred)\n",
        "# Best possible score is 1.0, lower values are worse.\n",
        "\n"
      ]
    },
    {
      "cell_type": "markdown",
      "id": "289ce329",
      "metadata": {
        "id": "289ce329"
      },
      "source": [
        "\n",
        "# Predictions"
      ]
    },
    {
      "cell_type": "code",
      "execution_count": null,
      "id": "1871fcaf",
      "metadata": {
        "id": "1871fcaf",
        "colab": {
          "base_uri": "https://localhost:8080/",
          "height": 128
        },
        "outputId": "39da140e-de2d-48a7-8eb9-c0c577a46944"
      },
      "outputs": [
        {
          "output_type": "stream",
          "name": "stdout",
          "text": [
            "y_pred:\n",
            " [[56734.117087795734], [56299.81482379973], [56169.872932707076], [55477.25846873164], [54303.123702670935], [53678.58670554519], [53766.29130699039], [52945.835823472145], [53661.19887202024], [52150.68037059486], [52238.81654642821], [52772.61163556576], [51745.11173221469], [52213.57894478679], [52180.66257620156], [51816.18579104245], [50776.30323134721], [51826.59786244452], [51366.097133075], [51143.54860692084], [50679.402566838864], [50429.067707279326], [50295.81707921088], [50453.29287340641], [49815.219640597104], [48578.41701621235], [48187.71733694077], [46987.736965069176], [46745.2600165391], [46309.35902729392]]\n",
            "y_true:\n",
            " [[44940.73], [47111.52], [48121.41], [47737.82], [47299.98], [48292.74], [47241.75], [43015.62], [40734.38], [43543.61], [44865.26], [42810.57], [42670.64], [43160.9], [42147.35], [41026.54], [41524.28], [43824.1], [48141.61], [47634.9], [48200.01], [49224.94], [51471.99], [55315.0], [53785.22], [53951.43], [54949.72], [54659.0], [57471.35], [55996.93]]\n"
          ]
        },
        {
          "output_type": "display_data",
          "data": {
            "image/png": "[encoded data removed]",
            "text/plain": [
              "<Figure size 1152x360 with 1 Axes>"
            ]
          },
          "metadata": {}
        }
      ],
      "source": [
        "# Predicting/Forecasting\n",
        "\n",
        "# getting the predictions\n",
        "x = df[features][-n_past:].values\n",
        "x = sc.transform(x)\n",
        "y_pred = regressor.predict(x.reshape(1, n_past, n_features)).tolist()[0]\n",
        "y_pred = dummy_invscaler(y_pred, n_features)\n",
        "\n",
        "# creating a DF of the predicted prices\n",
        "y_pred_df = pd.DataFrame(y_pred, \n",
        "                         index=pd.date_range(start=df[['close']].index[-1]+datetime.timedelta(days=1),\n",
        "                                             periods=len(y_pred), \n",
        "                                             freq=\"D\"), \n",
        "                         columns=df[['close']].columns)\n",
        "\n",
        "# getting the true values\n",
        "y_true_df = df[['close']]#tail(n_past)\n",
        "\n",
        "# linking them\n",
        "#y_true_df = y_true_df.append(y_pred_df.head(1))\n",
        "y_pred_df = y_pred_df.append(y_true_df.tail(1)).sort_index()\n",
        "\n",
        "print('y_pred:\\n', y_pred.tolist())\n",
        "print('y_true:\\n', y_true.tolist())\n",
        "\n",
        "# plotting the results\n",
        "plt.figure(figsize=(16,5))\n",
        "plt.plot(y_pred_df, label='Predicted')\n",
        "plt.plot(y_true_df, label='True')\n",
        "\n",
        "plt.title('BTC price Predicted vs True')\n",
        "plt.legend()\n",
        "plt.savefig('{}/Predictions.png'.format(modelname))\n",
        "plt.show()"
      ]
    },
    {
      "cell_type": "code",
      "execution_count": null,
      "id": "51f6ca48",
      "metadata": {
        "id": "51f6ca48",
        "colab": {
          "base_uri": "https://localhost:8080/",
          "height": 1000
        },
        "outputId": "417b3c1a-9709-43c4-fe23-18757012fb80"
      },
      "outputs": [
        {
          "output_type": "execute_result",
          "data": {
            "text/html": [
              "\n",
              "  <div id=\"df-ab8b23d0-73b9-4804-821b-2bedd45b168b\">\n",
              "    <div class=\"colab-df-container\">\n",
              "      <div>\n",
              "<style scoped>\n",
              "    .dataframe tbody tr th:only-of-type {\n",
              "        vertical-align: middle;\n",
              "    }\n",
              "\n",
              "    .dataframe tbody tr th {\n",
              "        vertical-align: top;\n",
              "    }\n",
              "\n",
              "    .dataframe thead th {\n",
              "        text-align: right;\n",
              "    }\n",
              "</style>\n",
              "<table border=\"1\" class=\"dataframe\">\n",
              "  <thead>\n",
              "    <tr style=\"text-align: right;\">\n",
              "      <th></th>\n",
              "      <th>close</th>\n",
              "    </tr>\n",
              "  </thead>\n",
              "  <tbody>\n",
              "    <tr>\n",
              "      <th>2021-10-12</th>\n",
              "      <td>55996.930</td>\n",
              "    </tr>\n",
              "    <tr>\n",
              "      <th>2021-10-13</th>\n",
              "      <td>56734.117</td>\n",
              "    </tr>\n",
              "    <tr>\n",
              "      <th>2021-10-14</th>\n",
              "      <td>56299.815</td>\n",
              "    </tr>\n",
              "    <tr>\n",
              "      <th>2021-10-15</th>\n",
              "      <td>56169.873</td>\n",
              "    </tr>\n",
              "    <tr>\n",
              "      <th>2021-10-16</th>\n",
              "      <td>55477.258</td>\n",
              "    </tr>\n",
              "    <tr>\n",
              "      <th>2021-10-17</th>\n",
              "      <td>54303.124</td>\n",
              "    </tr>\n",
              "    <tr>\n",
              "      <th>2021-10-18</th>\n",
              "      <td>53678.587</td>\n",
              "    </tr>\n",
              "    <tr>\n",
              "      <th>2021-10-19</th>\n",
              "      <td>53766.291</td>\n",
              "    </tr>\n",
              "    <tr>\n",
              "      <th>2021-10-20</th>\n",
              "      <td>52945.836</td>\n",
              "    </tr>\n",
              "    <tr>\n",
              "      <th>2021-10-21</th>\n",
              "      <td>53661.199</td>\n",
              "    </tr>\n",
              "    <tr>\n",
              "      <th>2021-10-22</th>\n",
              "      <td>52150.680</td>\n",
              "    </tr>\n",
              "    <tr>\n",
              "      <th>2021-10-23</th>\n",
              "      <td>52238.817</td>\n",
              "    </tr>\n",
              "    <tr>\n",
              "      <th>2021-10-24</th>\n",
              "      <td>52772.612</td>\n",
              "    </tr>\n",
              "    <tr>\n",
              "      <th>2021-10-25</th>\n",
              "      <td>51745.112</td>\n",
              "    </tr>\n",
              "    <tr>\n",
              "      <th>2021-10-26</th>\n",
              "      <td>52213.579</td>\n",
              "    </tr>\n",
              "    <tr>\n",
              "      <th>2021-10-27</th>\n",
              "      <td>52180.663</td>\n",
              "    </tr>\n",
              "    <tr>\n",
              "      <th>2021-10-28</th>\n",
              "      <td>51816.186</td>\n",
              "    </tr>\n",
              "    <tr>\n",
              "      <th>2021-10-29</th>\n",
              "      <td>50776.303</td>\n",
              "    </tr>\n",
              "    <tr>\n",
              "      <th>2021-10-30</th>\n",
              "      <td>51826.598</td>\n",
              "    </tr>\n",
              "    <tr>\n",
              "      <th>2021-10-31</th>\n",
              "      <td>51366.097</td>\n",
              "    </tr>\n",
              "    <tr>\n",
              "      <th>2021-11-01</th>\n",
              "      <td>51143.549</td>\n",
              "    </tr>\n",
              "    <tr>\n",
              "      <th>2021-11-02</th>\n",
              "      <td>50679.403</td>\n",
              "    </tr>\n",
              "    <tr>\n",
              "      <th>2021-11-03</th>\n",
              "      <td>50429.068</td>\n",
              "    </tr>\n",
              "    <tr>\n",
              "      <th>2021-11-04</th>\n",
              "      <td>50295.817</td>\n",
              "    </tr>\n",
              "    <tr>\n",
              "      <th>2021-11-05</th>\n",
              "      <td>50453.293</td>\n",
              "    </tr>\n",
              "    <tr>\n",
              "      <th>2021-11-06</th>\n",
              "      <td>49815.220</td>\n",
              "    </tr>\n",
              "    <tr>\n",
              "      <th>2021-11-07</th>\n",
              "      <td>48578.417</td>\n",
              "    </tr>\n",
              "    <tr>\n",
              "      <th>2021-11-08</th>\n",
              "      <td>48187.717</td>\n",
              "    </tr>\n",
              "    <tr>\n",
              "      <th>2021-11-09</th>\n",
              "      <td>46987.737</td>\n",
              "    </tr>\n",
              "    <tr>\n",
              "      <th>2021-11-10</th>\n",
              "      <td>46745.260</td>\n",
              "    </tr>\n",
              "    <tr>\n",
              "      <th>2021-11-11</th>\n",
              "      <td>46309.359</td>\n",
              "    </tr>\n",
              "  </tbody>\n",
              "</table>\n",
              "</div>\n",
              "      <button class=\"colab-df-convert\" onclick=\"convertToInteractive('df-ab8b23d0-73b9-4804-821b-2bedd45b168b')\"\n",
              "              title=\"Convert this dataframe to an interactive table.\"\n",
              "              style=\"display:none;\">\n",
              "        \n",
              "  <svg xmlns=\"http://www.w3.org/2000/svg\" height=\"24px\"viewBox=\"0 0 24 24\"\n",
              "       width=\"24px\">\n",
              "    <path d=\"M0 0h24v24H0V0z\" fill=\"none\"/>\n",
              "    <path d=\"M18.56 5.44l.94 2.06.94-2.06 2.06-.94-2.06-.94-.94-2.06-.94 2.06-2.06.94zm-11 1L8.5 8.5l.94-2.06 2.06-.94-2.06-.94L8.5 2.5l-.94 2.06-2.06.94zm10 10l.94 2.06.94-2.06 2.06-.94-2.06-.94-.94-2.06-.94 2.06-2.06.94z\"/><path d=\"M17.41 7.96l-1.37-1.37c-.4-.4-.92-.59-1.43-.59-.52 0-1.04.2-1.43.59L10.3 9.45l-7.72 7.72c-.78.78-.78 2.05 0 2.83L4 21.41c.39.39.9.59 1.41.59.51 0 1.02-.2 1.41-.59l7.78-7.78 2.81-2.81c.8-.78.8-2.07 0-2.86zM5.41 20L4 18.59l7.72-7.72 1.47 1.35L5.41 20z\"/>\n",
              "  </svg>\n",
              "      </button>\n",
              "      \n",
              "  <style>\n",
              "    .colab-df-container {\n",
              "      display:flex;\n",
              "      flex-wrap:wrap;\n",
              "      gap: 12px;\n",
              "    }\n",
              "\n",
              "    .colab-df-convert {\n",
              "      background-color: #E8F0FE;\n",
              "      border: none;\n",
              "      border-radius: 50%;\n",
              "      cursor: pointer;\n",
              "      display: none;\n",
              "      fill: #1967D2;\n",
              "      height: 32px;\n",
              "      padding: 0 0 0 0;\n",
              "      width: 32px;\n",
              "    }\n",
              "\n",
              "    .colab-df-convert:hover {\n",
              "      background-color: #E2EBFA;\n",
              "      box-shadow: 0px 1px 2px rgba(60, 64, 67, 0.3), 0px 1px 3px 1px rgba(60, 64, 67, 0.15);\n",
              "      fill: #174EA6;\n",
              "    }\n",
              "\n",
              "    [theme=dark] .colab-df-convert {\n",
              "      background-color: #3B4455;\n",
              "      fill: #D2E3FC;\n",
              "    }\n",
              "\n",
              "    [theme=dark] .colab-df-convert:hover {\n",
              "      background-color: #434B5C;\n",
              "      box-shadow: 0px 1px 3px 1px rgba(0, 0, 0, 0.15);\n",
              "      filter: drop-shadow(0px 1px 2px rgba(0, 0, 0, 0.3));\n",
              "      fill: #FFFFFF;\n",
              "    }\n",
              "  </style>\n",
              "\n",
              "      <script>\n",
              "        const buttonEl =\n",
              "          document.querySelector('#df-ab8b23d0-73b9-4804-821b-2bedd45b168b button.colab-df-convert');\n",
              "        buttonEl.style.display =\n",
              "          google.colab.kernel.accessAllowed ? 'block' : 'none';\n",
              "\n",
              "        async function convertToInteractive(key) {\n",
              "          const element = document.querySelector('#df-ab8b23d0-73b9-4804-821b-2bedd45b168b');\n",
              "          const dataTable =\n",
              "            await google.colab.kernel.invokeFunction('convertToInteractive',\n",
              "                                                     [key], {});\n",
              "          if (!dataTable) return;\n",
              "\n",
              "          const docLinkHtml = 'Like what you see? Visit the ' +\n",
              "            '<a target=\"_blank\" href=https://colab.research.google.com/notebooks/data_table.ipynb>data table notebook</a>'\n",
              "            + ' to learn more about interactive tables.';\n",
              "          element.innerHTML = '';\n",
              "          dataTable['output_type'] = 'display_data';\n",
              "          await google.colab.output.renderOutput(dataTable, element);\n",
              "          const docLink = document.createElement('div');\n",
              "          docLink.innerHTML = docLinkHtml;\n",
              "          element.appendChild(docLink);\n",
              "        }\n",
              "      </script>\n",
              "    </div>\n",
              "  </div>\n",
              "  "
            ],
            "text/plain": [
              "               close\n",
              "2021-10-12 55996.930\n",
              "2021-10-13 56734.117\n",
              "2021-10-14 56299.815\n",
              "2021-10-15 56169.873\n",
              "2021-10-16 55477.258\n",
              "2021-10-17 54303.124\n",
              "2021-10-18 53678.587\n",
              "2021-10-19 53766.291\n",
              "2021-10-20 52945.836\n",
              "2021-10-21 53661.199\n",
              "2021-10-22 52150.680\n",
              "2021-10-23 52238.817\n",
              "2021-10-24 52772.612\n",
              "2021-10-25 51745.112\n",
              "2021-10-26 52213.579\n",
              "2021-10-27 52180.663\n",
              "2021-10-28 51816.186\n",
              "2021-10-29 50776.303\n",
              "2021-10-30 51826.598\n",
              "2021-10-31 51366.097\n",
              "2021-11-01 51143.549\n",
              "2021-11-02 50679.403\n",
              "2021-11-03 50429.068\n",
              "2021-11-04 50295.817\n",
              "2021-11-05 50453.293\n",
              "2021-11-06 49815.220\n",
              "2021-11-07 48578.417\n",
              "2021-11-08 48187.717\n",
              "2021-11-09 46987.737\n",
              "2021-11-10 46745.260\n",
              "2021-11-11 46309.359"
            ]
          },
          "metadata": {},
          "execution_count": 120
        }
      ],
      "source": [
        "# export to csv\n",
        "#y_pred_df.to_csv('{}/preds_{}.csv'.format(modelname,n_future))\n",
        "# show\n",
        "y_pred_df"
      ]
    },
    {
      "cell_type": "markdown",
      "id": "2e7f2cb1",
      "metadata": {
        "id": "2e7f2cb1"
      },
      "source": [
        "# cross validation"
      ]
    },
    {
      "cell_type": "code",
      "source": [
        "from sklearn.model_selection import train_test_split,KFold,cross_val_score\n",
        "from keras.models import Sequential\n",
        "from keras.layers import Activation, Dense,Flatten,LSTM,Dropout"
      ],
      "metadata": {
        "id": "n4tVQ4FFzfgE"
      },
      "id": "n4tVQ4FFzfgE",
      "execution_count": null,
      "outputs": []
    },
    {
      "cell_type": "code",
      "source": [
        "y_pred60scores = regressor.evaluate(X_test, df[['close']].tail(n_future), verbose=0)"
      ],
      "metadata": {
        "id": "GWGi52j-zK4z",
        "colab": {
          "base_uri": "https://localhost:8080/",
          "height": 380
        },
        "outputId": "4e26baf1-9ce9-469d-dcb3-4b8ef1d2f86a"
      },
      "id": "GWGi52j-zK4z",
      "execution_count": null,
      "outputs": [
        {
          "output_type": "error",
          "ename": "ValueError",
          "evalue": "ignored",
          "traceback": [
            "\u001b[0;31m---------------------------------------------------------------------------\u001b[0m",
            "\u001b[0;31mValueError\u001b[0m                                Traceback (most recent call last)",
            "\u001b[0;32m<ipython-input-122-795d60dc4dc3>\u001b[0m in \u001b[0;36m<module>\u001b[0;34m()\u001b[0m\n\u001b[0;32m----> 1\u001b[0;31m \u001b[0my_pred60scores\u001b[0m \u001b[0;34m=\u001b[0m \u001b[0mregressor\u001b[0m\u001b[0;34m.\u001b[0m\u001b[0mevaluate\u001b[0m\u001b[0;34m(\u001b[0m\u001b[0mX_test\u001b[0m\u001b[0;34m,\u001b[0m \u001b[0mdf\u001b[0m\u001b[0;34m[\u001b[0m\u001b[0;34m[\u001b[0m\u001b[0;34m'close'\u001b[0m\u001b[0;34m]\u001b[0m\u001b[0;34m]\u001b[0m\u001b[0;34m.\u001b[0m\u001b[0mtail\u001b[0m\u001b[0;34m(\u001b[0m\u001b[0mn_future\u001b[0m\u001b[0;34m)\u001b[0m\u001b[0;34m,\u001b[0m \u001b[0mverbose\u001b[0m\u001b[0;34m=\u001b[0m\u001b[0;36m0\u001b[0m\u001b[0;34m)\u001b[0m\u001b[0;34m\u001b[0m\u001b[0;34m\u001b[0m\u001b[0m\n\u001b[0m",
            "\u001b[0;32m/usr/local/lib/python3.7/dist-packages/keras/utils/traceback_utils.py\u001b[0m in \u001b[0;36merror_handler\u001b[0;34m(*args, **kwargs)\u001b[0m\n\u001b[1;32m     65\u001b[0m     \u001b[0;32mexcept\u001b[0m \u001b[0mException\u001b[0m \u001b[0;32mas\u001b[0m \u001b[0me\u001b[0m\u001b[0;34m:\u001b[0m  \u001b[0;31m# pylint: disable=broad-except\u001b[0m\u001b[0;34m\u001b[0m\u001b[0;34m\u001b[0m\u001b[0m\n\u001b[1;32m     66\u001b[0m       \u001b[0mfiltered_tb\u001b[0m \u001b[0;34m=\u001b[0m \u001b[0m_process_traceback_frames\u001b[0m\u001b[0;34m(\u001b[0m\u001b[0me\u001b[0m\u001b[0;34m.\u001b[0m\u001b[0m__traceback__\u001b[0m\u001b[0;34m)\u001b[0m\u001b[0;34m\u001b[0m\u001b[0;34m\u001b[0m\u001b[0m\n\u001b[0;32m---> 67\u001b[0;31m       \u001b[0;32mraise\u001b[0m \u001b[0me\u001b[0m\u001b[0;34m.\u001b[0m\u001b[0mwith_traceback\u001b[0m\u001b[0;34m(\u001b[0m\u001b[0mfiltered_tb\u001b[0m\u001b[0;34m)\u001b[0m \u001b[0;32mfrom\u001b[0m \u001b[0;32mNone\u001b[0m\u001b[0;34m\u001b[0m\u001b[0;34m\u001b[0m\u001b[0m\n\u001b[0m\u001b[1;32m     68\u001b[0m     \u001b[0;32mfinally\u001b[0m\u001b[0;34m:\u001b[0m\u001b[0;34m\u001b[0m\u001b[0;34m\u001b[0m\u001b[0m\n\u001b[1;32m     69\u001b[0m       \u001b[0;32mdel\u001b[0m \u001b[0mfiltered_tb\u001b[0m\u001b[0;34m\u001b[0m\u001b[0;34m\u001b[0m\u001b[0m\n",
            "\u001b[0;32m/usr/local/lib/python3.7/dist-packages/keras/engine/data_adapter.py\u001b[0m in \u001b[0;36m_check_data_cardinality\u001b[0;34m(data)\u001b[0m\n\u001b[1;32m   1655\u001b[0m                            for i in tf.nest.flatten(single_data)))\n\u001b[1;32m   1656\u001b[0m     \u001b[0mmsg\u001b[0m \u001b[0;34m+=\u001b[0m \u001b[0;34m\"Make sure all arrays contain the same number of samples.\"\u001b[0m\u001b[0;34m\u001b[0m\u001b[0;34m\u001b[0m\u001b[0m\n\u001b[0;32m-> 1657\u001b[0;31m     \u001b[0;32mraise\u001b[0m \u001b[0mValueError\u001b[0m\u001b[0;34m(\u001b[0m\u001b[0mmsg\u001b[0m\u001b[0;34m)\u001b[0m\u001b[0;34m\u001b[0m\u001b[0;34m\u001b[0m\u001b[0m\n\u001b[0m\u001b[1;32m   1658\u001b[0m \u001b[0;34m\u001b[0m\u001b[0m\n\u001b[1;32m   1659\u001b[0m \u001b[0;34m\u001b[0m\u001b[0m\n",
            "\u001b[0;31mValueError\u001b[0m: Data cardinality is ambiguous:\n  x sizes: 1\n  y sizes: 30\nMake sure all arrays contain the same number of samples."
          ]
        }
      ]
    },
    {
      "cell_type": "code",
      "source": [
        "cvscores = []\n",
        "for train, test in kfold.split(x,y):\n",
        "  print(\"%s: %.2f%%\" % (regressor.metrics_names[1], scores[1]*100))\n",
        "  cvscores.append(scores[1] * 100)\n",
        "\n",
        "  \n",
        "print(\"%.2f%% (+/- %.2f%%)\" % (np.mean(cvscores), np.std(cvscores)))"
      ],
      "metadata": {
        "id": "XsBEJWPlzWXa"
      },
      "id": "XsBEJWPlzWXa",
      "execution_count": null,
      "outputs": []
    },
    {
      "cell_type": "markdown",
      "source": [
        "# SHAP\n",
        "\n",
        "https://medium.datadriveninvestor.com/time-step-wise-feature-importance-in-deep-learning-using-shap-e1c46a655455"
      ],
      "metadata": {
        "id": "rCgrSKz8o2MV"
      },
      "id": "rCgrSKz8o2MV"
    },
    {
      "cell_type": "code",
      "source": [
        "pip install shap"
      ],
      "metadata": {
        "id": "0dGSVhtkw0sm"
      },
      "id": "0dGSVhtkw0sm",
      "execution_count": null,
      "outputs": []
    },
    {
      "cell_type": "code",
      "execution_count": null,
      "id": "698fdb73",
      "metadata": {
        "id": "698fdb73"
      },
      "outputs": [],
      "source": [
        "import shap"
      ]
    },
    {
      "cell_type": "code",
      "source": [
        "import numpy as np\n",
        "import matplotlib.pyplot as plt\n",
        "import pandas as pd\n",
        "from keras.models import load_model\n",
        "import shap"
      ],
      "metadata": {
        "id": "t3wA9LdD1-Ra"
      },
      "id": "t3wA9LdD1-Ra",
      "execution_count": null,
      "outputs": []
    },
    {
      "cell_type": "code",
      "execution_count": null,
      "id": "a508f034",
      "metadata": {
        "id": "a508f034"
      },
      "outputs": [],
      "source": [
        "e = shap.DeepExplainer((regressor.layers[0].input, regressor.layers[-1].output),X_train)\n",
        "test1 = X_test\n",
        "shap_val = e.shap_values(test1)\n",
        "shap_val = np.array(shap_val)\n",
        "shap_val = np.reshape(shap_val,(int(shap_val.shape[1]),int(shap_val.shape[2]),int(shap_val.shape[3])))\n",
        "shap_abs = np.absolute(shap_val)\n",
        "sum_0 = np.sum(shap_abs,axis=0)\n",
        "f_names = features\n",
        "x_pos = [i for i, _ in enumerate(f_names)]\n",
        "plt1 = plt.subplot(311)\n",
        "plt1.barh(x_pos,sum_0[1])\n",
        "plt1.set_yticks(x_pos)\n",
        "plt1.set_yticklabels(f_names)\n",
        "plt1.set_title(\"Yesterday’s features (time-step 2)\")\n",
        "plt2 = plt.subplot(312,sharex=plt1)\n",
        "plt2.barh(x_pos,sum_0[0])\n",
        "plt2.set_yticks(x_pos)\n",
        "plt2.set_yticklabels(f_names)\n",
        "plt2.set_title(\" day before yesterday’s features(time-step 1)\")\n",
        "plt.tight_layout()\n",
        "plt.show()"
      ]
    }
  ],
  "metadata": {
    "kernelspec": {
      "display_name": "Python 3",
      "language": "python",
      "name": "python3"
    },
    "language_info": {
      "codemirror_mode": {
        "name": "ipython",
        "version": 3
      },
      "file_extension": ".py",
      "mimetype": "text/x-python",
      "name": "python",
      "nbconvert_exporter": "python",
      "pygments_lexer": "ipython3",
      "version": "3.8.8"
    },
    "colab": {
      "provenance": [],
      "toc_visible": true
    }
  },
  "nbformat": 4,
  "nbformat_minor": 5
}
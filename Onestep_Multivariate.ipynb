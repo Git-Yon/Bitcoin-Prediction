{
  "cells": [
    {
      "cell_type": "markdown",
      "metadata": {
        "id": "d5d5931a"
      },
      "source": [
        "# Importing libraries"
      ],
      "id": "d5d5931a"
    },
    {
      "cell_type": "code",
      "execution_count": null,
      "metadata": {
        "id": "b3f8c926"
      },
      "outputs": [],
      "source": [
        "import os\n",
        "import numpy as np\n",
        "np.set_printoptions(suppress=True)\n",
        "\n",
        "import tensorflow as tf\n",
        "from tensorflow import keras\n",
        "import pandas as pd\n",
        "pd.set_option('display.float_format', lambda x: '%.3f' % x) #avoid scientific notation\n",
        "import datetime\n",
        "import math\n",
        "from matplotlib import pyplot as plt\n",
        "from keras.models import Sequential, load_model\n",
        "from keras.layers import Dense, LSTM, Dropout\n",
        "from keras.callbacks import EarlyStopping\n",
        "from sklearn.preprocessing import MinMaxScaler\n",
        "from sklearn.metrics import mean_squared_error, mean_absolute_error, explained_variance_score ,r2_score\n",
        "import plotly.express as px\n",
        "import plotly.graph_objects as go\n",
        "from plotly.subplots import make_subplots\n",
        "from IPython.display import Image\n",
        "\n",
        "\n",
        "from sklearn.model_selection import GridSearchCV\n",
        "from keras.models import Sequential\n",
        "from keras.layers import Dense\n",
        "from sklearn.metrics import mean_absolute_error\n",
        "from tensorflow.keras.optimizers import SGD\n",
        "\n"
      ],
      "id": "b3f8c926"
    },
    {
      "cell_type": "markdown",
      "metadata": {
        "id": "2fa46cdb"
      },
      "source": [
        "\n",
        "# Importing the files"
      ],
      "id": "2fa46cdb"
    },
    {
      "cell_type": "code",
      "execution_count": null,
      "metadata": {
        "colab": {
          "base_uri": "https://localhost:8080/"
        },
        "id": "ChZ-2wuVh-lv",
        "outputId": "7f7cf131-f0ce-49c5-fce9-62fc8f557131"
      },
      "outputs": [
        {
          "output_type": "stream",
          "name": "stdout",
          "text": [
            "Drive already mounted at /content/drive; to attempt to forcibly remount, call drive.mount(\"/content/drive\", force_remount=True).\n"
          ]
        }
      ],
      "source": [
        "from google.colab import drive\n",
        "drive.mount('/content/drive')"
      ],
      "id": "ChZ-2wuVh-lv"
    },
    {
      "cell_type": "code",
      "execution_count": null,
      "metadata": {
        "id": "4e7e40ed"
      },
      "outputs": [],
      "source": [
        "# reading csv\n",
        "dataset = pd.read_csv(r'/content/drive/MyDrive/Projet/daily/data/dataset_btc.csv',sep=',' )\n",
        "dataset=dataset[:]"
      ],
      "id": "4e7e40ed"
    },
    {
      "cell_type": "code",
      "execution_count": null,
      "metadata": {
        "colab": {
          "base_uri": "https://localhost:8080/"
        },
        "id": "UZMjOrd2jMX7",
        "outputId": "9c2f6a73-da85-4a2a-da02-251dea642876"
      },
      "outputs": [
        {
          "output_type": "stream",
          "name": "stdout",
          "text": [
            "Index(['date', 'open', 'high', 'low', 'close', 'volubtc', 'voluusdt',\n",
            "       'tradecount', 'tenkan_sen', 'kijun_sen', 'senkou_span_a',\n",
            "       'senkou_span_b', 'chikou_span', 'MACD', 'MA_window_10', 'MA_window_20',\n",
            "       'Day_dif', 'Close_off_high', 'Volatility', 'avg-block-size',\n",
            "       'n-transactions-per-block', 'transaction-fees', 'cost-per-transaction',\n",
            "       'miners-revenue', 'TrendGoogle', 'open_microsoft', 'open_fb',\n",
            "       'open_tesla', 'open_apple', 'fng_value'],\n",
            "      dtype='object')\n"
          ]
        }
      ],
      "source": [
        "print(dataset.columns)"
      ],
      "id": "UZMjOrd2jMX7"
    },
    {
      "cell_type": "code",
      "source": [
        "dataset.info()"
      ],
      "metadata": {
        "colab": {
          "base_uri": "https://localhost:8080/"
        },
        "id": "0geoZmpiQdcl",
        "outputId": "adb71524-9f7e-4b89-ea57-6197a9c68469"
      },
      "id": "0geoZmpiQdcl",
      "execution_count": null,
      "outputs": [
        {
          "output_type": "stream",
          "name": "stdout",
          "text": [
            "<class 'pandas.core.frame.DataFrame'>\n",
            "RangeIndex: 1318 entries, 0 to 1317\n",
            "Data columns (total 30 columns):\n",
            " #   Column                    Non-Null Count  Dtype  \n",
            "---  ------                    --------------  -----  \n",
            " 0   date                      1318 non-null   object \n",
            " 1   open                      1318 non-null   float64\n",
            " 2   high                      1318 non-null   float64\n",
            " 3   low                       1318 non-null   float64\n",
            " 4   close                     1318 non-null   float64\n",
            " 5   volubtc                   1318 non-null   float64\n",
            " 6   voluusdt                  1318 non-null   float64\n",
            " 7   tradecount                1318 non-null   float64\n",
            " 8   tenkan_sen                1318 non-null   float64\n",
            " 9   kijun_sen                 1318 non-null   float64\n",
            " 10  senkou_span_a             1318 non-null   float64\n",
            " 11  senkou_span_b             1318 non-null   float64\n",
            " 12  chikou_span               1318 non-null   float64\n",
            " 13  MACD                      1318 non-null   float64\n",
            " 14  MA_window_10              1318 non-null   float64\n",
            " 15  MA_window_20              1318 non-null   float64\n",
            " 16  Day_dif                   1318 non-null   float64\n",
            " 17  Close_off_high            1318 non-null   float64\n",
            " 18  Volatility                1318 non-null   float64\n",
            " 19  avg-block-size            1318 non-null   float64\n",
            " 20  n-transactions-per-block  1318 non-null   float64\n",
            " 21  transaction-fees          1318 non-null   float64\n",
            " 22  cost-per-transaction      1318 non-null   float64\n",
            " 23  miners-revenue            1318 non-null   float64\n",
            " 24  TrendGoogle               1318 non-null   float64\n",
            " 25  open_microsoft            1318 non-null   float64\n",
            " 26  open_fb                   1318 non-null   float64\n",
            " 27  open_tesla                1318 non-null   float64\n",
            " 28  open_apple                1318 non-null   float64\n",
            " 29  fng_value                 1318 non-null   float64\n",
            "dtypes: float64(29), object(1)\n",
            "memory usage: 309.0+ KB\n"
          ]
        }
      ]
    },
    {
      "cell_type": "markdown",
      "metadata": {
        "id": "8d6fbc9d"
      },
      "source": [
        "\n",
        "# Parameter settings"
      ],
      "id": "8d6fbc9d"
    },
    {
      "cell_type": "code",
      "execution_count": null,
      "metadata": {
        "id": "f085144a"
      },
      "outputs": [],
      "source": [
        "\n",
        "\n",
        "# number of total past observations from the original dataset to be considered\n",
        "n_past_total =310  \n",
        "\n",
        "# number of past observations to be considered for the LSTM training and prediction\n",
        "n_past = 7\n",
        "\n",
        "# number of future datapoints to predict (if higher than 1, the model switch to Multi-Step)\n",
        "n_future = 1\n",
        "\n",
        "# activation function used for the RNN (softsign, relu, sigmoid)\n",
        "activation = 'softsign'\n",
        "\n",
        "# dropout for the hidden layers\n",
        "dropout = 0.2\n",
        "\n",
        "# number of hidden layers\n",
        "n_layers = 2\n",
        "\n",
        "# number of neurons of the hidden layers\n",
        "n_neurons = 64\n",
        "\n",
        "# patience for the early stopping (number of epochs)\n",
        "patience = 5\n",
        "\n",
        "# optimizer (adam, RMSprop)\n",
        "\n",
        "# lr=0.02\n",
        "# momentum=0.9\n",
        "optimizer='adam'\n",
        "# optimizer=SGD(lr=lr, momentum=momentum)##\n",
        "\n",
        "# batch size\n",
        "batch_size=1\n",
        "\n",
        "# features to be considered for training (if only one is Close, then its Univariate, if more, then it's Multivariate)\n",
        "\n",
        "features = [   'open', 'high', 'low', 'close', 'volubtc', 'voluusdt',\n",
        "       'tradecount']\n",
        "''' \n",
        "features = ['close']\n",
        " ''' \n",
        "# number of inputs features (if higher than 1, )\n",
        "n_features = len(features)"
      ],
      "id": "f085144a"
    },
    {
      "cell_type": "code",
      "execution_count": null,
      "metadata": {
        "id": "e420d959",
        "colab": {
          "base_uri": "https://localhost:8080/"
        },
        "outputId": "42d82aea-2d82-4578-f2fd-55406d677cac"
      },
      "outputs": [
        {
          "output_type": "stream",
          "name": "stdout",
          "text": [
            "Index(['date', 'open', 'high', 'low', 'close', 'volubtc', 'voluusdt',\n",
            "       'tradecount'],\n",
            "      dtype='object')\n"
          ]
        }
      ],
      "source": [
        "dataset=dataset[1008:]\n",
        "\n",
        "'''#Market\n",
        "\n",
        "dataset = dataset.drop('open', 1)\n",
        "dataset = dataset.drop('high', 1)\n",
        "dataset = dataset.drop('low', 1)\n",
        "dataset = dataset.drop('voluusdt', 1)\n",
        "dataset = dataset.drop('volubtc', 1)\n",
        "dataset = dataset.drop('tradecount', 1)'''\n",
        "#Social\n",
        "\n",
        "dataset = dataset.drop('TrendGoogle', 1)\n",
        "\n",
        "#Blochain\n",
        "\n",
        "dataset = dataset.drop('miners-revenue', 1)\n",
        "dataset = dataset.drop('transaction-fees', 1)\n",
        "dataset = dataset.drop('avg-block-size', 1)\n",
        "dataset = dataset.drop('n-transactions-per-block', 1)\n",
        "dataset = dataset.drop('cost-per-transaction', 1)\n",
        "\n",
        "#Economy\n",
        "dataset = dataset.drop('open_microsoft', 1)\n",
        "dataset = dataset.drop('open_apple', 1)\n",
        "dataset = dataset.drop('open_tesla', 1)\n",
        "\n",
        "dataset = dataset.drop('open_fb', 1)\n",
        "#Indic\n",
        "\n",
        "dataset = dataset.drop('senkou_span_b', 1)\n",
        "dataset = dataset.drop('tenkan_sen', 1)\n",
        "dataset = dataset.drop('kijun_sen', 1)\n",
        "dataset = dataset.drop('senkou_span_a', 1)\n",
        "dataset = dataset.drop('chikou_span', 1)\n",
        "\n",
        "dataset = dataset.drop('MACD', 1)\n",
        "dataset = dataset.drop('MA_window_10', 1)\n",
        "dataset = dataset.drop('MA_window_20', 1)\n",
        "\n",
        "dataset = dataset.drop('fng_value', 1)\n",
        "\n",
        "#More\n",
        "\n",
        "dataset = dataset.drop('Day_dif', 1)\n",
        "dataset = dataset.drop('Close_off_high', 1)\n",
        "dataset = dataset.drop('Volatility', 1)\n",
        "\n",
        "\n",
        "\n",
        "\n",
        "\n",
        "\n",
        "\n",
        "\n",
        "\n",
        "\n",
        "\n",
        "print(dataset.columns)\n",
        "\n",
        "\n",
        "\n"
      ],
      "id": "e420d959"
    },
    {
      "cell_type": "markdown",
      "metadata": {
        "id": "45b6b5af"
      },
      "source": [
        "\n",
        "# EDA (brief)"
      ],
      "id": "45b6b5af"
    },
    {
      "cell_type": "code",
      "execution_count": null,
      "metadata": {
        "colab": {
          "base_uri": "https://localhost:8080/",
          "height": 519
        },
        "id": "rc9BWvvJI0W4",
        "outputId": "5333c7cf-f1f6-451e-a9e3-7169d33feef3"
      },
      "outputs": [
        {
          "output_type": "execute_result",
          "data": {
            "text/plain": [
              "<matplotlib.legend.Legend at 0x7fc08d77a590>"
            ]
          },
          "metadata": {},
          "execution_count": 118
        },
        {
          "output_type": "display_data",
          "data": {
            "image/png": "[encoded data removed]",
            "text/plain": [
              "<Figure size 1152x576 with 1 Axes>"
            ]
          },
          "metadata": {}
        }
      ],
      "source": [
        "\n",
        "fig, ax = plt.subplots(figsize=(16,8))\n",
        "ax.set_facecolor('white')\n",
        "ax.plot(dataset[\"close\"], color='blue', label='Original price')\n",
        "\n",
        "plt.title(' eth Price ')\n",
        "plt.grid()\n",
        "plt.legend()"
      ],
      "id": "rc9BWvvJI0W4"
    },
    {
      "cell_type": "code",
      "execution_count": null,
      "metadata": {
        "colab": {
          "base_uri": "https://localhost:8080/"
        },
        "id": "0f774bea",
        "outputId": "2234d8c4-1655-47fb-aa07-c1d1165d2f55"
      },
      "outputs": [
        {
          "output_type": "stream",
          "name": "stdout",
          "text": [
            "<class 'pandas.core.frame.DataFrame'>\n",
            "RangeIndex: 310 entries, 1008 to 1317\n",
            "Data columns (total 8 columns):\n",
            " #   Column      Non-Null Count  Dtype  \n",
            "---  ------      --------------  -----  \n",
            " 0   date        310 non-null    object \n",
            " 1   open        310 non-null    float64\n",
            " 2   high        310 non-null    float64\n",
            " 3   low         310 non-null    float64\n",
            " 4   close       310 non-null    float64\n",
            " 5   volubtc     310 non-null    float64\n",
            " 6   voluusdt    310 non-null    float64\n",
            " 7   tradecount  310 non-null    float64\n",
            "dtypes: float64(7), object(1)\n",
            "memory usage: 19.5+ KB\n"
          ]
        }
      ],
      "source": [
        "# checking for nulls\n",
        "dataset.info()\n",
        "\n",
        "\n",
        "\n",
        "\n",
        "\n"
      ],
      "id": "0f774bea"
    },
    {
      "cell_type": "code",
      "source": [
        "dataset"
      ],
      "metadata": {
        "colab": {
          "base_uri": "https://localhost:8080/",
          "height": 424
        },
        "id": "OCT_ym4bqEnT",
        "outputId": "b5d82247-6f97-4070-8de0-65d3e0c536ac"
      },
      "id": "OCT_ym4bqEnT",
      "execution_count": null,
      "outputs": [
        {
          "output_type": "execute_result",
          "data": {
            "text/html": [
              "\n",
              "  <div id=\"df-0dca6706-159f-4c21-91d0-230ee1188475\">\n",
              "    <div class=\"colab-df-container\">\n",
              "      <div>\n",
              "<style scoped>\n",
              "    .dataframe tbody tr th:only-of-type {\n",
              "        vertical-align: middle;\n",
              "    }\n",
              "\n",
              "    .dataframe tbody tr th {\n",
              "        vertical-align: top;\n",
              "    }\n",
              "\n",
              "    .dataframe thead th {\n",
              "        text-align: right;\n",
              "    }\n",
              "</style>\n",
              "<table border=\"1\" class=\"dataframe\">\n",
              "  <thead>\n",
              "    <tr style=\"text-align: right;\">\n",
              "      <th></th>\n",
              "      <th>date</th>\n",
              "      <th>open</th>\n",
              "      <th>high</th>\n",
              "      <th>low</th>\n",
              "      <th>close</th>\n",
              "      <th>volubtc</th>\n",
              "      <th>voluusdt</th>\n",
              "      <th>tradecount</th>\n",
              "    </tr>\n",
              "  </thead>\n",
              "  <tbody>\n",
              "    <tr>\n",
              "      <th>1008</th>\n",
              "      <td>2020-12-07</td>\n",
              "      <td>19358.670</td>\n",
              "      <td>19420.910</td>\n",
              "      <td>18902.880</td>\n",
              "      <td>19166.900</td>\n",
              "      <td>41372.296</td>\n",
              "      <td>793517668.684</td>\n",
              "      <td>840954.000</td>\n",
              "    </tr>\n",
              "    <tr>\n",
              "      <th>1009</th>\n",
              "      <td>2020-12-08</td>\n",
              "      <td>19166.900</td>\n",
              "      <td>19294.840</td>\n",
              "      <td>18200.000</td>\n",
              "      <td>18324.110</td>\n",
              "      <td>61626.948</td>\n",
              "      <td>1160658077.405</td>\n",
              "      <td>1143181.000</td>\n",
              "    </tr>\n",
              "    <tr>\n",
              "      <th>1010</th>\n",
              "      <td>2020-12-09</td>\n",
              "      <td>18324.110</td>\n",
              "      <td>18639.570</td>\n",
              "      <td>17650.000</td>\n",
              "      <td>18541.280</td>\n",
              "      <td>79585.554</td>\n",
              "      <td>1450130664.065</td>\n",
              "      <td>1302476.000</td>\n",
              "    </tr>\n",
              "    <tr>\n",
              "      <th>1011</th>\n",
              "      <td>2020-12-10</td>\n",
              "      <td>18541.290</td>\n",
              "      <td>18557.320</td>\n",
              "      <td>17911.120</td>\n",
              "      <td>18254.630</td>\n",
              "      <td>52890.675</td>\n",
              "      <td>966149529.001</td>\n",
              "      <td>891151.000</td>\n",
              "    </tr>\n",
              "    <tr>\n",
              "      <th>1012</th>\n",
              "      <td>2020-12-11</td>\n",
              "      <td>18254.810</td>\n",
              "      <td>18292.730</td>\n",
              "      <td>17572.330</td>\n",
              "      <td>18036.530</td>\n",
              "      <td>72610.724</td>\n",
              "      <td>1301081647.308</td>\n",
              "      <td>1117810.000</td>\n",
              "    </tr>\n",
              "    <tr>\n",
              "      <th>...</th>\n",
              "      <td>...</td>\n",
              "      <td>...</td>\n",
              "      <td>...</td>\n",
              "      <td>...</td>\n",
              "      <td>...</td>\n",
              "      <td>...</td>\n",
              "      <td>...</td>\n",
              "      <td>...</td>\n",
              "    </tr>\n",
              "    <tr>\n",
              "      <th>1313</th>\n",
              "      <td>2021-10-08</td>\n",
              "      <td>53785.220</td>\n",
              "      <td>56100.000</td>\n",
              "      <td>53617.610</td>\n",
              "      <td>53951.430</td>\n",
              "      <td>46160.258</td>\n",
              "      <td>2522087625.094</td>\n",
              "      <td>1548832.000</td>\n",
              "    </tr>\n",
              "    <tr>\n",
              "      <th>1314</th>\n",
              "      <td>2021-10-09</td>\n",
              "      <td>53955.670</td>\n",
              "      <td>55489.000</td>\n",
              "      <td>53661.670</td>\n",
              "      <td>54949.720</td>\n",
              "      <td>55177.080</td>\n",
              "      <td>3024862790.696</td>\n",
              "      <td>1609483.000</td>\n",
              "    </tr>\n",
              "    <tr>\n",
              "      <th>1315</th>\n",
              "      <td>2021-10-10</td>\n",
              "      <td>54949.720</td>\n",
              "      <td>56561.310</td>\n",
              "      <td>54080.000</td>\n",
              "      <td>54659.000</td>\n",
              "      <td>89237.836</td>\n",
              "      <td>4923958325.390</td>\n",
              "      <td>2427176.000</td>\n",
              "    </tr>\n",
              "    <tr>\n",
              "      <th>1316</th>\n",
              "      <td>2021-10-11</td>\n",
              "      <td>54659.010</td>\n",
              "      <td>57839.040</td>\n",
              "      <td>54415.060</td>\n",
              "      <td>57471.350</td>\n",
              "      <td>52933.166</td>\n",
              "      <td>2994673617.724</td>\n",
              "      <td>1690409.000</td>\n",
              "    </tr>\n",
              "    <tr>\n",
              "      <th>1317</th>\n",
              "      <td>2021-10-12</td>\n",
              "      <td>57471.350</td>\n",
              "      <td>57680.000</td>\n",
              "      <td>53879.000</td>\n",
              "      <td>55996.930</td>\n",
              "      <td>53471.285</td>\n",
              "      <td>3017210682.886</td>\n",
              "      <td>1554412.000</td>\n",
              "    </tr>\n",
              "  </tbody>\n",
              "</table>\n",
              "<p>310 rows × 8 columns</p>\n",
              "</div>\n",
              "      <button class=\"colab-df-convert\" onclick=\"convertToInteractive('df-0dca6706-159f-4c21-91d0-230ee1188475')\"\n",
              "              title=\"Convert this dataframe to an interactive table.\"\n",
              "              style=\"display:none;\">\n",
              "        \n",
              "  <svg xmlns=\"http://www.w3.org/2000/svg\" height=\"24px\"viewBox=\"0 0 24 24\"\n",
              "       width=\"24px\">\n",
              "    <path d=\"M0 0h24v24H0V0z\" fill=\"none\"/>\n",
              "    <path d=\"M18.56 5.44l.94 2.06.94-2.06 2.06-.94-2.06-.94-.94-2.06-.94 2.06-2.06.94zm-11 1L8.5 8.5l.94-2.06 2.06-.94-2.06-.94L8.5 2.5l-.94 2.06-2.06.94zm10 10l.94 2.06.94-2.06 2.06-.94-2.06-.94-.94-2.06-.94 2.06-2.06.94z\"/><path d=\"M17.41 7.96l-1.37-1.37c-.4-.4-.92-.59-1.43-.59-.52 0-1.04.2-1.43.59L10.3 9.45l-7.72 7.72c-.78.78-.78 2.05 0 2.83L4 21.41c.39.39.9.59 1.41.59.51 0 1.02-.2 1.41-.59l7.78-7.78 2.81-2.81c.8-.78.8-2.07 0-2.86zM5.41 20L4 18.59l7.72-7.72 1.47 1.35L5.41 20z\"/>\n",
              "  </svg>\n",
              "      </button>\n",
              "      \n",
              "  <style>\n",
              "    .colab-df-container {\n",
              "      display:flex;\n",
              "      flex-wrap:wrap;\n",
              "      gap: 12px;\n",
              "    }\n",
              "\n",
              "    .colab-df-convert {\n",
              "      background-color: #E8F0FE;\n",
              "      border: none;\n",
              "      border-radius: 50%;\n",
              "      cursor: pointer;\n",
              "      display: none;\n",
              "      fill: #1967D2;\n",
              "      height: 32px;\n",
              "      padding: 0 0 0 0;\n",
              "      width: 32px;\n",
              "    }\n",
              "\n",
              "    .colab-df-convert:hover {\n",
              "      background-color: #E2EBFA;\n",
              "      box-shadow: 0px 1px 2px rgba(60, 64, 67, 0.3), 0px 1px 3px 1px rgba(60, 64, 67, 0.15);\n",
              "      fill: #174EA6;\n",
              "    }\n",
              "\n",
              "    [theme=dark] .colab-df-convert {\n",
              "      background-color: #3B4455;\n",
              "      fill: #D2E3FC;\n",
              "    }\n",
              "\n",
              "    [theme=dark] .colab-df-convert:hover {\n",
              "      background-color: #434B5C;\n",
              "      box-shadow: 0px 1px 3px 1px rgba(0, 0, 0, 0.15);\n",
              "      filter: drop-shadow(0px 1px 2px rgba(0, 0, 0, 0.3));\n",
              "      fill: #FFFFFF;\n",
              "    }\n",
              "  </style>\n",
              "\n",
              "      <script>\n",
              "        const buttonEl =\n",
              "          document.querySelector('#df-0dca6706-159f-4c21-91d0-230ee1188475 button.colab-df-convert');\n",
              "        buttonEl.style.display =\n",
              "          google.colab.kernel.accessAllowed ? 'block' : 'none';\n",
              "\n",
              "        async function convertToInteractive(key) {\n",
              "          const element = document.querySelector('#df-0dca6706-159f-4c21-91d0-230ee1188475');\n",
              "          const dataTable =\n",
              "            await google.colab.kernel.invokeFunction('convertToInteractive',\n",
              "                                                     [key], {});\n",
              "          if (!dataTable) return;\n",
              "\n",
              "          const docLinkHtml = 'Like what you see? Visit the ' +\n",
              "            '<a target=\"_blank\" href=https://colab.research.google.com/notebooks/data_table.ipynb>data table notebook</a>'\n",
              "            + ' to learn more about interactive tables.';\n",
              "          element.innerHTML = '';\n",
              "          dataTable['output_type'] = 'display_data';\n",
              "          await google.colab.output.renderOutput(dataTable, element);\n",
              "          const docLink = document.createElement('div');\n",
              "          docLink.innerHTML = docLinkHtml;\n",
              "          element.appendChild(docLink);\n",
              "        }\n",
              "      </script>\n",
              "    </div>\n",
              "  </div>\n",
              "  "
            ],
            "text/plain": [
              "            date      open      high  ...   volubtc       voluusdt  tradecount\n",
              "1008  2020-12-07 19358.670 19420.910  ... 41372.296  793517668.684  840954.000\n",
              "1009  2020-12-08 19166.900 19294.840  ... 61626.948 1160658077.405 1143181.000\n",
              "1010  2020-12-09 18324.110 18639.570  ... 79585.554 1450130664.065 1302476.000\n",
              "1011  2020-12-10 18541.290 18557.320  ... 52890.675  966149529.001  891151.000\n",
              "1012  2020-12-11 18254.810 18292.730  ... 72610.724 1301081647.308 1117810.000\n",
              "...          ...       ...       ...  ...       ...            ...         ...\n",
              "1313  2021-10-08 53785.220 56100.000  ... 46160.258 2522087625.094 1548832.000\n",
              "1314  2021-10-09 53955.670 55489.000  ... 55177.080 3024862790.696 1609483.000\n",
              "1315  2021-10-10 54949.720 56561.310  ... 89237.836 4923958325.390 2427176.000\n",
              "1316  2021-10-11 54659.010 57839.040  ... 52933.166 2994673617.724 1690409.000\n",
              "1317  2021-10-12 57471.350 57680.000  ... 53471.285 3017210682.886 1554412.000\n",
              "\n",
              "[310 rows x 8 columns]"
            ]
          },
          "metadata": {},
          "execution_count": 120
        }
      ]
    },
    {
      "cell_type": "code",
      "execution_count": null,
      "metadata": {
        "colab": {
          "base_uri": "https://localhost:8080/",
          "height": 300
        },
        "id": "b9d1467d",
        "outputId": "53b8c802-d33f-4cb3-d621-c10ee891a53e"
      },
      "outputs": [
        {
          "output_type": "execute_result",
          "data": {
            "text/html": [
              "\n",
              "  <div id=\"df-2b5735b9-da81-4c83-8b56-13a8558d9cb6\">\n",
              "    <div class=\"colab-df-container\">\n",
              "      <div>\n",
              "<style scoped>\n",
              "    .dataframe tbody tr th:only-of-type {\n",
              "        vertical-align: middle;\n",
              "    }\n",
              "\n",
              "    .dataframe tbody tr th {\n",
              "        vertical-align: top;\n",
              "    }\n",
              "\n",
              "    .dataframe thead th {\n",
              "        text-align: right;\n",
              "    }\n",
              "</style>\n",
              "<table border=\"1\" class=\"dataframe\">\n",
              "  <thead>\n",
              "    <tr style=\"text-align: right;\">\n",
              "      <th></th>\n",
              "      <th>open</th>\n",
              "      <th>high</th>\n",
              "      <th>low</th>\n",
              "      <th>close</th>\n",
              "      <th>volubtc</th>\n",
              "      <th>voluusdt</th>\n",
              "      <th>tradecount</th>\n",
              "    </tr>\n",
              "  </thead>\n",
              "  <tbody>\n",
              "    <tr>\n",
              "      <th>count</th>\n",
              "      <td>310.000</td>\n",
              "      <td>310.000</td>\n",
              "      <td>310.000</td>\n",
              "      <td>310.000</td>\n",
              "      <td>310.000</td>\n",
              "      <td>310.000</td>\n",
              "      <td>310.000</td>\n",
              "    </tr>\n",
              "    <tr>\n",
              "      <th>mean</th>\n",
              "      <td>42965.610</td>\n",
              "      <td>44407.448</td>\n",
              "      <td>41371.901</td>\n",
              "      <td>43084.095</td>\n",
              "      <td>77928.559</td>\n",
              "      <td>3249613782.269</td>\n",
              "      <td>1918777.606</td>\n",
              "    </tr>\n",
              "    <tr>\n",
              "      <th>std</th>\n",
              "      <td>10677.629</td>\n",
              "      <td>10833.363</td>\n",
              "      <td>10444.139</td>\n",
              "      <td>10618.390</td>\n",
              "      <td>38872.208</td>\n",
              "      <td>1538660613.595</td>\n",
              "      <td>698028.863</td>\n",
              "    </tr>\n",
              "    <tr>\n",
              "      <th>min</th>\n",
              "      <td>18036.530</td>\n",
              "      <td>18292.730</td>\n",
              "      <td>17572.330</td>\n",
              "      <td>18036.530</td>\n",
              "      <td>26681.064</td>\n",
              "      <td>793517668.684</td>\n",
              "      <td>760979.000</td>\n",
              "    </tr>\n",
              "    <tr>\n",
              "      <th>25%</th>\n",
              "      <td>34686.702</td>\n",
              "      <td>36207.118</td>\n",
              "      <td>33321.548</td>\n",
              "      <td>34786.505</td>\n",
              "      <td>52345.178</td>\n",
              "      <td>2179934561.457</td>\n",
              "      <td>1505370.500</td>\n",
              "    </tr>\n",
              "    <tr>\n",
              "      <th>50%</th>\n",
              "      <td>43670.365</td>\n",
              "      <td>45554.645</td>\n",
              "      <td>42348.215</td>\n",
              "      <td>43809.235</td>\n",
              "      <td>70578.870</td>\n",
              "      <td>2988908369.406</td>\n",
              "      <td>1825245.000</td>\n",
              "    </tr>\n",
              "    <tr>\n",
              "      <th>75%</th>\n",
              "      <td>51072.697</td>\n",
              "      <td>52596.555</td>\n",
              "      <td>48930.800</td>\n",
              "      <td>51251.620</td>\n",
              "      <td>88473.737</td>\n",
              "      <td>4057577767.835</td>\n",
              "      <td>2255140.250</td>\n",
              "    </tr>\n",
              "    <tr>\n",
              "      <th>max</th>\n",
              "      <td>63575.010</td>\n",
              "      <td>64854.000</td>\n",
              "      <td>62020.000</td>\n",
              "      <td>63575.000</td>\n",
              "      <td>354347.243</td>\n",
              "      <td>13477694934.872</td>\n",
              "      <td>6331062.000</td>\n",
              "    </tr>\n",
              "  </tbody>\n",
              "</table>\n",
              "</div>\n",
              "      <button class=\"colab-df-convert\" onclick=\"convertToInteractive('df-2b5735b9-da81-4c83-8b56-13a8558d9cb6')\"\n",
              "              title=\"Convert this dataframe to an interactive table.\"\n",
              "              style=\"display:none;\">\n",
              "        \n",
              "  <svg xmlns=\"http://www.w3.org/2000/svg\" height=\"24px\"viewBox=\"0 0 24 24\"\n",
              "       width=\"24px\">\n",
              "    <path d=\"M0 0h24v24H0V0z\" fill=\"none\"/>\n",
              "    <path d=\"M18.56 5.44l.94 2.06.94-2.06 2.06-.94-2.06-.94-.94-2.06-.94 2.06-2.06.94zm-11 1L8.5 8.5l.94-2.06 2.06-.94-2.06-.94L8.5 2.5l-.94 2.06-2.06.94zm10 10l.94 2.06.94-2.06 2.06-.94-2.06-.94-.94-2.06-.94 2.06-2.06.94z\"/><path d=\"M17.41 7.96l-1.37-1.37c-.4-.4-.92-.59-1.43-.59-.52 0-1.04.2-1.43.59L10.3 9.45l-7.72 7.72c-.78.78-.78 2.05 0 2.83L4 21.41c.39.39.9.59 1.41.59.51 0 1.02-.2 1.41-.59l7.78-7.78 2.81-2.81c.8-.78.8-2.07 0-2.86zM5.41 20L4 18.59l7.72-7.72 1.47 1.35L5.41 20z\"/>\n",
              "  </svg>\n",
              "      </button>\n",
              "      \n",
              "  <style>\n",
              "    .colab-df-container {\n",
              "      display:flex;\n",
              "      flex-wrap:wrap;\n",
              "      gap: 12px;\n",
              "    }\n",
              "\n",
              "    .colab-df-convert {\n",
              "      background-color: #E8F0FE;\n",
              "      border: none;\n",
              "      border-radius: 50%;\n",
              "      cursor: pointer;\n",
              "      display: none;\n",
              "      fill: #1967D2;\n",
              "      height: 32px;\n",
              "      padding: 0 0 0 0;\n",
              "      width: 32px;\n",
              "    }\n",
              "\n",
              "    .colab-df-convert:hover {\n",
              "      background-color: #E2EBFA;\n",
              "      box-shadow: 0px 1px 2px rgba(60, 64, 67, 0.3), 0px 1px 3px 1px rgba(60, 64, 67, 0.15);\n",
              "      fill: #174EA6;\n",
              "    }\n",
              "\n",
              "    [theme=dark] .colab-df-convert {\n",
              "      background-color: #3B4455;\n",
              "      fill: #D2E3FC;\n",
              "    }\n",
              "\n",
              "    [theme=dark] .colab-df-convert:hover {\n",
              "      background-color: #434B5C;\n",
              "      box-shadow: 0px 1px 3px 1px rgba(0, 0, 0, 0.15);\n",
              "      filter: drop-shadow(0px 1px 2px rgba(0, 0, 0, 0.3));\n",
              "      fill: #FFFFFF;\n",
              "    }\n",
              "  </style>\n",
              "\n",
              "      <script>\n",
              "        const buttonEl =\n",
              "          document.querySelector('#df-2b5735b9-da81-4c83-8b56-13a8558d9cb6 button.colab-df-convert');\n",
              "        buttonEl.style.display =\n",
              "          google.colab.kernel.accessAllowed ? 'block' : 'none';\n",
              "\n",
              "        async function convertToInteractive(key) {\n",
              "          const element = document.querySelector('#df-2b5735b9-da81-4c83-8b56-13a8558d9cb6');\n",
              "          const dataTable =\n",
              "            await google.colab.kernel.invokeFunction('convertToInteractive',\n",
              "                                                     [key], {});\n",
              "          if (!dataTable) return;\n",
              "\n",
              "          const docLinkHtml = 'Like what you see? Visit the ' +\n",
              "            '<a target=\"_blank\" href=https://colab.research.google.com/notebooks/data_table.ipynb>data table notebook</a>'\n",
              "            + ' to learn more about interactive tables.';\n",
              "          element.innerHTML = '';\n",
              "          dataTable['output_type'] = 'display_data';\n",
              "          await google.colab.output.renderOutput(dataTable, element);\n",
              "          const docLink = document.createElement('div');\n",
              "          docLink.innerHTML = docLinkHtml;\n",
              "          element.appendChild(docLink);\n",
              "        }\n",
              "      </script>\n",
              "    </div>\n",
              "  </div>\n",
              "  "
            ],
            "text/plain": [
              "           open      high       low  ...    volubtc        voluusdt  tradecount\n",
              "count   310.000   310.000   310.000  ...    310.000         310.000     310.000\n",
              "mean  42965.610 44407.448 41371.901  ...  77928.559  3249613782.269 1918777.606\n",
              "std   10677.629 10833.363 10444.139  ...  38872.208  1538660613.595  698028.863\n",
              "min   18036.530 18292.730 17572.330  ...  26681.064   793517668.684  760979.000\n",
              "25%   34686.702 36207.118 33321.548  ...  52345.178  2179934561.457 1505370.500\n",
              "50%   43670.365 45554.645 42348.215  ...  70578.870  2988908369.406 1825245.000\n",
              "75%   51072.697 52596.555 48930.800  ...  88473.737  4057577767.835 2255140.250\n",
              "max   63575.010 64854.000 62020.000  ... 354347.243 13477694934.872 6331062.000\n",
              "\n",
              "[8 rows x 7 columns]"
            ]
          },
          "metadata": {},
          "execution_count": 121
        }
      ],
      "source": [
        "# checking the main parameters\n",
        "dataset.describe()"
      ],
      "id": "b9d1467d"
    },
    {
      "cell_type": "code",
      "execution_count": null,
      "metadata": {
        "colab": {
          "base_uri": "https://localhost:8080/",
          "height": 721
        },
        "id": "382a0e50",
        "outputId": "2cf2c0dc-d098-47c6-8146-1859a671e6b2"
      },
      "outputs": [
        {
          "output_type": "execute_result",
          "data": {
            "text/plain": [
              "<matplotlib.axes._subplots.AxesSubplot at 0x7fc08d725e90>"
            ]
          },
          "metadata": {},
          "execution_count": 122
        },
        {
          "output_type": "display_data",
          "data": {
            "image/png": "[encoded data removed]",
            "text/plain": [
              "<Figure size 1800x864 with 2 Axes>"
            ]
          },
          "metadata": {}
        }
      ],
      "source": [
        "# looking at the correlation of the main possible variables\n",
        "'''dataset[[ 'close', 'volubtc', 'tradecount', 'senkou_span_b', 'MACD',\n",
        "       'Day_dif', 'Close_off_high', 'Volatility', 'close_t-7',\n",
        "       'miners-revenue', 'TrendGoogle', 'open_microsoft', 'open_apple',\n",
        "       'fng_value']].corr()'''\n",
        "\n",
        "\n",
        "\n",
        "\n",
        "import matplotlib.pyplot as plt\n",
        "import seaborn as sns\n",
        "\n",
        "\n",
        "\n",
        "sns.set_theme(style=\"white\")\n",
        "\n",
        "\n",
        "\n",
        "\n",
        "# Compute the correlation matrix\n",
        "corr = dataset.corr()\n",
        "\n",
        "# Generate a mask for the upper triangle\n",
        "mask = np.triu(np.ones_like(corr, dtype=bool))\n",
        "\n",
        "# Set up the matplotlib figure\n",
        "f, ax = plt.subplots(figsize=(25, 12))\n",
        "\n",
        "# Generate a custom diverging colormap\n",
        "cmap = sns.diverging_palette(98, 2, as_cmap=True)\n",
        "\n",
        "# Draw the heatmap with the mask and correct aspect ratio\n",
        "sns.heatmap(corr, mask=mask, cmap=cmap,vmin=-0.5, vmax=1, center=0,\n",
        "            square=True, linewidths=1, cbar_kws={\"shrink\": .7},annot=True)"
      ],
      "id": "382a0e50"
    },
    {
      "cell_type": "code",
      "execution_count": null,
      "metadata": {
        "colab": {
          "base_uri": "https://localhost:8080/"
        },
        "id": "fIffLWJqEs4v",
        "outputId": "e74c25fa-58ca-46ae-ba6d-d7253cf56e8c"
      },
      "outputs": [
        {
          "output_type": "stream",
          "name": "stdout",
          "text": [
            "<class 'pandas.core.frame.DataFrame'>\n",
            "RangeIndex: 310 entries, 1008 to 1317\n",
            "Data columns (total 8 columns):\n",
            " #   Column      Non-Null Count  Dtype  \n",
            "---  ------      --------------  -----  \n",
            " 0   date        310 non-null    object \n",
            " 1   open        310 non-null    float64\n",
            " 2   high        310 non-null    float64\n",
            " 3   low         310 non-null    float64\n",
            " 4   close       310 non-null    float64\n",
            " 5   volubtc     310 non-null    float64\n",
            " 6   voluusdt    310 non-null    float64\n",
            " 7   tradecount  310 non-null    float64\n",
            "dtypes: float64(7), object(1)\n",
            "memory usage: 19.5+ KB\n"
          ]
        }
      ],
      "source": [
        "dataset.info()\n",
        "\n",
        "\n",
        "df=dataset\n"
      ],
      "id": "fIffLWJqEs4v"
    },
    {
      "cell_type": "code",
      "execution_count": null,
      "metadata": {
        "id": "d0c97b46"
      },
      "outputs": [],
      "source": [
        "# use close only and fill NaN with ffil\n",
        "df = dataset.set_index('date')[features]#.tail(n_past_total)\n",
        "df = df.set_index(pd.to_datetime(df.index))\n",
        "df.fillna(method='ffill',inplace=True)\n"
      ],
      "id": "d0c97b46"
    },
    {
      "cell_type": "markdown",
      "metadata": {
        "id": "10197f0a"
      },
      "source": [
        "\n",
        "# Preprocessing the data"
      ],
      "id": "10197f0a"
    },
    {
      "cell_type": "code",
      "execution_count": null,
      "metadata": {
        "colab": {
          "base_uri": "https://localhost:8080/",
          "height": 519
        },
        "id": "63af3a63",
        "outputId": "f61383e9-a1e0-46c0-e3d7-a3c98a2edb7f"
      },
      "outputs": [
        {
          "output_type": "execute_result",
          "data": {
            "text/plain": [
              "<matplotlib.legend.Legend at 0x7fc08db758d0>"
            ]
          },
          "metadata": {},
          "execution_count": 125
        },
        {
          "output_type": "display_data",
          "data": {
            "image/png": "[encoded data removed]",
            "text/plain": [
              "<Figure size 1152x576 with 1 Axes>"
            ]
          },
          "metadata": {}
        }
      ],
      "source": [
        "# droppping firsts observations becuase they may not be representative of BTC behaviour now due to beginnings of crypto market\n",
        "df = df.tail(n_past_total)\n",
        "fig, ax = plt.subplots(figsize=(16,8))\n",
        "ax.set_facecolor('white')\n",
        "ax.plot(df[\"close\"], color='blue', label='Original price')\n",
        "\n",
        "plt.title(' btc Price ')\n",
        "plt.grid()\n",
        "plt.legend()"
      ],
      "id": "63af3a63"
    },
    {
      "cell_type": "code",
      "execution_count": null,
      "metadata": {
        "colab": {
          "base_uri": "https://localhost:8080/"
        },
        "id": "c139f972",
        "outputId": "bf34e448-51bb-447c-83fd-9fc452d133c8"
      },
      "outputs": [
        {
          "output_type": "stream",
          "name": "stdout",
          "text": [
            "training_set.shape: (310, 7)\n"
          ]
        }
      ],
      "source": [
        "# train test split\n",
        "training_set = df\n",
        "training_set = training_set.values\n",
        "print('training_set.shape:', training_set.shape)"
      ],
      "id": "c139f972"
    },
    {
      "cell_type": "code",
      "execution_count": null,
      "metadata": {
        "colab": {
          "base_uri": "https://localhost:8080/"
        },
        "id": "65d8c153",
        "outputId": "26c44b6f-f5ae-4b5e-8962-c73e525a6e4a"
      },
      "outputs": [
        {
          "output_type": "stream",
          "name": "stdout",
          "text": [
            "training_set_scaled.shape:  (310, 7)\n"
          ]
        }
      ],
      "source": [
        "# scale\n",
        "sc = MinMaxScaler(feature_range=(0,1))\n",
        "training_set_scaled = sc.fit_transform(training_set)\n",
        "print('training_set_scaled.shape: ', training_set_scaled.shape)\n",
        "\n"
      ],
      "id": "65d8c153"
    },
    {
      "cell_type": "code",
      "execution_count": null,
      "metadata": {
        "id": "20017b3e"
      },
      "outputs": [],
      "source": [
        "# creating a data structure with timesteps and 1 output\n",
        "X_train = []\n",
        "y_train = []\n",
        "\n",
        "for i in range(n_past, len(training_set_scaled) - n_future + 1):\n",
        "    X_train.append(training_set_scaled[i-n_past:i, :])\n",
        "    y_train.append(training_set_scaled[i:i+n_future, 0])\n",
        "\n",
        "X_train, y_train = np.array(X_train), np.array(y_train)\n",
        "X_train.shape, y_train.shape\n",
        "\n",
        "\n",
        "X_testf =X_train[280:]\n",
        "y_testf=y_train[280:]"
      ],
      "id": "20017b3e"
    },
    {
      "cell_type": "code",
      "source": [
        "X_train=X_train[:280]\n",
        "y_train=y_train[:280]"
      ],
      "metadata": {
        "id": "4Qe7TQevvZfX"
      },
      "id": "4Qe7TQevvZfX",
      "execution_count": null,
      "outputs": []
    },
    {
      "cell_type": "code",
      "source": [
        "X_test = X_train[-1].reshape(1, n_past, n_features)\n",
        "y_test  = y_train[-1]\n",
        "\n",
        "X_test"
      ],
      "metadata": {
        "id": "ZCiWqEZygzDS",
        "colab": {
          "base_uri": "https://localhost:8080/"
        },
        "outputId": "a5e12ca7-983c-4a2a-8012-4983852de428"
      },
      "id": "ZCiWqEZygzDS",
      "execution_count": null,
      "outputs": [
        {
          "output_type": "execute_result",
          "data": {
            "text/plain": [
              "array([[[0.5959169 , 0.60495064, 0.61127456, 0.61461683, 0.01652052,\n",
              "         0.05292131, 0.0751926 ],\n",
              "        [0.61461647, 0.61397101, 0.58040545, 0.59080158, 0.11825476,\n",
              "         0.16848948, 0.16921346],\n",
              "        [0.59080123, 0.62191753, 0.60795335, 0.63847095, 0.05546739,\n",
              "         0.10081394, 0.0806593 ],\n",
              "        [0.63828986, 0.64876388, 0.65492724, 0.66064758, 0.0504283 ,\n",
              "         0.09961062, 0.07451792],\n",
              "        [0.66064722, 0.64998807, 0.66254924, 0.65222415, 0.04286077,\n",
              "         0.09105278, 0.0745321 ],\n",
              "        [0.65222379, 0.6412469 , 0.65531512, 0.64260942, 0.02374631,\n",
              "         0.0665084 , 0.04900986],\n",
              "        [0.64260928, 0.65613481, 0.66287457, 0.66440989, 0.01289546,\n",
              "         0.05502477, 0.03866495]]])"
            ]
          },
          "metadata": {},
          "execution_count": 130
        }
      ]
    },
    {
      "cell_type": "code",
      "source": [
        "X_train.shape"
      ],
      "metadata": {
        "colab": {
          "base_uri": "https://localhost:8080/"
        },
        "id": "ErawtXJFcVzm",
        "outputId": "29aa2ab5-91e4-42d4-a500-e9554eb6c9ed"
      },
      "id": "ErawtXJFcVzm",
      "execution_count": null,
      "outputs": [
        {
          "output_type": "execute_result",
          "data": {
            "text/plain": [
              "(280, 7, 7)"
            ]
          },
          "metadata": {},
          "execution_count": 131
        }
      ]
    },
    {
      "cell_type": "code",
      "source": [
        "X_train"
      ],
      "metadata": {
        "id": "mzfkHeMecLUH",
        "colab": {
          "base_uri": "https://localhost:8080/"
        },
        "outputId": "235ae475-1a31-46e7-b9b8-41a48dae20db"
      },
      "id": "mzfkHeMecLUH",
      "execution_count": null,
      "outputs": [
        {
          "output_type": "execute_result",
          "data": {
            "text/plain": [
              "array([[[0.02903347, 0.02423001, 0.0299352 , ..., 0.04483597,\n",
              "         0.        , 0.01435795],\n",
              "        [0.0248223 , 0.02152239, 0.01412155, ..., 0.10665087,\n",
              "         0.02894476, 0.06861693],\n",
              "        [0.0063151 , 0.00744911, 0.00174745, ..., 0.1614585 ,\n",
              "         0.05176631, 0.09721525],\n",
              "        ...,\n",
              "        [0.00479331, 0.        , 0.        , ..., 0.14017211,\n",
              "         0.04001552, 0.06406206],\n",
              "        [0.        , 0.01408746, 0.01008759, ..., 0.06970178,\n",
              "         0.00962106, 0.02348816],\n",
              "        [0.01695621, 0.02401717, 0.02562092, ..., 0.09118963,\n",
              "         0.02286336, 0.03178463]],\n",
              "\n",
              "       [[0.0248223 , 0.02152239, 0.01412155, ..., 0.10665087,\n",
              "         0.02894476, 0.06861693],\n",
              "        [0.0063151 , 0.00744911, 0.00174745, ..., 0.1614585 ,\n",
              "         0.05176631, 0.09721525],\n",
              "        [0.01108425, 0.00568262, 0.00762222, ..., 0.07998876,\n",
              "         0.01361002, 0.02336985],\n",
              "        ...,\n",
              "        [0.        , 0.01408746, 0.01008759, ..., 0.06970178,\n",
              "         0.00962106, 0.02348816],\n",
              "        [0.01695621, 0.02401717, 0.02562092, ..., 0.09118963,\n",
              "         0.02286336, 0.03178463],\n",
              "        [0.02499996, 0.02268559, 0.03212024, ..., 0.06279604,\n",
              "         0.00887594, 0.01461432]],\n",
              "\n",
              "       [[0.0063151 , 0.00744911, 0.00174745, ..., 0.1614585 ,\n",
              "         0.05176631, 0.09721525],\n",
              "        [0.01108425, 0.00568262, 0.00762222, ..., 0.07998876,\n",
              "         0.01361002, 0.02336985],\n",
              "        [0.00479331, 0.        , 0.        , ..., 0.14017211,\n",
              "         0.04001552, 0.06406206],\n",
              "        ...,\n",
              "        [0.01695621, 0.02401717, 0.02562092, ..., 0.09118963,\n",
              "         0.02286336, 0.03178463],\n",
              "        [0.02499996, 0.02268559, 0.03212024, ..., 0.06279604,\n",
              "         0.00887594, 0.01461432],\n",
              "        [0.02716735, 0.02743203, 0.03324516, ..., 0.10728389,\n",
              "         0.03175956, 0.05124592]],\n",
              "\n",
              "       ...,\n",
              "\n",
              "       [[0.62273949, 0.617257  , 0.59755573, ..., 0.06826216,\n",
              "         0.11432992, 0.14523338],\n",
              "        [0.58863779, 0.59481195, 0.61082819, ..., 0.01147309,\n",
              "         0.04626655, 0.05384318],\n",
              "        [0.5959169 , 0.60495064, 0.61127456, ..., 0.01652052,\n",
              "         0.05292131, 0.0751926 ],\n",
              "        ...,\n",
              "        [0.59080123, 0.62191753, 0.60795335, ..., 0.05546739,\n",
              "         0.10081394, 0.0806593 ],\n",
              "        [0.63828986, 0.64876388, 0.65492724, ..., 0.0504283 ,\n",
              "         0.09961062, 0.07451792],\n",
              "        [0.66064722, 0.64998807, 0.66254924, ..., 0.04286077,\n",
              "         0.09105278, 0.0745321 ]],\n",
              "\n",
              "       [[0.58863779, 0.59481195, 0.61082819, ..., 0.01147309,\n",
              "         0.04626655, 0.05384318],\n",
              "        [0.5959169 , 0.60495064, 0.61127456, ..., 0.01652052,\n",
              "         0.05292131, 0.0751926 ],\n",
              "        [0.61461647, 0.61397101, 0.58040545, ..., 0.11825476,\n",
              "         0.16848948, 0.16921346],\n",
              "        ...,\n",
              "        [0.63828986, 0.64876388, 0.65492724, ..., 0.0504283 ,\n",
              "         0.09961062, 0.07451792],\n",
              "        [0.66064722, 0.64998807, 0.66254924, ..., 0.04286077,\n",
              "         0.09105278, 0.0745321 ],\n",
              "        [0.65222379, 0.6412469 , 0.65531512, ..., 0.02374631,\n",
              "         0.0665084 , 0.04900986]],\n",
              "\n",
              "       [[0.5959169 , 0.60495064, 0.61127456, ..., 0.01652052,\n",
              "         0.05292131, 0.0751926 ],\n",
              "        [0.61461647, 0.61397101, 0.58040545, ..., 0.11825476,\n",
              "         0.16848948, 0.16921346],\n",
              "        [0.59080123, 0.62191753, 0.60795335, ..., 0.05546739,\n",
              "         0.10081394, 0.0806593 ],\n",
              "        ...,\n",
              "        [0.66064722, 0.64998807, 0.66254924, ..., 0.04286077,\n",
              "         0.09105278, 0.0745321 ],\n",
              "        [0.65222379, 0.6412469 , 0.65531512, ..., 0.02374631,\n",
              "         0.0665084 , 0.04900986],\n",
              "        [0.64260928, 0.65613481, 0.66287457, ..., 0.01289546,\n",
              "         0.05502477, 0.03866495]]])"
            ]
          },
          "metadata": {},
          "execution_count": 132
        }
      ]
    },
    {
      "cell_type": "code",
      "execution_count": null,
      "metadata": {
        "colab": {
          "base_uri": "https://localhost:8080/"
        },
        "id": "b57feb51",
        "outputId": "174b0030-3ede-413d-9bcf-d6e06efffa2a"
      },
      "outputs": [
        {
          "output_type": "execute_result",
          "data": {
            "text/plain": [
              "(280, 7, 7)"
            ]
          },
          "metadata": {},
          "execution_count": 133
        }
      ],
      "source": [
        "# reshaping (needed to fit RNN)\n",
        "X_train = np.reshape(X_train, (X_train.shape[0], X_train.shape[1], n_features))\n",
        "X_train.shape\n",
        "\n"
      ],
      "id": "b57feb51"
    },
    {
      "cell_type": "markdown",
      "metadata": {
        "id": "0c61dd7d"
      },
      "source": [
        "# GridSearch\n",
        "\n",
        "\n",
        "\n"
      ],
      "id": "0c61dd7d"
    },
    {
      "cell_type": "code",
      "execution_count": null,
      "metadata": {
        "id": "e179bf60"
      },
      "outputs": [],
      "source": [
        "# Building the RNN\n",
        "\n",
        "def create_model(activation='relu',learn_rate=0.01, momentum=0,n_neurons=64, optimizer='adam',dropout=0.1,n_layers=1):\n",
        "  # Initialising the RNN\n",
        "  regressor = Sequential()\n",
        "\n",
        "  # Input layer\n",
        "  regressor.add(LSTM(units=n_past, return_sequences=True, activation=activation, input_shape=(X_train.shape[1], n_features))) \n",
        "  #regressor.add(LSTM(units=neurons, return_sequences=True, activation=activation, input_shape=(X_train.shape[1], 1))) \n",
        "\n",
        "  # Hidden layers\n",
        "  for _ in range(n_layers):\n",
        "      regressor.add(Dropout(dropout))\n",
        "      regressor.add(LSTM(units=n_neurons, return_sequences=True, activation=activation))\n",
        "\n",
        "  # Last hidden layer (changing the return_sequences)\n",
        "  regressor.add(Dropout(dropout))\n",
        "  regressor.add(LSTM(units=n_neurons, return_sequences=False))\n",
        "\n",
        "  # Adding the output layer\n",
        "  regressor.add(Dense(units=n_future,))\n",
        "\n",
        "  # Compiling the RNN\n",
        "  regressor.compile(optimizer=optimizer, loss='mse',metrics=[tf.keras.metrics.MeanSquaredError()],\n",
        "  )\n",
        "\n",
        "\n",
        "  # Model summary\n",
        "  regressor.summary()\n",
        "  return regressor"
      ],
      "id": "e179bf60"
    },
    {
      "cell_type": "code",
      "source": [
        "'''pip install scikeras'''"
      ],
      "metadata": {
        "id": "dJxtAdV8a8lV",
        "colab": {
          "base_uri": "https://localhost:8080/",
          "height": 459
        },
        "outputId": "014a1e3e-1dcd-42bb-a2c4-4e107937cbf2"
      },
      "id": "dJxtAdV8a8lV",
      "execution_count": null,
      "outputs": [
        {
          "output_type": "execute_result",
          "data": {
            "application/vnd.google.colaboratory.intrinsic+json": {
              "type": "string"
            },
            "text/plain": [
              "'pip install scikeras'"
            ]
          },
          "metadata": {},
          "execution_count": 135
        }
      ]
    },
    {
      "cell_type": "code",
      "execution_count": null,
      "metadata": {
        "id": "1257897b",
        "colab": {
          "base_uri": "https://localhost:8080/",
          "height": 1000
        },
        "outputId": "fb0b236c-948c-4104-c2ba-2bb1afc004af"
      },
      "outputs": [
        {
          "output_type": "execute_result",
          "data": {
            "application/vnd.google.colaboratory.intrinsic+json": {
              "type": "string"
            },
            "text/plain": [
              "'from sklearn import svm, datasets\\nfrom sklearn.model_selection import GridSearchCV\\nfrom scikeras.wrappers import  KerasRegressor\\n\\n#tu appelles ton model :\\nmodel =  KerasRegressor(model=create_model,  verbose=0)\\n\\n# define the grid search parameters\\nbatch_size = [1,10, 20]\\nlearn_rate = [0.001, 0.01, 0.1, 0.2, 0.3]\\nmomentum = [ 0.2, 0.4]\\noptimizer = [\\'SGD\\', \\'Adam\\',]\\nactivation =  [ \\'softsign\\', \\'relu\\', \\'tanh\\', \\'sigmoid\\']\\nepochs = [3,7,10]\\nn_neurons=[32, 64,  128]\\ndropout=[0, 0.1,  0.2]\\nn_layers=[1,3,6]\\n\\nparam_grid = dict(epochs=epochs, batch_size=batch_size)\\ngrid = GridSearchCV(estimator=model, param_grid=param_grid, n_jobs=-1, cv=5, scoring=\"r2\", error_score=\"raise\")\\ngrid_result = grid.fit(X_train,y_train)\\n\\n# summarize results\\nprint(\"Best: %f using %s\" % (grid_result.best_score_, grid_result.best_params_))\\nmeans = grid_result.cv_results_[\\'mean_test_score\\']\\nstds = grid_result.cv_results_[\\'std_test_score\\']\\nparams = grid_result.cv_results_[\\'params\\']\\nfor mean, stdev, param in zip(means, stds, params):\\n    print(\"%f (%f) with: %r\" % (mean, stdev, param))'"
            ]
          },
          "metadata": {},
          "execution_count": 136
        }
      ],
      "source": [
        "'''from sklearn import svm, datasets\n",
        "from sklearn.model_selection import GridSearchCV\n",
        "from scikeras.wrappers import  KerasRegressor\n",
        "\n",
        "#tu appelles ton model :\n",
        "model =  KerasRegressor(model=create_model,  verbose=0)\n",
        "\n",
        "# define the grid search parameters\n",
        "batch_size = [1,10, 20]\n",
        "learn_rate = [0.001, 0.01, 0.1, 0.2, 0.3]\n",
        "momentum = [ 0.2, 0.4]\n",
        "optimizer = ['SGD', 'Adam',]\n",
        "activation =  [ 'softsign', 'relu', 'tanh', 'sigmoid']\n",
        "epochs = [3,7,10]\n",
        "n_neurons=[32, 64,  128]\n",
        "dropout=[0, 0.1,  0.2]\n",
        "n_layers=[1,3,6]\n",
        "\n",
        "param_grid = dict(epochs=epochs, batch_size=batch_size)\n",
        "grid = GridSearchCV(estimator=model, param_grid=param_grid, n_jobs=-1, cv=5, scoring=\"r2\", error_score=\"raise\")\n",
        "grid_result = grid.fit(X_train,y_train)\n",
        "\n",
        "# summarize results\n",
        "print(\"Best: %f using %s\" % (grid_result.best_score_, grid_result.best_params_))\n",
        "means = grid_result.cv_results_['mean_test_score']\n",
        "stds = grid_result.cv_results_['std_test_score']\n",
        "params = grid_result.cv_results_['params']\n",
        "for mean, stdev, param in zip(means, stds, params):\n",
        "    print(\"%f (%f) with: %r\" % (mean, stdev, param))'''"
      ],
      "id": "1257897b"
    },
    {
      "cell_type": "markdown",
      "metadata": {
        "id": "U_jmaIR6K6xD"
      },
      "source": [
        "# BUILD LSTM"
      ],
      "id": "U_jmaIR6K6xD"
    },
    {
      "cell_type": "code",
      "source": [
        "  # Initialising the RNN\n",
        "regressor = Sequential()\n",
        "\n",
        "  # Input layer\n",
        "regressor.add(LSTM(units=n_past, return_sequences=True, activation=activation, input_shape=(X_train.shape[1], n_features))) \n",
        "  #regressor.add(LSTM(units=neurons, return_sequences=True, activation=activation, input_shape=(X_train.shape[1], 1))) \n",
        "\n",
        "  # Hidden layers\n",
        "for _ in range(n_layers):\n",
        "   regressor.add(Dropout(dropout))\n",
        "   regressor.add(LSTM(units=n_neurons, return_sequences=True, activation=activation))\n",
        "\n",
        "  # Last hidden layer (changing the return_sequences)\n",
        "regressor.add(Dropout(dropout))\n",
        "regressor.add(LSTM(units=n_neurons, return_sequences=False))\n",
        "\n",
        "  # Adding the output layer\n",
        "regressor.add(Dense(units=n_future,))\n",
        "\n",
        "  # Compiling the RNN\n",
        "regressor.compile(optimizer=optimizer, loss='mse',metrics=[tf.keras.metrics.MeanSquaredError()],\n",
        "  )\n",
        "\n",
        "\n",
        "  # Model summary\n",
        "regressor.summary()\n"
      ],
      "metadata": {
        "colab": {
          "base_uri": "https://localhost:8080/"
        },
        "id": "ucIZQqnNZbQ0",
        "outputId": "b71c7e34-b7e6-4d86-ba3a-fc4c936b6a04"
      },
      "id": "ucIZQqnNZbQ0",
      "execution_count": null,
      "outputs": [
        {
          "output_type": "stream",
          "name": "stdout",
          "text": [
            "WARNING:tensorflow:Layer lstm_4 will not use cuDNN kernels since it doesn't meet the criteria. It will use a generic GPU kernel as fallback when running on GPU.\n",
            "WARNING:tensorflow:Layer lstm_5 will not use cuDNN kernels since it doesn't meet the criteria. It will use a generic GPU kernel as fallback when running on GPU.\n",
            "WARNING:tensorflow:Layer lstm_6 will not use cuDNN kernels since it doesn't meet the criteria. It will use a generic GPU kernel as fallback when running on GPU.\n",
            "Model: \"sequential_2\"\n",
            "_________________________________________________________________\n",
            " Layer (type)                Output Shape              Param #   \n",
            "=================================================================\n",
            " lstm_4 (LSTM)               (None, 7, 7)              420       \n",
            "                                                                 \n",
            " dropout_3 (Dropout)         (None, 7, 7)              0         \n",
            "                                                                 \n",
            " lstm_5 (LSTM)               (None, 7, 64)             18432     \n",
            "                                                                 \n",
            " dropout_4 (Dropout)         (None, 7, 64)             0         \n",
            "                                                                 \n",
            " lstm_6 (LSTM)               (None, 7, 64)             33024     \n",
            "                                                                 \n",
            " dropout_5 (Dropout)         (None, 7, 64)             0         \n",
            "                                                                 \n",
            " lstm_7 (LSTM)               (None, 64)                33024     \n",
            "                                                                 \n",
            " dense_1 (Dense)             (None, 1)                 65        \n",
            "                                                                 \n",
            "=================================================================\n",
            "Total params: 84,965\n",
            "Trainable params: 84,965\n",
            "Non-trainable params: 0\n",
            "_________________________________________________________________\n"
          ]
        }
      ]
    },
    {
      "cell_type": "code",
      "execution_count": null,
      "metadata": {
        "id": "d6ea3ecd"
      },
      "outputs": [],
      "source": [
        "#  Adding early stopping\n",
        "early_stop = EarlyStopping(monitor='val_loss', mode='min', verbose=1, patience=patience)"
      ],
      "id": "d6ea3ecd"
    },
    {
      "cell_type": "code",
      "execution_count": null,
      "metadata": {
        "colab": {
          "base_uri": "https://localhost:8080/"
        },
        "id": "1c21a7d6",
        "outputId": "df42148b-860a-45e3-fce7-da1b9ce0155b"
      },
      "outputs": [
        {
          "output_type": "stream",
          "name": "stdout",
          "text": [
            "Epoch 1/10\n",
            "266/266 [==============================] - 16s 43ms/step - loss: 0.0328 - mean_squared_error: 0.0328 - val_loss: 0.0118 - val_mean_squared_error: 0.0118\n",
            "Epoch 2/10\n",
            "266/266 [==============================] - 10s 38ms/step - loss: 0.0121 - mean_squared_error: 0.0121 - val_loss: 0.0057 - val_mean_squared_error: 0.0057\n",
            "Epoch 3/10\n",
            "266/266 [==============================] - 10s 38ms/step - loss: 0.0127 - mean_squared_error: 0.0127 - val_loss: 0.0080 - val_mean_squared_error: 0.0080\n",
            "Epoch 4/10\n",
            "266/266 [==============================] - 10s 38ms/step - loss: 0.0098 - mean_squared_error: 0.0098 - val_loss: 0.0151 - val_mean_squared_error: 0.0151\n",
            "Epoch 5/10\n",
            "266/266 [==============================] - 10s 38ms/step - loss: 0.0090 - mean_squared_error: 0.0090 - val_loss: 0.0364 - val_mean_squared_error: 0.0364\n",
            "Epoch 6/10\n",
            "266/266 [==============================] - 10s 38ms/step - loss: 0.0086 - mean_squared_error: 0.0086 - val_loss: 0.0233 - val_mean_squared_error: 0.0233\n",
            "Epoch 7/10\n",
            "266/266 [==============================] - 10s 37ms/step - loss: 0.0082 - mean_squared_error: 0.0082 - val_loss: 0.0078 - val_mean_squared_error: 0.0078\n",
            "Epoch 00007: early stopping\n"
          ]
        }
      ],
      "source": [
        "# Fitting the RNN to the Training set\n",
        "res = regressor.fit(X_train, y_train\n",
        "                    , batch_size=batch_size\n",
        "                    , epochs=10\n",
        "                    , validation_split=0.05\n",
        "                    , callbacks=[early_stop]\n",
        "                   )\n",
        "\n"
      ],
      "id": "1c21a7d6"
    },
    {
      "cell_type": "code",
      "execution_count": null,
      "metadata": {
        "id": "296d07db"
      },
      "outputs": [],
      "source": [
        "# Exporting the regressor\n",
        "last_date = dataset.date.values[-1]\n",
        "params = ['reg', last_date, n_past_total, n_past, n_future, activation, n_layers, n_neurons,batch_size ,n_features, patience, optimizer]\n",
        "modelname = 'output/'\n",
        "for i in params:\n",
        "    modelname += str(i)\n",
        "    if i!= params[-1]:\n",
        "        modelname += '_'\n",
        "if not os.path.exists(modelname):\n",
        "    os.makedirs(modelname)\n",
        "regressor.save('{}/regressor.h5'.format(modelname))"
      ],
      "id": "296d07db"
    },
    {
      "cell_type": "code",
      "execution_count": null,
      "metadata": {
        "colab": {
          "base_uri": "https://localhost:8080/"
        },
        "id": "2640081e",
        "outputId": "0aa0af39-8cc6-4c09-ffdb-ce6db049a794"
      },
      "outputs": [
        {
          "output_type": "execute_result",
          "data": {
            "text/plain": [
              "['loss', 'mean_squared_error', 'val_loss', 'val_mean_squared_error']"
            ]
          },
          "metadata": {},
          "execution_count": 141
        }
      ],
      "source": [
        "list(res.history)"
      ],
      "id": "2640081e"
    },
    {
      "cell_type": "code",
      "execution_count": null,
      "metadata": {
        "id": "21279349"
      },
      "outputs": [],
      "source": [
        "# Loads the weights\n",
        "#regressor.load_weights(checkpoint_path)"
      ],
      "id": "21279349"
    },
    {
      "cell_type": "code",
      "execution_count": null,
      "metadata": {
        "id": "c8f24767"
      },
      "outputs": [],
      "source": [
        "# Recreate the exact same model, including its weights and the optimizer\n",
        "# new_model = tf.keras.models.load_model('C:\\Users\\yonas\\output\\reg_2021-10-29_700_90_7_softsign_6_64_5_19_25_adam\\regressor.h5')\n"
      ],
      "id": "c8f24767"
    },
    {
      "cell_type": "code",
      "source": [
        "\n"
      ],
      "metadata": {
        "id": "_FeOLTLUYqXI"
      },
      "id": "_FeOLTLUYqXI",
      "execution_count": null,
      "outputs": []
    },
    {
      "cell_type": "markdown",
      "metadata": {
        "id": "b8b88384"
      },
      "source": [
        "\n",
        "# Validation"
      ],
      "id": "b8b88384"
    },
    {
      "cell_type": "code",
      "execution_count": null,
      "metadata": {
        "colab": {
          "base_uri": "https://localhost:8080/",
          "height": 301
        },
        "id": "595e4855",
        "outputId": "97eb0637-1599-4285-d509-421f1c645c16"
      },
      "outputs": [
        {
          "output_type": "display_data",
          "data": {
            "image/png": "[encoded data removed]",
            "text/plain": [
              "<Figure size 864x288 with 1 Axes>"
            ]
          },
          "metadata": {}
        }
      ],
      "source": [
        "\n",
        "\n",
        "# Plotting Loss/MSE\n",
        "\n",
        "results = res\n",
        "\n",
        "history = results.history\n",
        "plt.figure(figsize=(12,4))\n",
        "plt.plot(history['val_loss'])\n",
        "plt.plot(history['loss'])\n",
        "plt.legend(['val_loss', 'loss'])\n",
        "plt.title('Loss')\n",
        "plt.xlabel('Epochs')\n",
        "plt.ylabel('Loss')\n",
        "plt.savefig('{}/Loss.png'.format(modelname))\n",
        "plt.show()\n",
        "\n"
      ],
      "id": "595e4855"
    },
    {
      "cell_type": "code",
      "execution_count": null,
      "metadata": {
        "id": "197a10f4"
      },
      "outputs": [],
      "source": [
        "\n",
        "\n",
        "def dummy_invscaler(y, n_features):\n",
        "    '''\n",
        "    Since the scaler was trained into 2 features, it needs two features to perform the inverse scaleer.\n",
        "    For that purpose, this function will create a dummy array and concatenate it to the y_pred/y_true.\n",
        "    That dummy of ones will be drop after performing the inverse_transform.\n",
        "    INPUTS: array 'y', shape (X,)\n",
        "    '''\n",
        "    y = np.array(y).reshape(-1,1)\n",
        "    if n_features>1:\n",
        "        dummy = np.ones((len(y), n_features-1))\n",
        "        y = np.concatenate((y, dummy), axis=1)\n",
        "        y = sc.inverse_transform(y)\n",
        "        y = y[:,0]\n",
        "    else:\n",
        "        y = sc.inverse_transform(y)\n",
        "    return y\n",
        "\n"
      ],
      "id": "197a10f4"
    },
    {
      "cell_type": "code",
      "execution_count": null,
      "metadata": {
        "colab": {
          "base_uri": "https://localhost:8080/"
        },
        "id": "UdATVXAJywzp",
        "outputId": "8013b6e0-68d2-44af-8c32-6d624e9036d4"
      },
      "outputs": [
        {
          "output_type": "execute_result",
          "data": {
            "text/plain": [
              "array([[[0.5959169 , 0.60495064, 0.61127456, 0.61461683, 0.01652052,\n",
              "         0.05292131, 0.0751926 ],\n",
              "        [0.61461647, 0.61397101, 0.58040545, 0.59080158, 0.11825476,\n",
              "         0.16848948, 0.16921346],\n",
              "        [0.59080123, 0.62191753, 0.60795335, 0.63847095, 0.05546739,\n",
              "         0.10081394, 0.0806593 ],\n",
              "        [0.63828986, 0.64876388, 0.65492724, 0.66064758, 0.0504283 ,\n",
              "         0.09961062, 0.07451792],\n",
              "        [0.66064722, 0.64998807, 0.66254924, 0.65222415, 0.04286077,\n",
              "         0.09105278, 0.0745321 ],\n",
              "        [0.65222379, 0.6412469 , 0.65531512, 0.64260942, 0.02374631,\n",
              "         0.0665084 , 0.04900986],\n",
              "        [0.64260928, 0.65613481, 0.66287457, 0.66440989, 0.01289546,\n",
              "         0.05502477, 0.03866495]]])"
            ]
          },
          "metadata": {},
          "execution_count": 146
        }
      ],
      "source": [
        "X_test"
      ],
      "id": "UdATVXAJywzp"
    },
    {
      "cell_type": "code",
      "execution_count": null,
      "metadata": {
        "colab": {
          "base_uri": "https://localhost:8080/",
          "height": 411
        },
        "id": "9c21f870",
        "outputId": "f563417e-ee4f-4626-a324-ad5fded555b9"
      },
      "outputs": [
        {
          "output_type": "stream",
          "name": "stdout",
          "text": [
            "y_pred:\n",
            " [50213.52643787861]\n",
            "y_true:\n",
            " [[55996.93]]\n"
          ]
        },
        {
          "output_type": "display_data",
          "data": {
            "image/png": "[encoded data removed]",
            "text/plain": [
              "<Figure size 1152x360 with 1 Axes>"
            ]
          },
          "metadata": {}
        }
      ],
      "source": [
        "\n",
        "\n",
        "# Validation\n",
        "\n",
        "# getting the predictions\n",
        "\n",
        "\n",
        "y_pred = regressor.predict(X_test).tolist()[0]\n",
        "y_pred = dummy_invscaler(y_pred, n_features)\n",
        "#X_test = \n",
        "\n",
        "# creating a DF of the predicted prices\n",
        "y_pred_df = pd.DataFrame(y_pred, \n",
        "                         index=df[['close']].tail(n_future).index, \n",
        "                         columns=df[['close']].columns)\n",
        "\n",
        "# getting the true values\n",
        "y_true_df = df[['close']]#.tail(n_future)\n",
        "y_true = y_true_df.tail(n_future).values\n",
        "\n",
        "print('y_pred:\\n', y_pred.tolist())\n",
        "print('y_true:\\n', y_true.tolist())\n",
        "\n",
        "\n",
        "# plotting the results\n",
        "plt.figure(figsize=(16,5))\n",
        "plt.plot(y_pred_df, label='Y Predicted')\n",
        "plt.plot(y_true_df, label='Y Train')\n",
        "plt.plot(y_true_df.tail(n_past), label='Y Test')\n",
        "\n",
        "plt.title('BTC price Predicted vs True')\n",
        "plt.legend()\n",
        "plt.savefig('{}/Validation.png'.format(modelname))\n",
        "plt.grid()\n",
        "plt.show()\n",
        "\n"
      ],
      "id": "9c21f870"
    },
    {
      "cell_type": "code",
      "source": [
        "listetrue =[]\n",
        "listepred=[]\n",
        "\n",
        "for i in range(30,0,-1):\n",
        "  \n",
        "  X_test = X_train[-i].reshape(1, n_past, n_features)\n",
        "  y_test  = y_train[-i]\n",
        "  y_pred = regressor.predict(X_test).tolist()[0]\n",
        "  y_pred = dummy_invscaler(y_pred, n_features)\n",
        "  # creating a DF of the predicted prices\n",
        "  y_pred_df = pd.DataFrame(y_pred, \n",
        "                         index=df[['close']].tail(n_future).index, \n",
        "                         columns=df[['close']].columns)\n",
        "  \n",
        "  # getting the true values\n",
        "  y_true_df = df['close']#.tail(n_future)\n",
        "  y_true = y_true_df.tail(i).head(1).values\n",
        "  print('-----------------------------')\n",
        "  print(i)\n",
        "  print('y_pred:\\n', y_pred.tolist())\n",
        "  print('y_true:\\n', y_true.tolist())\n",
        "  y_true.tolist()\n",
        "  listetrue.append(y_pred.tolist())\n",
        "  listepred.append(y_true.tolist())\n",
        "\n",
        " "
      ],
      "metadata": {
        "id": "Syyh4eSAWvme"
      },
      "id": "Syyh4eSAWvme",
      "execution_count": null,
      "outputs": []
    },
    {
      "cell_type": "code",
      "source": [
        "print('true',str(np.shape(listetrue)))\n",
        "print('pred',str(np.shape(listepred)))"
      ],
      "metadata": {
        "colab": {
          "base_uri": "https://localhost:8080/"
        },
        "id": "4fdU1Q-ZTThi",
        "outputId": "e0d446f0-bdae-4433-efee-365a42bcd6b2"
      },
      "id": "4fdU1Q-ZTThi",
      "execution_count": null,
      "outputs": [
        {
          "output_type": "stream",
          "name": "stdout",
          "text": [
            "true (30, 1)\n",
            "pred (30, 1)\n"
          ]
        }
      ]
    },
    {
      "cell_type": "code",
      "source": [
        "y_true = y_true_df.tail(i).head(1).values\n",
        "y_pred_df"
      ],
      "metadata": {
        "colab": {
          "base_uri": "https://localhost:8080/",
          "height": 112
        },
        "id": "JlST_WW3aAgI",
        "outputId": "7814941d-ca69-4abc-9af2-3420c9094a17"
      },
      "id": "JlST_WW3aAgI",
      "execution_count": null,
      "outputs": [
        {
          "output_type": "execute_result",
          "data": {
            "text/html": [
              "\n",
              "  <div id=\"df-a6fbd5d0-712d-4fe5-9a00-46ece2015119\">\n",
              "    <div class=\"colab-df-container\">\n",
              "      <div>\n",
              "<style scoped>\n",
              "    .dataframe tbody tr th:only-of-type {\n",
              "        vertical-align: middle;\n",
              "    }\n",
              "\n",
              "    .dataframe tbody tr th {\n",
              "        vertical-align: top;\n",
              "    }\n",
              "\n",
              "    .dataframe thead th {\n",
              "        text-align: right;\n",
              "    }\n",
              "</style>\n",
              "<table border=\"1\" class=\"dataframe\">\n",
              "  <thead>\n",
              "    <tr style=\"text-align: right;\">\n",
              "      <th></th>\n",
              "      <th>close</th>\n",
              "    </tr>\n",
              "    <tr>\n",
              "      <th>date</th>\n",
              "      <th></th>\n",
              "    </tr>\n",
              "  </thead>\n",
              "  <tbody>\n",
              "    <tr>\n",
              "      <th>2021-10-12</th>\n",
              "      <td>50213.526</td>\n",
              "    </tr>\n",
              "  </tbody>\n",
              "</table>\n",
              "</div>\n",
              "      <button class=\"colab-df-convert\" onclick=\"convertToInteractive('df-a6fbd5d0-712d-4fe5-9a00-46ece2015119')\"\n",
              "              title=\"Convert this dataframe to an interactive table.\"\n",
              "              style=\"display:none;\">\n",
              "        \n",
              "  <svg xmlns=\"http://www.w3.org/2000/svg\" height=\"24px\"viewBox=\"0 0 24 24\"\n",
              "       width=\"24px\">\n",
              "    <path d=\"M0 0h24v24H0V0z\" fill=\"none\"/>\n",
              "    <path d=\"M18.56 5.44l.94 2.06.94-2.06 2.06-.94-2.06-.94-.94-2.06-.94 2.06-2.06.94zm-11 1L8.5 8.5l.94-2.06 2.06-.94-2.06-.94L8.5 2.5l-.94 2.06-2.06.94zm10 10l.94 2.06.94-2.06 2.06-.94-2.06-.94-.94-2.06-.94 2.06-2.06.94z\"/><path d=\"M17.41 7.96l-1.37-1.37c-.4-.4-.92-.59-1.43-.59-.52 0-1.04.2-1.43.59L10.3 9.45l-7.72 7.72c-.78.78-.78 2.05 0 2.83L4 21.41c.39.39.9.59 1.41.59.51 0 1.02-.2 1.41-.59l7.78-7.78 2.81-2.81c.8-.78.8-2.07 0-2.86zM5.41 20L4 18.59l7.72-7.72 1.47 1.35L5.41 20z\"/>\n",
              "  </svg>\n",
              "      </button>\n",
              "      \n",
              "  <style>\n",
              "    .colab-df-container {\n",
              "      display:flex;\n",
              "      flex-wrap:wrap;\n",
              "      gap: 12px;\n",
              "    }\n",
              "\n",
              "    .colab-df-convert {\n",
              "      background-color: #E8F0FE;\n",
              "      border: none;\n",
              "      border-radius: 50%;\n",
              "      cursor: pointer;\n",
              "      display: none;\n",
              "      fill: #1967D2;\n",
              "      height: 32px;\n",
              "      padding: 0 0 0 0;\n",
              "      width: 32px;\n",
              "    }\n",
              "\n",
              "    .colab-df-convert:hover {\n",
              "      background-color: #E2EBFA;\n",
              "      box-shadow: 0px 1px 2px rgba(60, 64, 67, 0.3), 0px 1px 3px 1px rgba(60, 64, 67, 0.15);\n",
              "      fill: #174EA6;\n",
              "    }\n",
              "\n",
              "    [theme=dark] .colab-df-convert {\n",
              "      background-color: #3B4455;\n",
              "      fill: #D2E3FC;\n",
              "    }\n",
              "\n",
              "    [theme=dark] .colab-df-convert:hover {\n",
              "      background-color: #434B5C;\n",
              "      box-shadow: 0px 1px 3px 1px rgba(0, 0, 0, 0.15);\n",
              "      filter: drop-shadow(0px 1px 2px rgba(0, 0, 0, 0.3));\n",
              "      fill: #FFFFFF;\n",
              "    }\n",
              "  </style>\n",
              "\n",
              "      <script>\n",
              "        const buttonEl =\n",
              "          document.querySelector('#df-a6fbd5d0-712d-4fe5-9a00-46ece2015119 button.colab-df-convert');\n",
              "        buttonEl.style.display =\n",
              "          google.colab.kernel.accessAllowed ? 'block' : 'none';\n",
              "\n",
              "        async function convertToInteractive(key) {\n",
              "          const element = document.querySelector('#df-a6fbd5d0-712d-4fe5-9a00-46ece2015119');\n",
              "          const dataTable =\n",
              "            await google.colab.kernel.invokeFunction('convertToInteractive',\n",
              "                                                     [key], {});\n",
              "          if (!dataTable) return;\n",
              "\n",
              "          const docLinkHtml = 'Like what you see? Visit the ' +\n",
              "            '<a target=\"_blank\" href=https://colab.research.google.com/notebooks/data_table.ipynb>data table notebook</a>'\n",
              "            + ' to learn more about interactive tables.';\n",
              "          element.innerHTML = '';\n",
              "          dataTable['output_type'] = 'display_data';\n",
              "          await google.colab.output.renderOutput(dataTable, element);\n",
              "          const docLink = document.createElement('div');\n",
              "          docLink.innerHTML = docLinkHtml;\n",
              "          element.appendChild(docLink);\n",
              "        }\n",
              "      </script>\n",
              "    </div>\n",
              "  </div>\n",
              "  "
            ],
            "text/plain": [
              "               close\n",
              "date                \n",
              "2021-10-12 50213.526"
            ]
          },
          "metadata": {},
          "execution_count": 150
        }
      ]
    },
    {
      "cell_type": "code",
      "source": [
        "listetrue"
      ],
      "metadata": {
        "colab": {
          "base_uri": "https://localhost:8080/"
        },
        "id": "w0FZ52jRZvJ-",
        "outputId": "f62d5145-4441-4448-b045-830d3ddca3c3"
      },
      "id": "w0FZ52jRZvJ-",
      "execution_count": null,
      "outputs": [
        {
          "output_type": "execute_result",
          "data": {
            "text/plain": [
              "[[49243.8192893362],\n",
              " [49252.92035374641],\n",
              " [49445.42157326221],\n",
              " [49724.262118105886],\n",
              " [50253.38057707786],\n",
              " [50805.21233965397],\n",
              " [51287.32175164699],\n",
              " [51368.60704120636],\n",
              " [51425.39301452159],\n",
              " [51474.321075081825],\n",
              " [51475.70537059307],\n",
              " [51497.959956665036],\n",
              " [51537.35537833213],\n",
              " [51656.92593884468],\n",
              " [51784.921701841355],\n",
              " [51799.014373006816],\n",
              " [52009.47886250972],\n",
              " [52398.65590251445],\n",
              " [52578.6143189764],\n",
              " [52454.08743767261],\n",
              " [51956.327343487734],\n",
              " [51313.107648425095],\n",
              " [50575.4219990921],\n",
              " [49836.95734424591],\n",
              " [49031.22678477287],\n",
              " [49191.6612059164],\n",
              " [49267.498885493274],\n",
              " [49403.30641806126],\n",
              " [49798.59878705978],\n",
              " [50213.52643787861]]"
            ]
          },
          "metadata": {},
          "execution_count": 151
        }
      ]
    },
    {
      "cell_type": "code",
      "source": [
        "listetrue = np.array(listetrue).reshape(30,1)\n",
        "listepred = np.array(listepred).reshape(30,1)\n",
        "print('true',str(np.shape(listetrue)))"
      ],
      "metadata": {
        "id": "_4Y_Fabhp1WB",
        "colab": {
          "base_uri": "https://localhost:8080/"
        },
        "outputId": "81bede03-8236-4b47-8783-e6a3b13adcdc"
      },
      "id": "_4Y_Fabhp1WB",
      "execution_count": null,
      "outputs": [
        {
          "output_type": "stream",
          "name": "stdout",
          "text": [
            "true (30, 1)\n"
          ]
        }
      ]
    },
    {
      "cell_type": "code",
      "source": [
        "for i in range (len(listetrue)):\n",
        "  print(i,'  true',listetrue[i],'pred',listepred[i] )"
      ],
      "metadata": {
        "colab": {
          "base_uri": "https://localhost:8080/"
        },
        "id": "1AczTrmaUh7m",
        "outputId": "5617c435-590a-4277-f5af-8a5fa317c87f"
      },
      "id": "1AczTrmaUh7m",
      "execution_count": null,
      "outputs": [
        {
          "output_type": "stream",
          "name": "stdout",
          "text": [
            "0   true [49243.81928934] pred [44940.73]\n",
            "1   true [49252.92035375] pred [47111.52]\n",
            "2   true [49445.42157326] pred [48121.41]\n",
            "3   true [49724.26211811] pred [47737.82]\n",
            "4   true [50253.38057708] pred [47299.98]\n",
            "5   true [50805.21233965] pred [48292.74]\n",
            "6   true [51287.32175165] pred [47241.75]\n",
            "7   true [51368.60704121] pred [43015.62]\n",
            "8   true [51425.39301452] pred [40734.38]\n",
            "9   true [51474.32107508] pred [43543.61]\n",
            "10   true [51475.70537059] pred [44865.26]\n",
            "11   true [51497.95995667] pred [42810.57]\n",
            "12   true [51537.35537833] pred [42670.64]\n",
            "13   true [51656.92593884] pred [43160.9]\n",
            "14   true [51784.92170184] pred [42147.35]\n",
            "15   true [51799.01437301] pred [41026.54]\n",
            "16   true [52009.47886251] pred [41524.28]\n",
            "17   true [52398.65590251] pred [43824.1]\n",
            "18   true [52578.61431898] pred [48141.61]\n",
            "19   true [52454.08743767] pred [47634.9]\n",
            "20   true [51956.32734349] pred [48200.01]\n",
            "21   true [51313.10764843] pred [49224.94]\n",
            "22   true [50575.42199909] pred [51471.99]\n",
            "23   true [49836.95734425] pred [55315.]\n",
            "24   true [49031.22678477] pred [53785.22]\n",
            "25   true [49191.66120592] pred [53951.43]\n",
            "26   true [49267.49888549] pred [54949.72]\n",
            "27   true [49403.30641806] pred [54659.]\n",
            "28   true [49798.59878706] pred [57471.35]\n",
            "29   true [50213.52643788] pred [55996.93]\n"
          ]
        }
      ]
    },
    {
      "cell_type": "code",
      "source": [
        "# Root Mean Square Error (RMSE)\n",
        "rmse = math.sqrt(mean_squared_error(listepred, listetrue))\n",
        "moy = y_true.mean()\n",
        "Nrmse = rmse/moy\n",
        "Nrmse"
      ],
      "metadata": {
        "colab": {
          "base_uri": "https://localhost:8080/"
        },
        "id": "KYrUms06qWZk",
        "outputId": "800d9dce-c1d1-4e04-e439-048164bff2b1"
      },
      "id": "KYrUms06qWZk",
      "execution_count": null,
      "outputs": [
        {
          "output_type": "execute_result",
          "data": {
            "text/plain": [
              "0.11569756187084874"
            ]
          },
          "metadata": {},
          "execution_count": 154
        }
      ]
    },
    {
      "cell_type": "code",
      "source": [
        "\n",
        "\n",
        "def mape(actual, pred): \n",
        "    actual, pred = np.array(actual), np.array(pred)\n",
        "    return np.mean(np.abs((actual - pred) / actual)) * 100\n",
        "\n",
        "\n",
        "Mape= mape(listepred, listetrue)\n",
        "Mape"
      ],
      "metadata": {
        "colab": {
          "base_uri": "https://localhost:8080/"
        },
        "id": "AtSulKUVr0mv",
        "outputId": "313a5d73-abd8-4719-db5f-3150f130c471"
      },
      "id": "AtSulKUVr0mv",
      "execution_count": null,
      "outputs": [
        {
          "output_type": "execute_result",
          "data": {
            "text/plain": [
              "12.622047220522564"
            ]
          },
          "metadata": {},
          "execution_count": 155
        }
      ]
    },
    {
      "cell_type": "code",
      "source": [
        "#Explained variance regression score function.\n",
        "explained_variance_score(listepred, listetrue)\n",
        "# Best possible score is 1.0, lower values are worse."
      ],
      "metadata": {
        "colab": {
          "base_uri": "https://localhost:8080/"
        },
        "id": "0hu92GHAr5wg",
        "outputId": "0fc539d2-b784-4435-d037-cb3bc249ee79"
      },
      "id": "0hu92GHAr5wg",
      "execution_count": null,
      "outputs": [
        {
          "output_type": "execute_result",
          "data": {
            "text/plain": [
              "-0.3480237390340637"
            ]
          },
          "metadata": {},
          "execution_count": 156
        }
      ]
    },
    {
      "cell_type": "code",
      "execution_count": null,
      "metadata": {
        "id": "b7904a0a",
        "colab": {
          "base_uri": "https://localhost:8080/"
        },
        "outputId": "c2ce5e1d-cfec-458a-d883-36a8008a1fa6"
      },
      "outputs": [
        {
          "output_type": "execute_result",
          "data": {
            "text/plain": [
              "5783.403562121392"
            ]
          },
          "metadata": {},
          "execution_count": 157
        }
      ],
      "source": [
        "\n",
        "\n",
        "# Root Mean Square Error (RMSE)\n",
        "rmse = math.sqrt(mean_squared_error(y_true, y_pred))\n",
        "rmse\n",
        "\n"
      ],
      "id": "b7904a0a"
    },
    {
      "cell_type": "code",
      "execution_count": null,
      "metadata": {
        "id": "fd9b0ed0",
        "colab": {
          "base_uri": "https://localhost:8080/"
        },
        "outputId": "890e8a5b-5cf1-4abf-94db-22e2da8fa4f1"
      },
      "outputs": [
        {
          "output_type": "execute_result",
          "data": {
            "text/plain": [
              "5783.403562121392"
            ]
          },
          "metadata": {},
          "execution_count": 158
        }
      ],
      "source": [
        "\n",
        "\n",
        "# mean_absolute_error (MaE)\n",
        "mse = mean_absolute_error(y_true, y_pred)\n",
        "mse\n",
        "\n"
      ],
      "id": "fd9b0ed0"
    },
    {
      "cell_type": "code",
      "execution_count": null,
      "metadata": {
        "id": "efad1590",
        "colab": {
          "base_uri": "https://localhost:8080/"
        },
        "outputId": "f7d7f5e1-656a-487a-953a-cbb495d8da25"
      },
      "outputs": [
        {
          "output_type": "execute_result",
          "data": {
            "text/plain": [
              "1.0"
            ]
          },
          "metadata": {},
          "execution_count": 159
        }
      ],
      "source": [
        "\n",
        "\n",
        "#Explained variance regression score function.\n",
        "explained_variance_score(y_true, y_pred)\n",
        "# Best possible score is 1.0, lower values are worse.\n",
        "\n"
      ],
      "id": "efad1590"
    },
    {
      "cell_type": "markdown",
      "metadata": {
        "id": "289ce329"
      },
      "source": [
        "\n",
        "# Predictions"
      ],
      "id": "289ce329"
    },
    {
      "cell_type": "code",
      "execution_count": null,
      "metadata": {
        "id": "1871fcaf",
        "colab": {
          "base_uri": "https://localhost:8080/",
          "height": 128
        },
        "outputId": "9c6acba3-5b43-4f65-a94e-f6e3bdec027a"
      },
      "outputs": [
        {
          "output_type": "stream",
          "name": "stdout",
          "text": [
            "y_pred:\n",
            " [56282.76924837112]\n",
            "y_true:\n",
            " [55996.93]\n"
          ]
        },
        {
          "output_type": "display_data",
          "data": {
            "image/png": "[encoded data removed]",
            "text/plain": [
              "<Figure size 1152x360 with 1 Axes>"
            ]
          },
          "metadata": {}
        }
      ],
      "source": [
        "# Predicting/Forecasting\n",
        "\n",
        "# getting the predictions\n",
        "x = df[features][-n_past:].values\n",
        "x = sc.transform(x)\n",
        "y_pred = regressor.predict(x.reshape(1, n_past, n_features)).tolist()[0]\n",
        "y_pred = dummy_invscaler(y_pred, n_features)\n",
        "\n",
        "# creating a DF of the predicted prices\n",
        "y_pred_df = pd.DataFrame(y_pred, \n",
        "                         index=pd.date_range(start=df[['close']].index[-1]+datetime.timedelta(days=1),\n",
        "                                             periods=len(y_pred), \n",
        "                                             freq=\"D\"), \n",
        "                         columns=df[['close']].columns)\n",
        "\n",
        "# getting the true values\n",
        "y_true_df = df[['close']].tail(n_past)\n",
        "\n",
        "# linking them\n",
        "#y_true_df = y_true_df.append(y_pred_df.head(1))\n",
        "y_pred_df = y_pred_df.append(y_true_df.tail(1)).sort_index()\n",
        "\n",
        "print('y_pred:\\n', y_pred.tolist())\n",
        "print('y_true:\\n', y_true.tolist())\n",
        "\n",
        "# plotting the results\n",
        "plt.figure(figsize=(16,5))\n",
        "plt.plot(y_pred_df, label='Predicted')\n",
        "plt.plot(y_true_df, label='True')\n",
        "\n",
        "plt.title('BTC price Predicted vs True')\n",
        "plt.legend()\n",
        "plt.savefig('{}/Predictions.png'.format(modelname))\n",
        "plt.show()"
      ],
      "id": "1871fcaf"
    },
    {
      "cell_type": "code",
      "execution_count": null,
      "metadata": {
        "id": "51f6ca48",
        "colab": {
          "base_uri": "https://localhost:8080/",
          "height": 176
        },
        "outputId": "45c13b33-4089-46ec-a1ab-41496293326f"
      },
      "outputs": [
        {
          "output_type": "execute_result",
          "data": {
            "text/html": [
              "\n",
              "  <div id=\"df-42e02b77-4178-4ff3-8939-044fd8cb2309\">\n",
              "    <div class=\"colab-df-container\">\n",
              "      <div>\n",
              "<style scoped>\n",
              "    .dataframe tbody tr th:only-of-type {\n",
              "        vertical-align: middle;\n",
              "    }\n",
              "\n",
              "    .dataframe tbody tr th {\n",
              "        vertical-align: top;\n",
              "    }\n",
              "\n",
              "    .dataframe thead th {\n",
              "        text-align: right;\n",
              "    }\n",
              "</style>\n",
              "<table border=\"1\" class=\"dataframe\">\n",
              "  <thead>\n",
              "    <tr style=\"text-align: right;\">\n",
              "      <th></th>\n",
              "      <th>close</th>\n",
              "    </tr>\n",
              "  </thead>\n",
              "  <tbody>\n",
              "    <tr>\n",
              "      <th>2021-10-12</th>\n",
              "      <td>55996.930</td>\n",
              "    </tr>\n",
              "    <tr>\n",
              "      <th>2021-10-13</th>\n",
              "      <td>56282.769</td>\n",
              "    </tr>\n",
              "  </tbody>\n",
              "</table>\n",
              "</div>\n",
              "      <button class=\"colab-df-convert\" onclick=\"convertToInteractive('df-42e02b77-4178-4ff3-8939-044fd8cb2309')\"\n",
              "              title=\"Convert this dataframe to an interactive table.\"\n",
              "              style=\"display:none;\">\n",
              "        \n",
              "  <svg xmlns=\"http://www.w3.org/2000/svg\" height=\"24px\"viewBox=\"0 0 24 24\"\n",
              "       width=\"24px\">\n",
              "    <path d=\"M0 0h24v24H0V0z\" fill=\"none\"/>\n",
              "    <path d=\"M18.56 5.44l.94 2.06.94-2.06 2.06-.94-2.06-.94-.94-2.06-.94 2.06-2.06.94zm-11 1L8.5 8.5l.94-2.06 2.06-.94-2.06-.94L8.5 2.5l-.94 2.06-2.06.94zm10 10l.94 2.06.94-2.06 2.06-.94-2.06-.94-.94-2.06-.94 2.06-2.06.94z\"/><path d=\"M17.41 7.96l-1.37-1.37c-.4-.4-.92-.59-1.43-.59-.52 0-1.04.2-1.43.59L10.3 9.45l-7.72 7.72c-.78.78-.78 2.05 0 2.83L4 21.41c.39.39.9.59 1.41.59.51 0 1.02-.2 1.41-.59l7.78-7.78 2.81-2.81c.8-.78.8-2.07 0-2.86zM5.41 20L4 18.59l7.72-7.72 1.47 1.35L5.41 20z\"/>\n",
              "  </svg>\n",
              "      </button>\n",
              "      \n",
              "  <style>\n",
              "    .colab-df-container {\n",
              "      display:flex;\n",
              "      flex-wrap:wrap;\n",
              "      gap: 12px;\n",
              "    }\n",
              "\n",
              "    .colab-df-convert {\n",
              "      background-color: #E8F0FE;\n",
              "      border: none;\n",
              "      border-radius: 50%;\n",
              "      cursor: pointer;\n",
              "      display: none;\n",
              "      fill: #1967D2;\n",
              "      height: 32px;\n",
              "      padding: 0 0 0 0;\n",
              "      width: 32px;\n",
              "    }\n",
              "\n",
              "    .colab-df-convert:hover {\n",
              "      background-color: #E2EBFA;\n",
              "      box-shadow: 0px 1px 2px rgba(60, 64, 67, 0.3), 0px 1px 3px 1px rgba(60, 64, 67, 0.15);\n",
              "      fill: #174EA6;\n",
              "    }\n",
              "\n",
              "    [theme=dark] .colab-df-convert {\n",
              "      background-color: #3B4455;\n",
              "      fill: #D2E3FC;\n",
              "    }\n",
              "\n",
              "    [theme=dark] .colab-df-convert:hover {\n",
              "      background-color: #434B5C;\n",
              "      box-shadow: 0px 1px 3px 1px rgba(0, 0, 0, 0.15);\n",
              "      filter: drop-shadow(0px 1px 2px rgba(0, 0, 0, 0.3));\n",
              "      fill: #FFFFFF;\n",
              "    }\n",
              "  </style>\n",
              "\n",
              "      <script>\n",
              "        const buttonEl =\n",
              "          document.querySelector('#df-42e02b77-4178-4ff3-8939-044fd8cb2309 button.colab-df-convert');\n",
              "        buttonEl.style.display =\n",
              "          google.colab.kernel.accessAllowed ? 'block' : 'none';\n",
              "\n",
              "        async function convertToInteractive(key) {\n",
              "          const element = document.querySelector('#df-42e02b77-4178-4ff3-8939-044fd8cb2309');\n",
              "          const dataTable =\n",
              "            await google.colab.kernel.invokeFunction('convertToInteractive',\n",
              "                                                     [key], {});\n",
              "          if (!dataTable) return;\n",
              "\n",
              "          const docLinkHtml = 'Like what you see? Visit the ' +\n",
              "            '<a target=\"_blank\" href=https://colab.research.google.com/notebooks/data_table.ipynb>data table notebook</a>'\n",
              "            + ' to learn more about interactive tables.';\n",
              "          element.innerHTML = '';\n",
              "          dataTable['output_type'] = 'display_data';\n",
              "          await google.colab.output.renderOutput(dataTable, element);\n",
              "          const docLink = document.createElement('div');\n",
              "          docLink.innerHTML = docLinkHtml;\n",
              "          element.appendChild(docLink);\n",
              "        }\n",
              "      </script>\n",
              "    </div>\n",
              "  </div>\n",
              "  "
            ],
            "text/plain": [
              "               close\n",
              "2021-10-12 55996.930\n",
              "2021-10-13 56282.769"
            ]
          },
          "metadata": {},
          "execution_count": 161
        }
      ],
      "source": [
        "# export to csv\n",
        "#y_pred_df.to_csv('{}/preds_{}.csv'.format(modelname,n_future))\n",
        "# show\n",
        "y_pred_df"
      ],
      "id": "51f6ca48"
    },
    {
      "cell_type": "markdown",
      "metadata": {
        "id": "2e7f2cb1"
      },
      "source": [
        "# cross validation"
      ],
      "id": "2e7f2cb1"
    },
    {
      "cell_type": "code",
      "execution_count": null,
      "metadata": {
        "id": "GWGi52j-zK4z",
        "colab": {
          "base_uri": "https://localhost:8080/",
          "height": 135
        },
        "outputId": "65598d27-3fae-4757-9abe-90ae2ccfdff8"
      },
      "outputs": [
        {
          "output_type": "error",
          "ename": "SyntaxError",
          "evalue": "ignored",
          "traceback": [
            "\u001b[0;36m  File \u001b[0;32m\"<ipython-input-162-f82cae3e78d3>\"\u001b[0;36m, line \u001b[0;32m1\u001b[0m\n\u001b[0;31m    ''x=np.array(x)\u001b[0m\n\u001b[0m      ^\u001b[0m\n\u001b[0;31mSyntaxError\u001b[0m\u001b[0;31m:\u001b[0m invalid syntax\n"
          ]
        }
      ],
      "source": [
        "'''''x=np.array(x)\n",
        "y=np.array(y)\n",
        "\n",
        "for train, test in kfold.split(x,y):\n",
        "\n",
        "    X_train, X_test, y_train, y_test = train_test_split(x, y, test_size = 0.2, random_state = 0)\n",
        "    X_train = np.reshape(X_train, (X_train.shape[0], 1, 8))\n",
        "    X_test = np.reshape(X_test, (X_test.shape[0], 1, 8))\n",
        "\n",
        "    output_size=1 \n",
        "    neurons=100 \n",
        "    activ_func=\"tanh\"\n",
        "    dropout=0.25\n",
        "    loss=\"mean_squared_error\" \n",
        "    optimizer=\"sgd\"\n",
        "    model = Sequential()\n",
        "    model.add(LSTM(neurons,return_sequences=True,input_shape=(1,8)))\n",
        "    model.add(LSTM(90))\n",
        " \n",
        "    model.add(Dropout(dropout))\n",
        "    \n",
        "    model.add(Dense(units=output_size))\n",
        "    model.add(Activation(activ_func))\n",
        "    model.compile(loss=loss, optimizer='adam',metrics =[\"mae\"])\n",
        "    model.fit(X_train, y_train, epochs=10, batch_size=10, verbose=0,shuffle=False)\n",
        "    scores = model.evaluate(X_test, y_test, verbose=0)\n",
        "    print(\"%s: %.2f%%\" % (model.metrics_names[1], scores[1]*100))\n",
        "    cvscores.append(scores[1] * 100)\n",
        "print(\"%.2f%% (+/- %.2f%%)\" % (np.mean(cvscores), np.std(cvscores)))\n",
        "'''\n",
        "\n",
        "\n"
      ],
      "id": "GWGi52j-zK4z"
    },
    {
      "cell_type": "code",
      "execution_count": null,
      "metadata": {
        "id": "XsBEJWPlzWXa"
      },
      "outputs": [],
      "source": [],
      "id": "XsBEJWPlzWXa"
    },
    {
      "cell_type": "markdown",
      "metadata": {
        "id": "rCgrSKz8o2MV"
      },
      "source": [
        "# SHAP\n",
        "\n",
        "https://medium.datadriveninvestor.com/time-step-wise-feature-importance-in-deep-learning-using-shap-e1c46a655455"
      ],
      "id": "rCgrSKz8o2MV"
    },
    {
      "cell_type": "code",
      "execution_count": null,
      "metadata": {
        "id": "0dGSVhtkw0sm"
      },
      "outputs": [],
      "source": [
        "pip install shap"
      ],
      "id": "0dGSVhtkw0sm"
    },
    {
      "cell_type": "code",
      "execution_count": null,
      "metadata": {
        "id": "698fdb73"
      },
      "outputs": [],
      "source": [
        "import shap"
      ],
      "id": "698fdb73"
    },
    {
      "cell_type": "code",
      "execution_count": null,
      "metadata": {
        "id": "t3wA9LdD1-Ra"
      },
      "outputs": [],
      "source": [
        "#%tensorflow_version 2.4.0"
      ],
      "id": "t3wA9LdD1-Ra"
    },
    {
      "cell_type": "code",
      "source": [
        "X100 = shap.utils.sample(X_test, 100) # 100 instances for use as the background distribution"
      ],
      "metadata": {
        "id": "6P0o-R_-E9AN"
      },
      "id": "6P0o-R_-E9AN",
      "execution_count": null,
      "outputs": []
    },
    {
      "cell_type": "code",
      "source": [
        "\n",
        "# model\n",
        "\n",
        "model = load_model('regressor.h5')\n",
        "\n",
        "model.fit(X_train, y_train)\n",
        "\n",
        "print(\"Model coefficients:\\n\")\n",
        "for i in range(dataset.shape[1]):\n",
        "    print(dataset.columns[i], \"=\", model.coef_[i].round(4))"
      ],
      "metadata": {
        "id": "X7aXGPtm8nlX"
      },
      "id": "X7aXGPtm8nlX",
      "execution_count": null,
      "outputs": []
    },
    {
      "cell_type": "code",
      "source": [
        "X_test.shape\n",
        "X_test=X_test.reshape(7,15)"
      ],
      "metadata": {
        "id": "BedSVqFe7win"
      },
      "id": "BedSVqFe7win",
      "execution_count": null,
      "outputs": []
    },
    {
      "cell_type": "code",
      "source": [
        "X_test.shape"
      ],
      "metadata": {
        "id": "RFFy_Yd-7-VL"
      },
      "id": "RFFy_Yd-7-VL",
      "execution_count": null,
      "outputs": []
    },
    {
      "cell_type": "code",
      "source": [
        "# explain all the predictions in the test set\n",
        "explainer = shap.KernelExplainer(regressor.predict, X_train)\n",
        "shap_values = explainer.shap_values(X_test)\n",
        "shap.summary_plot(shap_values, X_test)"
      ],
      "metadata": {
        "id": "JRcaOY471Rr0"
      },
      "id": "JRcaOY471Rr0",
      "execution_count": null,
      "outputs": []
    },
    {
      "cell_type": "code",
      "source": [
        "import shap\n",
        "\n",
        "model = load_model('regressor.h5')\n",
        "# Explainability module\n",
        "Helper.explainable_forecast(dataset, ff_full_features_, fc, specific_prediction_sample_to_explain=df_full_features.shape[0]+2, input_label_index_value=0, num_labels=1)"
      ],
      "metadata": {
        "id": "hcMdVoZ5BY-e"
      },
      "id": "hcMdVoZ5BY-e",
      "execution_count": null,
      "outputs": []
    },
    {
      "cell_type": "markdown",
      "source": [
        "## lime"
      ],
      "metadata": {
        "id": "eY9HkZLqBAeM"
      },
      "id": "eY9HkZLqBAeM"
    }
  ],
  "metadata": {
    "accelerator": "GPU",
    "colab": {
      "provenance": [],
      "toc_visible": true
    },
    "kernelspec": {
      "display_name": "Python 3",
      "language": "python",
      "name": "python3"
    },
    "language_info": {
      "codemirror_mode": {
        "name": "ipython",
        "version": 3
      },
      "file_extension": ".py",
      "mimetype": "text/x-python",
      "name": "python",
      "nbconvert_exporter": "python",
      "pygments_lexer": "ipython3",
      "version": "3.8.8"
    }
  },
  "nbformat": 4,
  "nbformat_minor": 5
}
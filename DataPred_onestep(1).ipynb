{
  "cells": [
    {
      "cell_type": "markdown",
      "metadata": {
        "id": "d5d5931a"
      },
      "source": [
        "# Importing libraries"
      ],
      "id": "d5d5931a"
    },
    {
      "cell_type": "code",
      "execution_count": null,
      "metadata": {
        "id": "irQ31FisAKju"
      },
      "outputs": [],
      "source": [],
      "id": "irQ31FisAKju"
    },
    {
      "cell_type": "code",
      "execution_count": null,
      "metadata": {
        "id": "b3f8c926"
      },
      "outputs": [],
      "source": [
        "import os\n",
        "import numpy as np\n",
        "np.set_printoptions(suppress=True)\n",
        "\n",
        "import tensorflow as tf\n",
        "from tensorflow import keras\n",
        "import pandas as pd\n",
        "pd.set_option('display.float_format', lambda x: '%.3f' % x) #avoid scientific notation\n",
        "import datetime\n",
        "import math\n",
        "from matplotlib import pyplot as plt\n",
        "from keras.models import Sequential, load_model\n",
        "from keras.layers import Dense, LSTM, Dropout\n",
        "from keras.callbacks import EarlyStopping\n",
        "from sklearn.preprocessing import MinMaxScaler\n",
        "from sklearn.metrics import mean_squared_error, mean_absolute_error, explained_variance_score ,r2_score\n",
        "import plotly.express as px\n",
        "import plotly.graph_objects as go\n",
        "from plotly.subplots import make_subplots\n",
        "from IPython.display import Image\n",
        "\n",
        "\n",
        "from sklearn.model_selection import GridSearchCV\n",
        "from keras.models import Sequential\n",
        "from keras.layers import Dense\n",
        "from sklearn.metrics import mean_absolute_error\n",
        "from tensorflow.keras.optimizers import SGD\n",
        "\n"
      ],
      "id": "b3f8c926"
    },
    {
      "cell_type": "markdown",
      "metadata": {
        "id": "2fa46cdb"
      },
      "source": [
        "\n",
        "# Importing the files"
      ],
      "id": "2fa46cdb"
    },
    {
      "cell_type": "code",
      "execution_count": null,
      "metadata": {
        "colab": {
          "base_uri": "https://localhost:8080/"
        },
        "id": "ChZ-2wuVh-lv",
        "outputId": "8422c526-42d8-4ea2-b408-067cfecefd57"
      },
      "outputs": [
        {
          "output_type": "stream",
          "name": "stdout",
          "text": [
            "Mounted at /content/drive\n"
          ]
        }
      ],
      "source": [
        "from google.colab import drive\n",
        "drive.mount('/content/drive')"
      ],
      "id": "ChZ-2wuVh-lv"
    },
    {
      "cell_type": "code",
      "execution_count": null,
      "metadata": {
        "id": "4e7e40ed"
      },
      "outputs": [],
      "source": [
        "# reading csv\n",
        "dataset = pd.read_csv(r'/content/drive/MyDrive/Projet/daily/data/dataset_btc.csv',sep=',' )\n",
        "dataset=dataset[:]"
      ],
      "id": "4e7e40ed"
    },
    {
      "cell_type": "code",
      "execution_count": null,
      "metadata": {
        "colab": {
          "base_uri": "https://localhost:8080/"
        },
        "id": "UZMjOrd2jMX7",
        "outputId": "139647e7-8534-47a0-d204-ea738683102e"
      },
      "outputs": [
        {
          "output_type": "stream",
          "name": "stdout",
          "text": [
            "Index(['date', 'close', 'volubtc', 'tradecount', 'senkou_span_b', 'MACD',\n",
            "       'Day_dif', 'Close_off_high', 'Volatility', 'close_t-7',\n",
            "       'miners-revenue', 'TrendGoogle', 'open_microsoft', 'open_apple',\n",
            "       'fng_value'],\n",
            "      dtype='object')\n"
          ]
        }
      ],
      "source": [
        "print(dataset.columns)"
      ],
      "id": "UZMjOrd2jMX7"
    },
    {
      "cell_type": "markdown",
      "metadata": {
        "id": "8d6fbc9d"
      },
      "source": [
        "\n",
        "# Parameter settings"
      ],
      "id": "8d6fbc9d"
    },
    {
      "cell_type": "code",
      "execution_count": null,
      "metadata": {
        "id": "f085144a"
      },
      "outputs": [],
      "source": [
        "\n",
        "\n",
        "# number of total past observations from the original dataset to be considered\n",
        "n_past_total =310  \n",
        "\n",
        "# number of past observations to be considered for the LSTM training and prediction\n",
        "n_past = 7\n",
        "\n",
        "# number of future datapoints to predict (if higher than 1, the model switch to Multi-Step)\n",
        "n_future = 1\n",
        "\n",
        "# activation function used for the RNN (softsign, relu, sigmoid)\n",
        "activation = 'softsign'\n",
        "\n",
        "# dropout for the hidden layers\n",
        "dropout = 0.2\n",
        "\n",
        "# number of hidden layers\n",
        "n_layers = 2\n",
        "\n",
        "# number of neurons of the hidden layers\n",
        "n_neurons = 64\n",
        "\n",
        "# patience for the early stopping (number of epochs)\n",
        "patience = 5\n",
        "\n",
        "# optimizer (adam, RMSprop)\n",
        "# lr=0.02\n",
        "# momentum=0.9\n",
        "optimizer='adam'# SGD(lr=lr, momentum=momentum)##\n",
        "# batch size\n",
        "batch_size=1\n",
        "\n",
        "# features to be considered for training (if only one is Close, then its Univariate, if more, then it's Multivariate)\n",
        "\n",
        "features = [   'close', 'volubtc', 'tradecount', 'senkou_span_b', 'MACD',\n",
        "       'Day_dif', 'Close_off_high', 'Volatility', 'close_t-7',\n",
        "       'miners-revenue', 'TrendGoogle', 'open_microsoft', 'open_apple',\n",
        "       'fng_value']\n",
        "'''    \n",
        "features = ['close']\n",
        "   '''\n",
        "# number of inputs features (if higher than 1, )\n",
        "n_features = len(features)"
      ],
      "id": "f085144a"
    },
    {
      "cell_type": "code",
      "execution_count": null,
      "metadata": {
        "id": "mE1Wrw2W2479"
      },
      "outputs": [],
      "source": [],
      "id": "mE1Wrw2W2479"
    },
    {
      "cell_type": "markdown",
      "metadata": {
        "id": "45b6b5af"
      },
      "source": [
        "\n",
        "# EDA (brief)"
      ],
      "id": "45b6b5af"
    },
    {
      "cell_type": "code",
      "execution_count": null,
      "metadata": {
        "id": "e420d959"
      },
      "outputs": [],
      "source": [
        "dataset=dataset[1000:]\n"
      ],
      "id": "e420d959"
    },
    {
      "cell_type": "code",
      "execution_count": null,
      "metadata": {
        "colab": {
          "base_uri": "https://localhost:8080/",
          "height": 517
        },
        "id": "rc9BWvvJI0W4",
        "outputId": "af7ec3c4-6071-4c7c-bdb0-b4a0e0476078"
      },
      "outputs": [
        {
          "output_type": "execute_result",
          "data": {
            "text/plain": [
              "<matplotlib.legend.Legend at 0x7f31ed9d9450>"
            ]
          },
          "metadata": {},
          "execution_count": 8
        },
        {
          "output_type": "display_data",
          "data": {
            "image/png": "[encoded data removed]",
            "text/plain": [
              "<Figure size 1152x576 with 1 Axes>"
            ]
          },
          "metadata": {
            "needs_background": "light"
          }
        }
      ],
      "source": [
        "\n",
        "fig, ax = plt.subplots(figsize=(16,8))\n",
        "ax.set_facecolor('white')\n",
        "ax.plot(dataset[\"close\"], color='blue', label='Original price')\n",
        "\n",
        "plt.title(' eth Price ')\n",
        "plt.grid()\n",
        "plt.legend()"
      ],
      "id": "rc9BWvvJI0W4"
    },
    {
      "cell_type": "code",
      "execution_count": null,
      "metadata": {
        "colab": {
          "base_uri": "https://localhost:8080/"
        },
        "id": "0f774bea",
        "outputId": "33226c29-6938-4239-ffcb-fecff1d49a70"
      },
      "outputs": [
        {
          "output_type": "stream",
          "name": "stdout",
          "text": [
            "<class 'pandas.core.frame.DataFrame'>\n",
            "RangeIndex: 318 entries, 1000 to 1317\n",
            "Data columns (total 15 columns):\n",
            " #   Column          Non-Null Count  Dtype  \n",
            "---  ------          --------------  -----  \n",
            " 0   date            318 non-null    object \n",
            " 1   close           318 non-null    float64\n",
            " 2   volubtc         318 non-null    float64\n",
            " 3   tradecount      318 non-null    float64\n",
            " 4   senkou_span_b   318 non-null    float64\n",
            " 5   MACD            318 non-null    float64\n",
            " 6   Day_dif         318 non-null    float64\n",
            " 7   Close_off_high  318 non-null    float64\n",
            " 8   Volatility      318 non-null    float64\n",
            " 9   close_t-7       318 non-null    float64\n",
            " 10  miners-revenue  318 non-null    float64\n",
            " 11  TrendGoogle     318 non-null    float64\n",
            " 12  open_microsoft  318 non-null    float64\n",
            " 13  open_apple      318 non-null    float64\n",
            " 14  fng_value       318 non-null    float64\n",
            "dtypes: float64(14), object(1)\n",
            "memory usage: 37.4+ KB\n"
          ]
        }
      ],
      "source": [
        "# checking for nulls\n",
        "dataset.info()\n",
        "\n",
        "\n",
        "\n",
        "\n",
        "\n"
      ],
      "id": "0f774bea"
    },
    {
      "cell_type": "code",
      "source": [
        "dataset"
      ],
      "metadata": {
        "colab": {
          "base_uri": "https://localhost:8080/",
          "height": 424
        },
        "id": "OCT_ym4bqEnT",
        "outputId": "f69abae3-4fef-4400-91c8-4e5984c8caf0"
      },
      "id": "OCT_ym4bqEnT",
      "execution_count": null,
      "outputs": [
        {
          "output_type": "execute_result",
          "data": {
            "text/html": [
              "\n",
              "  <div id=\"df-c7c13ee1-f0ca-4794-8c6a-f03da232082a\">\n",
              "    <div class=\"colab-df-container\">\n",
              "      <div>\n",
              "<style scoped>\n",
              "    .dataframe tbody tr th:only-of-type {\n",
              "        vertical-align: middle;\n",
              "    }\n",
              "\n",
              "    .dataframe tbody tr th {\n",
              "        vertical-align: top;\n",
              "    }\n",
              "\n",
              "    .dataframe thead th {\n",
              "        text-align: right;\n",
              "    }\n",
              "</style>\n",
              "<table border=\"1\" class=\"dataframe\">\n",
              "  <thead>\n",
              "    <tr style=\"text-align: right;\">\n",
              "      <th></th>\n",
              "      <th>date</th>\n",
              "      <th>close</th>\n",
              "      <th>volubtc</th>\n",
              "      <th>tradecount</th>\n",
              "      <th>senkou_span_b</th>\n",
              "      <th>MACD</th>\n",
              "      <th>Day_dif</th>\n",
              "      <th>Close_off_high</th>\n",
              "      <th>Volatility</th>\n",
              "      <th>close_t-7</th>\n",
              "      <th>miners-revenue</th>\n",
              "      <th>TrendGoogle</th>\n",
              "      <th>open_microsoft</th>\n",
              "      <th>open_apple</th>\n",
              "      <th>fng_value</th>\n",
              "    </tr>\n",
              "  </thead>\n",
              "  <tbody>\n",
              "    <tr>\n",
              "      <th>1000</th>\n",
              "      <td>2020-11-25</td>\n",
              "      <td>18719.110</td>\n",
              "      <td>93266.577</td>\n",
              "      <td>1785408.000</td>\n",
              "      <td>11920.245</td>\n",
              "      <td>1340.470</td>\n",
              "      <td>-0.023</td>\n",
              "      <td>0.555</td>\n",
              "      <td>0.051</td>\n",
              "      <td>17776.120</td>\n",
              "      <td>17988301.561</td>\n",
              "      <td>29.586</td>\n",
              "      <td>2093.799</td>\n",
              "      <td>55.475</td>\n",
              "      <td>94.000</td>\n",
              "    </tr>\n",
              "    <tr>\n",
              "      <th>1001</th>\n",
              "      <td>2020-11-26</td>\n",
              "      <td>17149.470</td>\n",
              "      <td>181005.247</td>\n",
              "      <td>2770483.000</td>\n",
              "      <td>12085.415</td>\n",
              "      <td>1182.777</td>\n",
              "      <td>-0.084</td>\n",
              "      <td>0.295</td>\n",
              "      <td>0.146</td>\n",
              "      <td>17802.820</td>\n",
              "      <td>17988301.561</td>\n",
              "      <td>31.276</td>\n",
              "      <td>2093.799</td>\n",
              "      <td>55.475</td>\n",
              "      <td>93.000</td>\n",
              "    </tr>\n",
              "    <tr>\n",
              "      <th>1002</th>\n",
              "      <td>2020-11-27</td>\n",
              "      <td>17139.520</td>\n",
              "      <td>85297.025</td>\n",
              "      <td>1572299.000</td>\n",
              "      <td>12118.410</td>\n",
              "      <td>1044.955</td>\n",
              "      <td>-0.001</td>\n",
              "      <td>-0.376</td>\n",
              "      <td>0.059</td>\n",
              "      <td>18655.670</td>\n",
              "      <td>17988301.561</td>\n",
              "      <td>30.793</td>\n",
              "      <td>2093.799</td>\n",
              "      <td>55.475</td>\n",
              "      <td>86.000</td>\n",
              "    </tr>\n",
              "    <tr>\n",
              "      <th>1003</th>\n",
              "      <td>2020-11-28</td>\n",
              "      <td>17719.850</td>\n",
              "      <td>64910.700</td>\n",
              "      <td>1209385.000</td>\n",
              "      <td>12118.410</td>\n",
              "      <td>971.361</td>\n",
              "      <td>0.034</td>\n",
              "      <td>-0.683</td>\n",
              "      <td>0.059</td>\n",
              "      <td>18703.800</td>\n",
              "      <td>14684437.137</td>\n",
              "      <td>27.897</td>\n",
              "      <td>2270.363</td>\n",
              "      <td>57.238</td>\n",
              "      <td>87.000</td>\n",
              "    </tr>\n",
              "    <tr>\n",
              "      <th>1004</th>\n",
              "      <td>2020-11-29</td>\n",
              "      <td>18184.990</td>\n",
              "      <td>55329.016</td>\n",
              "      <td>1141289.000</td>\n",
              "      <td>12118.410</td>\n",
              "      <td>939.738</td>\n",
              "      <td>0.026</td>\n",
              "      <td>-0.585</td>\n",
              "      <td>0.048</td>\n",
              "      <td>18414.430</td>\n",
              "      <td>14684437.137</td>\n",
              "      <td>27.172</td>\n",
              "      <td>2270.363</td>\n",
              "      <td>57.238</td>\n",
              "      <td>89.000</td>\n",
              "    </tr>\n",
              "    <tr>\n",
              "      <th>...</th>\n",
              "      <td>...</td>\n",
              "      <td>...</td>\n",
              "      <td>...</td>\n",
              "      <td>...</td>\n",
              "      <td>...</td>\n",
              "      <td>...</td>\n",
              "      <td>...</td>\n",
              "      <td>...</td>\n",
              "      <td>...</td>\n",
              "      <td>...</td>\n",
              "      <td>...</td>\n",
              "      <td>...</td>\n",
              "      <td>...</td>\n",
              "      <td>...</td>\n",
              "      <td>...</td>\n",
              "    </tr>\n",
              "    <tr>\n",
              "      <th>1313</th>\n",
              "      <td>2021-10-04</td>\n",
              "      <td>49224.940</td>\n",
              "      <td>46796.494</td>\n",
              "      <td>1437692.000</td>\n",
              "      <td>41099.000</td>\n",
              "      <td>231.138</td>\n",
              "      <td>0.021</td>\n",
              "      <td>-0.765</td>\n",
              "      <td>0.055</td>\n",
              "      <td>42147.350</td>\n",
              "      <td>52076953.338</td>\n",
              "      <td>21.000</td>\n",
              "      <td>1905.720</td>\n",
              "      <td>166.626</td>\n",
              "      <td>54.000</td>\n",
              "    </tr>\n",
              "    <tr>\n",
              "      <th>1314</th>\n",
              "      <td>2021-10-05</td>\n",
              "      <td>51471.990</td>\n",
              "      <td>52125.668</td>\n",
              "      <td>1641651.000</td>\n",
              "      <td>41099.000</td>\n",
              "      <td>666.401</td>\n",
              "      <td>0.046</td>\n",
              "      <td>-0.711</td>\n",
              "      <td>0.058</td>\n",
              "      <td>41026.540</td>\n",
              "      <td>52076953.338</td>\n",
              "      <td>19.000</td>\n",
              "      <td>1905.720</td>\n",
              "      <td>166.626</td>\n",
              "      <td>59.000</td>\n",
              "    </tr>\n",
              "    <tr>\n",
              "      <th>1315</th>\n",
              "      <td>2021-10-06</td>\n",
              "      <td>55315.000</td>\n",
              "      <td>79877.545</td>\n",
              "      <td>2443126.000</td>\n",
              "      <td>41201.305</td>\n",
              "      <td>1306.389</td>\n",
              "      <td>0.075</td>\n",
              "      <td>-0.838</td>\n",
              "      <td>0.104</td>\n",
              "      <td>41524.280</td>\n",
              "      <td>41966394.782</td>\n",
              "      <td>30.000</td>\n",
              "      <td>2333.567</td>\n",
              "      <td>149.865</td>\n",
              "      <td>68.000</td>\n",
              "    </tr>\n",
              "    <tr>\n",
              "      <th>1316</th>\n",
              "      <td>2021-10-07</td>\n",
              "      <td>53785.220</td>\n",
              "      <td>54917.378</td>\n",
              "      <td>1703147.000</td>\n",
              "      <td>42314.000</td>\n",
              "      <td>1670.882</td>\n",
              "      <td>-0.028</td>\n",
              "      <td>0.566</td>\n",
              "      <td>0.036</td>\n",
              "      <td>43824.100</td>\n",
              "      <td>41966394.782</td>\n",
              "      <td>28.000</td>\n",
              "      <td>2333.567</td>\n",
              "      <td>149.865</td>\n",
              "      <td>76.000</td>\n",
              "    </tr>\n",
              "    <tr>\n",
              "      <th>1317</th>\n",
              "      <td>2021-10-08</td>\n",
              "      <td>53951.430</td>\n",
              "      <td>46160.258</td>\n",
              "      <td>1548832.000</td>\n",
              "      <td>42422.160</td>\n",
              "      <td>1950.672</td>\n",
              "      <td>0.003</td>\n",
              "      <td>0.731</td>\n",
              "      <td>0.046</td>\n",
              "      <td>48141.610</td>\n",
              "      <td>41966394.782</td>\n",
              "      <td>19.000</td>\n",
              "      <td>2333.567</td>\n",
              "      <td>149.865</td>\n",
              "      <td>74.000</td>\n",
              "    </tr>\n",
              "  </tbody>\n",
              "</table>\n",
              "<p>318 rows × 15 columns</p>\n",
              "</div>\n",
              "      <button class=\"colab-df-convert\" onclick=\"convertToInteractive('df-c7c13ee1-f0ca-4794-8c6a-f03da232082a')\"\n",
              "              title=\"Convert this dataframe to an interactive table.\"\n",
              "              style=\"display:none;\">\n",
              "        \n",
              "  <svg xmlns=\"http://www.w3.org/2000/svg\" height=\"24px\"viewBox=\"0 0 24 24\"\n",
              "       width=\"24px\">\n",
              "    <path d=\"M0 0h24v24H0V0z\" fill=\"none\"/>\n",
              "    <path d=\"M18.56 5.44l.94 2.06.94-2.06 2.06-.94-2.06-.94-.94-2.06-.94 2.06-2.06.94zm-11 1L8.5 8.5l.94-2.06 2.06-.94-2.06-.94L8.5 2.5l-.94 2.06-2.06.94zm10 10l.94 2.06.94-2.06 2.06-.94-2.06-.94-.94-2.06-.94 2.06-2.06.94z\"/><path d=\"M17.41 7.96l-1.37-1.37c-.4-.4-.92-.59-1.43-.59-.52 0-1.04.2-1.43.59L10.3 9.45l-7.72 7.72c-.78.78-.78 2.05 0 2.83L4 21.41c.39.39.9.59 1.41.59.51 0 1.02-.2 1.41-.59l7.78-7.78 2.81-2.81c.8-.78.8-2.07 0-2.86zM5.41 20L4 18.59l7.72-7.72 1.47 1.35L5.41 20z\"/>\n",
              "  </svg>\n",
              "      </button>\n",
              "      \n",
              "  <style>\n",
              "    .colab-df-container {\n",
              "      display:flex;\n",
              "      flex-wrap:wrap;\n",
              "      gap: 12px;\n",
              "    }\n",
              "\n",
              "    .colab-df-convert {\n",
              "      background-color: #E8F0FE;\n",
              "      border: none;\n",
              "      border-radius: 50%;\n",
              "      cursor: pointer;\n",
              "      display: none;\n",
              "      fill: #1967D2;\n",
              "      height: 32px;\n",
              "      padding: 0 0 0 0;\n",
              "      width: 32px;\n",
              "    }\n",
              "\n",
              "    .colab-df-convert:hover {\n",
              "      background-color: #E2EBFA;\n",
              "      box-shadow: 0px 1px 2px rgba(60, 64, 67, 0.3), 0px 1px 3px 1px rgba(60, 64, 67, 0.15);\n",
              "      fill: #174EA6;\n",
              "    }\n",
              "\n",
              "    [theme=dark] .colab-df-convert {\n",
              "      background-color: #3B4455;\n",
              "      fill: #D2E3FC;\n",
              "    }\n",
              "\n",
              "    [theme=dark] .colab-df-convert:hover {\n",
              "      background-color: #434B5C;\n",
              "      box-shadow: 0px 1px 3px 1px rgba(0, 0, 0, 0.15);\n",
              "      filter: drop-shadow(0px 1px 2px rgba(0, 0, 0, 0.3));\n",
              "      fill: #FFFFFF;\n",
              "    }\n",
              "  </style>\n",
              "\n",
              "      <script>\n",
              "        const buttonEl =\n",
              "          document.querySelector('#df-c7c13ee1-f0ca-4794-8c6a-f03da232082a button.colab-df-convert');\n",
              "        buttonEl.style.display =\n",
              "          google.colab.kernel.accessAllowed ? 'block' : 'none';\n",
              "\n",
              "        async function convertToInteractive(key) {\n",
              "          const element = document.querySelector('#df-c7c13ee1-f0ca-4794-8c6a-f03da232082a');\n",
              "          const dataTable =\n",
              "            await google.colab.kernel.invokeFunction('convertToInteractive',\n",
              "                                                     [key], {});\n",
              "          if (!dataTable) return;\n",
              "\n",
              "          const docLinkHtml = 'Like what you see? Visit the ' +\n",
              "            '<a target=\"_blank\" href=https://colab.research.google.com/notebooks/data_table.ipynb>data table notebook</a>'\n",
              "            + ' to learn more about interactive tables.';\n",
              "          element.innerHTML = '';\n",
              "          dataTable['output_type'] = 'display_data';\n",
              "          await google.colab.output.renderOutput(dataTable, element);\n",
              "          const docLink = document.createElement('div');\n",
              "          docLink.innerHTML = docLinkHtml;\n",
              "          element.appendChild(docLink);\n",
              "        }\n",
              "      </script>\n",
              "    </div>\n",
              "  </div>\n",
              "  "
            ],
            "text/plain": [
              "            date     close    volubtc  ...  open_microsoft  open_apple  fng_value\n",
              "1000  2020-11-25 18719.110  93266.577  ...        2093.799      55.475     94.000\n",
              "1001  2020-11-26 17149.470 181005.247  ...        2093.799      55.475     93.000\n",
              "1002  2020-11-27 17139.520  85297.025  ...        2093.799      55.475     86.000\n",
              "1003  2020-11-28 17719.850  64910.700  ...        2270.363      57.238     87.000\n",
              "1004  2020-11-29 18184.990  55329.016  ...        2270.363      57.238     89.000\n",
              "...          ...       ...        ...  ...             ...         ...        ...\n",
              "1313  2021-10-04 49224.940  46796.494  ...        1905.720     166.626     54.000\n",
              "1314  2021-10-05 51471.990  52125.668  ...        1905.720     166.626     59.000\n",
              "1315  2021-10-06 55315.000  79877.545  ...        2333.567     149.865     68.000\n",
              "1316  2021-10-07 53785.220  54917.378  ...        2333.567     149.865     76.000\n",
              "1317  2021-10-08 53951.430  46160.258  ...        2333.567     149.865     74.000\n",
              "\n",
              "[318 rows x 15 columns]"
            ]
          },
          "metadata": {},
          "execution_count": 10
        }
      ]
    },
    {
      "cell_type": "code",
      "execution_count": null,
      "metadata": {
        "colab": {
          "base_uri": "https://localhost:8080/",
          "height": 300
        },
        "id": "b9d1467d",
        "outputId": "4c66ad77-4c5c-467b-cacb-457faa452334"
      },
      "outputs": [
        {
          "output_type": "execute_result",
          "data": {
            "text/html": [
              "\n",
              "  <div id=\"df-03253105-d8f1-4436-b225-6b93b5055abb\">\n",
              "    <div class=\"colab-df-container\">\n",
              "      <div>\n",
              "<style scoped>\n",
              "    .dataframe tbody tr th:only-of-type {\n",
              "        vertical-align: middle;\n",
              "    }\n",
              "\n",
              "    .dataframe tbody tr th {\n",
              "        vertical-align: top;\n",
              "    }\n",
              "\n",
              "    .dataframe thead th {\n",
              "        text-align: right;\n",
              "    }\n",
              "</style>\n",
              "<table border=\"1\" class=\"dataframe\">\n",
              "  <thead>\n",
              "    <tr style=\"text-align: right;\">\n",
              "      <th></th>\n",
              "      <th>close</th>\n",
              "      <th>volubtc</th>\n",
              "      <th>tradecount</th>\n",
              "      <th>senkou_span_b</th>\n",
              "      <th>MACD</th>\n",
              "      <th>Day_dif</th>\n",
              "      <th>Close_off_high</th>\n",
              "      <th>Volatility</th>\n",
              "      <th>close_t-7</th>\n",
              "      <th>miners-revenue</th>\n",
              "      <th>TrendGoogle</th>\n",
              "      <th>open_microsoft</th>\n",
              "      <th>open_apple</th>\n",
              "      <th>fng_value</th>\n",
              "    </tr>\n",
              "  </thead>\n",
              "  <tbody>\n",
              "    <tr>\n",
              "      <th>count</th>\n",
              "      <td>318.000</td>\n",
              "      <td>318.000</td>\n",
              "      <td>318.000</td>\n",
              "      <td>318.000</td>\n",
              "      <td>318.000</td>\n",
              "      <td>318.000</td>\n",
              "      <td>318.000</td>\n",
              "      <td>318.000</td>\n",
              "      <td>318.000</td>\n",
              "      <td>318.000</td>\n",
              "      <td>318.000</td>\n",
              "      <td>318.000</td>\n",
              "      <td>318.000</td>\n",
              "      <td>318.000</td>\n",
              "    </tr>\n",
              "    <tr>\n",
              "      <th>mean</th>\n",
              "      <td>42000.471</td>\n",
              "      <td>78376.902</td>\n",
              "      <td>1904510.755</td>\n",
              "      <td>36906.617</td>\n",
              "      <td>679.993</td>\n",
              "      <td>0.004</td>\n",
              "      <td>-0.130</td>\n",
              "      <td>0.072</td>\n",
              "      <td>41274.991</td>\n",
              "      <td>41175078.770</td>\n",
              "      <td>31.969</td>\n",
              "      <td>1916.582</td>\n",
              "      <td>154.566</td>\n",
              "      <td>59.978</td>\n",
              "    </tr>\n",
              "    <tr>\n",
              "      <th>std</th>\n",
              "      <td>11375.715</td>\n",
              "      <td>39055.638</td>\n",
              "      <td>699545.727</td>\n",
              "      <td>12966.403</td>\n",
              "      <td>2107.043</td>\n",
              "      <td>0.044</td>\n",
              "      <td>0.561</td>\n",
              "      <td>0.040</td>\n",
              "      <td>11792.112</td>\n",
              "      <td>13460448.274</td>\n",
              "      <td>24.189</td>\n",
              "      <td>328.243</td>\n",
              "      <td>50.149</td>\n",
              "      <td>26.837</td>\n",
              "    </tr>\n",
              "    <tr>\n",
              "      <th>min</th>\n",
              "      <td>17139.520</td>\n",
              "      <td>26681.064</td>\n",
              "      <td>760979.000</td>\n",
              "      <td>11920.245</td>\n",
              "      <td>-5073.279</td>\n",
              "      <td>-0.144</td>\n",
              "      <td>-0.993</td>\n",
              "      <td>0.018</td>\n",
              "      <td>17139.520</td>\n",
              "      <td>14684437.137</td>\n",
              "      <td>0.000</td>\n",
              "      <td>1023.291</td>\n",
              "      <td>53.530</td>\n",
              "      <td>10.000</td>\n",
              "    </tr>\n",
              "    <tr>\n",
              "      <th>25%</th>\n",
              "      <td>34228.057</td>\n",
              "      <td>52345.178</td>\n",
              "      <td>1475727.750</td>\n",
              "      <td>29247.475</td>\n",
              "      <td>-847.390</td>\n",
              "      <td>-0.021</td>\n",
              "      <td>-0.627</td>\n",
              "      <td>0.045</td>\n",
              "      <td>33681.087</td>\n",
              "      <td>31908499.941</td>\n",
              "      <td>19.000</td>\n",
              "      <td>1690.559</td>\n",
              "      <td>118.145</td>\n",
              "      <td>28.000</td>\n",
              "    </tr>\n",
              "    <tr>\n",
              "      <th>50%</th>\n",
              "      <td>42740.605</td>\n",
              "      <td>71256.037</td>\n",
              "      <td>1812271.500</td>\n",
              "      <td>39517.520</td>\n",
              "      <td>995.818</td>\n",
              "      <td>0.003</td>\n",
              "      <td>-0.132</td>\n",
              "      <td>0.060</td>\n",
              "      <td>40798.420</td>\n",
              "      <td>41597532.992</td>\n",
              "      <td>22.939</td>\n",
              "      <td>1971.087</td>\n",
              "      <td>157.873</td>\n",
              "      <td>71.000</td>\n",
              "    </tr>\n",
              "    <tr>\n",
              "      <th>75%</th>\n",
              "      <td>49897.092</td>\n",
              "      <td>88734.756</td>\n",
              "      <td>2241900.250</td>\n",
              "      <td>45768.003</td>\n",
              "      <td>2022.822</td>\n",
              "      <td>0.028</td>\n",
              "      <td>0.321</td>\n",
              "      <td>0.089</td>\n",
              "      <td>49620.247</td>\n",
              "      <td>52705962.506</td>\n",
              "      <td>43.818</td>\n",
              "      <td>2168.558</td>\n",
              "      <td>187.065</td>\n",
              "      <td>79.000</td>\n",
              "    </tr>\n",
              "    <tr>\n",
              "      <th>max</th>\n",
              "      <td>63575.000</td>\n",
              "      <td>354347.243</td>\n",
              "      <td>6331062.000</td>\n",
              "      <td>55892.000</td>\n",
              "      <td>5248.182</td>\n",
              "      <td>0.195</td>\n",
              "      <td>0.999</td>\n",
              "      <td>0.317</td>\n",
              "      <td>63575.000</td>\n",
              "      <td>70637245.505</td>\n",
              "      <td>160.000</td>\n",
              "      <td>2504.575</td>\n",
              "      <td>300.311</td>\n",
              "      <td>95.000</td>\n",
              "    </tr>\n",
              "  </tbody>\n",
              "</table>\n",
              "</div>\n",
              "      <button class=\"colab-df-convert\" onclick=\"convertToInteractive('df-03253105-d8f1-4436-b225-6b93b5055abb')\"\n",
              "              title=\"Convert this dataframe to an interactive table.\"\n",
              "              style=\"display:none;\">\n",
              "        \n",
              "  <svg xmlns=\"http://www.w3.org/2000/svg\" height=\"24px\"viewBox=\"0 0 24 24\"\n",
              "       width=\"24px\">\n",
              "    <path d=\"M0 0h24v24H0V0z\" fill=\"none\"/>\n",
              "    <path d=\"M18.56 5.44l.94 2.06.94-2.06 2.06-.94-2.06-.94-.94-2.06-.94 2.06-2.06.94zm-11 1L8.5 8.5l.94-2.06 2.06-.94-2.06-.94L8.5 2.5l-.94 2.06-2.06.94zm10 10l.94 2.06.94-2.06 2.06-.94-2.06-.94-.94-2.06-.94 2.06-2.06.94z\"/><path d=\"M17.41 7.96l-1.37-1.37c-.4-.4-.92-.59-1.43-.59-.52 0-1.04.2-1.43.59L10.3 9.45l-7.72 7.72c-.78.78-.78 2.05 0 2.83L4 21.41c.39.39.9.59 1.41.59.51 0 1.02-.2 1.41-.59l7.78-7.78 2.81-2.81c.8-.78.8-2.07 0-2.86zM5.41 20L4 18.59l7.72-7.72 1.47 1.35L5.41 20z\"/>\n",
              "  </svg>\n",
              "      </button>\n",
              "      \n",
              "  <style>\n",
              "    .colab-df-container {\n",
              "      display:flex;\n",
              "      flex-wrap:wrap;\n",
              "      gap: 12px;\n",
              "    }\n",
              "\n",
              "    .colab-df-convert {\n",
              "      background-color: #E8F0FE;\n",
              "      border: none;\n",
              "      border-radius: 50%;\n",
              "      cursor: pointer;\n",
              "      display: none;\n",
              "      fill: #1967D2;\n",
              "      height: 32px;\n",
              "      padding: 0 0 0 0;\n",
              "      width: 32px;\n",
              "    }\n",
              "\n",
              "    .colab-df-convert:hover {\n",
              "      background-color: #E2EBFA;\n",
              "      box-shadow: 0px 1px 2px rgba(60, 64, 67, 0.3), 0px 1px 3px 1px rgba(60, 64, 67, 0.15);\n",
              "      fill: #174EA6;\n",
              "    }\n",
              "\n",
              "    [theme=dark] .colab-df-convert {\n",
              "      background-color: #3B4455;\n",
              "      fill: #D2E3FC;\n",
              "    }\n",
              "\n",
              "    [theme=dark] .colab-df-convert:hover {\n",
              "      background-color: #434B5C;\n",
              "      box-shadow: 0px 1px 3px 1px rgba(0, 0, 0, 0.15);\n",
              "      filter: drop-shadow(0px 1px 2px rgba(0, 0, 0, 0.3));\n",
              "      fill: #FFFFFF;\n",
              "    }\n",
              "  </style>\n",
              "\n",
              "      <script>\n",
              "        const buttonEl =\n",
              "          document.querySelector('#df-03253105-d8f1-4436-b225-6b93b5055abb button.colab-df-convert');\n",
              "        buttonEl.style.display =\n",
              "          google.colab.kernel.accessAllowed ? 'block' : 'none';\n",
              "\n",
              "        async function convertToInteractive(key) {\n",
              "          const element = document.querySelector('#df-03253105-d8f1-4436-b225-6b93b5055abb');\n",
              "          const dataTable =\n",
              "            await google.colab.kernel.invokeFunction('convertToInteractive',\n",
              "                                                     [key], {});\n",
              "          if (!dataTable) return;\n",
              "\n",
              "          const docLinkHtml = 'Like what you see? Visit the ' +\n",
              "            '<a target=\"_blank\" href=https://colab.research.google.com/notebooks/data_table.ipynb>data table notebook</a>'\n",
              "            + ' to learn more about interactive tables.';\n",
              "          element.innerHTML = '';\n",
              "          dataTable['output_type'] = 'display_data';\n",
              "          await google.colab.output.renderOutput(dataTable, element);\n",
              "          const docLink = document.createElement('div');\n",
              "          docLink.innerHTML = docLinkHtml;\n",
              "          element.appendChild(docLink);\n",
              "        }\n",
              "      </script>\n",
              "    </div>\n",
              "  </div>\n",
              "  "
            ],
            "text/plain": [
              "          close    volubtc  tradecount  ...  open_microsoft  open_apple  fng_value\n",
              "count   318.000    318.000     318.000  ...         318.000     318.000    318.000\n",
              "mean  42000.471  78376.902 1904510.755  ...        1916.582     154.566     59.978\n",
              "std   11375.715  39055.638  699545.727  ...         328.243      50.149     26.837\n",
              "min   17139.520  26681.064  760979.000  ...        1023.291      53.530     10.000\n",
              "25%   34228.057  52345.178 1475727.750  ...        1690.559     118.145     28.000\n",
              "50%   42740.605  71256.037 1812271.500  ...        1971.087     157.873     71.000\n",
              "75%   49897.092  88734.756 2241900.250  ...        2168.558     187.065     79.000\n",
              "max   63575.000 354347.243 6331062.000  ...        2504.575     300.311     95.000\n",
              "\n",
              "[8 rows x 14 columns]"
            ]
          },
          "metadata": {},
          "execution_count": 11
        }
      ],
      "source": [
        "# checking the main parameters\n",
        "dataset.describe()"
      ],
      "id": "b9d1467d"
    },
    {
      "cell_type": "code",
      "execution_count": null,
      "metadata": {
        "colab": {
          "base_uri": "https://localhost:8080/",
          "height": 798
        },
        "id": "382a0e50",
        "outputId": "7973d75c-3da8-4f86-9468-87618c3b7740"
      },
      "outputs": [
        {
          "output_type": "execute_result",
          "data": {
            "text/plain": [
              "<matplotlib.axes._subplots.AxesSubplot at 0x7f31ecc04850>"
            ]
          },
          "metadata": {},
          "execution_count": 12
        },
        {
          "output_type": "display_data",
          "data": {
            "image/png": "[encoded data removed]",
            "text/plain": [
              "<Figure size 1800x864 with 2 Axes>"
            ]
          },
          "metadata": {}
        }
      ],
      "source": [
        "# looking at the correlation of the main possible variables\n",
        "'''dataset[[ 'close', 'volubtc', 'tradecount', 'senkou_span_b', 'MACD',\n",
        "       'Day_dif', 'Close_off_high', 'Volatility', 'close_t-7',\n",
        "       'miners-revenue', 'TrendGoogle', 'open_microsoft', 'open_apple',\n",
        "       'fng_value']].corr()'''\n",
        "\n",
        "\n",
        "\n",
        "\n",
        "import matplotlib.pyplot as plt\n",
        "import seaborn as sns\n",
        "\n",
        "\n",
        "\n",
        "sns.set_theme(style=\"white\")\n",
        "\n",
        "\n",
        "\n",
        "\n",
        "# Compute the correlation matrix\n",
        "corr = dataset.corr()\n",
        "\n",
        "# Generate a mask for the upper triangle\n",
        "mask = np.triu(np.ones_like(corr, dtype=bool))\n",
        "\n",
        "# Set up the matplotlib figure\n",
        "f, ax = plt.subplots(figsize=(25, 12))\n",
        "\n",
        "# Generate a custom diverging colormap\n",
        "cmap = sns.diverging_palette(98, 2, as_cmap=True)\n",
        "\n",
        "# Draw the heatmap with the mask and correct aspect ratio\n",
        "sns.heatmap(corr, mask=mask, cmap=cmap,vmin=-0.5, vmax=1, center=0,\n",
        "            square=True, linewidths=1, cbar_kws={\"shrink\": .7},annot=True)"
      ],
      "id": "382a0e50"
    },
    {
      "cell_type": "code",
      "execution_count": null,
      "metadata": {
        "colab": {
          "base_uri": "https://localhost:8080/"
        },
        "id": "fIffLWJqEs4v",
        "outputId": "0b7aa1da-2ae7-416b-ddb3-d9cfb0845afe"
      },
      "outputs": [
        {
          "output_type": "stream",
          "name": "stdout",
          "text": [
            "<class 'pandas.core.frame.DataFrame'>\n",
            "RangeIndex: 318 entries, 1000 to 1317\n",
            "Data columns (total 15 columns):\n",
            " #   Column          Non-Null Count  Dtype  \n",
            "---  ------          --------------  -----  \n",
            " 0   date            318 non-null    object \n",
            " 1   close           318 non-null    float64\n",
            " 2   volubtc         318 non-null    float64\n",
            " 3   tradecount      318 non-null    float64\n",
            " 4   senkou_span_b   318 non-null    float64\n",
            " 5   MACD            318 non-null    float64\n",
            " 6   Day_dif         318 non-null    float64\n",
            " 7   Close_off_high  318 non-null    float64\n",
            " 8   Volatility      318 non-null    float64\n",
            " 9   close_t-7       318 non-null    float64\n",
            " 10  miners-revenue  318 non-null    float64\n",
            " 11  TrendGoogle     318 non-null    float64\n",
            " 12  open_microsoft  318 non-null    float64\n",
            " 13  open_apple      318 non-null    float64\n",
            " 14  fng_value       318 non-null    float64\n",
            "dtypes: float64(14), object(1)\n",
            "memory usage: 37.4+ KB\n"
          ]
        }
      ],
      "source": [
        "dataset.info()\n",
        "\n",
        "\n",
        "df=dataset\n"
      ],
      "id": "fIffLWJqEs4v"
    },
    {
      "cell_type": "code",
      "execution_count": null,
      "metadata": {
        "id": "d0c97b46"
      },
      "outputs": [],
      "source": [
        "# use close only and fill NaN with ffil\n",
        "df = dataset.set_index('date')[features]#.tail(n_past_total)\n",
        "df = df.set_index(pd.to_datetime(df.index))\n",
        "df.fillna(method='ffill',inplace=True)\n"
      ],
      "id": "d0c97b46"
    },
    {
      "cell_type": "markdown",
      "metadata": {
        "id": "10197f0a"
      },
      "source": [
        "\n",
        "# Preprocessing the data"
      ],
      "id": "10197f0a"
    },
    {
      "cell_type": "code",
      "execution_count": null,
      "metadata": {
        "colab": {
          "base_uri": "https://localhost:8080/",
          "height": 519
        },
        "id": "63af3a63",
        "outputId": "4d5d5318-5437-4e33-b72e-1576e80a4725"
      },
      "outputs": [
        {
          "output_type": "execute_result",
          "data": {
            "text/plain": [
              "<matplotlib.legend.Legend at 0x7f31e41cf6d0>"
            ]
          },
          "metadata": {},
          "execution_count": 15
        },
        {
          "output_type": "display_data",
          "data": {
            "image/png": "[encoded data removed]",
            "text/plain": [
              "<Figure size 1152x576 with 1 Axes>"
            ]
          },
          "metadata": {}
        }
      ],
      "source": [
        "# droppping firsts observations becuase they may not be representative of BTC behaviour now due to beginnings of crypto market\n",
        "df = df.tail(n_past_total)\n",
        "fig, ax = plt.subplots(figsize=(16,8))\n",
        "ax.set_facecolor('white')\n",
        "ax.plot(df[\"close\"], color='blue', label='Original price')\n",
        "\n",
        "plt.title(' btc Price ')\n",
        "plt.grid()\n",
        "plt.legend()"
      ],
      "id": "63af3a63"
    },
    {
      "cell_type": "code",
      "execution_count": null,
      "metadata": {
        "colab": {
          "base_uri": "https://localhost:8080/"
        },
        "id": "c139f972",
        "outputId": "f6f53c53-9dc7-4f66-90e1-8ff030fc28c9"
      },
      "outputs": [
        {
          "output_type": "stream",
          "name": "stdout",
          "text": [
            "training_set.shape:\t (310, 14)\n"
          ]
        }
      ],
      "source": [
        "# train test split\n",
        "training_set = df\n",
        "training_set = training_set.values\n",
        "print('training_set.shape:\\t', training_set.shape)"
      ],
      "id": "c139f972"
    },
    {
      "cell_type": "code",
      "execution_count": null,
      "metadata": {
        "colab": {
          "base_uri": "https://localhost:8080/"
        },
        "id": "65d8c153",
        "outputId": "921486ae-7fe5-414b-e22f-194f153d5c34"
      },
      "outputs": [
        {
          "output_type": "stream",
          "name": "stdout",
          "text": [
            "training_set_scaled.shape:  (310, 14)\n"
          ]
        }
      ],
      "source": [
        "# scale\n",
        "sc = MinMaxScaler(feature_range=(0,1))\n",
        "training_set_scaled = sc.fit_transform(training_set)\n",
        "print('training_set_scaled.shape: ', training_set_scaled.shape)\n",
        "\n"
      ],
      "id": "65d8c153"
    },
    {
      "cell_type": "code",
      "execution_count": null,
      "metadata": {
        "id": "20017b3e",
        "colab": {
          "base_uri": "https://localhost:8080/"
        },
        "outputId": "17faa725-e76e-4549-e4eb-c6f31c18ed75"
      },
      "outputs": [
        {
          "output_type": "execute_result",
          "data": {
            "text/plain": [
              "((303, 7, 14), (303, 1))"
            ]
          },
          "metadata": {},
          "execution_count": 18
        }
      ],
      "source": [
        "# creating a data structure with timesteps and 1 output\n",
        "X_train = []\n",
        "y_train = []\n",
        "\n",
        "for i in range(n_past, len(training_set_scaled) - n_future + 1):\n",
        "    X_train.append(training_set_scaled[i-n_past:i, :])\n",
        "    y_train.append(training_set_scaled[i:i+n_future, 0])\n",
        "\n",
        "X_train, y_train = np.array(X_train), np.array(y_train)\n",
        "X_train.shape, y_train.shape\n",
        "\n",
        "\n",
        "\n"
      ],
      "id": "20017b3e"
    },
    {
      "cell_type": "code",
      "source": [
        "X_train=X_train[:280]\n",
        "y_train=y_train[:280]"
      ],
      "metadata": {
        "id": "4Qe7TQevvZfX"
      },
      "id": "4Qe7TQevvZfX",
      "execution_count": null,
      "outputs": []
    },
    {
      "cell_type": "code",
      "source": [
        "X_test = X_train[-1].reshape(1, n_past, n_features)\n",
        "y_test  = y_train[-1]\n",
        "\n",
        "X_test"
      ],
      "metadata": {
        "id": "ZCiWqEZygzDS",
        "colab": {
          "base_uri": "https://localhost:8080/"
        },
        "outputId": "41bd807c-8fbc-4b98-efe9-d443fc2367a2"
      },
      "id": "ZCiWqEZygzDS",
      "execution_count": null,
      "outputs": [
        {
          "output_type": "execute_result",
          "data": {
            "text/plain": [
              "array([[[0.61512343, 0.11715659, 0.18583601, 0.59597223, 0.60557561,\n",
              "         0.37229424, 0.43969238, 0.14821732, 0.68204313, 0.4677974 ,\n",
              "         0.44583333, 0.59510462, 0.40886105, 0.43529412],\n",
              "        [0.62273963, 0.07315554, 0.14481059, 0.59898319, 0.57905099,\n",
              "         0.44611392, 0.5312422 , 0.07621446, 0.69143508, 0.48042579,\n",
              "         0.27083333, 0.30560559, 0.57063957, 0.41176471],\n",
              "        [0.58882918, 0.06826216, 0.14523338, 0.59898319, 0.54533718,\n",
              "         0.32575205, 0.7518387 , 0.14831297, 0.70764036, 0.48042579,\n",
              "         0.19583333, 0.30560559, 0.57063957, 0.42352941],\n",
              "        [0.59591725, 0.01147309, 0.05384318, 0.59898319, 0.5208047 ,\n",
              "         0.44570254, 0.64245446, 0.03354723, 0.70584217, 0.48042579,\n",
              "         0.10416667, 0.30560559, 0.57063957, 0.24705882],\n",
              "        [0.61461683, 0.01652052, 0.0751926 , 0.59898319, 0.50783188,\n",
              "         0.47949204, 0.25067614, 0.066354  , 0.74549375, 0.60974784,\n",
              "         0.10416667, 0.38662608, 0.52696971, 0.25882353],\n",
              "        [0.59080158, 0.11825476, 0.16921346, 0.59898319, 0.48910026,\n",
              "         0.3544185 , 0.5512873 , 0.19429381, 0.76502666, 0.60974784,\n",
              "         0.15416667, 0.38662608, 0.52696971, 0.4       ],\n",
              "        [0.63847095, 0.05546739, 0.0806593 , 0.59898319, 0.49122966,\n",
              "         0.56634481, 0.04895888, 0.13682982, 0.6401185 , 0.60974784,\n",
              "         0.1625    , 0.38662608, 0.52696971, 0.23529412]]])"
            ]
          },
          "metadata": {},
          "execution_count": 20
        }
      ]
    },
    {
      "cell_type": "code",
      "source": [
        "X_train.shape"
      ],
      "metadata": {
        "colab": {
          "base_uri": "https://localhost:8080/"
        },
        "id": "ErawtXJFcVzm",
        "outputId": "a5e89d6f-b8c6-4235-82b9-713e9aa47c34"
      },
      "id": "ErawtXJFcVzm",
      "execution_count": null,
      "outputs": [
        {
          "output_type": "execute_result",
          "data": {
            "text/plain": [
              "(280, 7, 14)"
            ]
          },
          "metadata": {},
          "execution_count": 21
        }
      ]
    },
    {
      "cell_type": "code",
      "source": [
        "X_train"
      ],
      "metadata": {
        "id": "mzfkHeMecLUH",
        "colab": {
          "base_uri": "https://localhost:8080/"
        },
        "outputId": "2e381a60-4733-4e38-bbd9-9e82c0a52920"
      },
      "id": "mzfkHeMecLUH",
      "execution_count": null,
      "outputs": [
        {
          "output_type": "execute_result",
          "data": {
            "text/plain": [
              "array([[[0.03042197, 0.12210088, 0.08639907, ..., 0.8009248 ,\n",
              "         0.03727926, 0.96470588],\n",
              "        [0.01348289, 0.13612209, 0.09437525, ..., 0.59296944,\n",
              "         0.05285984, 0.96470588],\n",
              "        [0.02439981, 0.04956778, 0.03072575, ..., 0.59296944,\n",
              "         0.05285984, 0.97647059],\n",
              "        ...,\n",
              "        [0.02482231, 0.04483597, 0.01435795, ..., 0.86859109,\n",
              "         0.        , 0.98823529],\n",
              "        [0.0063151 , 0.10665087, 0.06861693, ..., 0.86859109,\n",
              "         0.        , 1.        ],\n",
              "        [0.01108404, 0.1614585 , 0.09721525, ..., 0.86859109,\n",
              "         0.        , 0.89411765]],\n",
              "\n",
              "       [[0.01348289, 0.13612209, 0.09437525, ..., 0.59296944,\n",
              "         0.05285984, 0.96470588],\n",
              "        [0.02439981, 0.04956778, 0.03072575, ..., 0.59296944,\n",
              "         0.05285984, 0.97647059],\n",
              "        [0.0290495 , 0.03162373, 0.01066465, ..., 0.59296944,\n",
              "         0.05285984, 1.        ],\n",
              "        ...,\n",
              "        [0.0063151 , 0.10665087, 0.06861693, ..., 0.86859109,\n",
              "         0.        , 1.        ],\n",
              "        [0.01108404, 0.1614585 , 0.09721525, ..., 0.86859109,\n",
              "         0.        , 0.89411765],\n",
              "        [0.00478936, 0.07998876, 0.02336985, ..., 0.82000733,\n",
              "         0.00426442, 0.98823529]],\n",
              "\n",
              "       [[0.02439981, 0.04956778, 0.03072575, ..., 0.59296944,\n",
              "         0.05285984, 0.97647059],\n",
              "        [0.0290495 , 0.03162373, 0.01066465, ..., 0.59296944,\n",
              "         0.05285984, 1.        ],\n",
              "        [0.02482231, 0.04483597, 0.01435795, ..., 0.86859109,\n",
              "         0.        , 0.98823529],\n",
              "        ...,\n",
              "        [0.01108404, 0.1614585 , 0.09721525, ..., 0.86859109,\n",
              "         0.        , 0.89411765],\n",
              "        [0.00478936, 0.07998876, 0.02336985, ..., 0.82000733,\n",
              "         0.00426442, 0.98823529],\n",
              "        [0.        , 0.14017211, 0.06406206, ..., 0.82000733,\n",
              "         0.00426442, 0.92941176]],\n",
              "\n",
              "       ...,\n",
              "\n",
              "       [[0.76039819, 0.06887682, 0.16463597, ..., 0.59510462,\n",
              "         0.40886105, 0.81176471],\n",
              "        [0.63302961, 0.2941034 , 0.45972959, ..., 0.59510462,\n",
              "         0.40886105, 0.81176471],\n",
              "        [0.61512343, 0.11715659, 0.18583601, ..., 0.59510462,\n",
              "         0.40886105, 0.43529412],\n",
              "        ...,\n",
              "        [0.58882918, 0.06826216, 0.14523338, ..., 0.30560559,\n",
              "         0.57063957, 0.42352941],\n",
              "        [0.59591725, 0.01147309, 0.05384318, ..., 0.30560559,\n",
              "         0.57063957, 0.24705882],\n",
              "        [0.61461683, 0.01652052, 0.0751926 , ..., 0.38662608,\n",
              "         0.52696971, 0.25882353]],\n",
              "\n",
              "       [[0.63302961, 0.2941034 , 0.45972959, ..., 0.59510462,\n",
              "         0.40886105, 0.81176471],\n",
              "        [0.61512343, 0.11715659, 0.18583601, ..., 0.59510462,\n",
              "         0.40886105, 0.43529412],\n",
              "        [0.62273963, 0.07315554, 0.14481059, ..., 0.30560559,\n",
              "         0.57063957, 0.41176471],\n",
              "        ...,\n",
              "        [0.59591725, 0.01147309, 0.05384318, ..., 0.30560559,\n",
              "         0.57063957, 0.24705882],\n",
              "        [0.61461683, 0.01652052, 0.0751926 , ..., 0.38662608,\n",
              "         0.52696971, 0.25882353],\n",
              "        [0.59080158, 0.11825476, 0.16921346, ..., 0.38662608,\n",
              "         0.52696971, 0.4       ]],\n",
              "\n",
              "       [[0.61512343, 0.11715659, 0.18583601, ..., 0.59510462,\n",
              "         0.40886105, 0.43529412],\n",
              "        [0.62273963, 0.07315554, 0.14481059, ..., 0.30560559,\n",
              "         0.57063957, 0.41176471],\n",
              "        [0.58882918, 0.06826216, 0.14523338, ..., 0.30560559,\n",
              "         0.57063957, 0.42352941],\n",
              "        ...,\n",
              "        [0.61461683, 0.01652052, 0.0751926 , ..., 0.38662608,\n",
              "         0.52696971, 0.25882353],\n",
              "        [0.59080158, 0.11825476, 0.16921346, ..., 0.38662608,\n",
              "         0.52696971, 0.4       ],\n",
              "        [0.63847095, 0.05546739, 0.0806593 , ..., 0.38662608,\n",
              "         0.52696971, 0.23529412]]])"
            ]
          },
          "metadata": {},
          "execution_count": 22
        }
      ]
    },
    {
      "cell_type": "code",
      "execution_count": null,
      "metadata": {
        "colab": {
          "base_uri": "https://localhost:8080/"
        },
        "id": "b57feb51",
        "outputId": "b16791dd-ccdc-4a58-9663-1926b7ede66a"
      },
      "outputs": [
        {
          "output_type": "execute_result",
          "data": {
            "text/plain": [
              "(280, 7, 14)"
            ]
          },
          "metadata": {},
          "execution_count": 23
        }
      ],
      "source": [
        "# reshaping (needed to fit RNN)\n",
        "X_train = np.reshape(X_train, (X_train.shape[0], X_train.shape[1], n_features))\n",
        "X_train.shape\n",
        "\n"
      ],
      "id": "b57feb51"
    },
    {
      "cell_type": "markdown",
      "metadata": {
        "id": "0c61dd7d"
      },
      "source": [
        "# GridSearch\n",
        "\n",
        "\n",
        "\n"
      ],
      "id": "0c61dd7d"
    },
    {
      "cell_type": "code",
      "execution_count": null,
      "metadata": {
        "id": "e179bf60"
      },
      "outputs": [],
      "source": [
        "# Building the RNN\n",
        "\n",
        "def create_model(activation='relu',learn_rate=0.01, momentum=0,n_neurons=64, optimizer='adam',dropout=0.1,n_layers=1):\n",
        "  # Initialising the RNN\n",
        "  regressor = Sequential()\n",
        "\n",
        "  # Input layer\n",
        "  regressor.add(LSTM(units=n_past, return_sequences=True, activation=activation, input_shape=(X_train.shape[1], n_features))) \n",
        "  #regressor.add(LSTM(units=neurons, return_sequences=True, activation=activation, input_shape=(X_train.shape[1], 1))) \n",
        "\n",
        "  # Hidden layers\n",
        "  for _ in range(n_layers):\n",
        "      regressor.add(Dropout(dropout))\n",
        "      regressor.add(LSTM(units=n_neurons, return_sequences=True, activation=activation))\n",
        "\n",
        "  # Last hidden layer (changing the return_sequences)\n",
        "  regressor.add(Dropout(dropout))\n",
        "  regressor.add(LSTM(units=n_neurons, return_sequences=False))\n",
        "\n",
        "  # Adding the output layer\n",
        "  regressor.add(Dense(units=n_future,))\n",
        "\n",
        "  # Compiling the RNN\n",
        "  regressor.compile(optimizer=optimizer, loss='mse',metrics=[tf.keras.metrics.MeanSquaredError()],\n",
        "  )\n",
        "\n",
        "\n",
        "  # Model summary\n",
        "  regressor.summary()\n",
        "  return regressor"
      ],
      "id": "e179bf60"
    },
    {
      "cell_type": "code",
      "source": [
        "'''pip install scikeras'''"
      ],
      "metadata": {
        "id": "dJxtAdV8a8lV",
        "colab": {
          "base_uri": "https://localhost:8080/",
          "height": 36
        },
        "outputId": "f869dcb8-0570-4549-ec3e-6305bd3f93d3"
      },
      "id": "dJxtAdV8a8lV",
      "execution_count": null,
      "outputs": [
        {
          "output_type": "execute_result",
          "data": {
            "application/vnd.google.colaboratory.intrinsic+json": {
              "type": "string"
            },
            "text/plain": [
              "'pip install scikeras'"
            ]
          },
          "metadata": {},
          "execution_count": 25
        }
      ]
    },
    {
      "cell_type": "code",
      "execution_count": null,
      "metadata": {
        "id": "1257897b",
        "colab": {
          "base_uri": "https://localhost:8080/",
          "height": 129
        },
        "outputId": "a3ac30df-9006-4dd2-806f-e1f95d077128"
      },
      "outputs": [
        {
          "output_type": "execute_result",
          "data": {
            "application/vnd.google.colaboratory.intrinsic+json": {
              "type": "string"
            },
            "text/plain": [
              "'from sklearn import svm, datasets\\nfrom sklearn.model_selection import GridSearchCV\\nfrom scikeras.wrappers import  KerasRegressor\\n\\n#tu appelles ton model :\\nmodel =  KerasRegressor(model=create_model,  verbose=0)\\n\\n# define the grid search parameters\\nbatch_size = [1,10, 20]\\nlearn_rate = [0.001, 0.01, 0.1, 0.2, 0.3]\\nmomentum = [ 0.2, 0.4]\\noptimizer = [\\'SGD\\', \\'Adam\\',]\\nactivation =  [ \\'softsign\\', \\'relu\\', \\'tanh\\', \\'sigmoid\\']\\nepochs = [3,7,10]\\nn_neurons=[32, 64,  128]\\ndropout=[0, 0.1,  0.2]\\nn_layers=[1,3,6]\\n\\nparam_grid = dict(epochs=epochs, batch_size=batch_size)\\ngrid = GridSearchCV(estimator=model, param_grid=param_grid, n_jobs=-1, cv=5, scoring=\"r2\", error_score=\"raise\")\\ngrid_result = grid.fit(X_train,y_train)\\n\\n# summarize results\\nprint(\"Best: %f using %s\" % (grid_result.best_score_, grid_result.best_params_))\\nmeans = grid_result.cv_results_[\\'mean_test_score\\']\\nstds = grid_result.cv_results_[\\'std_test_score\\']\\nparams = grid_result.cv_results_[\\'params\\']\\nfor mean, stdev, param in zip(means, stds, params):\\n    print(\"%f (%f) with: %r\" % (mean, stdev, param))'"
            ]
          },
          "metadata": {},
          "execution_count": 26
        }
      ],
      "source": [
        "'''from sklearn import svm, datasets\n",
        "from sklearn.model_selection import GridSearchCV\n",
        "from scikeras.wrappers import  KerasRegressor\n",
        "\n",
        "#tu appelles ton model :\n",
        "model =  KerasRegressor(model=create_model,  verbose=0)\n",
        "\n",
        "# define the grid search parameters\n",
        "batch_size = [1,10, 20]\n",
        "learn_rate = [0.001, 0.01, 0.1, 0.2, 0.3]\n",
        "momentum = [ 0.2, 0.4]\n",
        "optimizer = ['SGD', 'Adam',]\n",
        "activation =  [ 'softsign', 'relu', 'tanh', 'sigmoid']\n",
        "epochs = [3,7,10]\n",
        "n_neurons=[32, 64,  128]\n",
        "dropout=[0, 0.1,  0.2]\n",
        "n_layers=[1,3,6]\n",
        "\n",
        "param_grid = dict(epochs=epochs, batch_size=batch_size)\n",
        "grid = GridSearchCV(estimator=model, param_grid=param_grid, n_jobs=-1, cv=5, scoring=\"r2\", error_score=\"raise\")\n",
        "grid_result = grid.fit(X_train,y_train)\n",
        "\n",
        "# summarize results\n",
        "print(\"Best: %f using %s\" % (grid_result.best_score_, grid_result.best_params_))\n",
        "means = grid_result.cv_results_['mean_test_score']\n",
        "stds = grid_result.cv_results_['std_test_score']\n",
        "params = grid_result.cv_results_['params']\n",
        "for mean, stdev, param in zip(means, stds, params):\n",
        "    print(\"%f (%f) with: %r\" % (mean, stdev, param))'''"
      ],
      "id": "1257897b"
    },
    {
      "cell_type": "markdown",
      "metadata": {
        "id": "U_jmaIR6K6xD"
      },
      "source": [
        "# BUILD LSTM"
      ],
      "id": "U_jmaIR6K6xD"
    },
    {
      "cell_type": "code",
      "source": [
        "  # Initialising the RNN\n",
        "regressor = Sequential()\n",
        "\n",
        "  # Input layer\n",
        "regressor.add(LSTM(units=n_past, return_sequences=True, activation=activation, input_shape=(X_train.shape[1], n_features))) \n",
        "  #regressor.add(LSTM(units=neurons, return_sequences=True, activation=activation, input_shape=(X_train.shape[1], 1))) \n",
        "\n",
        "  # Hidden layers\n",
        "for _ in range(n_layers):\n",
        "   regressor.add(Dropout(dropout))\n",
        "   regressor.add(LSTM(units=n_neurons, return_sequences=True, activation=activation))\n",
        "\n",
        "  # Last hidden layer (changing the return_sequences)\n",
        "regressor.add(Dropout(dropout))\n",
        "regressor.add(LSTM(units=n_neurons, return_sequences=False))\n",
        "\n",
        "  # Adding the output layer\n",
        "regressor.add(Dense(units=n_future,))\n",
        "\n",
        "  # Compiling the RNN\n",
        "regressor.compile(optimizer=optimizer, loss='mse',metrics=[tf.keras.metrics.MeanSquaredError()],\n",
        "  )\n",
        "\n",
        "\n",
        "  # Model summary\n",
        "regressor.summary()\n"
      ],
      "metadata": {
        "colab": {
          "base_uri": "https://localhost:8080/"
        },
        "id": "ucIZQqnNZbQ0",
        "outputId": "e635c03f-9148-4933-cd44-7f12ac6bfbf5"
      },
      "id": "ucIZQqnNZbQ0",
      "execution_count": null,
      "outputs": [
        {
          "output_type": "stream",
          "name": "stdout",
          "text": [
            "WARNING:tensorflow:Layer lstm will not use cuDNN kernels since it doesn't meet the criteria. It will use a generic GPU kernel as fallback when running on GPU.\n",
            "WARNING:tensorflow:Layer lstm_1 will not use cuDNN kernels since it doesn't meet the criteria. It will use a generic GPU kernel as fallback when running on GPU.\n",
            "WARNING:tensorflow:Layer lstm_2 will not use cuDNN kernels since it doesn't meet the criteria. It will use a generic GPU kernel as fallback when running on GPU.\n",
            "Model: \"sequential\"\n",
            "_________________________________________________________________\n",
            " Layer (type)                Output Shape              Param #   \n",
            "=================================================================\n",
            " lstm (LSTM)                 (None, 7, 7)              616       \n",
            "                                                                 \n",
            " dropout (Dropout)           (None, 7, 7)              0         \n",
            "                                                                 \n",
            " lstm_1 (LSTM)               (None, 7, 64)             18432     \n",
            "                                                                 \n",
            " dropout_1 (Dropout)         (None, 7, 64)             0         \n",
            "                                                                 \n",
            " lstm_2 (LSTM)               (None, 7, 64)             33024     \n",
            "                                                                 \n",
            " dropout_2 (Dropout)         (None, 7, 64)             0         \n",
            "                                                                 \n",
            " lstm_3 (LSTM)               (None, 64)                33024     \n",
            "                                                                 \n",
            " dense (Dense)               (None, 1)                 65        \n",
            "                                                                 \n",
            "=================================================================\n",
            "Total params: 85,161\n",
            "Trainable params: 85,161\n",
            "Non-trainable params: 0\n",
            "_________________________________________________________________\n"
          ]
        }
      ]
    },
    {
      "cell_type": "code",
      "execution_count": null,
      "metadata": {
        "id": "d6ea3ecd"
      },
      "outputs": [],
      "source": [
        "#  Adding early stopping\n",
        "early_stop = EarlyStopping(monitor='val_loss', mode='min', verbose=1, patience=patience)"
      ],
      "id": "d6ea3ecd"
    },
    {
      "cell_type": "code",
      "execution_count": null,
      "metadata": {
        "colab": {
          "base_uri": "https://localhost:8080/"
        },
        "id": "1c21a7d6",
        "outputId": "35e9f222-d7dd-49d6-849a-9788b6841f4e"
      },
      "outputs": [
        {
          "output_type": "stream",
          "name": "stdout",
          "text": [
            "Epoch 1/10\n",
            "266/266 [==============================] - 18s 40ms/step - loss: 0.0411 - mean_squared_error: 0.0411 - val_loss: 0.0128 - val_mean_squared_error: 0.0128\n",
            "Epoch 2/10\n",
            "266/266 [==============================] - 10s 36ms/step - loss: 0.0156 - mean_squared_error: 0.0156 - val_loss: 0.0042 - val_mean_squared_error: 0.0042\n",
            "Epoch 3/10\n",
            "266/266 [==============================] - 12s 45ms/step - loss: 0.0095 - mean_squared_error: 0.0095 - val_loss: 0.0178 - val_mean_squared_error: 0.0178\n",
            "Epoch 4/10\n",
            "266/266 [==============================] - 10s 38ms/step - loss: 0.0090 - mean_squared_error: 0.0090 - val_loss: 0.0078 - val_mean_squared_error: 0.0078\n",
            "Epoch 5/10\n",
            "266/266 [==============================] - 13s 50ms/step - loss: 0.0086 - mean_squared_error: 0.0086 - val_loss: 0.0035 - val_mean_squared_error: 0.0035\n",
            "Epoch 6/10\n",
            "266/266 [==============================] - 10s 38ms/step - loss: 0.0071 - mean_squared_error: 0.0071 - val_loss: 0.0029 - val_mean_squared_error: 0.0029\n",
            "Epoch 7/10\n",
            "266/266 [==============================] - 10s 38ms/step - loss: 0.0085 - mean_squared_error: 0.0085 - val_loss: 0.0069 - val_mean_squared_error: 0.0069\n",
            "Epoch 8/10\n",
            "266/266 [==============================] - 10s 38ms/step - loss: 0.0067 - mean_squared_error: 0.0067 - val_loss: 0.0081 - val_mean_squared_error: 0.0081\n",
            "Epoch 9/10\n",
            "266/266 [==============================] - 10s 38ms/step - loss: 0.0058 - mean_squared_error: 0.0058 - val_loss: 0.0028 - val_mean_squared_error: 0.0028\n",
            "Epoch 10/10\n",
            "266/266 [==============================] - 10s 38ms/step - loss: 0.0067 - mean_squared_error: 0.0067 - val_loss: 0.0051 - val_mean_squared_error: 0.0051\n"
          ]
        }
      ],
      "source": [
        "# Fitting the RNN to the Training set\n",
        "res = regressor.fit(X_train, y_train\n",
        "                    , batch_size=batch_size\n",
        "                    , epochs=10\n",
        "                    , validation_split=0.05\n",
        "                    , callbacks=[early_stop]\n",
        "                   )\n",
        "\n"
      ],
      "id": "1c21a7d6"
    },
    {
      "cell_type": "code",
      "execution_count": null,
      "metadata": {
        "id": "296d07db"
      },
      "outputs": [],
      "source": [
        "# Exporting the regressor\n",
        "last_date = dataset.date.values[-1]\n",
        "params = ['reg', last_date, n_past_total, n_past, n_future, activation, n_layers, n_neurons,batch_size ,n_features, patience, optimizer]\n",
        "modelname = 'output/'\n",
        "for i in params:\n",
        "    modelname += str(i)\n",
        "    if i!= params[-1]:\n",
        "        modelname += '_'\n",
        "if not os.path.exists(modelname):\n",
        "    os.makedirs(modelname)\n",
        "regressor.save('{}/regressor.h5'.format(modelname))"
      ],
      "id": "296d07db"
    },
    {
      "cell_type": "code",
      "execution_count": null,
      "metadata": {
        "colab": {
          "base_uri": "https://localhost:8080/"
        },
        "id": "2640081e",
        "outputId": "ec8034a1-4f35-47e2-8670-5a5548c3c0e8"
      },
      "outputs": [
        {
          "output_type": "execute_result",
          "data": {
            "text/plain": [
              "['loss', 'mean_squared_error', 'val_loss', 'val_mean_squared_error']"
            ]
          },
          "metadata": {},
          "execution_count": 31
        }
      ],
      "source": [
        "list(res.history)"
      ],
      "id": "2640081e"
    },
    {
      "cell_type": "code",
      "execution_count": null,
      "metadata": {
        "id": "21279349"
      },
      "outputs": [],
      "source": [
        "# Loads the weights\n",
        "#regressor.load_weights(checkpoint_path)"
      ],
      "id": "21279349"
    },
    {
      "cell_type": "code",
      "execution_count": null,
      "metadata": {
        "id": "c8f24767"
      },
      "outputs": [],
      "source": [
        "# Recreate the exact same model, including its weights and the optimizer\n",
        "# new_model = tf.keras.models.load_model('C:\\Users\\yonas\\output\\reg_2021-10-29_700_90_7_softsign_6_64_5_19_25_adam\\regressor.h5')\n"
      ],
      "id": "c8f24767"
    },
    {
      "cell_type": "code",
      "source": [
        "\n"
      ],
      "metadata": {
        "id": "_FeOLTLUYqXI"
      },
      "id": "_FeOLTLUYqXI",
      "execution_count": null,
      "outputs": []
    },
    {
      "cell_type": "markdown",
      "metadata": {
        "id": "b8b88384"
      },
      "source": [
        "\n",
        "# Validation"
      ],
      "id": "b8b88384"
    },
    {
      "cell_type": "code",
      "execution_count": null,
      "metadata": {
        "colab": {
          "base_uri": "https://localhost:8080/",
          "height": 301
        },
        "id": "595e4855",
        "outputId": "d2d2b1cf-9906-47f8-e3eb-92903490f441"
      },
      "outputs": [
        {
          "output_type": "display_data",
          "data": {
            "image/png": "[encoded data removed]",
            "text/plain": [
              "<Figure size 864x288 with 1 Axes>"
            ]
          },
          "metadata": {}
        }
      ],
      "source": [
        "\n",
        "\n",
        "# Plotting Loss/MSE\n",
        "\n",
        "results = res\n",
        "\n",
        "history = results.history\n",
        "plt.figure(figsize=(12,4))\n",
        "plt.plot(history['val_loss'])\n",
        "plt.plot(history['loss'])\n",
        "plt.legend(['val_loss', 'loss'])\n",
        "plt.title('Loss')\n",
        "plt.xlabel('Epochs')\n",
        "plt.ylabel('Loss')\n",
        "plt.savefig('{}/Loss.png'.format(modelname))\n",
        "plt.show()\n",
        "\n"
      ],
      "id": "595e4855"
    },
    {
      "cell_type": "code",
      "execution_count": null,
      "metadata": {
        "id": "197a10f4"
      },
      "outputs": [],
      "source": [
        "\n",
        "\n",
        "def dummy_invscaler(y, n_features):\n",
        "    '''\n",
        "    Since the scaler was trained into 2 features, it needs two features to perform the inverse scaleer.\n",
        "    For that purpose, this function will create a dummy array and concatenate it to the y_pred/y_true.\n",
        "    That dummy of ones will be drop after performing the inverse_transform.\n",
        "    INPUTS: array 'y', shape (X,)\n",
        "    '''\n",
        "    y = np.array(y).reshape(-1,1)\n",
        "    if n_features>1:\n",
        "        dummy = np.ones((len(y), n_features-1))\n",
        "        y = np.concatenate((y, dummy), axis=1)\n",
        "        y = sc.inverse_transform(y)\n",
        "        y = y[:,0]\n",
        "    else:\n",
        "        y = sc.inverse_transform(y)\n",
        "    return y\n",
        "\n"
      ],
      "id": "197a10f4"
    },
    {
      "cell_type": "code",
      "execution_count": null,
      "metadata": {
        "colab": {
          "base_uri": "https://localhost:8080/"
        },
        "id": "UdATVXAJywzp",
        "outputId": "a93a42bf-5942-4635-d5ad-3966813c2d57"
      },
      "outputs": [
        {
          "output_type": "execute_result",
          "data": {
            "text/plain": [
              "array([[[0.61512343, 0.11715659, 0.18583601, 0.59597223, 0.60557561,\n",
              "         0.37229424, 0.43969238, 0.14821732, 0.68204313, 0.4677974 ,\n",
              "         0.44583333, 0.59510462, 0.40886105, 0.43529412],\n",
              "        [0.62273963, 0.07315554, 0.14481059, 0.59898319, 0.57905099,\n",
              "         0.44611392, 0.5312422 , 0.07621446, 0.69143508, 0.48042579,\n",
              "         0.27083333, 0.30560559, 0.57063957, 0.41176471],\n",
              "        [0.58882918, 0.06826216, 0.14523338, 0.59898319, 0.54533718,\n",
              "         0.32575205, 0.7518387 , 0.14831297, 0.70764036, 0.48042579,\n",
              "         0.19583333, 0.30560559, 0.57063957, 0.42352941],\n",
              "        [0.59591725, 0.01147309, 0.05384318, 0.59898319, 0.5208047 ,\n",
              "         0.44570254, 0.64245446, 0.03354723, 0.70584217, 0.48042579,\n",
              "         0.10416667, 0.30560559, 0.57063957, 0.24705882],\n",
              "        [0.61461683, 0.01652052, 0.0751926 , 0.59898319, 0.50783188,\n",
              "         0.47949204, 0.25067614, 0.066354  , 0.74549375, 0.60974784,\n",
              "         0.10416667, 0.38662608, 0.52696971, 0.25882353],\n",
              "        [0.59080158, 0.11825476, 0.16921346, 0.59898319, 0.48910026,\n",
              "         0.3544185 , 0.5512873 , 0.19429381, 0.76502666, 0.60974784,\n",
              "         0.15416667, 0.38662608, 0.52696971, 0.4       ],\n",
              "        [0.63847095, 0.05546739, 0.0806593 , 0.59898319, 0.49122966,\n",
              "         0.56634481, 0.04895888, 0.13682982, 0.6401185 , 0.60974784,\n",
              "         0.1625    , 0.38662608, 0.52696971, 0.23529412]]])"
            ]
          },
          "metadata": {},
          "execution_count": 36
        }
      ],
      "source": [
        "X_test"
      ],
      "id": "UdATVXAJywzp"
    },
    {
      "cell_type": "code",
      "execution_count": null,
      "metadata": {
        "colab": {
          "base_uri": "https://localhost:8080/",
          "height": 412
        },
        "id": "9c21f870",
        "outputId": "4fe883d1-e816-4cb5-f6f2-1e817122542a"
      },
      "outputs": [
        {
          "output_type": "stream",
          "name": "stdout",
          "text": [
            "y_pred:\n",
            " [45662.01101659596]\n",
            "y_true:\n",
            " [[53951.43]]\n"
          ]
        },
        {
          "output_type": "display_data",
          "data": {
            "image/png": "[encoded data removed]",
            "text/plain": [
              "<Figure size 1152x360 with 1 Axes>"
            ]
          },
          "metadata": {}
        }
      ],
      "source": [
        "\n",
        "\n",
        "# Validation\n",
        "\n",
        "# getting the predictions\n",
        "\n",
        "\n",
        "y_pred = regressor.predict(X_test).tolist()[0]\n",
        "y_pred = dummy_invscaler(y_pred, n_features)\n",
        "#X_test = \n",
        "\n",
        "# creating a DF of the predicted prices\n",
        "y_pred_df = pd.DataFrame(y_pred, \n",
        "                         index=df[['close']].tail(n_future).index, \n",
        "                         columns=df[['close']].columns)\n",
        "\n",
        "# getting the true values\n",
        "y_true_df = df[['close']]#.tail(n_future)\n",
        "y_true = y_true_df.tail(n_future).values\n",
        "\n",
        "print('y_pred:\\n', y_pred.tolist())\n",
        "print('y_true:\\n', y_true.tolist())\n",
        "\n",
        "\n",
        "# plotting the results\n",
        "plt.figure(figsize=(16,5))\n",
        "plt.plot(y_pred_df, label='Y Predicted')\n",
        "plt.plot(y_true_df, label='Y Train')\n",
        "plt.plot(y_true_df.tail(n_past), label='Y Test')\n",
        "\n",
        "plt.title('BTC price Predicted vs True')\n",
        "plt.legend()\n",
        "plt.savefig('{}/Validation.png'.format(modelname))\n",
        "plt.grid()\n",
        "plt.show()\n",
        "\n"
      ],
      "id": "9c21f870"
    },
    {
      "cell_type": "code",
      "source": [
        "listetrue =[]\n",
        "listepred=[]\n",
        "\n",
        "for i in range(30,0,-1):\n",
        "  \n",
        "  X_test = X_train[-i].reshape(1, n_past, n_features)\n",
        "  y_test  = y_train[-i]\n",
        "  y_pred = regressor.predict(X_test).tolist()[0]\n",
        "  y_pred = dummy_invscaler(y_pred, n_features)\n",
        "  # creating a DF of the predicted prices\n",
        "  y_pred_df = pd.DataFrame(y_pred, \n",
        "                         index=df[['close']].tail(n_future).index, \n",
        "                         columns=df[['close']].columns)\n",
        "  \n",
        "  # getting the true values\n",
        "  y_true_df = df[['close']]#.tail(n_future)\n",
        "  y_true = y_true_df.tail(i).head(1).values\n",
        "  '''print('-----------------------------')\n",
        "  print(i)\n",
        "  print('y_pred:\\n', y_pred.tolist())\n",
        "  print('y_true:\\n', y_true.tolist())'''\n",
        "  y_true.tolist()\n",
        "  listetrue.append(y_pred.tolist())\n",
        "  listepred.append(y_true.tolist())\n",
        "\n",
        " "
      ],
      "metadata": {
        "id": "Syyh4eSAWvme"
      },
      "id": "Syyh4eSAWvme",
      "execution_count": null,
      "outputs": []
    },
    {
      "cell_type": "code",
      "source": [
        "listepred = np.array(listepred).reshape(30,1)\n"
      ],
      "metadata": {
        "id": "_4Y_Fabhp1WB"
      },
      "id": "_4Y_Fabhp1WB",
      "execution_count": null,
      "outputs": []
    },
    {
      "cell_type": "code",
      "source": [
        "# Root Mean Square Error (RMSE)\n",
        "rmse = math.sqrt(mean_squared_error(listepred, listetrue))\n",
        "moy = y_true.mean()\n",
        "Nrmse = rmse/moy\n",
        "Nrmse"
      ],
      "metadata": {
        "colab": {
          "base_uri": "https://localhost:8080/"
        },
        "id": "KYrUms06qWZk",
        "outputId": "4cbc9d4a-3be5-4f39-8414-e2001f413503"
      },
      "id": "KYrUms06qWZk",
      "execution_count": null,
      "outputs": [
        {
          "output_type": "execute_result",
          "data": {
            "text/plain": [
              "0.0886464034530809"
            ]
          },
          "metadata": {},
          "execution_count": 40
        }
      ]
    },
    {
      "cell_type": "code",
      "source": [
        "\n",
        "\n",
        "def mape(actual, pred): \n",
        "    actual, pred = np.array(actual), np.array(pred)\n",
        "    return np.mean(np.abs((actual - pred) / actual)) * 100\n",
        "\n",
        "\n",
        "Mape= mape(listepred, listetrue)\n",
        "Mape"
      ],
      "metadata": {
        "colab": {
          "base_uri": "https://localhost:8080/"
        },
        "id": "AtSulKUVr0mv",
        "outputId": "971d0bd8-46a7-4311-ce4e-d742505ae311"
      },
      "id": "AtSulKUVr0mv",
      "execution_count": null,
      "outputs": [
        {
          "output_type": "execute_result",
          "data": {
            "text/plain": [
              "8.479825928208637"
            ]
          },
          "metadata": {},
          "execution_count": 51
        }
      ]
    },
    {
      "cell_type": "code",
      "source": [
        "#Explained variance regression score function.\n",
        "explained_variance_score(listepred, listetrue)\n",
        "# Best possible score is 1.0, lower values are worse."
      ],
      "metadata": {
        "colab": {
          "base_uri": "https://localhost:8080/"
        },
        "id": "0hu92GHAr5wg",
        "outputId": "20b977d9-805e-4365-99ff-6a35cef41b68"
      },
      "id": "0hu92GHAr5wg",
      "execution_count": null,
      "outputs": [
        {
          "output_type": "execute_result",
          "data": {
            "text/plain": [
              "-0.45712408664774706"
            ]
          },
          "metadata": {},
          "execution_count": 42
        }
      ]
    },
    {
      "cell_type": "code",
      "execution_count": null,
      "metadata": {
        "colab": {
          "base_uri": "https://localhost:8080/"
        },
        "id": "b7904a0a",
        "outputId": "bc518bc3-4cfc-4d9a-bb6e-11bd1376a623"
      },
      "outputs": [
        {
          "output_type": "execute_result",
          "data": {
            "text/plain": [
              "8289.418983404037"
            ]
          },
          "metadata": {},
          "execution_count": 43
        }
      ],
      "source": [
        "\n",
        "\n",
        "# Root Mean Square Error (RMSE)\n",
        "rmse = math.sqrt(mean_squared_error(y_true, y_pred))\n",
        "rmse\n",
        "\n"
      ],
      "id": "b7904a0a"
    },
    {
      "cell_type": "code",
      "execution_count": null,
      "metadata": {
        "colab": {
          "base_uri": "https://localhost:8080/"
        },
        "id": "fd9b0ed0",
        "outputId": "f5537f5c-574b-4934-b9db-5e0030e34f01"
      },
      "outputs": [
        {
          "output_type": "execute_result",
          "data": {
            "text/plain": [
              "8289.418983404037"
            ]
          },
          "metadata": {},
          "execution_count": 44
        }
      ],
      "source": [
        "\n",
        "\n",
        "# mean_absolute_error (MaE)\n",
        "mse = mean_absolute_error(y_true, y_pred)\n",
        "mse\n",
        "\n"
      ],
      "id": "fd9b0ed0"
    },
    {
      "cell_type": "code",
      "execution_count": null,
      "metadata": {
        "colab": {
          "base_uri": "https://localhost:8080/"
        },
        "id": "efad1590",
        "outputId": "857d9ad7-0087-4c1c-d515-1938acb64049"
      },
      "outputs": [
        {
          "output_type": "execute_result",
          "data": {
            "text/plain": [
              "1.0"
            ]
          },
          "metadata": {},
          "execution_count": 45
        }
      ],
      "source": [
        "\n",
        "\n",
        "#Explained variance regression score function.\n",
        "explained_variance_score(y_true, y_pred)\n",
        "# Best possible score is 1.0, lower values are worse.\n",
        "\n"
      ],
      "id": "efad1590"
    },
    {
      "cell_type": "markdown",
      "metadata": {
        "id": "289ce329"
      },
      "source": [
        "\n",
        "# Predictions"
      ],
      "id": "289ce329"
    },
    {
      "cell_type": "code",
      "execution_count": null,
      "metadata": {
        "colab": {
          "base_uri": "https://localhost:8080/",
          "height": 128
        },
        "id": "1871fcaf",
        "outputId": "f34dcd2c-8507-4b08-872b-cb4e30153dbd"
      },
      "outputs": [
        {
          "output_type": "stream",
          "name": "stdout",
          "text": [
            "y_pred:\n",
            " [48966.75796502292]\n",
            "y_true:\n",
            " [[53951.43]]\n"
          ]
        },
        {
          "output_type": "display_data",
          "data": {
            "image/png": "[encoded data removed]",
            "text/plain": [
              "<Figure size 1152x360 with 1 Axes>"
            ]
          },
          "metadata": {}
        }
      ],
      "source": [
        "# Predicting/Forecasting\n",
        "\n",
        "# getting the predictions\n",
        "x = df[features][-n_past:].values\n",
        "x = sc.transform(x)\n",
        "y_pred = regressor.predict(x.reshape(1, n_past, n_features)).tolist()[0]\n",
        "y_pred = dummy_invscaler(y_pred, n_features)\n",
        "\n",
        "# creating a DF of the predicted prices\n",
        "y_pred_df = pd.DataFrame(y_pred, \n",
        "                         index=pd.date_range(start=df[['close']].index[-1]+datetime.timedelta(days=1),\n",
        "                                             periods=len(y_pred), \n",
        "                                             freq=\"D\"), \n",
        "                         columns=df[['close']].columns)\n",
        "\n",
        "# getting the true values\n",
        "y_true_df = df[['close']].tail(n_past)\n",
        "\n",
        "# linking them\n",
        "#y_true_df = y_true_df.append(y_pred_df.head(1))\n",
        "y_pred_df = y_pred_df.append(y_true_df.tail(1)).sort_index()\n",
        "\n",
        "print('y_pred:\\n', y_pred.tolist())\n",
        "print('y_true:\\n', y_true.tolist())\n",
        "\n",
        "# plotting the results\n",
        "plt.figure(figsize=(16,5))\n",
        "plt.plot(y_pred_df, label='Predicted')\n",
        "plt.plot(y_true_df, label='True')\n",
        "\n",
        "plt.title('BTC price Predicted vs True')\n",
        "plt.legend()\n",
        "plt.savefig('{}/Predictions.png'.format(modelname))\n",
        "plt.show()"
      ],
      "id": "1871fcaf"
    },
    {
      "cell_type": "code",
      "execution_count": null,
      "metadata": {
        "colab": {
          "base_uri": "https://localhost:8080/",
          "height": 176
        },
        "id": "51f6ca48",
        "outputId": "f61e7835-1adf-4187-8795-c9873e55aaf0"
      },
      "outputs": [
        {
          "output_type": "execute_result",
          "data": {
            "text/html": [
              "\n",
              "  <div id=\"df-bec3d8c5-cc48-40f8-9ff6-7b127fcb80ab\">\n",
              "    <div class=\"colab-df-container\">\n",
              "      <div>\n",
              "<style scoped>\n",
              "    .dataframe tbody tr th:only-of-type {\n",
              "        vertical-align: middle;\n",
              "    }\n",
              "\n",
              "    .dataframe tbody tr th {\n",
              "        vertical-align: top;\n",
              "    }\n",
              "\n",
              "    .dataframe thead th {\n",
              "        text-align: right;\n",
              "    }\n",
              "</style>\n",
              "<table border=\"1\" class=\"dataframe\">\n",
              "  <thead>\n",
              "    <tr style=\"text-align: right;\">\n",
              "      <th></th>\n",
              "      <th>close</th>\n",
              "    </tr>\n",
              "  </thead>\n",
              "  <tbody>\n",
              "    <tr>\n",
              "      <th>2021-10-08</th>\n",
              "      <td>53951.430</td>\n",
              "    </tr>\n",
              "    <tr>\n",
              "      <th>2021-10-09</th>\n",
              "      <td>48966.758</td>\n",
              "    </tr>\n",
              "  </tbody>\n",
              "</table>\n",
              "</div>\n",
              "      <button class=\"colab-df-convert\" onclick=\"convertToInteractive('df-bec3d8c5-cc48-40f8-9ff6-7b127fcb80ab')\"\n",
              "              title=\"Convert this dataframe to an interactive table.\"\n",
              "              style=\"display:none;\">\n",
              "        \n",
              "  <svg xmlns=\"http://www.w3.org/2000/svg\" height=\"24px\"viewBox=\"0 0 24 24\"\n",
              "       width=\"24px\">\n",
              "    <path d=\"M0 0h24v24H0V0z\" fill=\"none\"/>\n",
              "    <path d=\"M18.56 5.44l.94 2.06.94-2.06 2.06-.94-2.06-.94-.94-2.06-.94 2.06-2.06.94zm-11 1L8.5 8.5l.94-2.06 2.06-.94-2.06-.94L8.5 2.5l-.94 2.06-2.06.94zm10 10l.94 2.06.94-2.06 2.06-.94-2.06-.94-.94-2.06-.94 2.06-2.06.94z\"/><path d=\"M17.41 7.96l-1.37-1.37c-.4-.4-.92-.59-1.43-.59-.52 0-1.04.2-1.43.59L10.3 9.45l-7.72 7.72c-.78.78-.78 2.05 0 2.83L4 21.41c.39.39.9.59 1.41.59.51 0 1.02-.2 1.41-.59l7.78-7.78 2.81-2.81c.8-.78.8-2.07 0-2.86zM5.41 20L4 18.59l7.72-7.72 1.47 1.35L5.41 20z\"/>\n",
              "  </svg>\n",
              "      </button>\n",
              "      \n",
              "  <style>\n",
              "    .colab-df-container {\n",
              "      display:flex;\n",
              "      flex-wrap:wrap;\n",
              "      gap: 12px;\n",
              "    }\n",
              "\n",
              "    .colab-df-convert {\n",
              "      background-color: #E8F0FE;\n",
              "      border: none;\n",
              "      border-radius: 50%;\n",
              "      cursor: pointer;\n",
              "      display: none;\n",
              "      fill: #1967D2;\n",
              "      height: 32px;\n",
              "      padding: 0 0 0 0;\n",
              "      width: 32px;\n",
              "    }\n",
              "\n",
              "    .colab-df-convert:hover {\n",
              "      background-color: #E2EBFA;\n",
              "      box-shadow: 0px 1px 2px rgba(60, 64, 67, 0.3), 0px 1px 3px 1px rgba(60, 64, 67, 0.15);\n",
              "      fill: #174EA6;\n",
              "    }\n",
              "\n",
              "    [theme=dark] .colab-df-convert {\n",
              "      background-color: #3B4455;\n",
              "      fill: #D2E3FC;\n",
              "    }\n",
              "\n",
              "    [theme=dark] .colab-df-convert:hover {\n",
              "      background-color: #434B5C;\n",
              "      box-shadow: 0px 1px 3px 1px rgba(0, 0, 0, 0.15);\n",
              "      filter: drop-shadow(0px 1px 2px rgba(0, 0, 0, 0.3));\n",
              "      fill: #FFFFFF;\n",
              "    }\n",
              "  </style>\n",
              "\n",
              "      <script>\n",
              "        const buttonEl =\n",
              "          document.querySelector('#df-bec3d8c5-cc48-40f8-9ff6-7b127fcb80ab button.colab-df-convert');\n",
              "        buttonEl.style.display =\n",
              "          google.colab.kernel.accessAllowed ? 'block' : 'none';\n",
              "\n",
              "        async function convertToInteractive(key) {\n",
              "          const element = document.querySelector('#df-bec3d8c5-cc48-40f8-9ff6-7b127fcb80ab');\n",
              "          const dataTable =\n",
              "            await google.colab.kernel.invokeFunction('convertToInteractive',\n",
              "                                                     [key], {});\n",
              "          if (!dataTable) return;\n",
              "\n",
              "          const docLinkHtml = 'Like what you see? Visit the ' +\n",
              "            '<a target=\"_blank\" href=https://colab.research.google.com/notebooks/data_table.ipynb>data table notebook</a>'\n",
              "            + ' to learn more about interactive tables.';\n",
              "          element.innerHTML = '';\n",
              "          dataTable['output_type'] = 'display_data';\n",
              "          await google.colab.output.renderOutput(dataTable, element);\n",
              "          const docLink = document.createElement('div');\n",
              "          docLink.innerHTML = docLinkHtml;\n",
              "          element.appendChild(docLink);\n",
              "        }\n",
              "      </script>\n",
              "    </div>\n",
              "  </div>\n",
              "  "
            ],
            "text/plain": [
              "               close\n",
              "2021-10-08 53951.430\n",
              "2021-10-09 48966.758"
            ]
          },
          "metadata": {},
          "execution_count": 47
        }
      ],
      "source": [
        "# export to csv\n",
        "#y_pred_df.to_csv('{}/preds_{}.csv'.format(modelname,n_future))\n",
        "# show\n",
        "y_pred_df"
      ],
      "id": "51f6ca48"
    },
    {
      "cell_type": "markdown",
      "metadata": {
        "id": "2e7f2cb1"
      },
      "source": [
        "# cross validation"
      ],
      "id": "2e7f2cb1"
    },
    {
      "cell_type": "code",
      "execution_count": null,
      "metadata": {
        "id": "GWGi52j-zK4z",
        "colab": {
          "base_uri": "https://localhost:8080/",
          "height": 136
        },
        "outputId": "27ada61c-6063-4ef1-d7f5-ab4f8929588c"
      },
      "outputs": [
        {
          "output_type": "error",
          "ename": "SyntaxError",
          "evalue": "ignored",
          "traceback": [
            "\u001b[0;36m  File \u001b[0;32m\"<ipython-input-48-f82cae3e78d3>\"\u001b[0;36m, line \u001b[0;32m1\u001b[0m\n\u001b[0;31m    ''x=np.array(x)\u001b[0m\n\u001b[0m      ^\u001b[0m\n\u001b[0;31mSyntaxError\u001b[0m\u001b[0;31m:\u001b[0m invalid syntax\n"
          ]
        }
      ],
      "source": [
        "''x=np.array(x)\n",
        "y=np.array(y)\n",
        "\n",
        "for train, test in kfold.split(x,y):\n",
        "\n",
        "    X_train, X_test, y_train, y_test = train_test_split(x, y, test_size = 0.2, random_state = 0)\n",
        "    X_train = np.reshape(X_train, (X_train.shape[0], 1, 8))\n",
        "    X_test = np.reshape(X_test, (X_test.shape[0], 1, 8))\n",
        "\n",
        "    output_size=1 \n",
        "    neurons=100 \n",
        "    activ_func=\"tanh\"\n",
        "    dropout=0.25\n",
        "    loss=\"mean_squared_error\" \n",
        "    optimizer=\"sgd\"\n",
        "    model = Sequential()\n",
        "    model.add(LSTM(neurons,return_sequences=True,input_shape=(1,8)))\n",
        "    model.add(LSTM(90))\n",
        " \n",
        "    model.add(Dropout(dropout))\n",
        "    \n",
        "    model.add(Dense(units=output_size))\n",
        "    model.add(Activation(activ_func))\n",
        "    model.compile(loss=loss, optimizer='adam',metrics =[\"mae\"])\n",
        "    model.fit(X_train, y_train, epochs=10, batch_size=10, verbose=0,shuffle=False)\n",
        "    scores = model.evaluate(X_test, y_test, verbose=0)\n",
        "    print(\"%s: %.2f%%\" % (model.metrics_names[1], scores[1]*100))\n",
        "    cvscores.append(scores[1] * 100)\n",
        "print(\"%.2f%% (+/- %.2f%%)\" % (np.mean(cvscores), np.std(cvscores)))\n",
        "\n",
        "\n",
        "\n"
      ],
      "id": "GWGi52j-zK4z"
    },
    {
      "cell_type": "code",
      "execution_count": null,
      "metadata": {
        "id": "XsBEJWPlzWXa"
      },
      "outputs": [],
      "source": [],
      "id": "XsBEJWPlzWXa"
    },
    {
      "cell_type": "markdown",
      "metadata": {
        "id": "rCgrSKz8o2MV"
      },
      "source": [
        "# SHAP\n",
        "\n",
        "https://medium.datadriveninvestor.com/time-step-wise-feature-importance-in-deep-learning-using-shap-e1c46a655455"
      ],
      "id": "rCgrSKz8o2MV"
    },
    {
      "cell_type": "code",
      "execution_count": null,
      "metadata": {
        "id": "0dGSVhtkw0sm"
      },
      "outputs": [],
      "source": [
        "pip install shap"
      ],
      "id": "0dGSVhtkw0sm"
    },
    {
      "cell_type": "code",
      "execution_count": null,
      "metadata": {
        "id": "698fdb73"
      },
      "outputs": [],
      "source": [
        "import shap"
      ],
      "id": "698fdb73"
    },
    {
      "cell_type": "code",
      "execution_count": null,
      "metadata": {
        "id": "t3wA9LdD1-Ra"
      },
      "outputs": [],
      "source": [
        "#%tensorflow_version 2.4.0"
      ],
      "id": "t3wA9LdD1-Ra"
    },
    {
      "cell_type": "code",
      "source": [
        "X100 = shap.utils.sample(X_test, 100) # 100 instances for use as the background distribution"
      ],
      "metadata": {
        "id": "6P0o-R_-E9AN"
      },
      "id": "6P0o-R_-E9AN",
      "execution_count": null,
      "outputs": []
    },
    {
      "cell_type": "code",
      "source": [
        "\n",
        "# model\n",
        "\n",
        "model = load_model('regressor.h5')\n",
        "\n",
        "model.fit(X_train, y_train)\n",
        "\n",
        "print(\"Model coefficients:\\n\")\n",
        "for i in range(dataset.shape[1]):\n",
        "    print(dataset.columns[i], \"=\", model.coef_[i].round(4))"
      ],
      "metadata": {
        "id": "X7aXGPtm8nlX"
      },
      "id": "X7aXGPtm8nlX",
      "execution_count": null,
      "outputs": []
    },
    {
      "cell_type": "code",
      "source": [
        "X_test.shape\n",
        "X_test=X_test.reshape(7,15)"
      ],
      "metadata": {
        "id": "BedSVqFe7win"
      },
      "id": "BedSVqFe7win",
      "execution_count": null,
      "outputs": []
    },
    {
      "cell_type": "code",
      "source": [
        "X_test.shape"
      ],
      "metadata": {
        "id": "RFFy_Yd-7-VL"
      },
      "id": "RFFy_Yd-7-VL",
      "execution_count": null,
      "outputs": []
    },
    {
      "cell_type": "code",
      "source": [
        "# explain all the predictions in the test set\n",
        "explainer = shap.KernelExplainer(regressor.predict, X_train)\n",
        "shap_values = explainer.shap_values(X_test)\n",
        "shap.summary_plot(shap_values, X_test)"
      ],
      "metadata": {
        "id": "JRcaOY471Rr0"
      },
      "id": "JRcaOY471Rr0",
      "execution_count": null,
      "outputs": []
    },
    {
      "cell_type": "code",
      "source": [
        "import shap\n",
        "\n",
        "model = load_model('regressor.h5')\n",
        "# Explainability module\n",
        "Helper.explainable_forecast(dataset, ff_full_features_, fc, specific_prediction_sample_to_explain=df_full_features.shape[0]+2, input_label_index_value=0, num_labels=1)"
      ],
      "metadata": {
        "id": "hcMdVoZ5BY-e"
      },
      "id": "hcMdVoZ5BY-e",
      "execution_count": null,
      "outputs": []
    },
    {
      "cell_type": "markdown",
      "source": [
        "## lime"
      ],
      "metadata": {
        "id": "eY9HkZLqBAeM"
      },
      "id": "eY9HkZLqBAeM"
    }
  ],
  "metadata": {
    "accelerator": "GPU",
    "colab": {
      "provenance": [],
      "toc_visible": true
    },
    "kernelspec": {
      "display_name": "Python 3",
      "language": "python",
      "name": "python3"
    },
    "language_info": {
      "codemirror_mode": {
        "name": "ipython",
        "version": 3
      },
      "file_extension": ".py",
      "mimetype": "text/x-python",
      "name": "python",
      "nbconvert_exporter": "python",
      "pygments_lexer": "ipython3",
      "version": "3.8.8"
    }
  },
  "nbformat": 4,
  "nbformat_minor": 5
}
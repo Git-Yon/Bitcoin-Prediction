{
  "cells": [
    {
      "cell_type": "markdown",
      "id": "d5d5931a",
      "metadata": {
        "id": "d5d5931a"
      },
      "source": [
        "# Importing libraries"
      ]
    },
    {
      "cell_type": "code",
      "execution_count": null,
      "id": "b3f8c926",
      "metadata": {
        "id": "b3f8c926"
      },
      "outputs": [],
      "source": [
        "import os\n",
        "import numpy as np\n",
        "np.set_printoptions(suppress=True)\n",
        "\n",
        "import tensorflow as tf\n",
        "from tensorflow import keras\n",
        "import pandas as pd\n",
        "pd.set_option('display.float_format', lambda x: '%.3f' % x) #avoid scientific notation\n",
        "import datetime\n",
        "import math\n",
        "from matplotlib import pyplot as plt\n",
        "from keras.models import Sequential, load_model\n",
        "from keras.layers import Dense, LSTM, Dropout\n",
        "from keras.callbacks import EarlyStopping\n",
        "from sklearn.preprocessing import MinMaxScaler\n",
        "from sklearn.metrics import mean_squared_error, mean_absolute_error, explained_variance_score\n",
        "import plotly.express as px\n",
        "import plotly.graph_objects as go\n",
        "from plotly.subplots import make_subplots\n",
        "from IPython.display import Image\n",
        "\n",
        "\n",
        "from sklearn.model_selection import GridSearchCV\n",
        "from keras.models import Sequential\n",
        "from keras.layers import Dense\n",
        "from sklearn.metrics import mean_absolute_error\n",
        "from tensorflow.keras.optimizers import SGD\n",
        "\n"
      ]
    },
    {
      "cell_type": "markdown",
      "id": "2fa46cdb",
      "metadata": {
        "id": "2fa46cdb"
      },
      "source": [
        "\n",
        "# Importing the files"
      ]
    },
    {
      "cell_type": "code",
      "source": [
        "from google.colab import drive\n",
        "drive.mount('/content/drive')"
      ],
      "metadata": {
        "id": "ChZ-2wuVh-lv",
        "colab": {
          "base_uri": "https://localhost:8080/"
        },
        "outputId": "88146470-7c29-435f-85fd-be8dcf3cefc0"
      },
      "id": "ChZ-2wuVh-lv",
      "execution_count": null,
      "outputs": [
        {
          "output_type": "stream",
          "name": "stdout",
          "text": [
            "Drive already mounted at /content/drive; to attempt to forcibly remount, call drive.mount(\"/content/drive\", force_remount=True).\n"
          ]
        }
      ]
    },
    {
      "cell_type": "code",
      "execution_count": null,
      "id": "4e7e40ed",
      "metadata": {
        "id": "4e7e40ed"
      },
      "outputs": [],
      "source": [
        "# reading csv\n",
        "dataset = pd.read_csv(r'/content/drive/MyDrive/Projet/daily/data/dataset_btc.csv',sep=',' )\n",
        "dataset=dataset[:]"
      ]
    },
    {
      "cell_type": "code",
      "source": [
        "print(dataset.columns)"
      ],
      "metadata": {
        "colab": {
          "base_uri": "https://localhost:8080/"
        },
        "id": "UZMjOrd2jMX7",
        "outputId": "a4cd2b46-afeb-4932-a2e4-478bc496bfaa"
      },
      "id": "UZMjOrd2jMX7",
      "execution_count": null,
      "outputs": [
        {
          "output_type": "stream",
          "name": "stdout",
          "text": [
            "Index(['date', 'close', 'MACD', 'Day_dif', 'Close_off_high', 'Volatility',\n",
            "       'TrendGoogle', 'open_tesla', 'fng_value'],\n",
            "      dtype='object')\n"
          ]
        }
      ]
    },
    {
      "cell_type": "markdown",
      "id": "8d6fbc9d",
      "metadata": {
        "id": "8d6fbc9d"
      },
      "source": [
        "\n",
        "# Parameter settings"
      ]
    },
    {
      "cell_type": "code",
      "execution_count": null,
      "id": "e420d959",
      "metadata": {
        "id": "e420d959",
        "colab": {
          "base_uri": "https://localhost:8080/"
        },
        "outputId": "ca2082ac-f0bc-4dbf-b5e6-18f5f3882078"
      },
      "outputs": [
        {
          "output_type": "stream",
          "name": "stdout",
          "text": [
            "Index(['date', 'close', 'MACD', 'Day_dif', 'Close_off_high', 'Volatility',\n",
            "       'TrendGoogle', 'open_tesla', 'fng_value'],\n",
            "      dtype='object')\n"
          ]
        }
      ],
      "source": [
        "dataset=dataset[1008:]\n",
        "\n",
        "'''#Market\n",
        "\n",
        "dataset = dataset.drop('open', 1)\n",
        "dataset = dataset.drop('high', 1)\n",
        "dataset = dataset.drop('low', 1)\n",
        "dataset = dataset.drop('voluusdt', 1)\n",
        "dataset = dataset.drop('volubtc', 1)\n",
        "dataset = dataset.drop('tradecount', 1)\n",
        "\n",
        "#Social\n",
        "\n",
        "dataset = dataset.drop('TrendGoogle', 1)\n",
        "\n",
        "#Blochain\n",
        "\n",
        "dataset = dataset.drop('miners-revenue', 1)\n",
        "dataset = dataset.drop('transaction-fees', 1)\n",
        "dataset = dataset.drop('avg-block-size', 1)\n",
        "dataset = dataset.drop('n-transactions-per-block', 1)\n",
        "dataset = dataset.drop('cost-per-transaction', 1)\n",
        "\n",
        "#Economy\n",
        "dataset = dataset.drop('open_microsoft', 1)\n",
        "dataset = dataset.drop('open_apple', 1)\n",
        "dataset = dataset.drop('open_tesla', 1)\n",
        "dataset = dataset.drop('open_fb', 1)\n",
        "\n",
        "\n",
        "\n",
        "#Indic\n",
        "\n",
        "dataset = dataset.drop('senkou_span_b', 1)\n",
        "dataset = dataset.drop('tenkan_sen', 1)\n",
        "dataset = dataset.drop('kijun_sen', 1)\n",
        "dataset = dataset.drop('senkou_span_a', 1)\n",
        "dataset = dataset.drop('chikou_span', 1)\n",
        "\n",
        "dataset = dataset.drop('MACD', 1)\n",
        "dataset = dataset.drop('MA_window_10', 1)\n",
        "dataset = dataset.drop('MA_window_20', 1)\n",
        "\n",
        "dataset = dataset.drop('fng_value', 1)\n",
        "\n",
        "#More\n",
        "\n",
        "dataset = dataset.drop('Day_dif', 1)\n",
        "dataset = dataset.drop('Close_off_high', 1)\n",
        "dataset = dataset.drop('Volatility', 1)\n",
        "\n",
        "\n",
        "\n",
        "'''\n",
        "\n",
        "\n",
        "\n",
        "\n",
        "\n",
        "print(dataset.columns)"
      ]
    },
    {
      "cell_type": "code",
      "source": [
        "dataset"
      ],
      "metadata": {
        "colab": {
          "base_uri": "https://localhost:8080/",
          "height": 488
        },
        "id": "XWoVo8syQqe3",
        "outputId": "30fdeb20-e79e-47dd-eb15-7698ec1b6718"
      },
      "id": "XWoVo8syQqe3",
      "execution_count": null,
      "outputs": [
        {
          "output_type": "execute_result",
          "data": {
            "text/html": [
              "\n",
              "  <div id=\"df-b57d6eb5-b7cc-4587-9bd1-3563183107c8\">\n",
              "    <div class=\"colab-df-container\">\n",
              "      <div>\n",
              "<style scoped>\n",
              "    .dataframe tbody tr th:only-of-type {\n",
              "        vertical-align: middle;\n",
              "    }\n",
              "\n",
              "    .dataframe tbody tr th {\n",
              "        vertical-align: top;\n",
              "    }\n",
              "\n",
              "    .dataframe thead th {\n",
              "        text-align: right;\n",
              "    }\n",
              "</style>\n",
              "<table border=\"1\" class=\"dataframe\">\n",
              "  <thead>\n",
              "    <tr style=\"text-align: right;\">\n",
              "      <th></th>\n",
              "      <th>date</th>\n",
              "      <th>close</th>\n",
              "      <th>MACD</th>\n",
              "      <th>Day_dif</th>\n",
              "      <th>Close_off_high</th>\n",
              "      <th>Volatility</th>\n",
              "      <th>TrendGoogle</th>\n",
              "      <th>open_tesla</th>\n",
              "      <th>fng_value</th>\n",
              "    </tr>\n",
              "  </thead>\n",
              "  <tbody>\n",
              "    <tr>\n",
              "      <th>1008</th>\n",
              "      <td>2020-12-03</td>\n",
              "      <td>19421.900</td>\n",
              "      <td>1026.342</td>\n",
              "      <td>0.011</td>\n",
              "      <td>-0.518</td>\n",
              "      <td>0.038</td>\n",
              "      <td>17.636</td>\n",
              "      <td>145.789</td>\n",
              "      <td>92.000</td>\n",
              "    </tr>\n",
              "    <tr>\n",
              "      <th>1009</th>\n",
              "      <td>2020-12-04</td>\n",
              "      <td>18650.520</td>\n",
              "      <td>962.854</td>\n",
              "      <td>-0.040</td>\n",
              "      <td>0.823</td>\n",
              "      <td>0.050</td>\n",
              "      <td>10.273</td>\n",
              "      <td>48.406</td>\n",
              "      <td>92.000</td>\n",
              "    </tr>\n",
              "    <tr>\n",
              "      <th>1010</th>\n",
              "      <td>2020-12-05</td>\n",
              "      <td>19147.660</td>\n",
              "      <td>941.797</td>\n",
              "      <td>0.027</td>\n",
              "      <td>-0.913</td>\n",
              "      <td>0.036</td>\n",
              "      <td>0.000</td>\n",
              "      <td>48.406</td>\n",
              "      <td>93.000</td>\n",
              "    </tr>\n",
              "    <tr>\n",
              "      <th>1011</th>\n",
              "      <td>2020-12-06</td>\n",
              "      <td>19359.400</td>\n",
              "      <td>931.458</td>\n",
              "      <td>0.011</td>\n",
              "      <td>-0.785</td>\n",
              "      <td>0.029</td>\n",
              "      <td>0.000</td>\n",
              "      <td>48.406</td>\n",
              "      <td>95.000</td>\n",
              "    </tr>\n",
              "    <tr>\n",
              "      <th>1012</th>\n",
              "      <td>2020-12-07</td>\n",
              "      <td>19166.900</td>\n",
              "      <td>897.386</td>\n",
              "      <td>-0.010</td>\n",
              "      <td>-0.019</td>\n",
              "      <td>0.027</td>\n",
              "      <td>0.000</td>\n",
              "      <td>72.457</td>\n",
              "      <td>94.000</td>\n",
              "    </tr>\n",
              "    <tr>\n",
              "      <th>...</th>\n",
              "      <td>...</td>\n",
              "      <td>...</td>\n",
              "      <td>...</td>\n",
              "      <td>...</td>\n",
              "      <td>...</td>\n",
              "      <td>...</td>\n",
              "      <td>...</td>\n",
              "      <td>...</td>\n",
              "      <td>...</td>\n",
              "    </tr>\n",
              "    <tr>\n",
              "      <th>1313</th>\n",
              "      <td>2021-10-04</td>\n",
              "      <td>49224.940</td>\n",
              "      <td>231.138</td>\n",
              "      <td>0.021</td>\n",
              "      <td>-0.765</td>\n",
              "      <td>0.055</td>\n",
              "      <td>21.000</td>\n",
              "      <td>15.293</td>\n",
              "      <td>54.000</td>\n",
              "    </tr>\n",
              "    <tr>\n",
              "      <th>1314</th>\n",
              "      <td>2021-10-05</td>\n",
              "      <td>51471.990</td>\n",
              "      <td>666.401</td>\n",
              "      <td>0.046</td>\n",
              "      <td>-0.711</td>\n",
              "      <td>0.058</td>\n",
              "      <td>19.000</td>\n",
              "      <td>15.293</td>\n",
              "      <td>59.000</td>\n",
              "    </tr>\n",
              "    <tr>\n",
              "      <th>1315</th>\n",
              "      <td>2021-10-06</td>\n",
              "      <td>55315.000</td>\n",
              "      <td>1306.389</td>\n",
              "      <td>0.075</td>\n",
              "      <td>-0.838</td>\n",
              "      <td>0.104</td>\n",
              "      <td>30.000</td>\n",
              "      <td>20.668</td>\n",
              "      <td>68.000</td>\n",
              "    </tr>\n",
              "    <tr>\n",
              "      <th>1316</th>\n",
              "      <td>2021-10-07</td>\n",
              "      <td>53785.220</td>\n",
              "      <td>1670.882</td>\n",
              "      <td>-0.028</td>\n",
              "      <td>0.566</td>\n",
              "      <td>0.036</td>\n",
              "      <td>28.000</td>\n",
              "      <td>20.668</td>\n",
              "      <td>76.000</td>\n",
              "    </tr>\n",
              "    <tr>\n",
              "      <th>1317</th>\n",
              "      <td>2021-10-08</td>\n",
              "      <td>53951.430</td>\n",
              "      <td>1950.672</td>\n",
              "      <td>0.003</td>\n",
              "      <td>0.731</td>\n",
              "      <td>0.046</td>\n",
              "      <td>19.000</td>\n",
              "      <td>20.668</td>\n",
              "      <td>74.000</td>\n",
              "    </tr>\n",
              "  </tbody>\n",
              "</table>\n",
              "<p>310 rows × 9 columns</p>\n",
              "</div>\n",
              "      <button class=\"colab-df-convert\" onclick=\"convertToInteractive('df-b57d6eb5-b7cc-4587-9bd1-3563183107c8')\"\n",
              "              title=\"Convert this dataframe to an interactive table.\"\n",
              "              style=\"display:none;\">\n",
              "        \n",
              "  <svg xmlns=\"http://www.w3.org/2000/svg\" height=\"24px\"viewBox=\"0 0 24 24\"\n",
              "       width=\"24px\">\n",
              "    <path d=\"M0 0h24v24H0V0z\" fill=\"none\"/>\n",
              "    <path d=\"M18.56 5.44l.94 2.06.94-2.06 2.06-.94-2.06-.94-.94-2.06-.94 2.06-2.06.94zm-11 1L8.5 8.5l.94-2.06 2.06-.94-2.06-.94L8.5 2.5l-.94 2.06-2.06.94zm10 10l.94 2.06.94-2.06 2.06-.94-2.06-.94-.94-2.06-.94 2.06-2.06.94z\"/><path d=\"M17.41 7.96l-1.37-1.37c-.4-.4-.92-.59-1.43-.59-.52 0-1.04.2-1.43.59L10.3 9.45l-7.72 7.72c-.78.78-.78 2.05 0 2.83L4 21.41c.39.39.9.59 1.41.59.51 0 1.02-.2 1.41-.59l7.78-7.78 2.81-2.81c.8-.78.8-2.07 0-2.86zM5.41 20L4 18.59l7.72-7.72 1.47 1.35L5.41 20z\"/>\n",
              "  </svg>\n",
              "      </button>\n",
              "      \n",
              "  <style>\n",
              "    .colab-df-container {\n",
              "      display:flex;\n",
              "      flex-wrap:wrap;\n",
              "      gap: 12px;\n",
              "    }\n",
              "\n",
              "    .colab-df-convert {\n",
              "      background-color: #E8F0FE;\n",
              "      border: none;\n",
              "      border-radius: 50%;\n",
              "      cursor: pointer;\n",
              "      display: none;\n",
              "      fill: #1967D2;\n",
              "      height: 32px;\n",
              "      padding: 0 0 0 0;\n",
              "      width: 32px;\n",
              "    }\n",
              "\n",
              "    .colab-df-convert:hover {\n",
              "      background-color: #E2EBFA;\n",
              "      box-shadow: 0px 1px 2px rgba(60, 64, 67, 0.3), 0px 1px 3px 1px rgba(60, 64, 67, 0.15);\n",
              "      fill: #174EA6;\n",
              "    }\n",
              "\n",
              "    [theme=dark] .colab-df-convert {\n",
              "      background-color: #3B4455;\n",
              "      fill: #D2E3FC;\n",
              "    }\n",
              "\n",
              "    [theme=dark] .colab-df-convert:hover {\n",
              "      background-color: #434B5C;\n",
              "      box-shadow: 0px 1px 3px 1px rgba(0, 0, 0, 0.15);\n",
              "      filter: drop-shadow(0px 1px 2px rgba(0, 0, 0, 0.3));\n",
              "      fill: #FFFFFF;\n",
              "    }\n",
              "  </style>\n",
              "\n",
              "      <script>\n",
              "        const buttonEl =\n",
              "          document.querySelector('#df-b57d6eb5-b7cc-4587-9bd1-3563183107c8 button.colab-df-convert');\n",
              "        buttonEl.style.display =\n",
              "          google.colab.kernel.accessAllowed ? 'block' : 'none';\n",
              "\n",
              "        async function convertToInteractive(key) {\n",
              "          const element = document.querySelector('#df-b57d6eb5-b7cc-4587-9bd1-3563183107c8');\n",
              "          const dataTable =\n",
              "            await google.colab.kernel.invokeFunction('convertToInteractive',\n",
              "                                                     [key], {});\n",
              "          if (!dataTable) return;\n",
              "\n",
              "          const docLinkHtml = 'Like what you see? Visit the ' +\n",
              "            '<a target=\"_blank\" href=https://colab.research.google.com/notebooks/data_table.ipynb>data table notebook</a>'\n",
              "            + ' to learn more about interactive tables.';\n",
              "          element.innerHTML = '';\n",
              "          dataTable['output_type'] = 'display_data';\n",
              "          await google.colab.output.renderOutput(dataTable, element);\n",
              "          const docLink = document.createElement('div');\n",
              "          docLink.innerHTML = docLinkHtml;\n",
              "          element.appendChild(docLink);\n",
              "        }\n",
              "      </script>\n",
              "    </div>\n",
              "  </div>\n",
              "  "
            ],
            "text/plain": [
              "            date     close     MACD  ...  TrendGoogle  open_tesla  fng_value\n",
              "1008  2020-12-03 19421.900 1026.342  ...       17.636     145.789     92.000\n",
              "1009  2020-12-04 18650.520  962.854  ...       10.273      48.406     92.000\n",
              "1010  2020-12-05 19147.660  941.797  ...        0.000      48.406     93.000\n",
              "1011  2020-12-06 19359.400  931.458  ...        0.000      48.406     95.000\n",
              "1012  2020-12-07 19166.900  897.386  ...        0.000      72.457     94.000\n",
              "...          ...       ...      ...  ...          ...         ...        ...\n",
              "1313  2021-10-04 49224.940  231.138  ...       21.000      15.293     54.000\n",
              "1314  2021-10-05 51471.990  666.401  ...       19.000      15.293     59.000\n",
              "1315  2021-10-06 55315.000 1306.389  ...       30.000      20.668     68.000\n",
              "1316  2021-10-07 53785.220 1670.882  ...       28.000      20.668     76.000\n",
              "1317  2021-10-08 53951.430 1950.672  ...       19.000      20.668     74.000\n",
              "\n",
              "[310 rows x 9 columns]"
            ]
          },
          "metadata": {},
          "execution_count": 157
        }
      ]
    },
    {
      "cell_type": "code",
      "execution_count": null,
      "id": "f085144a",
      "metadata": {
        "id": "f085144a"
      },
      "outputs": [],
      "source": [
        "\n",
        "\n",
        "# number of total past observations from the original dataset to be considered\n",
        "n_past_total =310\n",
        "\n",
        "# number of past observations to be considered for the LSTM training and prediction\n",
        "n_past = 30\n",
        "\n",
        "# number of future datapoints to predict (if higher than 1, the model switch to Multi-Step)\n",
        "n_future = 30\n",
        "\n",
        "# activation function used for the RNN (softsign, relu, sigmoid)\n",
        "activation = 'softsign'\n",
        "\n",
        "# dropout for the hidden layers\n",
        "dropout = 0.2\n",
        "\n",
        "# number of hidden layers\n",
        "n_layers = 14\n",
        "\n",
        "# number of neurons of the hidden layers\n",
        "n_neurons = 64\n",
        "\n",
        "# patience for the early stopping (number of epochs)\n",
        "patience = 5\n",
        "\n",
        "# optimizer (adam, RMSprop)\n",
        "# lr=0.02\n",
        "# momentum=0.9\n",
        "optimizer='adam'##SGD(lr=lr, momentum=momentum)\n",
        "\n",
        "# batch size\n",
        "batch_size=1\n",
        "\n",
        "# features to be considered for training (if only one is Close, then its Univariate, if more, then it's Multivariate)\n",
        "features = [  'close', 'Day_dif', 'Close_off_high', 'Volatility',\n",
        "       'TrendGoogle', 'open_tesla', 'fng_value']\n",
        "#features = ['Close']\n",
        "\n",
        "# number of inputs features (if higher than 1, )\n",
        "n_features = len(features)"
      ]
    },
    {
      "cell_type": "markdown",
      "id": "45b6b5af",
      "metadata": {
        "id": "45b6b5af"
      },
      "source": [
        "\n",
        "# EDA (brief)"
      ]
    },
    {
      "cell_type": "code",
      "source": [
        "\n",
        "fig, ax = plt.subplots(figsize=(16,8))\n",
        "ax.set_facecolor('white')\n",
        "ax.plot(dataset[\"close\"], color='blue', label='Original price')\n",
        "\n",
        "plt.title(' eth Price ')\n",
        "plt.grid()\n",
        "plt.legend()"
      ],
      "metadata": {
        "colab": {
          "base_uri": "https://localhost:8080/",
          "height": 73
        },
        "id": "rc9BWvvJI0W4",
        "outputId": "d9fbb328-19f5-4e35-9ad6-b037f6976983"
      },
      "id": "rc9BWvvJI0W4",
      "execution_count": null,
      "outputs": [
        {
          "output_type": "execute_result",
          "data": {
            "text/plain": [
              "<matplotlib.legend.Legend at 0x7fd8d57e0e50>"
            ]
          },
          "metadata": {},
          "execution_count": 159
        },
        {
          "output_type": "display_data",
          "data": {
            "image/png": "[encoded data removed]",
            "text/plain": [
              "<Figure size 1152x576 with 1 Axes>"
            ]
          },
          "metadata": {}
        }
      ]
    },
    {
      "cell_type": "code",
      "execution_count": null,
      "id": "0f774bea",
      "metadata": {
        "id": "0f774bea",
        "colab": {
          "base_uri": "https://localhost:8080/"
        },
        "outputId": "208f35bf-9f95-42e0-cd5d-6350cc66bc0f"
      },
      "outputs": [
        {
          "output_type": "stream",
          "name": "stdout",
          "text": [
            "<class 'pandas.core.frame.DataFrame'>\n",
            "RangeIndex: 310 entries, 1008 to 1317\n",
            "Data columns (total 9 columns):\n",
            " #   Column          Non-Null Count  Dtype  \n",
            "---  ------          --------------  -----  \n",
            " 0   date            310 non-null    object \n",
            " 1   close           310 non-null    float64\n",
            " 2   MACD            310 non-null    float64\n",
            " 3   Day_dif         310 non-null    float64\n",
            " 4   Close_off_high  310 non-null    float64\n",
            " 5   Volatility      310 non-null    float64\n",
            " 6   TrendGoogle     310 non-null    float64\n",
            " 7   open_tesla      310 non-null    float64\n",
            " 8   fng_value       310 non-null    float64\n",
            "dtypes: float64(8), object(1)\n",
            "memory usage: 21.9+ KB\n"
          ]
        }
      ],
      "source": [
        "# checking for nulls\n",
        "dataset.info()\n"
      ]
    },
    {
      "cell_type": "code",
      "execution_count": null,
      "id": "b9d1467d",
      "metadata": {
        "id": "b9d1467d",
        "colab": {
          "base_uri": "https://localhost:8080/",
          "height": 364
        },
        "outputId": "67d1d618-8ec1-4cee-9815-8bfa0d966b6e"
      },
      "outputs": [
        {
          "output_type": "execute_result",
          "data": {
            "text/html": [
              "\n",
              "  <div id=\"df-20385229-d379-4e37-bdd5-a2f2257d6a39\">\n",
              "    <div class=\"colab-df-container\">\n",
              "      <div>\n",
              "<style scoped>\n",
              "    .dataframe tbody tr th:only-of-type {\n",
              "        vertical-align: middle;\n",
              "    }\n",
              "\n",
              "    .dataframe tbody tr th {\n",
              "        vertical-align: top;\n",
              "    }\n",
              "\n",
              "    .dataframe thead th {\n",
              "        text-align: right;\n",
              "    }\n",
              "</style>\n",
              "<table border=\"1\" class=\"dataframe\">\n",
              "  <thead>\n",
              "    <tr style=\"text-align: right;\">\n",
              "      <th></th>\n",
              "      <th>close</th>\n",
              "      <th>MACD</th>\n",
              "      <th>Day_dif</th>\n",
              "      <th>Close_off_high</th>\n",
              "      <th>Volatility</th>\n",
              "      <th>TrendGoogle</th>\n",
              "      <th>open_tesla</th>\n",
              "      <th>fng_value</th>\n",
              "    </tr>\n",
              "  </thead>\n",
              "  <tbody>\n",
              "    <tr>\n",
              "      <th>count</th>\n",
              "      <td>310.000</td>\n",
              "      <td>310.000</td>\n",
              "      <td>310.000</td>\n",
              "      <td>310.000</td>\n",
              "      <td>310.000</td>\n",
              "      <td>310.000</td>\n",
              "      <td>310.000</td>\n",
              "      <td>310.000</td>\n",
              "    </tr>\n",
              "    <tr>\n",
              "      <th>mean</th>\n",
              "      <td>42611.522</td>\n",
              "      <td>670.047</td>\n",
              "      <td>0.004</td>\n",
              "      <td>-0.127</td>\n",
              "      <td>0.072</td>\n",
              "      <td>32.011</td>\n",
              "      <td>74.671</td>\n",
              "      <td>59.190</td>\n",
              "    </tr>\n",
              "    <tr>\n",
              "      <th>std</th>\n",
              "      <td>10855.745</td>\n",
              "      <td>2133.127</td>\n",
              "      <td>0.044</td>\n",
              "      <td>0.562</td>\n",
              "      <td>0.041</td>\n",
              "      <td>24.446</td>\n",
              "      <td>58.441</td>\n",
              "      <td>26.719</td>\n",
              "    </tr>\n",
              "    <tr>\n",
              "      <th>min</th>\n",
              "      <td>18036.530</td>\n",
              "      <td>-5073.279</td>\n",
              "      <td>-0.144</td>\n",
              "      <td>-0.993</td>\n",
              "      <td>0.018</td>\n",
              "      <td>0.000</td>\n",
              "      <td>8.464</td>\n",
              "      <td>10.000</td>\n",
              "    </tr>\n",
              "    <tr>\n",
              "      <th>25%</th>\n",
              "      <td>34617.675</td>\n",
              "      <td>-856.217</td>\n",
              "      <td>-0.021</td>\n",
              "      <td>-0.623</td>\n",
              "      <td>0.045</td>\n",
              "      <td>19.000</td>\n",
              "      <td>17.717</td>\n",
              "      <td>28.000</td>\n",
              "    </tr>\n",
              "    <tr>\n",
              "      <th>50%</th>\n",
              "      <td>43088.260</td>\n",
              "      <td>978.768</td>\n",
              "      <td>0.003</td>\n",
              "      <td>-0.127</td>\n",
              "      <td>0.060</td>\n",
              "      <td>22.000</td>\n",
              "      <td>72.457</td>\n",
              "      <td>70.000</td>\n",
              "    </tr>\n",
              "    <tr>\n",
              "      <th>75%</th>\n",
              "      <td>50035.665</td>\n",
              "      <td>2118.619</td>\n",
              "      <td>0.028</td>\n",
              "      <td>0.323</td>\n",
              "      <td>0.087</td>\n",
              "      <td>44.068</td>\n",
              "      <td>112.985</td>\n",
              "      <td>78.000</td>\n",
              "    </tr>\n",
              "    <tr>\n",
              "      <th>max</th>\n",
              "      <td>63575.000</td>\n",
              "      <td>5248.182</td>\n",
              "      <td>0.195</td>\n",
              "      <td>0.999</td>\n",
              "      <td>0.317</td>\n",
              "      <td>160.000</td>\n",
              "      <td>301.828</td>\n",
              "      <td>95.000</td>\n",
              "    </tr>\n",
              "  </tbody>\n",
              "</table>\n",
              "</div>\n",
              "      <button class=\"colab-df-convert\" onclick=\"convertToInteractive('df-20385229-d379-4e37-bdd5-a2f2257d6a39')\"\n",
              "              title=\"Convert this dataframe to an interactive table.\"\n",
              "              style=\"display:none;\">\n",
              "        \n",
              "  <svg xmlns=\"http://www.w3.org/2000/svg\" height=\"24px\"viewBox=\"0 0 24 24\"\n",
              "       width=\"24px\">\n",
              "    <path d=\"M0 0h24v24H0V0z\" fill=\"none\"/>\n",
              "    <path d=\"M18.56 5.44l.94 2.06.94-2.06 2.06-.94-2.06-.94-.94-2.06-.94 2.06-2.06.94zm-11 1L8.5 8.5l.94-2.06 2.06-.94-2.06-.94L8.5 2.5l-.94 2.06-2.06.94zm10 10l.94 2.06.94-2.06 2.06-.94-2.06-.94-.94-2.06-.94 2.06-2.06.94z\"/><path d=\"M17.41 7.96l-1.37-1.37c-.4-.4-.92-.59-1.43-.59-.52 0-1.04.2-1.43.59L10.3 9.45l-7.72 7.72c-.78.78-.78 2.05 0 2.83L4 21.41c.39.39.9.59 1.41.59.51 0 1.02-.2 1.41-.59l7.78-7.78 2.81-2.81c.8-.78.8-2.07 0-2.86zM5.41 20L4 18.59l7.72-7.72 1.47 1.35L5.41 20z\"/>\n",
              "  </svg>\n",
              "      </button>\n",
              "      \n",
              "  <style>\n",
              "    .colab-df-container {\n",
              "      display:flex;\n",
              "      flex-wrap:wrap;\n",
              "      gap: 12px;\n",
              "    }\n",
              "\n",
              "    .colab-df-convert {\n",
              "      background-color: #E8F0FE;\n",
              "      border: none;\n",
              "      border-radius: 50%;\n",
              "      cursor: pointer;\n",
              "      display: none;\n",
              "      fill: #1967D2;\n",
              "      height: 32px;\n",
              "      padding: 0 0 0 0;\n",
              "      width: 32px;\n",
              "    }\n",
              "\n",
              "    .colab-df-convert:hover {\n",
              "      background-color: #E2EBFA;\n",
              "      box-shadow: 0px 1px 2px rgba(60, 64, 67, 0.3), 0px 1px 3px 1px rgba(60, 64, 67, 0.15);\n",
              "      fill: #174EA6;\n",
              "    }\n",
              "\n",
              "    [theme=dark] .colab-df-convert {\n",
              "      background-color: #3B4455;\n",
              "      fill: #D2E3FC;\n",
              "    }\n",
              "\n",
              "    [theme=dark] .colab-df-convert:hover {\n",
              "      background-color: #434B5C;\n",
              "      box-shadow: 0px 1px 3px 1px rgba(0, 0, 0, 0.15);\n",
              "      filter: drop-shadow(0px 1px 2px rgba(0, 0, 0, 0.3));\n",
              "      fill: #FFFFFF;\n",
              "    }\n",
              "  </style>\n",
              "\n",
              "      <script>\n",
              "        const buttonEl =\n",
              "          document.querySelector('#df-20385229-d379-4e37-bdd5-a2f2257d6a39 button.colab-df-convert');\n",
              "        buttonEl.style.display =\n",
              "          google.colab.kernel.accessAllowed ? 'block' : 'none';\n",
              "\n",
              "        async function convertToInteractive(key) {\n",
              "          const element = document.querySelector('#df-20385229-d379-4e37-bdd5-a2f2257d6a39');\n",
              "          const dataTable =\n",
              "            await google.colab.kernel.invokeFunction('convertToInteractive',\n",
              "                                                     [key], {});\n",
              "          if (!dataTable) return;\n",
              "\n",
              "          const docLinkHtml = 'Like what you see? Visit the ' +\n",
              "            '<a target=\"_blank\" href=https://colab.research.google.com/notebooks/data_table.ipynb>data table notebook</a>'\n",
              "            + ' to learn more about interactive tables.';\n",
              "          element.innerHTML = '';\n",
              "          dataTable['output_type'] = 'display_data';\n",
              "          await google.colab.output.renderOutput(dataTable, element);\n",
              "          const docLink = document.createElement('div');\n",
              "          docLink.innerHTML = docLinkHtml;\n",
              "          element.appendChild(docLink);\n",
              "        }\n",
              "      </script>\n",
              "    </div>\n",
              "  </div>\n",
              "  "
            ],
            "text/plain": [
              "          close      MACD  Day_dif  ...  TrendGoogle  open_tesla  fng_value\n",
              "count   310.000   310.000  310.000  ...      310.000     310.000    310.000\n",
              "mean  42611.522   670.047    0.004  ...       32.011      74.671     59.190\n",
              "std   10855.745  2133.127    0.044  ...       24.446      58.441     26.719\n",
              "min   18036.530 -5073.279   -0.144  ...        0.000       8.464     10.000\n",
              "25%   34617.675  -856.217   -0.021  ...       19.000      17.717     28.000\n",
              "50%   43088.260   978.768    0.003  ...       22.000      72.457     70.000\n",
              "75%   50035.665  2118.619    0.028  ...       44.068     112.985     78.000\n",
              "max   63575.000  5248.182    0.195  ...      160.000     301.828     95.000\n",
              "\n",
              "[8 rows x 8 columns]"
            ]
          },
          "metadata": {},
          "execution_count": 161
        }
      ],
      "source": [
        "# checking the main parameters\n",
        "dataset.describe()"
      ]
    },
    {
      "cell_type": "code",
      "execution_count": null,
      "id": "d0c97b46",
      "metadata": {
        "id": "d0c97b46"
      },
      "outputs": [],
      "source": [
        "# use close only and fill NaN with ffil\n",
        "df = dataset.set_index('date')[features]#.tail(n_past_total)\n",
        "df = df.set_index(pd.to_datetime(df.index))\n",
        "df.fillna(method='ffill',inplace=True)\n"
      ]
    },
    {
      "cell_type": "code",
      "execution_count": null,
      "id": "382a0e50",
      "metadata": {
        "id": "382a0e50",
        "colab": {
          "base_uri": "https://localhost:8080/",
          "height": 73
        },
        "outputId": "e07930d9-fe5f-4f60-ef07-c56efd3f64a1"
      },
      "outputs": [
        {
          "output_type": "execute_result",
          "data": {
            "text/plain": [
              "<matplotlib.axes._subplots.AxesSubplot at 0x7fd8d50a45d0>"
            ]
          },
          "metadata": {},
          "execution_count": 163
        },
        {
          "output_type": "display_data",
          "data": {
            "image/png": "[encoded data removed]",
            "text/plain": [
              "<Figure size 1800x864 with 2 Axes>"
            ]
          },
          "metadata": {}
        }
      ],
      "source": [
        "# looking at the correlation of the main possible variables\n",
        "import matplotlib.pyplot as plt\n",
        "import seaborn as sns\n",
        "\n",
        "\n",
        "\n",
        "sns.set_theme(style=\"white\")\n",
        "\n",
        "\n",
        "\n",
        "\n",
        "# Compute the correlation matrix\n",
        "corr = dataset.corr()\n",
        "\n",
        "# Generate a mask for the upper triangle\n",
        "mask = np.triu(np.ones_like(corr, dtype=bool))\n",
        "\n",
        "# Set up the matplotlib figure\n",
        "f, ax = plt.subplots(figsize=(25, 12))\n",
        "\n",
        "# Generate a custom diverging colormap\n",
        "cmap = sns.diverging_palette(98, 2, as_cmap=True)\n",
        "\n",
        "# Draw the heatmap with the mask and correct aspect ratio\n",
        "sns.heatmap(corr, mask=mask, cmap=cmap,vmin=-0.5, vmax=1, center=0,\n",
        "            square=True, linewidths=1, cbar_kws={\"shrink\": .7},annot=True)"
      ]
    },
    {
      "cell_type": "code",
      "source": [
        "dataset.info()"
      ],
      "metadata": {
        "colab": {
          "base_uri": "https://localhost:8080/"
        },
        "id": "fIffLWJqEs4v",
        "outputId": "099ede92-baed-439f-9303-157ac4d094e0"
      },
      "id": "fIffLWJqEs4v",
      "execution_count": null,
      "outputs": [
        {
          "output_type": "stream",
          "name": "stdout",
          "text": [
            "<class 'pandas.core.frame.DataFrame'>\n",
            "RangeIndex: 310 entries, 1008 to 1317\n",
            "Data columns (total 9 columns):\n",
            " #   Column          Non-Null Count  Dtype  \n",
            "---  ------          --------------  -----  \n",
            " 0   date            310 non-null    object \n",
            " 1   close           310 non-null    float64\n",
            " 2   MACD            310 non-null    float64\n",
            " 3   Day_dif         310 non-null    float64\n",
            " 4   Close_off_high  310 non-null    float64\n",
            " 5   Volatility      310 non-null    float64\n",
            " 6   TrendGoogle     310 non-null    float64\n",
            " 7   open_tesla      310 non-null    float64\n",
            " 8   fng_value       310 non-null    float64\n",
            "dtypes: float64(8), object(1)\n",
            "memory usage: 21.9+ KB\n"
          ]
        }
      ]
    },
    {
      "cell_type": "markdown",
      "id": "10197f0a",
      "metadata": {
        "id": "10197f0a"
      },
      "source": [
        "\n",
        "# Preprocessing the data"
      ]
    },
    {
      "cell_type": "code",
      "execution_count": null,
      "id": "63af3a63",
      "metadata": {
        "id": "63af3a63",
        "colab": {
          "base_uri": "https://localhost:8080/",
          "height": 73
        },
        "outputId": "60e1223b-8869-4c76-d0f1-bb8c36009573"
      },
      "outputs": [
        {
          "output_type": "execute_result",
          "data": {
            "text/plain": [
              "<matplotlib.legend.Legend at 0x7fd8d4e7a9d0>"
            ]
          },
          "metadata": {},
          "execution_count": 165
        },
        {
          "output_type": "display_data",
          "data": {
            "image/png": "[encoded data removed]",
            "text/plain": [
              "<Figure size 1152x576 with 1 Axes>"
            ]
          },
          "metadata": {}
        }
      ],
      "source": [
        "# droppping firsts observations becuase they may not be representative of BTC behaviour now due to beginnings of crypto market\n",
        "df = df.tail(n_past_total)\n",
        "fig, ax = plt.subplots(figsize=(16,8))\n",
        "ax.set_facecolor('white')\n",
        "ax.plot(df[\"close\"], color='blue', label='Original price')\n",
        "\n",
        "plt.title(' eth Price ')\n",
        "plt.grid()\n",
        "plt.legend()"
      ]
    },
    {
      "cell_type": "code",
      "source": [
        "df.info()"
      ],
      "metadata": {
        "id": "ZPAiAmfGV9Nc",
        "outputId": "614eb477-13fc-4414-a5b6-46cfdd706381",
        "colab": {
          "base_uri": "https://localhost:8080/"
        }
      },
      "id": "ZPAiAmfGV9Nc",
      "execution_count": null,
      "outputs": [
        {
          "output_type": "stream",
          "name": "stdout",
          "text": [
            "<class 'pandas.core.frame.DataFrame'>\n",
            "DatetimeIndex: 310 entries, 2020-12-03 to 2021-10-08\n",
            "Data columns (total 7 columns):\n",
            " #   Column          Non-Null Count  Dtype  \n",
            "---  ------          --------------  -----  \n",
            " 0   close           310 non-null    float64\n",
            " 1   Day_dif         310 non-null    float64\n",
            " 2   Close_off_high  310 non-null    float64\n",
            " 3   Volatility      310 non-null    float64\n",
            " 4   TrendGoogle     310 non-null    float64\n",
            " 5   open_tesla      310 non-null    float64\n",
            " 6   fng_value       310 non-null    float64\n",
            "dtypes: float64(7)\n",
            "memory usage: 19.4 KB\n"
          ]
        }
      ]
    },
    {
      "cell_type": "code",
      "execution_count": null,
      "id": "c139f972",
      "metadata": {
        "id": "c139f972",
        "outputId": "9fa6dc8d-801b-416a-e2c0-8ba76edea238",
        "colab": {
          "base_uri": "https://localhost:8080/"
        }
      },
      "outputs": [
        {
          "output_type": "stream",
          "name": "stdout",
          "text": [
            "training_set.shape:\t (310, 7)\n"
          ]
        }
      ],
      "source": [
        "# train test split\n",
        "training_set = df\n",
        "training_set = training_set.values\n",
        "print('training_set.shape:\\t', training_set.shape)"
      ]
    },
    {
      "cell_type": "code",
      "execution_count": null,
      "id": "65d8c153",
      "metadata": {
        "id": "65d8c153",
        "outputId": "7c5d42f9-b839-4af0-84e0-c20aac9a9db2",
        "colab": {
          "base_uri": "https://localhost:8080/"
        }
      },
      "outputs": [
        {
          "output_type": "stream",
          "name": "stdout",
          "text": [
            "training_set_scaled.shape:  (310, 7)\n"
          ]
        },
        {
          "output_type": "execute_result",
          "data": {
            "text/plain": [
              "array([[0.03042197, 0.45735064, 0.23852658, ..., 0.11022727, 0.46810416,\n",
              "        0.96470588],\n",
              "       [0.01348289, 0.30671862, 0.9116024 , ..., 0.06420455, 0.13615158,\n",
              "        0.96470588],\n",
              "       [0.02439981, 0.50250893, 0.04011514, ..., 0.        , 0.13615158,\n",
              "        0.97647059],\n",
              "       ...,\n",
              "       [0.8186149 , 0.64407286, 0.07796782, ..., 0.1875    , 0.04159783,\n",
              "        0.68235294],\n",
              "       [0.78502176, 0.34234985, 0.78291413, ..., 0.175     , 0.04159783,\n",
              "        0.77647059],\n",
              "       [0.78867164, 0.43301614, 0.86555034, ..., 0.11875   , 0.04159783,\n",
              "        0.75294118]])"
            ]
          },
          "metadata": {},
          "execution_count": 168
        }
      ],
      "source": [
        "# scale\n",
        "sc = MinMaxScaler(feature_range=(0,1))\n",
        "training_set_scaled = sc.fit_transform(training_set)\n",
        "print('training_set_scaled.shape: ', training_set_scaled.shape)\n",
        "training_set_scaled"
      ]
    },
    {
      "cell_type": "code",
      "execution_count": null,
      "id": "20017b3e",
      "metadata": {
        "id": "20017b3e"
      },
      "outputs": [],
      "source": [
        "# creating a data structure with timesteps and 1 output\n",
        "X_train = []\n",
        "y_train = []\n",
        "\n",
        "for i in range(n_past, len(training_set_scaled) - n_future + 1):\n",
        "    X_train.append(training_set_scaled[i-n_past:i, :])\n",
        "    y_train.append(training_set_scaled[i:i+n_future, 0])\n",
        "\n",
        "X_train, y_train = np.array(X_train), np.array(y_train)\n",
        "X_train.shape, y_train.shape\n",
        "\n",
        "X_test = X_train[-1].reshape(1, n_past, n_features)\n",
        "y_test  = y_train[-1]\n",
        "\n"
      ]
    },
    {
      "cell_type": "code",
      "execution_count": null,
      "id": "b57feb51",
      "metadata": {
        "id": "b57feb51",
        "outputId": "34ad640c-ff42-49c6-dff7-2654f07dc16c",
        "colab": {
          "base_uri": "https://localhost:8080/"
        }
      },
      "outputs": [
        {
          "output_type": "execute_result",
          "data": {
            "text/plain": [
              "(251, 30, 7)"
            ]
          },
          "metadata": {},
          "execution_count": 170
        }
      ],
      "source": [
        "# reshaping (needed to fit RNN)\n",
        "X_train = np.reshape(X_train, (X_train.shape[0], X_train.shape[1], n_features))\n",
        "X_train.shape\n",
        "\n"
      ]
    },
    {
      "cell_type": "markdown",
      "source": [
        "# BUILD LSTM"
      ],
      "metadata": {
        "id": "U_jmaIR6K6xD"
      },
      "id": "U_jmaIR6K6xD"
    },
    {
      "cell_type": "code",
      "execution_count": null,
      "id": "e179bf60",
      "metadata": {
        "id": "e179bf60",
        "outputId": "a49f1c38-3d80-4332-f202-11e429bf14c7",
        "colab": {
          "base_uri": "https://localhost:8080/"
        }
      },
      "outputs": [
        {
          "output_type": "stream",
          "name": "stdout",
          "text": [
            "Model: \"sequential_3\"\n",
            "_________________________________________________________________\n",
            " Layer (type)                Output Shape              Param #   \n",
            "=================================================================\n",
            " lstm_48 (LSTM)              (None, 30, 30)            4560      \n",
            "                                                                 \n",
            " dropout_45 (Dropout)        (None, 30, 30)            0         \n",
            "                                                                 \n",
            " lstm_49 (LSTM)              (None, 30, 64)            24320     \n",
            "                                                                 \n",
            " dropout_46 (Dropout)        (None, 30, 64)            0         \n",
            "                                                                 \n",
            " lstm_50 (LSTM)              (None, 30, 64)            33024     \n",
            "                                                                 \n",
            " dropout_47 (Dropout)        (None, 30, 64)            0         \n",
            "                                                                 \n",
            " lstm_51 (LSTM)              (None, 30, 64)            33024     \n",
            "                                                                 \n",
            " dropout_48 (Dropout)        (None, 30, 64)            0         \n",
            "                                                                 \n",
            " lstm_52 (LSTM)              (None, 30, 64)            33024     \n",
            "                                                                 \n",
            " dropout_49 (Dropout)        (None, 30, 64)            0         \n",
            "                                                                 \n",
            " lstm_53 (LSTM)              (None, 30, 64)            33024     \n",
            "                                                                 \n",
            " dropout_50 (Dropout)        (None, 30, 64)            0         \n",
            "                                                                 \n",
            " lstm_54 (LSTM)              (None, 30, 64)            33024     \n",
            "                                                                 \n",
            " dropout_51 (Dropout)        (None, 30, 64)            0         \n",
            "                                                                 \n",
            " lstm_55 (LSTM)              (None, 30, 64)            33024     \n",
            "                                                                 \n",
            " dropout_52 (Dropout)        (None, 30, 64)            0         \n",
            "                                                                 \n",
            " lstm_56 (LSTM)              (None, 30, 64)            33024     \n",
            "                                                                 \n",
            " dropout_53 (Dropout)        (None, 30, 64)            0         \n",
            "                                                                 \n",
            " lstm_57 (LSTM)              (None, 30, 64)            33024     \n",
            "                                                                 \n",
            " dropout_54 (Dropout)        (None, 30, 64)            0         \n",
            "                                                                 \n",
            " lstm_58 (LSTM)              (None, 30, 64)            33024     \n",
            "                                                                 \n",
            " dropout_55 (Dropout)        (None, 30, 64)            0         \n",
            "                                                                 \n",
            " lstm_59 (LSTM)              (None, 30, 64)            33024     \n",
            "                                                                 \n",
            " dropout_56 (Dropout)        (None, 30, 64)            0         \n",
            "                                                                 \n",
            " lstm_60 (LSTM)              (None, 30, 64)            33024     \n",
            "                                                                 \n",
            " dropout_57 (Dropout)        (None, 30, 64)            0         \n",
            "                                                                 \n",
            " lstm_61 (LSTM)              (None, 30, 64)            33024     \n",
            "                                                                 \n",
            " dropout_58 (Dropout)        (None, 30, 64)            0         \n",
            "                                                                 \n",
            " lstm_62 (LSTM)              (None, 30, 64)            33024     \n",
            "                                                                 \n",
            " dropout_59 (Dropout)        (None, 30, 64)            0         \n",
            "                                                                 \n",
            " lstm_63 (LSTM)              (None, 64)                33024     \n",
            "                                                                 \n",
            " dense_3 (Dense)             (None, 30)                1950      \n",
            "                                                                 \n",
            "=================================================================\n",
            "Total params: 493,166\n",
            "Trainable params: 493,166\n",
            "Non-trainable params: 0\n",
            "_________________________________________________________________\n"
          ]
        }
      ],
      "source": [
        "# Building the RNN\n",
        "\n",
        "# Initialising \n",
        "regressor = Sequential()\n",
        "\n",
        "# Input layer\n",
        "regressor.add(LSTM(units=n_past, return_sequences=True, activation=activation, input_shape=(X_train.shape[1], n_features))) \n",
        "\n",
        "#regressor.add(LSTM(units=neurons, return_sequences=True, activation=activation, input_shape=(X_train.shape[1], 1))) \n",
        "\n",
        "# Hidden layers\n",
        "for _ in range(n_layers):\n",
        "    regressor.add(Dropout(dropout))\n",
        "    regressor.add(LSTM(units=n_neurons, return_sequences=True, activation=activation))\n",
        "\n",
        "# Last hidden layer \n",
        "regressor.add(Dropout(dropout))\n",
        "regressor.add(LSTM(units=n_neurons, return_sequences=False))\n",
        "\n",
        "# output layer\n",
        "regressor.add(Dense(units=n_future,))\n",
        "\n",
        "# Compiling \n",
        "regressor.compile(optimizer=optimizer, loss='mse',metrics=[tf.keras.metrics.MeanSquaredError()],\n",
        ")\n",
        "\n",
        "\n",
        "# Model summary\n",
        "regressor.summary()"
      ]
    },
    {
      "cell_type": "code",
      "execution_count": null,
      "id": "d6ea3ecd",
      "metadata": {
        "id": "d6ea3ecd"
      },
      "outputs": [],
      "source": [
        "#  Adding early stopping\n",
        "early_stop = EarlyStopping(monitor='val_loss', mode='min', verbose=1, patience=patience)"
      ]
    },
    {
      "cell_type": "code",
      "execution_count": null,
      "id": "1c21a7d6",
      "metadata": {
        "id": "1c21a7d6",
        "outputId": "86468f09-f290-4b01-b151-c14014cbd913",
        "colab": {
          "base_uri": "https://localhost:8080/"
        }
      },
      "outputs": [
        {
          "output_type": "stream",
          "name": "stdout",
          "text": [
            "Epoch 1/10\n",
            "225/225 [==============================] - 45s 138ms/step - loss: 0.0638 - mean_squared_error: 0.0638 - val_loss: 0.0067 - val_mean_squared_error: 0.0067\n",
            "Epoch 2/10\n",
            "225/225 [==============================] - 29s 127ms/step - loss: 0.0475 - mean_squared_error: 0.0475 - val_loss: 0.0076 - val_mean_squared_error: 0.0076\n",
            "Epoch 3/10\n",
            "225/225 [==============================] - 29s 130ms/step - loss: 0.0457 - mean_squared_error: 0.0457 - val_loss: 0.0184 - val_mean_squared_error: 0.0184\n",
            "Epoch 4/10\n",
            "225/225 [==============================] - 29s 131ms/step - loss: 0.0462 - mean_squared_error: 0.0462 - val_loss: 0.0106 - val_mean_squared_error: 0.0106\n",
            "Epoch 5/10\n",
            "225/225 [==============================] - 30s 134ms/step - loss: 0.0470 - mean_squared_error: 0.0470 - val_loss: 0.0045 - val_mean_squared_error: 0.0045\n",
            "Epoch 6/10\n",
            "225/225 [==============================] - 30s 132ms/step - loss: 0.0462 - mean_squared_error: 0.0462 - val_loss: 0.0054 - val_mean_squared_error: 0.0054\n",
            "Epoch 7/10\n",
            "225/225 [==============================] - 29s 130ms/step - loss: 0.0456 - mean_squared_error: 0.0456 - val_loss: 0.0042 - val_mean_squared_error: 0.0042\n",
            "Epoch 8/10\n",
            "225/225 [==============================] - 31s 137ms/step - loss: 0.0452 - mean_squared_error: 0.0452 - val_loss: 0.0050 - val_mean_squared_error: 0.0050\n",
            "Epoch 9/10\n",
            "225/225 [==============================] - 30s 132ms/step - loss: 0.0451 - mean_squared_error: 0.0451 - val_loss: 0.0133 - val_mean_squared_error: 0.0133\n",
            "Epoch 10/10\n",
            "225/225 [==============================] - 30s 132ms/step - loss: 0.0458 - mean_squared_error: 0.0458 - val_loss: 0.0082 - val_mean_squared_error: 0.0082\n"
          ]
        }
      ],
      "source": [
        "# Fitting the RNN to the Training set\n",
        "res = regressor.fit(X_train, y_train\n",
        "                    , batch_size=batch_size\n",
        "                    , epochs=10\n",
        "                    , validation_split=0.1\n",
        "                    , callbacks=[early_stop]\n",
        "                   )\n",
        "\n"
      ]
    },
    {
      "cell_type": "code",
      "execution_count": null,
      "id": "296d07db",
      "metadata": {
        "id": "296d07db"
      },
      "outputs": [],
      "source": [
        "# Exporting the regressor\n",
        "last_date = dataset.date.values[-1]\n",
        "params = ['reg', last_date, n_past_total, n_past, n_future, activation, n_layers, n_neurons,batch_size ,n_features, patience, optimizer]\n",
        "modelname = 'output/'\n",
        "for i in params:\n",
        "    modelname += str(i)\n",
        "    if i!= params[-1]:\n",
        "        modelname += '_'\n",
        "if not os.path.exists(modelname):\n",
        "    os.makedirs(modelname)\n",
        "regressor.save('{}/regressor.h5'.format(modelname))"
      ]
    },
    {
      "cell_type": "code",
      "execution_count": null,
      "id": "2640081e",
      "metadata": {
        "id": "2640081e",
        "outputId": "d9842cc6-e62b-44dc-c8d7-a93994f8d1df",
        "colab": {
          "base_uri": "https://localhost:8080/"
        }
      },
      "outputs": [
        {
          "output_type": "execute_result",
          "data": {
            "text/plain": [
              "['loss', 'mean_squared_error', 'val_loss', 'val_mean_squared_error']"
            ]
          },
          "metadata": {},
          "execution_count": 175
        }
      ],
      "source": [
        "list(res.history)"
      ]
    },
    {
      "cell_type": "code",
      "execution_count": null,
      "id": "21279349",
      "metadata": {
        "id": "21279349"
      },
      "outputs": [],
      "source": [
        "# Loads the weights\n",
        "#regressor.load_weights(checkpoint_path)"
      ]
    },
    {
      "cell_type": "code",
      "execution_count": null,
      "id": "c8f24767",
      "metadata": {
        "id": "c8f24767"
      },
      "outputs": [],
      "source": [
        "# Recreate the exact same model, including its weights and the optimizer\n",
        "# new_model = tf.keras.models.load_model('C:\\Users\\yonas\\output\\reg_2021-10-29_700_90_7_softsign_6_64_5_19_25_adam\\regressor.h5')\n"
      ]
    },
    {
      "cell_type": "markdown",
      "id": "0c61dd7d",
      "metadata": {
        "id": "0c61dd7d"
      },
      "source": [
        "# GridSearch\n"
      ]
    },
    {
      "cell_type": "code",
      "execution_count": null,
      "id": "ff27b2d6",
      "metadata": {
        "id": "ff27b2d6"
      },
      "outputs": [],
      "source": [
        "\n",
        "\n",
        "#### Batch Size\n",
        "batch_size1 = [ 1,7,14,30]\n",
        "\n",
        "\n",
        "# Optimizer: Select!\n",
        "#### Optimizer\n",
        "optimizer1 = ['Adam', 'Adamax'] #'SGD', 'RMSprop', 'Adagrad', 'Adadelta', 'Adam', 'Adamax', 'Nadam'\n",
        "\n",
        "\n",
        "#### Neuron Activation Function\n",
        "activation1 = ['relu', 'softmax','softmax', 'softplus', 'softsign', 'relu', 'tanh', 'sigmoid', 'hard_sigmoid', 'linear'] #'softmax', 'softplus', 'softsign', 'relu', 'tanh', 'sigmoid', 'hard_sigmoid', 'linear'\n",
        "\n",
        "#### Tune Dropout Regularization\n",
        "\n",
        "dropout1 = [0.0, 0.1, 0.2, 0.3] #0.0, 0.1, 0.2, 0.3, 0.4, 0.5, 0.6, 0.7, 0.8, 0.9\n",
        "\n",
        "#### Tune the Number of Neurons in the Hidden Layer\n",
        "n_neurons1 = [100, 200] #10, 50, 100, 200\n",
        "\n",
        "n_past1=[10,20,30,40]\n",
        "# number of hidden layers\n",
        "n_layers1 = [3, 5,6]\n"
      ]
    },
    {
      "cell_type": "code",
      "execution_count": null,
      "id": "1257897b",
      "metadata": {
        "id": "1257897b",
        "outputId": "988a1667-1f27-4713-e56a-a8b0f3703225",
        "colab": {
          "base_uri": "https://localhost:8080/",
          "height": 92
        }
      },
      "outputs": [
        {
          "output_type": "execute_result",
          "data": {
            "application/vnd.google.colaboratory.intrinsic+json": {
              "type": "string"
            },
            "text/plain": [
              "'\\n# define the grid search parameters\\n\\n\\nscoring=\\'mean_absolute_error\\'\\nparam_grid = dict(dropout=dropout1, n_neurons=n_neurons1, n_layers=n_layers1, batch_size=batch_size1,n_past=n_past1)\\ngrid = GridSearchCV(estimator=regressor, param_grid=param_grid, n_jobs=-1, cv=3)\\ngrid_result = grid.fit(X_train, y_train)\\n\\n# summarize results\\nprint(\"Best: %f using %s\" % (grid_result.best_score_, grid_result.best_params_))\\nmeans = grid_result.cv_results_[\\'mean_test_score\\']\\nstds = grid_result.cv_results_[\\'std_test_score\\']\\nparams = grid_result.cv_results_[\\'params\\']\\nfor mean, stdev, param in zip(means, stds, params):\\n    print(\"%f (%f) with: %r\" % (mean, stdev, param))\\n'"
            ]
          },
          "metadata": {},
          "execution_count": 62
        }
      ],
      "source": [
        "'''\n",
        "# define the grid search parameters\n",
        "\n",
        "\n",
        "scoring='mean_absolute_error'\n",
        "param_grid = dict(dropout=dropout1, n_neurons=n_neurons1, n_layers=n_layers1, batch_size=batch_size1,n_past=n_past1)\n",
        "grid = GridSearchCV(estimator=regressor, param_grid=param_grid, n_jobs=-1, cv=3)\n",
        "grid_result = grid.fit(X_train, y_train)\n",
        "\n",
        "# summarize results\n",
        "print(\"Best: %f using %s\" % (grid_result.best_score_, grid_result.best_params_))\n",
        "means = grid_result.cv_results_['mean_test_score']\n",
        "stds = grid_result.cv_results_['std_test_score']\n",
        "params = grid_result.cv_results_['params']\n",
        "for mean, stdev, param in zip(means, stds, params):\n",
        "    print(\"%f (%f) with: %r\" % (mean, stdev, param))\n",
        "'''"
      ]
    },
    {
      "cell_type": "markdown",
      "id": "b8b88384",
      "metadata": {
        "id": "b8b88384"
      },
      "source": [
        "\n",
        "# Validation"
      ]
    },
    {
      "cell_type": "code",
      "execution_count": null,
      "id": "595e4855",
      "metadata": {
        "id": "595e4855",
        "outputId": "9d93b16c-b49a-4695-ec60-7c47889fc5ee",
        "colab": {
          "base_uri": "https://localhost:8080/",
          "height": 301
        }
      },
      "outputs": [
        {
          "output_type": "display_data",
          "data": {
            "image/png": "[encoded data removed]",
            "text/plain": [
              "<Figure size 864x288 with 1 Axes>"
            ]
          },
          "metadata": {}
        }
      ],
      "source": [
        "\n",
        "\n",
        "# Plotting Loss/MSE\n",
        "\n",
        "results = res\n",
        "\n",
        "history = results.history\n",
        "plt.figure(figsize=(12,4))\n",
        "plt.plot(history['val_loss'])\n",
        "plt.plot(history['loss'])\n",
        "plt.legend(['val_loss', 'loss'])\n",
        "plt.title('Loss')\n",
        "plt.xlabel('Epochs')\n",
        "plt.ylabel('Loss')\n",
        "plt.savefig('{}/Loss.png'.format(modelname))\n",
        "plt.show()\n",
        "\n"
      ]
    },
    {
      "cell_type": "code",
      "execution_count": null,
      "id": "197a10f4",
      "metadata": {
        "id": "197a10f4"
      },
      "outputs": [],
      "source": [
        "\n",
        "\n",
        "def dummy_invscaler(y, n_features):\n",
        "    '''\n",
        "    Since the scaler was trained into 2 features, it needs two features to perform the inverse scaleer.\n",
        "    For that purpose, this function will create a dummy array and concatenate it to the y_pred/y_true.\n",
        "    That dummy of ones will be drop after performing the inverse_transform.\n",
        "    INPUTS: array 'y', shape (X,)\n",
        "    '''\n",
        "    y = np.array(y).reshape(-1,1)\n",
        "    if n_features>1:\n",
        "        dummy = np.ones((len(y), n_features-1))\n",
        "        y = np.concatenate((y, dummy), axis=1)\n",
        "        y = sc.inverse_transform(y)\n",
        "        y = y[:,0]\n",
        "    else:\n",
        "        y = sc.inverse_transform(y)\n",
        "    return y\n",
        "\n"
      ]
    },
    {
      "cell_type": "code",
      "source": [],
      "metadata": {
        "id": "UdATVXAJywzp"
      },
      "id": "UdATVXAJywzp",
      "execution_count": null,
      "outputs": []
    },
    {
      "cell_type": "code",
      "execution_count": null,
      "id": "9c21f870",
      "metadata": {
        "id": "9c21f870",
        "outputId": "031d73d5-3a44-43ae-a27e-7dbd0c928c49",
        "colab": {
          "base_uri": "https://localhost:8080/",
          "height": 432
        }
      },
      "outputs": [
        {
          "output_type": "stream",
          "name": "stdout",
          "text": [
            "y_pred:\n",
            " [43443.98194904328, 42365.27669454515, 41908.725277972815, 42700.498707657454, 42778.90138817072, 43245.48487353921, 44155.15682601333, 44186.186753090624, 43827.45615019381, 43911.15715275526, 44840.29609586954, 43945.13210002839, 43697.45454440594, 44058.86416567445, 44491.366845901015, 44508.74382220864, 44622.66588915765, 44776.54523011863, 45581.60246518433, 45653.265528051255, 45547.445659521225, 45773.26492239058, 46358.99551053941, 46531.09869075835, 46280.44625759244, 46707.64518716216, 46706.85532460272, 46751.31291519046, 46110.2159473598, 46644.79275614381]\n",
            "y_true:\n",
            " [[46395.14], [44850.91], [45173.69], [46025.24], [44940.73], [47111.52], [48121.41], [47737.82], [47299.98], [48292.74], [47241.75], [43015.62], [40734.38], [43543.61], [44865.26], [42810.57], [42670.64], [43160.9], [42147.35], [41026.54], [41524.28], [43824.1], [48141.61], [47634.9], [48200.01], [49224.94], [51471.99], [55315.0], [53785.22], [53951.43]]\n"
          ]
        },
        {
          "output_type": "display_data",
          "data": {
            "image/png": "[encoded data removed]",
            "text/plain": [
              "<Figure size 1152x360 with 1 Axes>"
            ]
          },
          "metadata": {}
        }
      ],
      "source": [
        "\n",
        "\n",
        "# Validation\n",
        "\n",
        "# getting the predictions\n",
        "y_pred = regressor.predict(X_test).tolist()[0]\n",
        "y_pred = dummy_invscaler(y_pred, n_features)\n",
        "\n",
        "# creating a DF of the predicted prices\n",
        "y_pred_df = pd.DataFrame(y_pred, \n",
        "                         index=df[['close']].tail(n_future).index, \n",
        "                         columns=df[['close']].columns)\n",
        "\n",
        "# getting the true values\n",
        "y_true_df = df[['close']]#.tail(n_future)\n",
        "y_true = y_true_df.tail(n_future).values\n",
        "\n",
        "print('y_pred:\\n', y_pred.tolist())\n",
        "print('y_true:\\n', y_true.tolist())\n",
        "\n",
        "\n",
        "# plotting the results\n",
        "plt.figure(figsize=(16,5))\n",
        "plt.plot(y_pred_df, label='Y Predicted')\n",
        "plt.plot(y_true_df, label='Y Train')\n",
        "plt.plot(y_true_df.tail(n_past), label='Y Test')\n",
        "\n",
        "plt.title('BTC price Predicted vs True')\n",
        "plt.legend()\n",
        "plt.savefig('{}/Validation.png'.format(modelname))\n",
        "plt.grid()\n",
        "plt.show()\n",
        "\n"
      ]
    },
    {
      "cell_type": "code",
      "source": [
        "listetrue = y_true.tolist()\n",
        "listepred = y_pred.tolist()"
      ],
      "metadata": {
        "id": "3gEZABeiezj-"
      },
      "id": "3gEZABeiezj-",
      "execution_count": null,
      "outputs": []
    },
    {
      "cell_type": "code",
      "source": [
        "listetrue = np.array(listetrue).reshape(30,1)\n",
        "listepred = np.array(listepred).reshape(30,1)\n",
        "print('true',str(np.shape(listetrue)))\n",
        "print('pred',str(np.shape(listepred)))"
      ],
      "metadata": {
        "colab": {
          "base_uri": "https://localhost:8080/"
        },
        "id": "Irp8IBjcd2XL",
        "outputId": "eda361a3-dd69-4f2f-dfcf-96b6a7508037"
      },
      "id": "Irp8IBjcd2XL",
      "execution_count": null,
      "outputs": [
        {
          "output_type": "stream",
          "name": "stdout",
          "text": [
            "true (30, 1)\n",
            "pred (30, 1)\n"
          ]
        }
      ]
    },
    {
      "cell_type": "code",
      "execution_count": null,
      "id": "b7904a0a",
      "metadata": {
        "id": "b7904a0a",
        "outputId": "d38dc1fd-dded-473e-d384-1bb2579c1c8d",
        "colab": {
          "base_uri": "https://localhost:8080/"
        }
      },
      "outputs": [
        {
          "output_type": "execute_result",
          "data": {
            "text/plain": [
              "0.08044114209036655"
            ]
          },
          "metadata": {},
          "execution_count": 183
        }
      ],
      "source": [
        "\n",
        "# Root Mean Square Error (RMSE)\n",
        "rmse = math.sqrt(mean_squared_error(listepred, listetrue))\n",
        "moy = y_true.mean()\n",
        "Nrmse = rmse/moy\n",
        "Nrmse\n"
      ]
    },
    {
      "cell_type": "code",
      "execution_count": null,
      "id": "fd9b0ed0",
      "metadata": {
        "id": "fd9b0ed0",
        "outputId": "a043fff4-866f-45f4-d885-964d686c4b4b",
        "colab": {
          "base_uri": "https://localhost:8080/"
        }
      },
      "outputs": [
        {
          "output_type": "execute_result",
          "data": {
            "text/plain": [
              "7.085178871082311"
            ]
          },
          "metadata": {},
          "execution_count": 184
        }
      ],
      "source": [
        "def mape(actual, pred): \n",
        "    actual, pred = np.array(actual), np.array(pred)\n",
        "    return np.mean(np.abs((actual - pred) / actual)) * 100\n",
        "\n",
        "\n",
        "Mape= mape(listepred, listetrue)\n",
        "Mape\n"
      ]
    },
    {
      "cell_type": "code",
      "execution_count": null,
      "id": "efad1590",
      "metadata": {
        "id": "efad1590",
        "outputId": "c0994b69-00b4-483c-ffb5-c811882b6493",
        "colab": {
          "base_uri": "https://localhost:8080/"
        }
      },
      "outputs": [
        {
          "output_type": "execute_result",
          "data": {
            "text/plain": [
              "0.18679590963693882"
            ]
          },
          "metadata": {},
          "execution_count": 185
        }
      ],
      "source": [
        "\n",
        "\n",
        "#Explained variance regression score function.\n",
        "explained_variance_score(y_true, y_pred)\n",
        "# Best possible score is 1.0, lower values are worse.\n",
        "\n"
      ]
    },
    {
      "cell_type": "markdown",
      "id": "289ce329",
      "metadata": {
        "id": "289ce329"
      },
      "source": [
        "\n",
        "# Predictions"
      ]
    },
    {
      "cell_type": "code",
      "execution_count": null,
      "id": "1871fcaf",
      "metadata": {
        "id": "1871fcaf",
        "colab": {
          "base_uri": "https://localhost:8080/",
          "height": 432
        },
        "outputId": "b9f031b5-4058-4c7e-d2d5-1940d3102af0"
      },
      "outputs": [
        {
          "output_type": "stream",
          "name": "stdout",
          "text": [
            "y_pred:\n",
            " [42591.34755707979, 42757.104068039356, 42594.306721650064, 43695.850950343905, 44278.17003451586, 43621.81343814731, 44847.674798345564, 44798.709132683274, 45367.45371643454, 44745.99391654134, 45780.829574483636, 45492.734413945676, 45233.02870703935, 45925.63632797003, 46912.43867356479, 45824.84349759519, 46076.13184628189, 46628.41626589745, 46976.203182661535, 45767.15841540396, 45356.392341147366, 45146.39133590013, 45426.28057903498, 45009.03031973839, 45836.91072705239, 44672.10642663836, 45290.41374464333, 45538.934232355656, 45889.80113701373, 45432.641927029195]\n",
            "y_true:\n",
            " [[46395.14], [44850.91], [45173.69], [46025.24], [44940.73], [47111.52], [48121.41], [47737.82], [47299.98], [48292.74], [47241.75], [43015.62], [40734.38], [43543.61], [44865.26], [42810.57], [42670.64], [43160.9], [42147.35], [41026.54], [41524.28], [43824.1], [48141.61], [47634.9], [48200.01], [49224.94], [51471.99], [55315.0], [53785.22], [53951.43]]\n"
          ]
        },
        {
          "output_type": "display_data",
          "data": {
            "image/png": "[encoded data removed]",
            "text/plain": [
              "<Figure size 1152x360 with 1 Axes>"
            ]
          },
          "metadata": {}
        }
      ],
      "source": [
        "# Predicting/Forecasting\n",
        "\n",
        "# getting the predictions\n",
        "x = df[features][-n_past:].values\n",
        "x = sc.transform(x)\n",
        "y_pred = regressor.predict(x.reshape(1, n_past, n_features)).tolist()[0]\n",
        "y_pred = dummy_invscaler(y_pred, n_features)\n",
        "\n",
        "# creating a DF of the predicted prices\n",
        "y_pred_df = pd.DataFrame(y_pred, \n",
        "                         index=pd.date_range(start=df[['close']].index[-1]+datetime.timedelta(days=1),\n",
        "                                             periods=len(y_pred), \n",
        "                                             freq=\"D\"), \n",
        "                         columns=df[['close']].columns)\n",
        "\n",
        "# getting the true values\n",
        "y_true_df = df[['close']]#tail(n_past)\n",
        "\n",
        "# linking them\n",
        "#y_true_df = y_true_df.append(y_pred_df.head(1))\n",
        "y_pred_df = y_pred_df.append(y_true_df.tail(1)).sort_index()\n",
        "\n",
        "print('y_pred:\\n', y_pred.tolist())\n",
        "print('y_true:\\n', y_true.tolist())\n",
        "\n",
        "# plotting the results\n",
        "plt.figure(figsize=(16,5))\n",
        "plt.plot(y_pred_df, label='Predicted')\n",
        "plt.plot(y_true_df, label='True')\n",
        "\n",
        "plt.title('BTC price Predicted vs True')\n",
        "plt.legend()\n",
        "plt.savefig('{}/Predictions.png'.format(modelname))\n",
        "plt.show()"
      ]
    },
    {
      "cell_type": "code",
      "execution_count": null,
      "id": "51f6ca48",
      "metadata": {
        "id": "51f6ca48",
        "colab": {
          "base_uri": "https://localhost:8080/",
          "height": 1000
        },
        "outputId": "cc5a4864-1019-4c78-c2cf-9c26ba08ba13"
      },
      "outputs": [
        {
          "output_type": "execute_result",
          "data": {
            "text/html": [
              "\n",
              "  <div id=\"df-3a295887-67da-4f82-8a94-93901d4e764f\">\n",
              "    <div class=\"colab-df-container\">\n",
              "      <div>\n",
              "<style scoped>\n",
              "    .dataframe tbody tr th:only-of-type {\n",
              "        vertical-align: middle;\n",
              "    }\n",
              "\n",
              "    .dataframe tbody tr th {\n",
              "        vertical-align: top;\n",
              "    }\n",
              "\n",
              "    .dataframe thead th {\n",
              "        text-align: right;\n",
              "    }\n",
              "</style>\n",
              "<table border=\"1\" class=\"dataframe\">\n",
              "  <thead>\n",
              "    <tr style=\"text-align: right;\">\n",
              "      <th></th>\n",
              "      <th>close</th>\n",
              "    </tr>\n",
              "  </thead>\n",
              "  <tbody>\n",
              "    <tr>\n",
              "      <th>2021-10-08</th>\n",
              "      <td>53951.430</td>\n",
              "    </tr>\n",
              "    <tr>\n",
              "      <th>2021-10-09</th>\n",
              "      <td>42591.348</td>\n",
              "    </tr>\n",
              "    <tr>\n",
              "      <th>2021-10-10</th>\n",
              "      <td>42757.104</td>\n",
              "    </tr>\n",
              "    <tr>\n",
              "      <th>2021-10-11</th>\n",
              "      <td>42594.307</td>\n",
              "    </tr>\n",
              "    <tr>\n",
              "      <th>2021-10-12</th>\n",
              "      <td>43695.851</td>\n",
              "    </tr>\n",
              "    <tr>\n",
              "      <th>2021-10-13</th>\n",
              "      <td>44278.170</td>\n",
              "    </tr>\n",
              "    <tr>\n",
              "      <th>2021-10-14</th>\n",
              "      <td>43621.813</td>\n",
              "    </tr>\n",
              "    <tr>\n",
              "      <th>2021-10-15</th>\n",
              "      <td>44847.675</td>\n",
              "    </tr>\n",
              "    <tr>\n",
              "      <th>2021-10-16</th>\n",
              "      <td>44798.709</td>\n",
              "    </tr>\n",
              "    <tr>\n",
              "      <th>2021-10-17</th>\n",
              "      <td>45367.454</td>\n",
              "    </tr>\n",
              "    <tr>\n",
              "      <th>2021-10-18</th>\n",
              "      <td>44745.994</td>\n",
              "    </tr>\n",
              "    <tr>\n",
              "      <th>2021-10-19</th>\n",
              "      <td>45780.830</td>\n",
              "    </tr>\n",
              "    <tr>\n",
              "      <th>2021-10-20</th>\n",
              "      <td>45492.734</td>\n",
              "    </tr>\n",
              "    <tr>\n",
              "      <th>2021-10-21</th>\n",
              "      <td>45233.029</td>\n",
              "    </tr>\n",
              "    <tr>\n",
              "      <th>2021-10-22</th>\n",
              "      <td>45925.636</td>\n",
              "    </tr>\n",
              "    <tr>\n",
              "      <th>2021-10-23</th>\n",
              "      <td>46912.439</td>\n",
              "    </tr>\n",
              "    <tr>\n",
              "      <th>2021-10-24</th>\n",
              "      <td>45824.843</td>\n",
              "    </tr>\n",
              "    <tr>\n",
              "      <th>2021-10-25</th>\n",
              "      <td>46076.132</td>\n",
              "    </tr>\n",
              "    <tr>\n",
              "      <th>2021-10-26</th>\n",
              "      <td>46628.416</td>\n",
              "    </tr>\n",
              "    <tr>\n",
              "      <th>2021-10-27</th>\n",
              "      <td>46976.203</td>\n",
              "    </tr>\n",
              "    <tr>\n",
              "      <th>2021-10-28</th>\n",
              "      <td>45767.158</td>\n",
              "    </tr>\n",
              "    <tr>\n",
              "      <th>2021-10-29</th>\n",
              "      <td>45356.392</td>\n",
              "    </tr>\n",
              "    <tr>\n",
              "      <th>2021-10-30</th>\n",
              "      <td>45146.391</td>\n",
              "    </tr>\n",
              "    <tr>\n",
              "      <th>2021-10-31</th>\n",
              "      <td>45426.281</td>\n",
              "    </tr>\n",
              "    <tr>\n",
              "      <th>2021-11-01</th>\n",
              "      <td>45009.030</td>\n",
              "    </tr>\n",
              "    <tr>\n",
              "      <th>2021-11-02</th>\n",
              "      <td>45836.911</td>\n",
              "    </tr>\n",
              "    <tr>\n",
              "      <th>2021-11-03</th>\n",
              "      <td>44672.106</td>\n",
              "    </tr>\n",
              "    <tr>\n",
              "      <th>2021-11-04</th>\n",
              "      <td>45290.414</td>\n",
              "    </tr>\n",
              "    <tr>\n",
              "      <th>2021-11-05</th>\n",
              "      <td>45538.934</td>\n",
              "    </tr>\n",
              "    <tr>\n",
              "      <th>2021-11-06</th>\n",
              "      <td>45889.801</td>\n",
              "    </tr>\n",
              "    <tr>\n",
              "      <th>2021-11-07</th>\n",
              "      <td>45432.642</td>\n",
              "    </tr>\n",
              "  </tbody>\n",
              "</table>\n",
              "</div>\n",
              "      <button class=\"colab-df-convert\" onclick=\"convertToInteractive('df-3a295887-67da-4f82-8a94-93901d4e764f')\"\n",
              "              title=\"Convert this dataframe to an interactive table.\"\n",
              "              style=\"display:none;\">\n",
              "        \n",
              "  <svg xmlns=\"http://www.w3.org/2000/svg\" height=\"24px\"viewBox=\"0 0 24 24\"\n",
              "       width=\"24px\">\n",
              "    <path d=\"M0 0h24v24H0V0z\" fill=\"none\"/>\n",
              "    <path d=\"M18.56 5.44l.94 2.06.94-2.06 2.06-.94-2.06-.94-.94-2.06-.94 2.06-2.06.94zm-11 1L8.5 8.5l.94-2.06 2.06-.94-2.06-.94L8.5 2.5l-.94 2.06-2.06.94zm10 10l.94 2.06.94-2.06 2.06-.94-2.06-.94-.94-2.06-.94 2.06-2.06.94z\"/><path d=\"M17.41 7.96l-1.37-1.37c-.4-.4-.92-.59-1.43-.59-.52 0-1.04.2-1.43.59L10.3 9.45l-7.72 7.72c-.78.78-.78 2.05 0 2.83L4 21.41c.39.39.9.59 1.41.59.51 0 1.02-.2 1.41-.59l7.78-7.78 2.81-2.81c.8-.78.8-2.07 0-2.86zM5.41 20L4 18.59l7.72-7.72 1.47 1.35L5.41 20z\"/>\n",
              "  </svg>\n",
              "      </button>\n",
              "      \n",
              "  <style>\n",
              "    .colab-df-container {\n",
              "      display:flex;\n",
              "      flex-wrap:wrap;\n",
              "      gap: 12px;\n",
              "    }\n",
              "\n",
              "    .colab-df-convert {\n",
              "      background-color: #E8F0FE;\n",
              "      border: none;\n",
              "      border-radius: 50%;\n",
              "      cursor: pointer;\n",
              "      display: none;\n",
              "      fill: #1967D2;\n",
              "      height: 32px;\n",
              "      padding: 0 0 0 0;\n",
              "      width: 32px;\n",
              "    }\n",
              "\n",
              "    .colab-df-convert:hover {\n",
              "      background-color: #E2EBFA;\n",
              "      box-shadow: 0px 1px 2px rgba(60, 64, 67, 0.3), 0px 1px 3px 1px rgba(60, 64, 67, 0.15);\n",
              "      fill: #174EA6;\n",
              "    }\n",
              "\n",
              "    [theme=dark] .colab-df-convert {\n",
              "      background-color: #3B4455;\n",
              "      fill: #D2E3FC;\n",
              "    }\n",
              "\n",
              "    [theme=dark] .colab-df-convert:hover {\n",
              "      background-color: #434B5C;\n",
              "      box-shadow: 0px 1px 3px 1px rgba(0, 0, 0, 0.15);\n",
              "      filter: drop-shadow(0px 1px 2px rgba(0, 0, 0, 0.3));\n",
              "      fill: #FFFFFF;\n",
              "    }\n",
              "  </style>\n",
              "\n",
              "      <script>\n",
              "        const buttonEl =\n",
              "          document.querySelector('#df-3a295887-67da-4f82-8a94-93901d4e764f button.colab-df-convert');\n",
              "        buttonEl.style.display =\n",
              "          google.colab.kernel.accessAllowed ? 'block' : 'none';\n",
              "\n",
              "        async function convertToInteractive(key) {\n",
              "          const element = document.querySelector('#df-3a295887-67da-4f82-8a94-93901d4e764f');\n",
              "          const dataTable =\n",
              "            await google.colab.kernel.invokeFunction('convertToInteractive',\n",
              "                                                     [key], {});\n",
              "          if (!dataTable) return;\n",
              "\n",
              "          const docLinkHtml = 'Like what you see? Visit the ' +\n",
              "            '<a target=\"_blank\" href=https://colab.research.google.com/notebooks/data_table.ipynb>data table notebook</a>'\n",
              "            + ' to learn more about interactive tables.';\n",
              "          element.innerHTML = '';\n",
              "          dataTable['output_type'] = 'display_data';\n",
              "          await google.colab.output.renderOutput(dataTable, element);\n",
              "          const docLink = document.createElement('div');\n",
              "          docLink.innerHTML = docLinkHtml;\n",
              "          element.appendChild(docLink);\n",
              "        }\n",
              "      </script>\n",
              "    </div>\n",
              "  </div>\n",
              "  "
            ],
            "text/plain": [
              "               close\n",
              "2021-10-08 53951.430\n",
              "2021-10-09 42591.348\n",
              "2021-10-10 42757.104\n",
              "2021-10-11 42594.307\n",
              "2021-10-12 43695.851\n",
              "2021-10-13 44278.170\n",
              "2021-10-14 43621.813\n",
              "2021-10-15 44847.675\n",
              "2021-10-16 44798.709\n",
              "2021-10-17 45367.454\n",
              "2021-10-18 44745.994\n",
              "2021-10-19 45780.830\n",
              "2021-10-20 45492.734\n",
              "2021-10-21 45233.029\n",
              "2021-10-22 45925.636\n",
              "2021-10-23 46912.439\n",
              "2021-10-24 45824.843\n",
              "2021-10-25 46076.132\n",
              "2021-10-26 46628.416\n",
              "2021-10-27 46976.203\n",
              "2021-10-28 45767.158\n",
              "2021-10-29 45356.392\n",
              "2021-10-30 45146.391\n",
              "2021-10-31 45426.281\n",
              "2021-11-01 45009.030\n",
              "2021-11-02 45836.911\n",
              "2021-11-03 44672.106\n",
              "2021-11-04 45290.414\n",
              "2021-11-05 45538.934\n",
              "2021-11-06 45889.801\n",
              "2021-11-07 45432.642"
            ]
          },
          "metadata": {},
          "execution_count": 129
        }
      ],
      "source": [
        "# export to csv\n",
        "#y_pred_df.to_csv('{}/preds_{}.csv'.format(modelname,n_future))\n",
        "# show\n",
        "y_pred_df"
      ]
    },
    {
      "cell_type": "markdown",
      "id": "2e7f2cb1",
      "metadata": {
        "id": "2e7f2cb1"
      },
      "source": [
        "# cross validation"
      ]
    },
    {
      "cell_type": "code",
      "source": [
        "from sklearn.model_selection import train_test_split,KFold,cross_val_score\n",
        "from keras.models import Sequential\n",
        "from keras.layers import Activation, Dense,Flatten,LSTM,Dropout"
      ],
      "metadata": {
        "id": "n4tVQ4FFzfgE"
      },
      "id": "n4tVQ4FFzfgE",
      "execution_count": null,
      "outputs": []
    },
    {
      "cell_type": "code",
      "source": [
        "y_pred60scores = regressor.evaluate(X_test, df[['close']].tail(n_future), verbose=0)"
      ],
      "metadata": {
        "id": "GWGi52j-zK4z",
        "colab": {
          "base_uri": "https://localhost:8080/",
          "height": 382
        },
        "outputId": "1d94a24e-3635-4cb2-a3b1-212fa49ce069"
      },
      "id": "GWGi52j-zK4z",
      "execution_count": null,
      "outputs": [
        {
          "output_type": "error",
          "ename": "ValueError",
          "evalue": "ignored",
          "traceback": [
            "\u001b[0;31m---------------------------------------------------------------------------\u001b[0m",
            "\u001b[0;31mValueError\u001b[0m                                Traceback (most recent call last)",
            "\u001b[0;32m<ipython-input-74-795d60dc4dc3>\u001b[0m in \u001b[0;36m<module>\u001b[0;34m()\u001b[0m\n\u001b[0;32m----> 1\u001b[0;31m \u001b[0my_pred60scores\u001b[0m \u001b[0;34m=\u001b[0m \u001b[0mregressor\u001b[0m\u001b[0;34m.\u001b[0m\u001b[0mevaluate\u001b[0m\u001b[0;34m(\u001b[0m\u001b[0mX_test\u001b[0m\u001b[0;34m,\u001b[0m \u001b[0mdf\u001b[0m\u001b[0;34m[\u001b[0m\u001b[0;34m[\u001b[0m\u001b[0;34m'close'\u001b[0m\u001b[0;34m]\u001b[0m\u001b[0;34m]\u001b[0m\u001b[0;34m.\u001b[0m\u001b[0mtail\u001b[0m\u001b[0;34m(\u001b[0m\u001b[0mn_future\u001b[0m\u001b[0;34m)\u001b[0m\u001b[0;34m,\u001b[0m \u001b[0mverbose\u001b[0m\u001b[0;34m=\u001b[0m\u001b[0;36m0\u001b[0m\u001b[0;34m)\u001b[0m\u001b[0;34m\u001b[0m\u001b[0;34m\u001b[0m\u001b[0m\n\u001b[0m",
            "\u001b[0;32m/usr/local/lib/python3.7/dist-packages/keras/utils/traceback_utils.py\u001b[0m in \u001b[0;36merror_handler\u001b[0;34m(*args, **kwargs)\u001b[0m\n\u001b[1;32m     65\u001b[0m     \u001b[0;32mexcept\u001b[0m \u001b[0mException\u001b[0m \u001b[0;32mas\u001b[0m \u001b[0me\u001b[0m\u001b[0;34m:\u001b[0m  \u001b[0;31m# pylint: disable=broad-except\u001b[0m\u001b[0;34m\u001b[0m\u001b[0;34m\u001b[0m\u001b[0m\n\u001b[1;32m     66\u001b[0m       \u001b[0mfiltered_tb\u001b[0m \u001b[0;34m=\u001b[0m \u001b[0m_process_traceback_frames\u001b[0m\u001b[0;34m(\u001b[0m\u001b[0me\u001b[0m\u001b[0;34m.\u001b[0m\u001b[0m__traceback__\u001b[0m\u001b[0;34m)\u001b[0m\u001b[0;34m\u001b[0m\u001b[0;34m\u001b[0m\u001b[0m\n\u001b[0;32m---> 67\u001b[0;31m       \u001b[0;32mraise\u001b[0m \u001b[0me\u001b[0m\u001b[0;34m.\u001b[0m\u001b[0mwith_traceback\u001b[0m\u001b[0;34m(\u001b[0m\u001b[0mfiltered_tb\u001b[0m\u001b[0;34m)\u001b[0m \u001b[0;32mfrom\u001b[0m \u001b[0;32mNone\u001b[0m\u001b[0;34m\u001b[0m\u001b[0;34m\u001b[0m\u001b[0m\n\u001b[0m\u001b[1;32m     68\u001b[0m     \u001b[0;32mfinally\u001b[0m\u001b[0;34m:\u001b[0m\u001b[0;34m\u001b[0m\u001b[0;34m\u001b[0m\u001b[0m\n\u001b[1;32m     69\u001b[0m       \u001b[0;32mdel\u001b[0m \u001b[0mfiltered_tb\u001b[0m\u001b[0;34m\u001b[0m\u001b[0;34m\u001b[0m\u001b[0m\n",
            "\u001b[0;32m/usr/local/lib/python3.7/dist-packages/keras/engine/data_adapter.py\u001b[0m in \u001b[0;36m_check_data_cardinality\u001b[0;34m(data)\u001b[0m\n\u001b[1;32m   1655\u001b[0m                            for i in tf.nest.flatten(single_data)))\n\u001b[1;32m   1656\u001b[0m     \u001b[0mmsg\u001b[0m \u001b[0;34m+=\u001b[0m \u001b[0;34m\"Make sure all arrays contain the same number of samples.\"\u001b[0m\u001b[0;34m\u001b[0m\u001b[0;34m\u001b[0m\u001b[0m\n\u001b[0;32m-> 1657\u001b[0;31m     \u001b[0;32mraise\u001b[0m \u001b[0mValueError\u001b[0m\u001b[0;34m(\u001b[0m\u001b[0mmsg\u001b[0m\u001b[0;34m)\u001b[0m\u001b[0;34m\u001b[0m\u001b[0;34m\u001b[0m\u001b[0m\n\u001b[0m\u001b[1;32m   1658\u001b[0m \u001b[0;34m\u001b[0m\u001b[0m\n\u001b[1;32m   1659\u001b[0m \u001b[0;34m\u001b[0m\u001b[0m\n",
            "\u001b[0;31mValueError\u001b[0m: Data cardinality is ambiguous:\n  x sizes: 1\n  y sizes: 30\nMake sure all arrays contain the same number of samples."
          ]
        }
      ]
    },
    {
      "cell_type": "code",
      "source": [
        "cvscores = []\n",
        "for train, test in kfold.split(x,y):\n",
        "  print(\"%s: %.2f%%\" % (regressor.metrics_names[1], scores[1]*100))\n",
        "  cvscores.append(scores[1] * 100)\n",
        "\n",
        "  \n",
        "print(\"%.2f%% (+/- %.2f%%)\" % (np.mean(cvscores), np.std(cvscores)))"
      ],
      "metadata": {
        "id": "XsBEJWPlzWXa"
      },
      "id": "XsBEJWPlzWXa",
      "execution_count": null,
      "outputs": []
    },
    {
      "cell_type": "markdown",
      "source": [
        "# SHAP\n",
        "\n",
        "https://medium.datadriveninvestor.com/time-step-wise-feature-importance-in-deep-learning-using-shap-e1c46a655455"
      ],
      "metadata": {
        "id": "rCgrSKz8o2MV"
      },
      "id": "rCgrSKz8o2MV"
    },
    {
      "cell_type": "code",
      "source": [
        "pip install shap"
      ],
      "metadata": {
        "id": "0dGSVhtkw0sm",
        "colab": {
          "base_uri": "https://localhost:8080/"
        },
        "outputId": "052cc09a-906a-4d25-c596-842d4fade938"
      },
      "id": "0dGSVhtkw0sm",
      "execution_count": null,
      "outputs": [
        {
          "output_type": "stream",
          "name": "stdout",
          "text": [
            "Collecting shap\n",
            "  Downloading shap-0.40.0-cp37-cp37m-manylinux2010_x86_64.whl (564 kB)\n",
            "\u001b[K     |████████████████████████████████| 564 kB 5.3 MB/s \n",
            "\u001b[?25hRequirement already satisfied: packaging>20.9 in /usr/local/lib/python3.7/dist-packages (from shap) (21.3)\n",
            "Requirement already satisfied: numba in /usr/local/lib/python3.7/dist-packages (from shap) (0.51.2)\n",
            "Requirement already satisfied: pandas in /usr/local/lib/python3.7/dist-packages (from shap) (1.1.5)\n",
            "Requirement already satisfied: tqdm>4.25.0 in /usr/local/lib/python3.7/dist-packages (from shap) (4.62.3)\n",
            "Requirement already satisfied: cloudpickle in /usr/local/lib/python3.7/dist-packages (from shap) (1.3.0)\n",
            "Collecting slicer==0.0.7\n",
            "  Downloading slicer-0.0.7-py3-none-any.whl (14 kB)\n",
            "Requirement already satisfied: scipy in /usr/local/lib/python3.7/dist-packages (from shap) (1.4.1)\n",
            "Requirement already satisfied: numpy in /usr/local/lib/python3.7/dist-packages (from shap) (1.19.5)\n",
            "Requirement already satisfied: scikit-learn in /usr/local/lib/python3.7/dist-packages (from shap) (1.0.1)\n",
            "Requirement already satisfied: pyparsing!=3.0.5,>=2.0.2 in /usr/local/lib/python3.7/dist-packages (from packaging>20.9->shap) (3.0.6)\n",
            "Requirement already satisfied: llvmlite<0.35,>=0.34.0.dev0 in /usr/local/lib/python3.7/dist-packages (from numba->shap) (0.34.0)\n",
            "Requirement already satisfied: setuptools in /usr/local/lib/python3.7/dist-packages (from numba->shap) (57.4.0)\n",
            "Requirement already satisfied: python-dateutil>=2.7.3 in /usr/local/lib/python3.7/dist-packages (from pandas->shap) (2.8.2)\n",
            "Requirement already satisfied: pytz>=2017.2 in /usr/local/lib/python3.7/dist-packages (from pandas->shap) (2018.9)\n",
            "Requirement already satisfied: six>=1.5 in /usr/local/lib/python3.7/dist-packages (from python-dateutil>=2.7.3->pandas->shap) (1.15.0)\n",
            "Requirement already satisfied: joblib>=0.11 in /usr/local/lib/python3.7/dist-packages (from scikit-learn->shap) (1.1.0)\n",
            "Requirement already satisfied: threadpoolctl>=2.0.0 in /usr/local/lib/python3.7/dist-packages (from scikit-learn->shap) (3.0.0)\n",
            "Installing collected packages: slicer, shap\n",
            "Successfully installed shap-0.40.0 slicer-0.0.7\n"
          ]
        }
      ]
    },
    {
      "cell_type": "code",
      "execution_count": null,
      "id": "698fdb73",
      "metadata": {
        "id": "698fdb73"
      },
      "outputs": [],
      "source": [
        "import shap"
      ]
    },
    {
      "cell_type": "code",
      "source": [
        "import numpy as np\n",
        "import matplotlib.pyplot as plt\n",
        "import pandas as pd\n",
        "from keras.models import load_model\n",
        "import shap"
      ],
      "metadata": {
        "id": "t3wA9LdD1-Ra"
      },
      "id": "t3wA9LdD1-Ra",
      "execution_count": null,
      "outputs": []
    },
    {
      "cell_type": "code",
      "execution_count": null,
      "id": "a508f034",
      "metadata": {
        "id": "a508f034",
        "colab": {
          "base_uri": "https://localhost:8080/",
          "height": 772
        },
        "outputId": "b5c1fa98-649b-4cd6-d489-b5304d52ddeb"
      },
      "outputs": [
        {
          "output_type": "stream",
          "name": "stderr",
          "text": [
            "Your TensorFlow version is newer than 2.4.0 and so graph support has been removed in eager mode and some static graphs may not be supported. See PR #1483 for discussion.\n",
            "`tf.keras.backend.set_learning_phase` is deprecated and will be removed after 2020-10-11. To update it, simply pass a True/False value to the `training` argument of the `__call__` method of your layer or model.\n"
          ]
        },
        {
          "output_type": "error",
          "ename": "AttributeError",
          "evalue": "ignored",
          "traceback": [
            "\u001b[0;31m---------------------------------------------------------------------------\u001b[0m",
            "\u001b[0;31mAttributeError\u001b[0m                            Traceback (most recent call last)",
            "\u001b[0;32m<ipython-input-92-9151c9428000>\u001b[0m in \u001b[0;36m<module>\u001b[0;34m()\u001b[0m\n\u001b[1;32m      1\u001b[0m \u001b[0me\u001b[0m \u001b[0;34m=\u001b[0m \u001b[0mshap\u001b[0m\u001b[0;34m.\u001b[0m\u001b[0mDeepExplainer\u001b[0m\u001b[0;34m(\u001b[0m\u001b[0;34m(\u001b[0m\u001b[0mregressor\u001b[0m\u001b[0;34m.\u001b[0m\u001b[0mlayers\u001b[0m\u001b[0;34m[\u001b[0m\u001b[0;36m0\u001b[0m\u001b[0;34m]\u001b[0m\u001b[0;34m.\u001b[0m\u001b[0minput\u001b[0m\u001b[0;34m,\u001b[0m \u001b[0mregressor\u001b[0m\u001b[0;34m.\u001b[0m\u001b[0mlayers\u001b[0m\u001b[0;34m[\u001b[0m\u001b[0;34m-\u001b[0m\u001b[0;36m1\u001b[0m\u001b[0;34m]\u001b[0m\u001b[0;34m.\u001b[0m\u001b[0moutput\u001b[0m\u001b[0;34m)\u001b[0m\u001b[0;34m,\u001b[0m\u001b[0mX_train\u001b[0m\u001b[0;34m)\u001b[0m\u001b[0;34m\u001b[0m\u001b[0;34m\u001b[0m\u001b[0m\n\u001b[1;32m      2\u001b[0m \u001b[0mtest1\u001b[0m \u001b[0;34m=\u001b[0m \u001b[0mX_test\u001b[0m\u001b[0;34m\u001b[0m\u001b[0;34m\u001b[0m\u001b[0m\n\u001b[0;32m----> 3\u001b[0;31m \u001b[0mshap_val\u001b[0m \u001b[0;34m=\u001b[0m \u001b[0me\u001b[0m\u001b[0;34m.\u001b[0m\u001b[0mshap_values\u001b[0m\u001b[0;34m(\u001b[0m\u001b[0mX_test\u001b[0m\u001b[0;34m)\u001b[0m\u001b[0;34m\u001b[0m\u001b[0;34m\u001b[0m\u001b[0m\n\u001b[0m\u001b[1;32m      4\u001b[0m \u001b[0mshap_val\u001b[0m \u001b[0;34m=\u001b[0m \u001b[0mnp\u001b[0m\u001b[0;34m.\u001b[0m\u001b[0marray\u001b[0m\u001b[0;34m(\u001b[0m\u001b[0mshap_val\u001b[0m\u001b[0;34m)\u001b[0m\u001b[0;34m\u001b[0m\u001b[0;34m\u001b[0m\u001b[0m\n\u001b[1;32m      5\u001b[0m \u001b[0mshap_val\u001b[0m \u001b[0;34m=\u001b[0m \u001b[0mnp\u001b[0m\u001b[0;34m.\u001b[0m\u001b[0mreshape\u001b[0m\u001b[0;34m(\u001b[0m\u001b[0mshap_val\u001b[0m\u001b[0;34m,\u001b[0m\u001b[0;34m(\u001b[0m\u001b[0mint\u001b[0m\u001b[0;34m(\u001b[0m\u001b[0mshap_val\u001b[0m\u001b[0;34m.\u001b[0m\u001b[0mshape\u001b[0m\u001b[0;34m[\u001b[0m\u001b[0;36m1\u001b[0m\u001b[0;34m]\u001b[0m\u001b[0;34m)\u001b[0m\u001b[0;34m,\u001b[0m\u001b[0mint\u001b[0m\u001b[0;34m(\u001b[0m\u001b[0mshap_val\u001b[0m\u001b[0;34m.\u001b[0m\u001b[0mshape\u001b[0m\u001b[0;34m[\u001b[0m\u001b[0;36m2\u001b[0m\u001b[0;34m]\u001b[0m\u001b[0;34m)\u001b[0m\u001b[0;34m,\u001b[0m\u001b[0mint\u001b[0m\u001b[0;34m(\u001b[0m\u001b[0mshap_val\u001b[0m\u001b[0;34m.\u001b[0m\u001b[0mshape\u001b[0m\u001b[0;34m[\u001b[0m\u001b[0;36m3\u001b[0m\u001b[0;34m]\u001b[0m\u001b[0;34m)\u001b[0m\u001b[0;34m)\u001b[0m\u001b[0;34m)\u001b[0m\u001b[0;34m\u001b[0m\u001b[0;34m\u001b[0m\u001b[0m\n",
            "\u001b[0;32m/usr/local/lib/python3.7/dist-packages/shap/explainers/_deep/__init__.py\u001b[0m in \u001b[0;36mshap_values\u001b[0;34m(self, X, ranked_outputs, output_rank_order, check_additivity)\u001b[0m\n\u001b[1;32m    122\u001b[0m             \u001b[0mwere\u001b[0m \u001b[0mchosen\u001b[0m \u001b[0;32mas\u001b[0m \u001b[0;34m\"top\"\u001b[0m\u001b[0;34m.\u001b[0m\u001b[0;34m\u001b[0m\u001b[0;34m\u001b[0m\u001b[0m\n\u001b[1;32m    123\u001b[0m         \"\"\"\n\u001b[0;32m--> 124\u001b[0;31m         \u001b[0;32mreturn\u001b[0m \u001b[0mself\u001b[0m\u001b[0;34m.\u001b[0m\u001b[0mexplainer\u001b[0m\u001b[0;34m.\u001b[0m\u001b[0mshap_values\u001b[0m\u001b[0;34m(\u001b[0m\u001b[0mX\u001b[0m\u001b[0;34m,\u001b[0m \u001b[0mranked_outputs\u001b[0m\u001b[0;34m,\u001b[0m \u001b[0moutput_rank_order\u001b[0m\u001b[0;34m,\u001b[0m \u001b[0mcheck_additivity\u001b[0m\u001b[0;34m=\u001b[0m\u001b[0mcheck_additivity\u001b[0m\u001b[0;34m)\u001b[0m\u001b[0;34m\u001b[0m\u001b[0;34m\u001b[0m\u001b[0m\n\u001b[0m",
            "\u001b[0;32m/usr/local/lib/python3.7/dist-packages/shap/explainers/_deep/deep_tf.py\u001b[0m in \u001b[0;36mshap_values\u001b[0;34m(self, X, ranked_outputs, output_rank_order, check_additivity)\u001b[0m\n\u001b[1;32m    306\u001b[0m                 \u001b[0;31m# run attribution computation graph\u001b[0m\u001b[0;34m\u001b[0m\u001b[0;34m\u001b[0m\u001b[0;34m\u001b[0m\u001b[0m\n\u001b[1;32m    307\u001b[0m                 \u001b[0mfeature_ind\u001b[0m \u001b[0;34m=\u001b[0m \u001b[0mmodel_output_ranks\u001b[0m\u001b[0;34m[\u001b[0m\u001b[0mj\u001b[0m\u001b[0;34m,\u001b[0m\u001b[0mi\u001b[0m\u001b[0;34m]\u001b[0m\u001b[0;34m\u001b[0m\u001b[0;34m\u001b[0m\u001b[0m\n\u001b[0;32m--> 308\u001b[0;31m                 \u001b[0msample_phis\u001b[0m \u001b[0;34m=\u001b[0m \u001b[0mself\u001b[0m\u001b[0;34m.\u001b[0m\u001b[0mrun\u001b[0m\u001b[0;34m(\u001b[0m\u001b[0mself\u001b[0m\u001b[0;34m.\u001b[0m\u001b[0mphi_symbolic\u001b[0m\u001b[0;34m(\u001b[0m\u001b[0mfeature_ind\u001b[0m\u001b[0;34m)\u001b[0m\u001b[0;34m,\u001b[0m \u001b[0mself\u001b[0m\u001b[0;34m.\u001b[0m\u001b[0mmodel_inputs\u001b[0m\u001b[0;34m,\u001b[0m \u001b[0mjoint_input\u001b[0m\u001b[0;34m)\u001b[0m\u001b[0;34m\u001b[0m\u001b[0;34m\u001b[0m\u001b[0m\n\u001b[0m\u001b[1;32m    309\u001b[0m \u001b[0;34m\u001b[0m\u001b[0m\n\u001b[1;32m    310\u001b[0m                 \u001b[0;31m# assign the attributions to the right part of the output arrays\u001b[0m\u001b[0;34m\u001b[0m\u001b[0;34m\u001b[0m\u001b[0;34m\u001b[0m\u001b[0m\n",
            "\u001b[0;32m/usr/local/lib/python3.7/dist-packages/shap/explainers/_deep/deep_tf.py\u001b[0m in \u001b[0;36mrun\u001b[0;34m(self, out, model_inputs, X)\u001b[0m\n\u001b[1;32m    363\u001b[0m \u001b[0;34m\u001b[0m\u001b[0m\n\u001b[1;32m    364\u001b[0m                 \u001b[0;32mreturn\u001b[0m \u001b[0mfinal_out\u001b[0m\u001b[0;34m\u001b[0m\u001b[0;34m\u001b[0m\u001b[0m\n\u001b[0;32m--> 365\u001b[0;31m             \u001b[0;32mreturn\u001b[0m \u001b[0mself\u001b[0m\u001b[0;34m.\u001b[0m\u001b[0mexecute_with_overridden_gradients\u001b[0m\u001b[0;34m(\u001b[0m\u001b[0manon\u001b[0m\u001b[0;34m)\u001b[0m\u001b[0;34m\u001b[0m\u001b[0;34m\u001b[0m\u001b[0m\n\u001b[0m\u001b[1;32m    366\u001b[0m \u001b[0;34m\u001b[0m\u001b[0m\n\u001b[1;32m    367\u001b[0m     \u001b[0;32mdef\u001b[0m \u001b[0mcustom_grad\u001b[0m\u001b[0;34m(\u001b[0m\u001b[0mself\u001b[0m\u001b[0;34m,\u001b[0m \u001b[0mop\u001b[0m\u001b[0;34m,\u001b[0m \u001b[0;34m*\u001b[0m\u001b[0mgrads\u001b[0m\u001b[0;34m)\u001b[0m\u001b[0;34m:\u001b[0m\u001b[0;34m\u001b[0m\u001b[0;34m\u001b[0m\u001b[0m\n",
            "\u001b[0;32m/usr/local/lib/python3.7/dist-packages/shap/explainers/_deep/deep_tf.py\u001b[0m in \u001b[0;36mexecute_with_overridden_gradients\u001b[0;34m(self, f)\u001b[0m\n\u001b[1;32m    399\u001b[0m         \u001b[0;31m# define the computation graph for the attribution values using a custom gradient-like computation\u001b[0m\u001b[0;34m\u001b[0m\u001b[0;34m\u001b[0m\u001b[0;34m\u001b[0m\u001b[0m\n\u001b[1;32m    400\u001b[0m         \u001b[0;32mtry\u001b[0m\u001b[0;34m:\u001b[0m\u001b[0;34m\u001b[0m\u001b[0;34m\u001b[0m\u001b[0m\n\u001b[0;32m--> 401\u001b[0;31m             \u001b[0mout\u001b[0m \u001b[0;34m=\u001b[0m \u001b[0mf\u001b[0m\u001b[0;34m(\u001b[0m\u001b[0;34m)\u001b[0m\u001b[0;34m\u001b[0m\u001b[0;34m\u001b[0m\u001b[0m\n\u001b[0m\u001b[1;32m    402\u001b[0m         \u001b[0;32mfinally\u001b[0m\u001b[0;34m:\u001b[0m\u001b[0;34m\u001b[0m\u001b[0;34m\u001b[0m\u001b[0m\n\u001b[1;32m    403\u001b[0m             \u001b[0;31m# reinstate the backpropagatable check\u001b[0m\u001b[0;34m\u001b[0m\u001b[0;34m\u001b[0m\u001b[0;34m\u001b[0m\u001b[0m\n",
            "\u001b[0;32m/usr/local/lib/python3.7/dist-packages/shap/explainers/_deep/deep_tf.py\u001b[0m in \u001b[0;36manon\u001b[0;34m()\u001b[0m\n\u001b[1;32m    359\u001b[0m                     \u001b[0mv\u001b[0m \u001b[0;34m=\u001b[0m \u001b[0mtf\u001b[0m\u001b[0;34m.\u001b[0m\u001b[0mconstant\u001b[0m\u001b[0;34m(\u001b[0m\u001b[0mdata\u001b[0m\u001b[0;34m,\u001b[0m \u001b[0mdtype\u001b[0m\u001b[0;34m=\u001b[0m\u001b[0mself\u001b[0m\u001b[0;34m.\u001b[0m\u001b[0mmodel_inputs\u001b[0m\u001b[0;34m[\u001b[0m\u001b[0mi\u001b[0m\u001b[0;34m]\u001b[0m\u001b[0;34m.\u001b[0m\u001b[0mdtype\u001b[0m\u001b[0;34m)\u001b[0m\u001b[0;34m\u001b[0m\u001b[0;34m\u001b[0m\u001b[0m\n\u001b[1;32m    360\u001b[0m                     \u001b[0minputs\u001b[0m\u001b[0;34m.\u001b[0m\u001b[0mappend\u001b[0m\u001b[0;34m(\u001b[0m\u001b[0mv\u001b[0m\u001b[0;34m)\u001b[0m\u001b[0;34m\u001b[0m\u001b[0;34m\u001b[0m\u001b[0m\n\u001b[0;32m--> 361\u001b[0;31m                 \u001b[0mfinal_out\u001b[0m \u001b[0;34m=\u001b[0m \u001b[0mout\u001b[0m\u001b[0;34m(\u001b[0m\u001b[0minputs\u001b[0m\u001b[0;34m)\u001b[0m\u001b[0;34m\u001b[0m\u001b[0;34m\u001b[0m\u001b[0m\n\u001b[0m\u001b[1;32m    362\u001b[0m                 \u001b[0mtf_execute\u001b[0m\u001b[0;34m.\u001b[0m\u001b[0mrecord_gradient\u001b[0m \u001b[0;34m=\u001b[0m \u001b[0mtf_backprop\u001b[0m\u001b[0;34m.\u001b[0m\u001b[0m_record_gradient\u001b[0m\u001b[0;34m\u001b[0m\u001b[0;34m\u001b[0m\u001b[0m\n\u001b[1;32m    363\u001b[0m \u001b[0;34m\u001b[0m\u001b[0m\n",
            "\u001b[0;32m/usr/local/lib/python3.7/dist-packages/tensorflow/python/util/traceback_utils.py\u001b[0m in \u001b[0;36merror_handler\u001b[0;34m(*args, **kwargs)\u001b[0m\n\u001b[1;32m    151\u001b[0m     \u001b[0;32mexcept\u001b[0m \u001b[0mException\u001b[0m \u001b[0;32mas\u001b[0m \u001b[0me\u001b[0m\u001b[0;34m:\u001b[0m\u001b[0;34m\u001b[0m\u001b[0;34m\u001b[0m\u001b[0m\n\u001b[1;32m    152\u001b[0m       \u001b[0mfiltered_tb\u001b[0m \u001b[0;34m=\u001b[0m \u001b[0m_process_traceback_frames\u001b[0m\u001b[0;34m(\u001b[0m\u001b[0me\u001b[0m\u001b[0;34m.\u001b[0m\u001b[0m__traceback__\u001b[0m\u001b[0;34m)\u001b[0m\u001b[0;34m\u001b[0m\u001b[0;34m\u001b[0m\u001b[0m\n\u001b[0;32m--> 153\u001b[0;31m       \u001b[0;32mraise\u001b[0m \u001b[0me\u001b[0m\u001b[0;34m.\u001b[0m\u001b[0mwith_traceback\u001b[0m\u001b[0;34m(\u001b[0m\u001b[0mfiltered_tb\u001b[0m\u001b[0;34m)\u001b[0m \u001b[0;32mfrom\u001b[0m \u001b[0;32mNone\u001b[0m\u001b[0;34m\u001b[0m\u001b[0;34m\u001b[0m\u001b[0m\n\u001b[0m\u001b[1;32m    154\u001b[0m     \u001b[0;32mfinally\u001b[0m\u001b[0;34m:\u001b[0m\u001b[0;34m\u001b[0m\u001b[0;34m\u001b[0m\u001b[0m\n\u001b[1;32m    155\u001b[0m       \u001b[0;32mdel\u001b[0m \u001b[0mfiltered_tb\u001b[0m\u001b[0;34m\u001b[0m\u001b[0;34m\u001b[0m\u001b[0m\n",
            "\u001b[0;32m/usr/local/lib/python3.7/dist-packages/tensorflow/python/framework/func_graph.py\u001b[0m in \u001b[0;36mautograph_handler\u001b[0;34m(*args, **kwargs)\u001b[0m\n\u001b[1;32m   1127\u001b[0m           \u001b[0;32mexcept\u001b[0m \u001b[0mException\u001b[0m \u001b[0;32mas\u001b[0m \u001b[0me\u001b[0m\u001b[0;34m:\u001b[0m  \u001b[0;31m# pylint:disable=broad-except\u001b[0m\u001b[0;34m\u001b[0m\u001b[0;34m\u001b[0m\u001b[0m\n\u001b[1;32m   1128\u001b[0m             \u001b[0;32mif\u001b[0m \u001b[0mhasattr\u001b[0m\u001b[0;34m(\u001b[0m\u001b[0me\u001b[0m\u001b[0;34m,\u001b[0m \u001b[0;34m\"ag_error_metadata\"\u001b[0m\u001b[0;34m)\u001b[0m\u001b[0;34m:\u001b[0m\u001b[0;34m\u001b[0m\u001b[0;34m\u001b[0m\u001b[0m\n\u001b[0;32m-> 1129\u001b[0;31m               \u001b[0;32mraise\u001b[0m \u001b[0me\u001b[0m\u001b[0;34m.\u001b[0m\u001b[0mag_error_metadata\u001b[0m\u001b[0;34m.\u001b[0m\u001b[0mto_exception\u001b[0m\u001b[0;34m(\u001b[0m\u001b[0me\u001b[0m\u001b[0;34m)\u001b[0m\u001b[0;34m\u001b[0m\u001b[0;34m\u001b[0m\u001b[0m\n\u001b[0m\u001b[1;32m   1130\u001b[0m             \u001b[0;32melse\u001b[0m\u001b[0;34m:\u001b[0m\u001b[0;34m\u001b[0m\u001b[0;34m\u001b[0m\u001b[0m\n\u001b[1;32m   1131\u001b[0m               \u001b[0;32mraise\u001b[0m\u001b[0;34m\u001b[0m\u001b[0;34m\u001b[0m\u001b[0m\n",
            "\u001b[0;31mAttributeError\u001b[0m: in user code:\n\n    File \"/usr/local/lib/python3.7/dist-packages/shap/explainers/_deep/deep_tf.py\", line 243, in grad_graph  *\n        out = self.model(shap_rAnD)\n    File \"/usr/local/lib/python3.7/dist-packages/keras/utils/traceback_utils.py\", line 67, in error_handler  **\n        raise e.with_traceback(filtered_tb) from None\n    File \"/usr/local/lib/python3.7/dist-packages/shap/explainers/_deep/deep_tf.py\", line 26, in custom_record_gradient\n        out = tf_backprop._record_gradient(\"shap_\"+op_name, inputs, attrs, results)\n\n    AttributeError: Exception encountered when calling layer \"lstm_16\" (type LSTM).\n    \n    module 'tensorflow.python.eager.backprop' has no attribute '_record_gradient'\n    \n    Call arguments received:\n      • inputs=tf.Tensor(shape=(502, 30, 8), dtype=float32)\n      • mask=None\n      • training=False\n      • initial_state=None\n"
          ]
        }
      ],
      "source": [
        "e = shap.DeepExplainer((regressor.layers[0].input, regressor.layers[-1].output),X_train)\n",
        "test1 = X_test\n",
        "shap_val = e.shap_values(X_test)\n",
        "shap_val = np.array(shap_val)\n",
        "shap_val = np.reshape(shap_val,(int(shap_val.shape[1]),int(shap_val.shape[2]),int(shap_val.shape[3])))\n",
        "shap_abs = np.absolute(shap_val)\n",
        "sum_0 = np.sum(shap_abs,axis=0)\n",
        "f_names = features\n",
        "x_pos = [i for i, _ in enumerate(f_names)]\n",
        "plt1 = plt.subplot(311)\n",
        "plt1.barh(x_pos,sum_0[1])\n",
        "plt1.set_yticks(x_pos)\n",
        "plt1.set_yticklabels(f_names)\n",
        "plt1.set_title(\"Yesterday’s features (time-step 2)\")\n",
        "plt2 = plt.subplot(312,sharex=plt1)\n",
        "plt2.barh(x_pos,sum_0[0])\n",
        "plt2.set_yticks(x_pos)\n",
        "plt2.set_yticklabels(f_names)\n",
        "plt2.set_title(\" day before yesterday’s features(time-step 1)\")\n",
        "plt.tight_layout()\n",
        "plt.show()"
      ]
    }
  ],
  "metadata": {
    "kernelspec": {
      "display_name": "Python 3",
      "language": "python",
      "name": "python3"
    },
    "language_info": {
      "codemirror_mode": {
        "name": "ipython",
        "version": 3
      },
      "file_extension": ".py",
      "mimetype": "text/x-python",
      "name": "python",
      "nbconvert_exporter": "python",
      "pygments_lexer": "ipython3",
      "version": "3.8.8"
    },
    "colab": {
      "provenance": [],
      "toc_visible": true
    }
  },
  "nbformat": 4,
  "nbformat_minor": 5
}